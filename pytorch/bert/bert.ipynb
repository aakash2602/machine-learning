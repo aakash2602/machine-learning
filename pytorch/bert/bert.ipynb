{
  "nbformat": 4,
  "nbformat_minor": 0,
  "metadata": {
    "colab": {
      "name": "bert.ipynb",
      "provenance": [],
      "collapsed_sections": [
        "d5S02wLlS6OK",
        "UvykQIORNkG1",
        "3-CbxSXxa2aW",
        "gCiOh9DgyiHT",
        "u2p1mwtsmNDg",
        "y-JvDmC13s8I",
        "JCYlQ7hX3662",
        "woZ8di4s5YV3",
        "HwAbl-Ny5dLC"
      ],
      "machine_shape": "hm"
    },
    "kernelspec": {
      "name": "python3",
      "display_name": "Python 3"
    },
    "accelerator": "GPU"
  },
  "cells": [
    {
      "cell_type": "code",
      "metadata": {
        "id": "nvwjbr-5XUDq",
        "colab_type": "code",
        "colab": {}
      },
      "source": [
        "import numpy as np\n",
        "import pandas as pd\n",
        "import torch\n",
        "import matplotlib.pyplot as plt\n",
        "from sklearn.linear_model import LogisticRegression\n",
        "from sklearn.model_selection import cross_val_score\n",
        "from sklearn.model_selection import train_test_split, GridSearchCV\n",
        "from sklearn.metrics import accuracy_score\n",
        "from xgboost import XGBClassifier\n",
        "from sklearn.decomposition import PCA\n",
        "import torch\n",
        "import torch.nn as nn\n",
        "from torch import optim"
      ],
      "execution_count": 0,
      "outputs": []
    },
    {
      "cell_type": "code",
      "metadata": {
        "id": "lU7PFMPUcCxL",
        "colab_type": "code",
        "outputId": "0fbb391c-93b8-451c-8496-837367cd671e",
        "colab": {
          "base_uri": "https://localhost:8080/",
          "height": 34
        }
      },
      "source": [
        "df = pd.read_csv('https://github.com/clairett/pytorch-sentiment-classification/raw/master/data/SST2/train.tsv', delimiter='\\t', header=None)\n",
        "df.head()\n",
        "print(len(df))\n",
        "# df = batch[:7000]"
      ],
      "execution_count": 0,
      "outputs": [
        {
          "output_type": "stream",
          "text": [
            "6920\n"
          ],
          "name": "stdout"
        }
      ]
    },
    {
      "cell_type": "code",
      "metadata": {
        "id": "pAhIbck6Nqth",
        "colab_type": "code",
        "outputId": "83bf20b2-8ff4-458f-dcff-2f9938eaa37b",
        "colab": {
          "base_uri": "https://localhost:8080/",
          "height": 34
        }
      },
      "source": [
        "train_samples, test_samples, _, _ = train_test_split(df[0], df[1], stratify=df[1])\n",
        "print(train_samples.shape, test_samples.shape)"
      ],
      "execution_count": 0,
      "outputs": [
        {
          "output_type": "stream",
          "text": [
            "(5190,) (1730,)\n"
          ],
          "name": "stdout"
        }
      ]
    },
    {
      "cell_type": "code",
      "metadata": {
        "id": "Ms_htrrm9GJn",
        "colab_type": "code",
        "outputId": "0a63acd3-02b7-4622-c2cf-7741575f74d8",
        "colab": {
          "base_uri": "https://localhost:8080/",
          "height": 34
        }
      },
      "source": [
        "!mkdir train\n",
        "\n",
        "with open('train/train_data.txt', 'w') as f:\n",
        "  lines = [value + '\\n' for value in train_samples]\n",
        "  f.writelines(lines)\n",
        "\n",
        "with open('train/eval_data.txt', 'w') as f:\n",
        "  lines = [value + '\\n' for value in test_samples]\n",
        "  f.writelines(lines)\n",
        "\n"
      ],
      "execution_count": 0,
      "outputs": [
        {
          "output_type": "stream",
          "text": [
            "mkdir: cannot create directory ‘train’: File exists\n"
          ],
          "name": "stdout"
        }
      ]
    },
    {
      "cell_type": "code",
      "metadata": {
        "id": "cWDSyoKq-KN0",
        "colab_type": "code",
        "outputId": "65ca53b8-2d80-4977-f5cc-958e6033f3cd",
        "colab": {
          "base_uri": "https://localhost:8080/",
          "height": 34
        }
      },
      "source": [
        "with open('train/train_data.txt') as f:\n",
        "  lines = f.readlines()\n",
        "\n",
        "print(len(lines))"
      ],
      "execution_count": 0,
      "outputs": [
        {
          "output_type": "stream",
          "text": [
            "5190\n"
          ],
          "name": "stdout"
        }
      ]
    },
    {
      "cell_type": "code",
      "metadata": {
        "id": "KUtba8CQe7gT",
        "colab_type": "code",
        "outputId": "a29f84d6-386e-4861-fdde-d7be209a67bd",
        "colab": {
          "base_uri": "https://localhost:8080/",
          "height": 68
        }
      },
      "source": [
        "df[1].value_counts()"
      ],
      "execution_count": 0,
      "outputs": [
        {
          "output_type": "execute_result",
          "data": {
            "text/plain": [
              "1    3610\n",
              "0    3310\n",
              "Name: 1, dtype: int64"
            ]
          },
          "metadata": {
            "tags": []
          },
          "execution_count": 6
        }
      ]
    },
    {
      "cell_type": "markdown",
      "metadata": {
        "id": "d5S02wLlS6OK",
        "colab_type": "text"
      },
      "source": [
        "## Loading Tranformer Components"
      ]
    },
    {
      "cell_type": "code",
      "metadata": {
        "id": "8r984shRUMzw",
        "colab_type": "code",
        "outputId": "ca6dafd0-5a5d-4bc3-cdcf-5eb0f68874d6",
        "colab": {
          "base_uri": "https://localhost:8080/",
          "height": 1000
        }
      },
      "source": [
        "!pip install pytorch-transformers\n",
        "!pip install transformers\n",
        "!git clone https://github.com/huggingface/transformers"
      ],
      "execution_count": 0,
      "outputs": [
        {
          "output_type": "stream",
          "text": [
            "Collecting pytorch-transformers\n",
            "\u001b[?25l  Downloading https://files.pythonhosted.org/packages/a3/b7/d3d18008a67e0b968d1ab93ad444fc05699403fa662f634b2f2c318a508b/pytorch_transformers-1.2.0-py3-none-any.whl (176kB)\n",
            "\r\u001b[K     |█▉                              | 10kB 23.0MB/s eta 0:00:01\r\u001b[K     |███▊                            | 20kB 1.8MB/s eta 0:00:01\r\u001b[K     |█████▋                          | 30kB 2.6MB/s eta 0:00:01\r\u001b[K     |███████▍                        | 40kB 1.7MB/s eta 0:00:01\r\u001b[K     |█████████▎                      | 51kB 2.1MB/s eta 0:00:01\r\u001b[K     |███████████▏                    | 61kB 2.6MB/s eta 0:00:01\r\u001b[K     |█████████████                   | 71kB 3.0MB/s eta 0:00:01\r\u001b[K     |██████████████▉                 | 81kB 3.4MB/s eta 0:00:01\r\u001b[K     |████████████████▊               | 92kB 3.8MB/s eta 0:00:01\r\u001b[K     |██████████████████▋             | 102kB 2.9MB/s eta 0:00:01\r\u001b[K     |████████████████████▍           | 112kB 2.9MB/s eta 0:00:01\r\u001b[K     |██████████████████████▎         | 122kB 2.9MB/s eta 0:00:01\r\u001b[K     |████████████████████████▏       | 133kB 2.9MB/s eta 0:00:01\r\u001b[K     |██████████████████████████      | 143kB 2.9MB/s eta 0:00:01\r\u001b[K     |███████████████████████████▉    | 153kB 2.9MB/s eta 0:00:01\r\u001b[K     |█████████████████████████████▊  | 163kB 2.9MB/s eta 0:00:01\r\u001b[K     |███████████████████████████████▋| 174kB 2.9MB/s eta 0:00:01\r\u001b[K     |████████████████████████████████| 184kB 2.9MB/s \n",
            "\u001b[?25hCollecting sacremoses\n",
            "\u001b[?25l  Downloading https://files.pythonhosted.org/packages/1f/8e/ed5364a06a9ba720fddd9820155cc57300d28f5f43a6fd7b7e817177e642/sacremoses-0.0.35.tar.gz (859kB)\n",
            "\r\u001b[K     |▍                               | 10kB 24.5MB/s eta 0:00:01\r\u001b[K     |▊                               | 20kB 31.3MB/s eta 0:00:01\r\u001b[K     |█▏                              | 30kB 37.4MB/s eta 0:00:01\r\u001b[K     |█▌                              | 40kB 41.0MB/s eta 0:00:01\r\u001b[K     |██                              | 51kB 42.7MB/s eta 0:00:01\r\u001b[K     |██▎                             | 61kB 44.1MB/s eta 0:00:01\r\u001b[K     |██▊                             | 71kB 43.4MB/s eta 0:00:01\r\u001b[K     |███                             | 81kB 43.8MB/s eta 0:00:01\r\u001b[K     |███▍                            | 92kB 45.8MB/s eta 0:00:01\r\u001b[K     |███▉                            | 102kB 47.5MB/s eta 0:00:01\r\u001b[K     |████▏                           | 112kB 47.5MB/s eta 0:00:01\r\u001b[K     |████▋                           | 122kB 47.5MB/s eta 0:00:01\r\u001b[K     |█████                           | 133kB 47.5MB/s eta 0:00:01\r\u001b[K     |█████▍                          | 143kB 47.5MB/s eta 0:00:01\r\u001b[K     |█████▊                          | 153kB 47.5MB/s eta 0:00:01\r\u001b[K     |██████                          | 163kB 47.5MB/s eta 0:00:01\r\u001b[K     |██████▌                         | 174kB 47.5MB/s eta 0:00:01\r\u001b[K     |██████▉                         | 184kB 47.5MB/s eta 0:00:01\r\u001b[K     |███████▎                        | 194kB 47.5MB/s eta 0:00:01\r\u001b[K     |███████▋                        | 204kB 47.5MB/s eta 0:00:01\r\u001b[K     |████████                        | 215kB 47.5MB/s eta 0:00:01\r\u001b[K     |████████▍                       | 225kB 47.5MB/s eta 0:00:01\r\u001b[K     |████████▊                       | 235kB 47.5MB/s eta 0:00:01\r\u001b[K     |█████████▏                      | 245kB 47.5MB/s eta 0:00:01\r\u001b[K     |█████████▌                      | 256kB 47.5MB/s eta 0:00:01\r\u001b[K     |██████████                      | 266kB 47.5MB/s eta 0:00:01\r\u001b[K     |██████████▎                     | 276kB 47.5MB/s eta 0:00:01\r\u001b[K     |██████████▊                     | 286kB 47.5MB/s eta 0:00:01\r\u001b[K     |███████████                     | 296kB 47.5MB/s eta 0:00:01\r\u001b[K     |███████████▍                    | 307kB 47.5MB/s eta 0:00:01\r\u001b[K     |███████████▉                    | 317kB 47.5MB/s eta 0:00:01\r\u001b[K     |████████████▏                   | 327kB 47.5MB/s eta 0:00:01\r\u001b[K     |████████████▋                   | 337kB 47.5MB/s eta 0:00:01\r\u001b[K     |█████████████                   | 348kB 47.5MB/s eta 0:00:01\r\u001b[K     |█████████████▍                  | 358kB 47.5MB/s eta 0:00:01\r\u001b[K     |█████████████▊                  | 368kB 47.5MB/s eta 0:00:01\r\u001b[K     |██████████████                  | 378kB 47.5MB/s eta 0:00:01\r\u001b[K     |██████████████▌                 | 389kB 47.5MB/s eta 0:00:01\r\u001b[K     |██████████████▉                 | 399kB 47.5MB/s eta 0:00:01\r\u001b[K     |███████████████▎                | 409kB 47.5MB/s eta 0:00:01\r\u001b[K     |███████████████▋                | 419kB 47.5MB/s eta 0:00:01\r\u001b[K     |████████████████                | 430kB 47.5MB/s eta 0:00:01\r\u001b[K     |████████████████▍               | 440kB 47.5MB/s eta 0:00:01\r\u001b[K     |████████████████▊               | 450kB 47.5MB/s eta 0:00:01\r\u001b[K     |█████████████████▏              | 460kB 47.5MB/s eta 0:00:01\r\u001b[K     |█████████████████▌              | 471kB 47.5MB/s eta 0:00:01\r\u001b[K     |██████████████████              | 481kB 47.5MB/s eta 0:00:01\r\u001b[K     |██████████████████▎             | 491kB 47.5MB/s eta 0:00:01\r\u001b[K     |██████████████████▊             | 501kB 47.5MB/s eta 0:00:01\r\u001b[K     |███████████████████             | 512kB 47.5MB/s eta 0:00:01\r\u001b[K     |███████████████████▍            | 522kB 47.5MB/s eta 0:00:01\r\u001b[K     |███████████████████▉            | 532kB 47.5MB/s eta 0:00:01\r\u001b[K     |████████████████████▏           | 542kB 47.5MB/s eta 0:00:01\r\u001b[K     |████████████████████▋           | 552kB 47.5MB/s eta 0:00:01\r\u001b[K     |█████████████████████           | 563kB 47.5MB/s eta 0:00:01\r\u001b[K     |█████████████████████▍          | 573kB 47.5MB/s eta 0:00:01\r\u001b[K     |█████████████████████▊          | 583kB 47.5MB/s eta 0:00:01\r\u001b[K     |██████████████████████          | 593kB 47.5MB/s eta 0:00:01\r\u001b[K     |██████████████████████▌         | 604kB 47.5MB/s eta 0:00:01\r\u001b[K     |██████████████████████▉         | 614kB 47.5MB/s eta 0:00:01\r\u001b[K     |███████████████████████▎        | 624kB 47.5MB/s eta 0:00:01\r\u001b[K     |███████████████████████▋        | 634kB 47.5MB/s eta 0:00:01\r\u001b[K     |████████████████████████        | 645kB 47.5MB/s eta 0:00:01\r\u001b[K     |████████████████████████▍       | 655kB 47.5MB/s eta 0:00:01\r\u001b[K     |████████████████████████▊       | 665kB 47.5MB/s eta 0:00:01\r\u001b[K     |█████████████████████████▏      | 675kB 47.5MB/s eta 0:00:01\r\u001b[K     |█████████████████████████▌      | 686kB 47.5MB/s eta 0:00:01\r\u001b[K     |██████████████████████████      | 696kB 47.5MB/s eta 0:00:01\r\u001b[K     |██████████████████████████▎     | 706kB 47.5MB/s eta 0:00:01\r\u001b[K     |██████████████████████████▊     | 716kB 47.5MB/s eta 0:00:01\r\u001b[K     |███████████████████████████     | 727kB 47.5MB/s eta 0:00:01\r\u001b[K     |███████████████████████████▍    | 737kB 47.5MB/s eta 0:00:01\r\u001b[K     |███████████████████████████▉    | 747kB 47.5MB/s eta 0:00:01\r\u001b[K     |████████████████████████████▏   | 757kB 47.5MB/s eta 0:00:01\r\u001b[K     |████████████████████████████▋   | 768kB 47.5MB/s eta 0:00:01\r\u001b[K     |█████████████████████████████   | 778kB 47.5MB/s eta 0:00:01\r\u001b[K     |█████████████████████████████▍  | 788kB 47.5MB/s eta 0:00:01\r\u001b[K     |█████████████████████████████▊  | 798kB 47.5MB/s eta 0:00:01\r\u001b[K     |██████████████████████████████  | 808kB 47.5MB/s eta 0:00:01\r\u001b[K     |██████████████████████████████▌ | 819kB 47.5MB/s eta 0:00:01\r\u001b[K     |██████████████████████████████▉ | 829kB 47.5MB/s eta 0:00:01\r\u001b[K     |███████████████████████████████▎| 839kB 47.5MB/s eta 0:00:01\r\u001b[K     |███████████████████████████████▋| 849kB 47.5MB/s eta 0:00:01\r\u001b[K     |████████████████████████████████| 860kB 47.5MB/s \n",
            "\u001b[?25hRequirement already satisfied: requests in /usr/local/lib/python3.6/dist-packages (from pytorch-transformers) (2.21.0)\n",
            "Collecting sentencepiece\n",
            "\u001b[?25l  Downloading https://files.pythonhosted.org/packages/14/3d/efb655a670b98f62ec32d66954e1109f403db4d937c50d779a75b9763a29/sentencepiece-0.1.83-cp36-cp36m-manylinux1_x86_64.whl (1.0MB)\n",
            "\u001b[K     |████████████████████████████████| 1.0MB 46.2MB/s \n",
            "\u001b[?25hRequirement already satisfied: torch>=1.0.0 in /usr/local/lib/python3.6/dist-packages (from pytorch-transformers) (1.3.1)\n",
            "Collecting regex\n",
            "\u001b[?25l  Downloading https://files.pythonhosted.org/packages/8c/db/4b29a0adec5881542cd81cb5d1929b5c0787003c5740b3c921e627d9c2e5/regex-2019.12.9.tar.gz (669kB)\n",
            "\u001b[K     |████████████████████████████████| 675kB 51.5MB/s \n",
            "\u001b[?25hRequirement already satisfied: numpy in /usr/local/lib/python3.6/dist-packages (from pytorch-transformers) (1.17.4)\n",
            "Requirement already satisfied: tqdm in /usr/local/lib/python3.6/dist-packages (from pytorch-transformers) (4.28.1)\n",
            "Requirement already satisfied: boto3 in /usr/local/lib/python3.6/dist-packages (from pytorch-transformers) (1.10.32)\n",
            "Requirement already satisfied: six in /usr/local/lib/python3.6/dist-packages (from sacremoses->pytorch-transformers) (1.12.0)\n",
            "Requirement already satisfied: click in /usr/local/lib/python3.6/dist-packages (from sacremoses->pytorch-transformers) (7.0)\n",
            "Requirement already satisfied: joblib in /usr/local/lib/python3.6/dist-packages (from sacremoses->pytorch-transformers) (0.14.0)\n",
            "Requirement already satisfied: idna<2.9,>=2.5 in /usr/local/lib/python3.6/dist-packages (from requests->pytorch-transformers) (2.8)\n",
            "Requirement already satisfied: certifi>=2017.4.17 in /usr/local/lib/python3.6/dist-packages (from requests->pytorch-transformers) (2019.11.28)\n",
            "Requirement already satisfied: urllib3<1.25,>=1.21.1 in /usr/local/lib/python3.6/dist-packages (from requests->pytorch-transformers) (1.24.3)\n",
            "Requirement already satisfied: chardet<3.1.0,>=3.0.2 in /usr/local/lib/python3.6/dist-packages (from requests->pytorch-transformers) (3.0.4)\n",
            "Requirement already satisfied: botocore<1.14.0,>=1.13.32 in /usr/local/lib/python3.6/dist-packages (from boto3->pytorch-transformers) (1.13.32)\n",
            "Requirement already satisfied: jmespath<1.0.0,>=0.7.1 in /usr/local/lib/python3.6/dist-packages (from boto3->pytorch-transformers) (0.9.4)\n",
            "Requirement already satisfied: s3transfer<0.3.0,>=0.2.0 in /usr/local/lib/python3.6/dist-packages (from boto3->pytorch-transformers) (0.2.1)\n",
            "Requirement already satisfied: python-dateutil<2.8.1,>=2.1; python_version >= \"2.7\" in /usr/local/lib/python3.6/dist-packages (from botocore<1.14.0,>=1.13.32->boto3->pytorch-transformers) (2.6.1)\n",
            "Requirement already satisfied: docutils<0.16,>=0.10 in /usr/local/lib/python3.6/dist-packages (from botocore<1.14.0,>=1.13.32->boto3->pytorch-transformers) (0.15.2)\n",
            "Building wheels for collected packages: sacremoses, regex\n",
            "  Building wheel for sacremoses (setup.py) ... \u001b[?25l\u001b[?25hdone\n",
            "  Created wheel for sacremoses: filename=sacremoses-0.0.35-cp36-none-any.whl size=883999 sha256=0b7ea1461ed4e6c237686847e581f9f9010101640e44eba7cc2bce1ed1b7cb3e\n",
            "  Stored in directory: /root/.cache/pip/wheels/63/2a/db/63e2909042c634ef551d0d9ac825b2b0b32dede4a6d87ddc94\n",
            "  Building wheel for regex (setup.py) ... \u001b[?25l\u001b[?25hdone\n",
            "  Created wheel for regex: filename=regex-2019.12.9-cp36-cp36m-linux_x86_64.whl size=609180 sha256=916082004fd0ce16fc25bb868ccf049ac19fb1ee78aa5fec59ebf1fb83b59ef5\n",
            "  Stored in directory: /root/.cache/pip/wheels/0d/fb/b3/a89169557229468c49ca64f6839418f22461f6ee0a74f342b1\n",
            "Successfully built sacremoses regex\n",
            "Installing collected packages: sacremoses, sentencepiece, regex, pytorch-transformers\n",
            "Successfully installed pytorch-transformers-1.2.0 regex-2019.12.9 sacremoses-0.0.35 sentencepiece-0.1.83\n",
            "Collecting transformers\n",
            "\u001b[?25l  Downloading https://files.pythonhosted.org/packages/70/1a/364556102943cacde1ee00fdcae3b1615b39e52649eddbf54953e5b144c9/transformers-2.2.1-py3-none-any.whl (364kB)\n",
            "\u001b[K     |████████████████████████████████| 368kB 2.8MB/s \n",
            "\u001b[?25hRequirement already satisfied: sentencepiece in /usr/local/lib/python3.6/dist-packages (from transformers) (0.1.83)\n",
            "Requirement already satisfied: numpy in /usr/local/lib/python3.6/dist-packages (from transformers) (1.17.4)\n",
            "Requirement already satisfied: regex in /usr/local/lib/python3.6/dist-packages (from transformers) (2019.12.9)\n",
            "Requirement already satisfied: requests in /usr/local/lib/python3.6/dist-packages (from transformers) (2.21.0)\n",
            "Requirement already satisfied: sacremoses in /usr/local/lib/python3.6/dist-packages (from transformers) (0.0.35)\n",
            "Requirement already satisfied: tqdm in /usr/local/lib/python3.6/dist-packages (from transformers) (4.28.1)\n",
            "Requirement already satisfied: boto3 in /usr/local/lib/python3.6/dist-packages (from transformers) (1.10.32)\n",
            "Requirement already satisfied: chardet<3.1.0,>=3.0.2 in /usr/local/lib/python3.6/dist-packages (from requests->transformers) (3.0.4)\n",
            "Requirement already satisfied: idna<2.9,>=2.5 in /usr/local/lib/python3.6/dist-packages (from requests->transformers) (2.8)\n",
            "Requirement already satisfied: certifi>=2017.4.17 in /usr/local/lib/python3.6/dist-packages (from requests->transformers) (2019.11.28)\n",
            "Requirement already satisfied: urllib3<1.25,>=1.21.1 in /usr/local/lib/python3.6/dist-packages (from requests->transformers) (1.24.3)\n",
            "Requirement already satisfied: click in /usr/local/lib/python3.6/dist-packages (from sacremoses->transformers) (7.0)\n",
            "Requirement already satisfied: six in /usr/local/lib/python3.6/dist-packages (from sacremoses->transformers) (1.12.0)\n",
            "Requirement already satisfied: joblib in /usr/local/lib/python3.6/dist-packages (from sacremoses->transformers) (0.14.0)\n",
            "Requirement already satisfied: botocore<1.14.0,>=1.13.32 in /usr/local/lib/python3.6/dist-packages (from boto3->transformers) (1.13.32)\n",
            "Requirement already satisfied: jmespath<1.0.0,>=0.7.1 in /usr/local/lib/python3.6/dist-packages (from boto3->transformers) (0.9.4)\n",
            "Requirement already satisfied: s3transfer<0.3.0,>=0.2.0 in /usr/local/lib/python3.6/dist-packages (from boto3->transformers) (0.2.1)\n",
            "Requirement already satisfied: python-dateutil<2.8.1,>=2.1; python_version >= \"2.7\" in /usr/local/lib/python3.6/dist-packages (from botocore<1.14.0,>=1.13.32->boto3->transformers) (2.6.1)\n",
            "Requirement already satisfied: docutils<0.16,>=0.10 in /usr/local/lib/python3.6/dist-packages (from botocore<1.14.0,>=1.13.32->boto3->transformers) (0.15.2)\n",
            "Installing collected packages: transformers\n",
            "Successfully installed transformers-2.2.1\n",
            "Cloning into 'transformers'...\n",
            "remote: Enumerating objects: 76, done.\u001b[K\n",
            "remote: Counting objects: 100% (76/76), done.\u001b[K\n",
            "remote: Compressing objects: 100% (58/58), done.\u001b[K\n",
            "remote: Total 13892 (delta 39), reused 25 (delta 18), pack-reused 13816\u001b[K\n",
            "Receiving objects: 100% (13892/13892), 8.49 MiB | 26.82 MiB/s, done.\n",
            "Resolving deltas: 100% (10152/10152), done.\n"
          ],
          "name": "stdout"
        }
      ]
    },
    {
      "cell_type": "code",
      "metadata": {
        "id": "jWmFL4DhUqz2",
        "colab_type": "code",
        "colab": {}
      },
      "source": [
        "from pytorch_transformers import AdamW\n",
        "from pytorch_transformers import DistilBertModel, DistilBertForSequenceClassification, DistilBertTokenizer\n",
        "from pytorch_transformers import BertModel, BertForSequenceClassification, BertTokenizer\n",
        "from sklearn.metrics import accuracy_score\n",
        "from torch.utils.data import TensorDataset, RandomSampler, DataLoader\n",
        "from tqdm import tqdm, trange"
      ],
      "execution_count": 0,
      "outputs": []
    },
    {
      "cell_type": "code",
      "metadata": {
        "id": "JTPmwy50bj3M",
        "colab_type": "code",
        "outputId": "83b3a7dd-7cf5-42ef-bdb1-914844b0e700",
        "colab": {
          "base_uri": "https://localhost:8080/",
          "height": 34
        }
      },
      "source": [
        "device = torch.device('cuda')\n",
        "torch.cuda.get_device_name(0)"
      ],
      "execution_count": 0,
      "outputs": [
        {
          "output_type": "execute_result",
          "data": {
            "text/plain": [
              "'Tesla P100-PCIE-16GB'"
            ]
          },
          "metadata": {
            "tags": []
          },
          "execution_count": 6
        }
      ]
    },
    {
      "cell_type": "markdown",
      "metadata": {
        "id": "m4rKMgJk0aZe",
        "colab_type": "text"
      },
      "source": [
        "## NN Instance"
      ]
    },
    {
      "cell_type": "code",
      "metadata": {
        "id": "44DrqkcB0bIg",
        "colab_type": "code",
        "colab": {}
      },
      "source": [
        "class ffn(nn.Module):\n",
        "\n",
        "  def __init__(self, input_dim):\n",
        "    super().__init__()\n",
        "    torch.manual_seed(42)\n",
        "    self.net = nn.Sequential(\n",
        "        nn.Linear(input_dim, 1000),\n",
        "        # nn.BatchNorm1d(1000),\n",
        "        nn.Dropout(0.4),\n",
        "        nn.ReLU(),\n",
        "        nn.Linear(1000, 500),\n",
        "        # nn.BatchNorm1d(500),\n",
        "        nn.Dropout(0.4),\n",
        "        nn.ReLU(),\n",
        "        nn.ReLU(),\n",
        "        nn.Linear(500, 2),\n",
        "        nn.Softmax()\n",
        "    )\n",
        "\n",
        "  def forward(self, X):\n",
        "    return self.net(X)\n",
        "\n",
        "def accuracy(y_hat, y):\n",
        "  pred = torch.argmax(y_hat, dim=1)\n",
        "  return (pred==y).float().mean()\n",
        "\n",
        "def fit(data, labels, model, opt, loss_fn, do_validation=False, val_data=None, val_labels=None, epochs=1000):\n",
        "  loss_arr = []\n",
        "  acc_arr = []\n",
        "  validation_loss = []\n",
        "  validation_acc = []\n",
        "  for epoch in range(epochs):\n",
        "    loss = loss_fn(model(data), labels)\n",
        "\n",
        "    if epoch%100 == 0:\n",
        "      loss_arr.append(loss.item())\n",
        "      acc_arr.append(accuracy(model(data), labels).item())\n",
        "\n",
        "      if do_validation:\n",
        "        validation_acc.append(accuracy(model(val_data), val_labels).item())\n",
        "        validation_loss.append(loss_fn(model(val_data), val_labels))\n",
        "\n",
        "    loss.backward()\n",
        "    opt.step()\n",
        "    opt.zero_grad()\n",
        "    \n",
        "  plt.plot(loss_arr, 'r-')\n",
        "  plt.plot(acc_arr, 'b-')\n",
        "  if do_validation:\n",
        "    plt.plot(validation_acc, 'y-')\n",
        "    plt.plot(validation_loss, 'y-')\n",
        "\n",
        "  # print('Training Accuracy: ', acc_arr[-1])\n",
        "  # print('Validation Accuracy: ', validation_acc[-1])\n",
        "  output = acc_arr[-1]\n",
        "\n",
        "  del loss_arr, acc_arr, validation_loss, validation_acc\n",
        "  return output\n"
      ],
      "execution_count": 0,
      "outputs": []
    },
    {
      "cell_type": "code",
      "metadata": {
        "id": "mBm6_WkX0be4",
        "colab_type": "code",
        "colab": {}
      },
      "source": [
        "loss_fn = nn.CrossEntropyLoss()"
      ],
      "execution_count": 0,
      "outputs": []
    },
    {
      "cell_type": "markdown",
      "metadata": {
        "id": "UvykQIORNkG1",
        "colab_type": "text"
      },
      "source": [
        "## Using DistilBert Sequence Classification Model directly"
      ]
    },
    {
      "cell_type": "code",
      "metadata": {
        "id": "tnzlf2PUe_gd",
        "colab_type": "code",
        "outputId": "4126e32e-3957-485b-bcba-4518ad0a8b0a",
        "colab": {
          "base_uri": "https://localhost:8080/",
          "height": 68
        }
      },
      "source": [
        "## Loading Tokenizer and Model\n",
        "tokenizer = BertTokenizer.from_pretrained('bert-base-uncased')\n",
        "# tokenizer = DistilBertTokenizer.from_pretrained('distilbert-base-uncased')\n",
        "# model = DistilBertModel.from_pretrained('distilbert-base-uncased')\n",
        "# sequence_model = DistilBertForSequenceClassification.from_pretrained('distilbert-base-uncased', num_labels=2)\n",
        "sequence_model = BertForSequenceClassification.from_pretrained('bert-base-uncased', num_labels=2)\n",
        "sequence_model.cuda()\n",
        "\n",
        "output_labels = []\n",
        "batch_size = 32\n",
        "for i in range(int(df.shape[0]/batch_size)+1):\n",
        "  tokenized = [tokenizer.encode(element, add_special_tokens=True) for element in df.loc[batch_size*i:batch_size*(i+1)-1, 0]]\n",
        "\n",
        "  ## Padding\n",
        "  max_len = 67\n",
        "\n",
        "  # for value in tokenized:\n",
        "  #   if len(value) > max_len:\n",
        "  #     max_len = len(value)\n",
        "\n",
        "  tokenized = np.array([i + [0]*(max_len - len(i)) for i in tokenized])\n",
        "  # print(tokenized.shape)\n",
        "\n",
        "  ## Attention Mark\n",
        "  attention_mask = np.where(tokenized != 0, 1, 0)\n",
        "\n",
        "  ## Converting input to tensor to use by sequence model\n",
        "  input_ids = torch.tensor(tokenized)\n",
        "  attention = torch.tensor(attention_mask) \n",
        "  labels = torch.tensor(df.loc[batch_size*i:batch_size*(i+1)-1, 1].values)\n",
        "\n",
        "  input_ids = input_ids.to(device)\n",
        "  attention = attention.to(device)\n",
        "  labels = labels.to(device)\n",
        "\n",
        "  del tokenized, attention_mask\n",
        "  torch.cuda.empty_cache()\n",
        "\n",
        "  with torch.no_grad():\n",
        "    outputs = sequence_model(input_ids, attention_mask=attention, labels=labels)\n",
        "  \n",
        "  output_labels.extend(outputs[1].cpu().numpy())\n",
        "\n",
        "  # print(outputs[1].shape)\n",
        "  # print('iteration complete: ', i)\n"
      ],
      "execution_count": 0,
      "outputs": [
        {
          "output_type": "stream",
          "text": [
            "100%|██████████| 231508/231508 [00:00<00:00, 5730594.95B/s]\n",
            "100%|██████████| 313/313 [00:00<00:00, 202439.04B/s]\n",
            "100%|██████████| 440473133/440473133 [00:07<00:00, 62664480.47B/s]\n"
          ],
          "name": "stderr"
        }
      ]
    },
    {
      "cell_type": "code",
      "metadata": {
        "id": "8TJEMFx9VgR6",
        "colab_type": "code",
        "outputId": "03435a22-1991-4cc8-96fc-7d7fc1b0251c",
        "colab": {
          "base_uri": "https://localhost:8080/",
          "height": 51
        }
      },
      "source": [
        "print(len(output_labels))\n",
        "print(accuracy_score(df[1], np.argmax(np.asarray(output_labels), axis=1)))"
      ],
      "execution_count": 0,
      "outputs": [
        {
          "output_type": "stream",
          "text": [
            "6920\n",
            "0.47832369942196534\n"
          ],
          "name": "stdout"
        }
      ]
    },
    {
      "cell_type": "markdown",
      "metadata": {
        "id": "3-CbxSXxa2aW",
        "colab_type": "text"
      },
      "source": [
        "## Fine-training DistilBert Sequence Classification Model"
      ]
    },
    {
      "cell_type": "code",
      "metadata": {
        "id": "4OPbmksCOBRx",
        "colab_type": "code",
        "outputId": "258ce8b4-1577-482b-eb30-6a00c0d3943e",
        "colab": {
          "base_uri": "https://localhost:8080/",
          "height": 1000
        }
      },
      "source": [
        "# tokenizer = DistilBertTokenizer.from_pretrained('distilbert-base-uncased')\n",
        "tokenizer = BertTokenizer.from_pretrained('bert-base-uncased')\n",
        "\n",
        "tokenized = [tokenizer.encode(element, add_special_tokens=True) for element in df[0]]\n",
        "\n",
        "## Padding\n",
        "max_len = 0\n",
        "\n",
        "for value in tokenized:\n",
        "  if len(value) > max_len:\n",
        "    max_len = len(value)\n",
        "\n",
        "tokenized = np.array([i + [0]*(max_len - len(i)) for i in tokenized])\n",
        "print(tokenized.shape)\n",
        "\n",
        "## Attention Mark\n",
        "attention_mask = np.where(tokenized != 0, 1, 0)\n",
        "\n",
        "train_data, validation_data, train_labels, validation_labels = train_test_split(tokenized, df[1].values, stratify=df[1], random_state=42)\n",
        "train_masks, validation_masks, _, _ = train_test_split(attention_mask, df[1].values, stratify=df[1], random_state=42)\n",
        "print(train_data.shape, train_labels.shape)\n",
        "\n",
        "train_data = torch.tensor(train_data).to(device)\n",
        "validation_data = torch.tensor(validation_data).to(device)\n",
        "train_labels = torch.tensor(train_labels).to(device)\n",
        "validation_labels = torch.tensor(validation_labels).to(device)\n",
        "train_masks = torch.tensor(train_masks).to(device)\n",
        "validation_masks = torch.tensor(validation_masks).to(device)\n",
        "\n",
        "batch_size=32\n",
        "\n",
        "training_data = TensorDataset(train_data, train_masks, train_labels)\n",
        "train_sampler = RandomSampler(training_data)\n",
        "train_dataloader = DataLoader(training_data, sampler=train_sampler, batch_size=batch_size)\n",
        "\n",
        "val_data = TensorDataset(validation_data, validation_masks, validation_labels)\n",
        "validation_sampler = RandomSampler(val_data)\n",
        "validation_dataloader = DataLoader(val_data, sampler=validation_sampler, batch_size=batch_size)\n",
        "\n",
        "# model = DistilBertForSequenceClassification.from_pretrained('distilbert-base-uncased', num_labels=2)\n",
        "model = BertForSequenceClassification.from_pretrained('bert-base-uncased', num_labels=2)\n",
        "model.cuda()"
      ],
      "execution_count": 0,
      "outputs": [
        {
          "output_type": "stream",
          "text": [
            "(6920, 67)\n",
            "(5190, 67) (5190,)\n"
          ],
          "name": "stdout"
        },
        {
          "output_type": "execute_result",
          "data": {
            "text/plain": [
              "BertForSequenceClassification(\n",
              "  (bert): BertModel(\n",
              "    (embeddings): BertEmbeddings(\n",
              "      (word_embeddings): Embedding(30522, 768, padding_idx=0)\n",
              "      (position_embeddings): Embedding(512, 768)\n",
              "      (token_type_embeddings): Embedding(2, 768)\n",
              "      (LayerNorm): LayerNorm((768,), eps=1e-12, elementwise_affine=True)\n",
              "      (dropout): Dropout(p=0.1, inplace=False)\n",
              "    )\n",
              "    (encoder): BertEncoder(\n",
              "      (layer): ModuleList(\n",
              "        (0): BertLayer(\n",
              "          (attention): BertAttention(\n",
              "            (self): BertSelfAttention(\n",
              "              (query): Linear(in_features=768, out_features=768, bias=True)\n",
              "              (key): Linear(in_features=768, out_features=768, bias=True)\n",
              "              (value): Linear(in_features=768, out_features=768, bias=True)\n",
              "              (dropout): Dropout(p=0.1, inplace=False)\n",
              "            )\n",
              "            (output): BertSelfOutput(\n",
              "              (dense): Linear(in_features=768, out_features=768, bias=True)\n",
              "              (LayerNorm): LayerNorm((768,), eps=1e-12, elementwise_affine=True)\n",
              "              (dropout): Dropout(p=0.1, inplace=False)\n",
              "            )\n",
              "          )\n",
              "          (intermediate): BertIntermediate(\n",
              "            (dense): Linear(in_features=768, out_features=3072, bias=True)\n",
              "          )\n",
              "          (output): BertOutput(\n",
              "            (dense): Linear(in_features=3072, out_features=768, bias=True)\n",
              "            (LayerNorm): LayerNorm((768,), eps=1e-12, elementwise_affine=True)\n",
              "            (dropout): Dropout(p=0.1, inplace=False)\n",
              "          )\n",
              "        )\n",
              "        (1): BertLayer(\n",
              "          (attention): BertAttention(\n",
              "            (self): BertSelfAttention(\n",
              "              (query): Linear(in_features=768, out_features=768, bias=True)\n",
              "              (key): Linear(in_features=768, out_features=768, bias=True)\n",
              "              (value): Linear(in_features=768, out_features=768, bias=True)\n",
              "              (dropout): Dropout(p=0.1, inplace=False)\n",
              "            )\n",
              "            (output): BertSelfOutput(\n",
              "              (dense): Linear(in_features=768, out_features=768, bias=True)\n",
              "              (LayerNorm): LayerNorm((768,), eps=1e-12, elementwise_affine=True)\n",
              "              (dropout): Dropout(p=0.1, inplace=False)\n",
              "            )\n",
              "          )\n",
              "          (intermediate): BertIntermediate(\n",
              "            (dense): Linear(in_features=768, out_features=3072, bias=True)\n",
              "          )\n",
              "          (output): BertOutput(\n",
              "            (dense): Linear(in_features=3072, out_features=768, bias=True)\n",
              "            (LayerNorm): LayerNorm((768,), eps=1e-12, elementwise_affine=True)\n",
              "            (dropout): Dropout(p=0.1, inplace=False)\n",
              "          )\n",
              "        )\n",
              "        (2): BertLayer(\n",
              "          (attention): BertAttention(\n",
              "            (self): BertSelfAttention(\n",
              "              (query): Linear(in_features=768, out_features=768, bias=True)\n",
              "              (key): Linear(in_features=768, out_features=768, bias=True)\n",
              "              (value): Linear(in_features=768, out_features=768, bias=True)\n",
              "              (dropout): Dropout(p=0.1, inplace=False)\n",
              "            )\n",
              "            (output): BertSelfOutput(\n",
              "              (dense): Linear(in_features=768, out_features=768, bias=True)\n",
              "              (LayerNorm): LayerNorm((768,), eps=1e-12, elementwise_affine=True)\n",
              "              (dropout): Dropout(p=0.1, inplace=False)\n",
              "            )\n",
              "          )\n",
              "          (intermediate): BertIntermediate(\n",
              "            (dense): Linear(in_features=768, out_features=3072, bias=True)\n",
              "          )\n",
              "          (output): BertOutput(\n",
              "            (dense): Linear(in_features=3072, out_features=768, bias=True)\n",
              "            (LayerNorm): LayerNorm((768,), eps=1e-12, elementwise_affine=True)\n",
              "            (dropout): Dropout(p=0.1, inplace=False)\n",
              "          )\n",
              "        )\n",
              "        (3): BertLayer(\n",
              "          (attention): BertAttention(\n",
              "            (self): BertSelfAttention(\n",
              "              (query): Linear(in_features=768, out_features=768, bias=True)\n",
              "              (key): Linear(in_features=768, out_features=768, bias=True)\n",
              "              (value): Linear(in_features=768, out_features=768, bias=True)\n",
              "              (dropout): Dropout(p=0.1, inplace=False)\n",
              "            )\n",
              "            (output): BertSelfOutput(\n",
              "              (dense): Linear(in_features=768, out_features=768, bias=True)\n",
              "              (LayerNorm): LayerNorm((768,), eps=1e-12, elementwise_affine=True)\n",
              "              (dropout): Dropout(p=0.1, inplace=False)\n",
              "            )\n",
              "          )\n",
              "          (intermediate): BertIntermediate(\n",
              "            (dense): Linear(in_features=768, out_features=3072, bias=True)\n",
              "          )\n",
              "          (output): BertOutput(\n",
              "            (dense): Linear(in_features=3072, out_features=768, bias=True)\n",
              "            (LayerNorm): LayerNorm((768,), eps=1e-12, elementwise_affine=True)\n",
              "            (dropout): Dropout(p=0.1, inplace=False)\n",
              "          )\n",
              "        )\n",
              "        (4): BertLayer(\n",
              "          (attention): BertAttention(\n",
              "            (self): BertSelfAttention(\n",
              "              (query): Linear(in_features=768, out_features=768, bias=True)\n",
              "              (key): Linear(in_features=768, out_features=768, bias=True)\n",
              "              (value): Linear(in_features=768, out_features=768, bias=True)\n",
              "              (dropout): Dropout(p=0.1, inplace=False)\n",
              "            )\n",
              "            (output): BertSelfOutput(\n",
              "              (dense): Linear(in_features=768, out_features=768, bias=True)\n",
              "              (LayerNorm): LayerNorm((768,), eps=1e-12, elementwise_affine=True)\n",
              "              (dropout): Dropout(p=0.1, inplace=False)\n",
              "            )\n",
              "          )\n",
              "          (intermediate): BertIntermediate(\n",
              "            (dense): Linear(in_features=768, out_features=3072, bias=True)\n",
              "          )\n",
              "          (output): BertOutput(\n",
              "            (dense): Linear(in_features=3072, out_features=768, bias=True)\n",
              "            (LayerNorm): LayerNorm((768,), eps=1e-12, elementwise_affine=True)\n",
              "            (dropout): Dropout(p=0.1, inplace=False)\n",
              "          )\n",
              "        )\n",
              "        (5): BertLayer(\n",
              "          (attention): BertAttention(\n",
              "            (self): BertSelfAttention(\n",
              "              (query): Linear(in_features=768, out_features=768, bias=True)\n",
              "              (key): Linear(in_features=768, out_features=768, bias=True)\n",
              "              (value): Linear(in_features=768, out_features=768, bias=True)\n",
              "              (dropout): Dropout(p=0.1, inplace=False)\n",
              "            )\n",
              "            (output): BertSelfOutput(\n",
              "              (dense): Linear(in_features=768, out_features=768, bias=True)\n",
              "              (LayerNorm): LayerNorm((768,), eps=1e-12, elementwise_affine=True)\n",
              "              (dropout): Dropout(p=0.1, inplace=False)\n",
              "            )\n",
              "          )\n",
              "          (intermediate): BertIntermediate(\n",
              "            (dense): Linear(in_features=768, out_features=3072, bias=True)\n",
              "          )\n",
              "          (output): BertOutput(\n",
              "            (dense): Linear(in_features=3072, out_features=768, bias=True)\n",
              "            (LayerNorm): LayerNorm((768,), eps=1e-12, elementwise_affine=True)\n",
              "            (dropout): Dropout(p=0.1, inplace=False)\n",
              "          )\n",
              "        )\n",
              "        (6): BertLayer(\n",
              "          (attention): BertAttention(\n",
              "            (self): BertSelfAttention(\n",
              "              (query): Linear(in_features=768, out_features=768, bias=True)\n",
              "              (key): Linear(in_features=768, out_features=768, bias=True)\n",
              "              (value): Linear(in_features=768, out_features=768, bias=True)\n",
              "              (dropout): Dropout(p=0.1, inplace=False)\n",
              "            )\n",
              "            (output): BertSelfOutput(\n",
              "              (dense): Linear(in_features=768, out_features=768, bias=True)\n",
              "              (LayerNorm): LayerNorm((768,), eps=1e-12, elementwise_affine=True)\n",
              "              (dropout): Dropout(p=0.1, inplace=False)\n",
              "            )\n",
              "          )\n",
              "          (intermediate): BertIntermediate(\n",
              "            (dense): Linear(in_features=768, out_features=3072, bias=True)\n",
              "          )\n",
              "          (output): BertOutput(\n",
              "            (dense): Linear(in_features=3072, out_features=768, bias=True)\n",
              "            (LayerNorm): LayerNorm((768,), eps=1e-12, elementwise_affine=True)\n",
              "            (dropout): Dropout(p=0.1, inplace=False)\n",
              "          )\n",
              "        )\n",
              "        (7): BertLayer(\n",
              "          (attention): BertAttention(\n",
              "            (self): BertSelfAttention(\n",
              "              (query): Linear(in_features=768, out_features=768, bias=True)\n",
              "              (key): Linear(in_features=768, out_features=768, bias=True)\n",
              "              (value): Linear(in_features=768, out_features=768, bias=True)\n",
              "              (dropout): Dropout(p=0.1, inplace=False)\n",
              "            )\n",
              "            (output): BertSelfOutput(\n",
              "              (dense): Linear(in_features=768, out_features=768, bias=True)\n",
              "              (LayerNorm): LayerNorm((768,), eps=1e-12, elementwise_affine=True)\n",
              "              (dropout): Dropout(p=0.1, inplace=False)\n",
              "            )\n",
              "          )\n",
              "          (intermediate): BertIntermediate(\n",
              "            (dense): Linear(in_features=768, out_features=3072, bias=True)\n",
              "          )\n",
              "          (output): BertOutput(\n",
              "            (dense): Linear(in_features=3072, out_features=768, bias=True)\n",
              "            (LayerNorm): LayerNorm((768,), eps=1e-12, elementwise_affine=True)\n",
              "            (dropout): Dropout(p=0.1, inplace=False)\n",
              "          )\n",
              "        )\n",
              "        (8): BertLayer(\n",
              "          (attention): BertAttention(\n",
              "            (self): BertSelfAttention(\n",
              "              (query): Linear(in_features=768, out_features=768, bias=True)\n",
              "              (key): Linear(in_features=768, out_features=768, bias=True)\n",
              "              (value): Linear(in_features=768, out_features=768, bias=True)\n",
              "              (dropout): Dropout(p=0.1, inplace=False)\n",
              "            )\n",
              "            (output): BertSelfOutput(\n",
              "              (dense): Linear(in_features=768, out_features=768, bias=True)\n",
              "              (LayerNorm): LayerNorm((768,), eps=1e-12, elementwise_affine=True)\n",
              "              (dropout): Dropout(p=0.1, inplace=False)\n",
              "            )\n",
              "          )\n",
              "          (intermediate): BertIntermediate(\n",
              "            (dense): Linear(in_features=768, out_features=3072, bias=True)\n",
              "          )\n",
              "          (output): BertOutput(\n",
              "            (dense): Linear(in_features=3072, out_features=768, bias=True)\n",
              "            (LayerNorm): LayerNorm((768,), eps=1e-12, elementwise_affine=True)\n",
              "            (dropout): Dropout(p=0.1, inplace=False)\n",
              "          )\n",
              "        )\n",
              "        (9): BertLayer(\n",
              "          (attention): BertAttention(\n",
              "            (self): BertSelfAttention(\n",
              "              (query): Linear(in_features=768, out_features=768, bias=True)\n",
              "              (key): Linear(in_features=768, out_features=768, bias=True)\n",
              "              (value): Linear(in_features=768, out_features=768, bias=True)\n",
              "              (dropout): Dropout(p=0.1, inplace=False)\n",
              "            )\n",
              "            (output): BertSelfOutput(\n",
              "              (dense): Linear(in_features=768, out_features=768, bias=True)\n",
              "              (LayerNorm): LayerNorm((768,), eps=1e-12, elementwise_affine=True)\n",
              "              (dropout): Dropout(p=0.1, inplace=False)\n",
              "            )\n",
              "          )\n",
              "          (intermediate): BertIntermediate(\n",
              "            (dense): Linear(in_features=768, out_features=3072, bias=True)\n",
              "          )\n",
              "          (output): BertOutput(\n",
              "            (dense): Linear(in_features=3072, out_features=768, bias=True)\n",
              "            (LayerNorm): LayerNorm((768,), eps=1e-12, elementwise_affine=True)\n",
              "            (dropout): Dropout(p=0.1, inplace=False)\n",
              "          )\n",
              "        )\n",
              "        (10): BertLayer(\n",
              "          (attention): BertAttention(\n",
              "            (self): BertSelfAttention(\n",
              "              (query): Linear(in_features=768, out_features=768, bias=True)\n",
              "              (key): Linear(in_features=768, out_features=768, bias=True)\n",
              "              (value): Linear(in_features=768, out_features=768, bias=True)\n",
              "              (dropout): Dropout(p=0.1, inplace=False)\n",
              "            )\n",
              "            (output): BertSelfOutput(\n",
              "              (dense): Linear(in_features=768, out_features=768, bias=True)\n",
              "              (LayerNorm): LayerNorm((768,), eps=1e-12, elementwise_affine=True)\n",
              "              (dropout): Dropout(p=0.1, inplace=False)\n",
              "            )\n",
              "          )\n",
              "          (intermediate): BertIntermediate(\n",
              "            (dense): Linear(in_features=768, out_features=3072, bias=True)\n",
              "          )\n",
              "          (output): BertOutput(\n",
              "            (dense): Linear(in_features=3072, out_features=768, bias=True)\n",
              "            (LayerNorm): LayerNorm((768,), eps=1e-12, elementwise_affine=True)\n",
              "            (dropout): Dropout(p=0.1, inplace=False)\n",
              "          )\n",
              "        )\n",
              "        (11): BertLayer(\n",
              "          (attention): BertAttention(\n",
              "            (self): BertSelfAttention(\n",
              "              (query): Linear(in_features=768, out_features=768, bias=True)\n",
              "              (key): Linear(in_features=768, out_features=768, bias=True)\n",
              "              (value): Linear(in_features=768, out_features=768, bias=True)\n",
              "              (dropout): Dropout(p=0.1, inplace=False)\n",
              "            )\n",
              "            (output): BertSelfOutput(\n",
              "              (dense): Linear(in_features=768, out_features=768, bias=True)\n",
              "              (LayerNorm): LayerNorm((768,), eps=1e-12, elementwise_affine=True)\n",
              "              (dropout): Dropout(p=0.1, inplace=False)\n",
              "            )\n",
              "          )\n",
              "          (intermediate): BertIntermediate(\n",
              "            (dense): Linear(in_features=768, out_features=3072, bias=True)\n",
              "          )\n",
              "          (output): BertOutput(\n",
              "            (dense): Linear(in_features=3072, out_features=768, bias=True)\n",
              "            (LayerNorm): LayerNorm((768,), eps=1e-12, elementwise_affine=True)\n",
              "            (dropout): Dropout(p=0.1, inplace=False)\n",
              "          )\n",
              "        )\n",
              "      )\n",
              "    )\n",
              "    (pooler): BertPooler(\n",
              "      (dense): Linear(in_features=768, out_features=768, bias=True)\n",
              "      (activation): Tanh()\n",
              "    )\n",
              "  )\n",
              "  (dropout): Dropout(p=0.1, inplace=False)\n",
              "  (classifier): Linear(in_features=768, out_features=2, bias=True)\n",
              ")"
            ]
          },
          "metadata": {
            "tags": []
          },
          "execution_count": 22
        }
      ]
    },
    {
      "cell_type": "code",
      "metadata": {
        "id": "kDk0GnW9aUoq",
        "colab_type": "code",
        "colab": {}
      },
      "source": [
        "param_optimizer = list(model.named_parameters())\n",
        "no_decay = ['bias', 'gamma', 'beta']\n",
        "optimizer_grouped_parameters = [\n",
        "    {'params': [p for n, p in param_optimizer if not any(nd in n for nd in no_decay)],\n",
        "     'weight_decay_rate': 0.01},\n",
        "    {'params': [p for n, p in param_optimizer if any(nd in n for nd in no_decay)],\n",
        "     'weight_decay_rate': 0.0}\n",
        "]\n",
        "\n",
        "# This variable contains all of the hyperparemeter information our training loop needs\n",
        "optimizer = AdamW(optimizer_grouped_parameters, lr=2e-5)\n",
        "\n",
        "# Function to calculate the accuracy of our predictions vs labels\n",
        "def flat_accuracy(preds, labels):\n",
        "    pred_flat = np.argmax(preds, axis=1).flatten()\n",
        "    labels_flat = labels.flatten()\n",
        "    return np.sum(pred_flat == labels_flat) / len(labels_flat)"
      ],
      "execution_count": 0,
      "outputs": []
    },
    {
      "cell_type": "code",
      "metadata": {
        "id": "Jd-DsasUOpUg",
        "colab_type": "code",
        "outputId": "1119100c-c373-434d-9bff-2c656a2f81de",
        "colab": {
          "base_uri": "https://localhost:8080/",
          "height": 170
        }
      },
      "source": [
        "# t# Store our loss and accuracy for plotting\n",
        "train_loss_set = []\n",
        "\n",
        "# Number of training epochs (authors recommend between 2 and 4)\n",
        "epochs = 2\n",
        "\n",
        "# trange is a tqdm wrapper around the normal python range\n",
        "for _ in trange(epochs, desc=\"Epoch\"):\n",
        "  \n",
        "  \n",
        "  # Training\n",
        "  \n",
        "  # Set our model to training mode (as opposed to evaluation mode)\n",
        "  model.train()\n",
        "  \n",
        "  # Tracking variables\n",
        "  tr_loss = 0\n",
        "  nb_tr_examples, nb_tr_steps = 0, 0\n",
        "  \n",
        "  # Train the data for one epoch\n",
        "  for step, batch in enumerate(train_dataloader):\n",
        "    # Add batch to GPU\n",
        "    batch = tuple(t.to(device) for t in batch)\n",
        "    # Unpack the inputs from our dataloader\n",
        "    b_input_ids, b_input_mask, b_labels = batch\n",
        "    # Clear out the gradients (by default they accumulate)\n",
        "    optimizer.zero_grad()\n",
        "    # Forward pass\n",
        "    outputs = model(b_input_ids, attention_mask=b_input_mask, labels=b_labels) # outputs = (loss, logits) Tuple\n",
        "    loss = outputs[0]\n",
        "    if step == 0:\n",
        "      print('\\n', loss)\n",
        "    train_loss_set.append(loss.item())    \n",
        "    # Backward pass\n",
        "    loss.backward()\n",
        "    # Update parameters and take a step using the computed gradient\n",
        "    optimizer.step()\n",
        "    \n",
        "    \n",
        "    # Update tracking variables\n",
        "    tr_loss += loss.item()\n",
        "    nb_tr_examples += b_input_ids.size(0)\n",
        "    nb_tr_steps += 1\n",
        "\n",
        "  print(\"Train loss: {}\".format(tr_loss/nb_tr_steps))\n",
        "    \n",
        "    \n",
        "  # Validation\n",
        "\n",
        "  # Put model in evaluation mode to evaluate loss on the validation set\n",
        "  model.eval()\n",
        "\n",
        "  # Tracking variables \n",
        "  eval_loss, eval_accuracy = 0, 0\n",
        "  nb_eval_steps, nb_eval_examples = 0, 0\n",
        "\n",
        "  # Evaluate data for one epoch\n",
        "  for batch in validation_dataloader:\n",
        "    # Add batch to GPU\n",
        "    batch = tuple(t.to(device) for t in batch)\n",
        "    # Unpack the inputs from our dataloader\n",
        "    b_input_ids, b_input_mask, b_labels = batch\n",
        "    # Telling the model not to compute or store gradients, saving memory and speeding up validation\n",
        "    with torch.no_grad():\n",
        "      # Forward pass, calculate logit predictions\n",
        "      outputs = model(b_input_ids, attention_mask=b_input_mask) # outputs = (logits) Tuple\n",
        "      # print(outputs)\n",
        "\n",
        "    # Move logits and labels to CPU\n",
        "    logits = outputs[0].detach().cpu().numpy()\n",
        "    label_ids = b_labels.to('cpu').numpy()\n",
        "\n",
        "    tmp_eval_accuracy = flat_accuracy(logits, label_ids)\n",
        "    \n",
        "    eval_accuracy += tmp_eval_accuracy\n",
        "    nb_eval_steps += 1\n",
        "\n",
        "  print(\"Validation Accuracy: {}\".format(eval_accuracy/nb_eval_steps))"
      ],
      "execution_count": 0,
      "outputs": [
        {
          "output_type": "stream",
          "text": [
            "\rEpoch:   0%|          | 0/2 [00:00<?, ?it/s]"
          ],
          "name": "stderr"
        },
        {
          "output_type": "stream",
          "text": [
            "\n",
            " tensor(0.7373, device='cuda:0', grad_fn=<NllLossBackward>)\n",
            "Train loss: 0.38654324604324036\n"
          ],
          "name": "stdout"
        },
        {
          "output_type": "stream",
          "text": [
            "\rEpoch:  50%|█████     | 1/2 [00:43<00:43, 43.68s/it]"
          ],
          "name": "stderr"
        },
        {
          "output_type": "stream",
          "text": [
            "Validation Accuracy: 0.9107954545454545\n",
            "\n",
            " tensor(0.1303, device='cuda:0', grad_fn=<NllLossBackward>)\n",
            "Train loss: 0.17302891600625647\n"
          ],
          "name": "stdout"
        },
        {
          "output_type": "stream",
          "text": [
            "\rEpoch: 100%|██████████| 2/2 [01:27<00:00, 43.68s/it]"
          ],
          "name": "stderr"
        },
        {
          "output_type": "stream",
          "text": [
            "Validation Accuracy: 0.9011363636363636\n"
          ],
          "name": "stdout"
        },
        {
          "output_type": "stream",
          "text": [
            "\n"
          ],
          "name": "stderr"
        }
      ]
    },
    {
      "cell_type": "code",
      "metadata": {
        "id": "ptMUWpCp3xm2",
        "colab_type": "code",
        "outputId": "010bee27-ea23-4521-d409-4474841122e1",
        "colab": {
          "base_uri": "https://localhost:8080/",
          "height": 497
        }
      },
      "source": [
        "plt.figure(figsize=(10,8))\n",
        "plt.xlabel('Batch')\n",
        "plt.ylabel('Training Loss')\n",
        "plt.plot(train_loss_set)\n",
        "plt.show()"
      ],
      "execution_count": 0,
      "outputs": [
        {
          "output_type": "display_data",
          "data": {
            "image/png": "[encoded data removed]",
            "text/plain": [
              "<Figure size 720x576 with 1 Axes>"
            ]
          },
          "metadata": {
            "tags": []
          }
        }
      ]
    },
    {
      "cell_type": "code",
      "metadata": {
        "id": "AWW7NIYhyh6g",
        "colab_type": "code",
        "outputId": "96a43c79-7d37-48ed-98ff-28e4267c8612",
        "colab": {
          "base_uri": "https://localhost:8080/",
          "height": 51
        }
      },
      "source": [
        "train_accuracy = 0\n",
        "nb_train_steps = 0\n",
        "for batch in train_dataloader:\n",
        "  # Add batch to GPU\n",
        "  batch = tuple(t.to(device) for t in batch)\n",
        "  # Unpack the inputs from our dataloader\n",
        "  b_input_ids, b_input_mask, b_labels = batch\n",
        "  # Telling the model not to compute or store gradients, saving memory and speeding up validation\n",
        "  with torch.no_grad():\n",
        "    # Forward pass, calculate logit predictions\n",
        "    outputs = model(b_input_ids, attention_mask=b_input_mask) # outputs = (logits) Tuple\n",
        "    # print(outputs)\n",
        "\n",
        "  # Move logits and labels to CPU\n",
        "  logits = outputs[0].detach().cpu().numpy()\n",
        "  label_ids = b_labels.to('cpu').numpy()\n",
        "\n",
        "  tmp_train_accuracy = flat_accuracy(logits, label_ids)\n",
        "  \n",
        "  train_accuracy += tmp_train_accuracy\n",
        "  nb_train_steps += 1\n",
        "\n",
        "print(\"Training Accuracy: {}\".format(train_accuracy/nb_train_steps))\n",
        "\n",
        "eval_accuracy = 0\n",
        "nb_eval_steps = 0\n",
        "for batch in validation_dataloader:\n",
        "  # Add batch to GPU\n",
        "  batch = tuple(t.to(device) for t in batch)\n",
        "  # Unpack the inputs from our dataloader\n",
        "  b_input_ids, b_input_mask, b_labels = batch\n",
        "  # Telling the model not to compute or store gradients, saving memory and speeding up validation\n",
        "  with torch.no_grad():\n",
        "    # Forward pass, calculate logit predictions\n",
        "    outputs = model(b_input_ids, attention_mask=b_input_mask) # outputs = (logits) Tuple\n",
        "    # print(outputs)\n",
        "\n",
        "  # Move logits and labels to CPU\n",
        "  logits = outputs[0].detach().cpu().numpy()\n",
        "  label_ids = b_labels.to('cpu').numpy()\n",
        "\n",
        "  tmp_eval_accuracy = flat_accuracy(logits, label_ids)\n",
        "  \n",
        "  eval_accuracy += tmp_eval_accuracy\n",
        "  nb_eval_steps += 1\n",
        "\n",
        "print(\"Validation Accuracy: {}\".format(eval_accuracy/nb_eval_steps))"
      ],
      "execution_count": 0,
      "outputs": [
        {
          "output_type": "stream",
          "text": [
            "Training Accuracy: 0.9850460122699386\n",
            "Validation Accuracy: 0.9011363636363636\n"
          ],
          "name": "stdout"
        }
      ]
    },
    {
      "cell_type": "code",
      "metadata": {
        "id": "F8V08jRV-3UQ",
        "colab_type": "code",
        "outputId": "bd00a6b1-fed1-42b0-9f1a-ab7066f51241",
        "colab": {
          "base_uri": "https://localhost:8080/",
          "height": 34
        }
      },
      "source": [
        "import os\n",
        "\n",
        "torch.save(model.state_dict(), 'pytorch_distilbert_model.bin')\n",
        "model.config.to_json_file('config.json')\n",
        "tokenizer.save_vocabulary(os.getcwd())"
      ],
      "execution_count": 0,
      "outputs": [
        {
          "output_type": "execute_result",
          "data": {
            "text/plain": [
              "('/content/vocab.txt',)"
            ]
          },
          "metadata": {
            "tags": []
          },
          "execution_count": 14
        }
      ]
    },
    {
      "cell_type": "markdown",
      "metadata": {
        "id": "gCiOh9DgyiHT",
        "colab_type": "text"
      },
      "source": [
        "## Using DistillBertModel to get cls token output as features to build classification models using labels"
      ]
    },
    {
      "cell_type": "code",
      "metadata": {
        "id": "rc1z_cOgyq-k",
        "colab_type": "code",
        "outputId": "68eae1a6-215f-4e6f-cf95-07bfca8461f4",
        "colab": {
          "base_uri": "https://localhost:8080/",
          "height": 34
        }
      },
      "source": [
        "# tokenizer = DistilBertTokenizer.from_pretrained('distilbert-base-uncased')\n",
        "tokenizer = BertTokenizer.from_pretrained('bert-base-uncased')\n",
        "\n",
        "tokenized = [tokenizer.encode(element, add_special_tokens=True) for element in df[0]]\n",
        "\n",
        "## Padding\n",
        "max_len = 0\n",
        "\n",
        "for value in tokenized:\n",
        "  if len(value) > max_len:\n",
        "    max_len = len(value)\n",
        "\n",
        "tokenized = np.array([i + [0]*(max_len - len(i)) for i in tokenized])\n",
        "print(tokenized.shape)\n",
        "\n",
        "## Attention Mark\n",
        "attention_mask = np.where(tokenized != 0, 1, 0)\n",
        "\n",
        "## labels\n",
        "labels = df[1].values\n",
        "\n",
        "batch_size=32\n",
        "\n",
        "tokenized = torch.tensor(tokenized).to(device)\n",
        "attention_mask = torch.tensor(attention_mask).to(device)\n",
        "labels = torch.tensor(labels).to(device)\n",
        "\n",
        "training_data = TensorDataset(tokenized, attention_mask, labels)\n",
        "train_sampler = RandomSampler(training_data)\n",
        "train_dataloader = DataLoader(training_data, sampler=train_sampler, batch_size=batch_size)\n",
        "\n",
        "# model = DistilBertModel.from_pretrained('distilbert-base-uncased')\n",
        "model = BertModel.from_pretrained('bert-base-uncased')\n",
        "model.cuda()\n",
        "\n",
        "features = None\n",
        "feature_labels = None\n",
        "for step, batch in enumerate(train_dataloader):\n",
        "\n",
        "  batch = tuple(t.to(device) for t in batch)\n",
        "  b_input_ids, b_input_mask, b_labels = batch\n",
        "\n",
        "  with torch.no_grad():\n",
        "      last_hidden_states = model(b_input_ids, attention_mask=b_input_mask)\n",
        "\n",
        "  if step==0:\n",
        "    features = last_hidden_states[0][:,0,:].cpu().numpy()\n",
        "    feature_labels = b_labels.cpu().numpy()\n",
        "  else:\n",
        "    features = np.concatenate((features, last_hidden_states[0][:,0,:].cpu().numpy()), axis=0)\n",
        "    feature_labels = np.concatenate((feature_labels, b_labels.cpu().numpy()), axis=0)\n"
      ],
      "execution_count": 0,
      "outputs": [
        {
          "output_type": "stream",
          "text": [
            "(6920, 67)\n"
          ],
          "name": "stdout"
        }
      ]
    },
    {
      "cell_type": "code",
      "metadata": {
        "id": "k9FOScPGyq4V",
        "colab_type": "code",
        "outputId": "78b6a98e-b7fa-4d30-9134-8d12b71255fb",
        "colab": {
          "base_uri": "https://localhost:8080/",
          "height": 34
        }
      },
      "source": [
        "# labels = df[1].values\n",
        "train_features, test_features, train_labels, test_labels = train_test_split(features, feature_labels, stratify=feature_labels)\n",
        "print(train_features.shape, train_labels.shape)\n",
        "\n",
        "# xgb_model = XGBClassifier()\n",
        "# xgb_model.fit(train_features, train_labels)\n",
        "\n",
        "# pred = xgb_model.predict(test_features)\n",
        "# print(accuracy_score(test_labels, pred))\n",
        "\n",
        "# pred = xgb_model.predict(train_features)\n",
        "# print(accuracy_score(train_labels, pred))"
      ],
      "execution_count": 0,
      "outputs": [
        {
          "output_type": "stream",
          "text": [
            "(5190, 768) (5190,)\n"
          ],
          "name": "stdout"
        }
      ]
    },
    {
      "cell_type": "code",
      "metadata": {
        "id": "kzKZEK3wyqvv",
        "colab_type": "code",
        "outputId": "bfd7fa3d-4a36-40be-c5c3-56fec3619bc2",
        "colab": {
          "base_uri": "https://localhost:8080/",
          "height": 105
        }
      },
      "source": [
        "lr_clf = LogisticRegression(C=5)\n",
        "lr_clf.fit(train_features, train_labels)\n",
        "\n",
        "# parameters = {'C': np.linspace(0.0001, 100, 20)}\n",
        "# grid_search = GridSearchCV(LogisticRegression(), parameters)\n",
        "# grid_search.fit(train_features, train_labels)\n",
        "\n",
        "# print('best parameters: ', grid_search.best_params_)\n",
        "# print('best scrores: ', grid_search.best_score_)\n",
        "\n",
        "print(lr_clf.score(test_features, test_labels))\n",
        "print(lr_clf.score(train_features, train_labels))"
      ],
      "execution_count": 0,
      "outputs": [
        {
          "output_type": "stream",
          "text": [
            "/usr/local/lib/python3.6/dist-packages/sklearn/linear_model/logistic.py:432: FutureWarning: Default solver will be changed to 'lbfgs' in 0.22. Specify a solver to silence this warning.\n",
            "  FutureWarning)\n"
          ],
          "name": "stderr"
        },
        {
          "output_type": "stream",
          "text": [
            "0.8479768786127168\n",
            "0.9121387283236995\n"
          ],
          "name": "stdout"
        }
      ]
    },
    {
      "cell_type": "markdown",
      "metadata": {
        "id": "u2p1mwtsmNDg",
        "colab_type": "text"
      },
      "source": [
        "## Use DistilBertModel to get sentence vector by taking average of all the word vectors or concating all the word vectors"
      ]
    },
    {
      "cell_type": "code",
      "metadata": {
        "id": "ZV4KfSy8mNb7",
        "colab_type": "code",
        "outputId": "0bed3bf3-78ff-4877-fafd-525a5b458984",
        "colab": {
          "base_uri": "https://localhost:8080/",
          "height": 34
        }
      },
      "source": [
        "# tokenizer = DistilBertTokenizer.from_pretrained('distilbert-base-uncased')\n",
        "tokenizer = BertTokenizer.from_pretrained('bert-base-uncased')\n",
        "\n",
        "tokenized = [tokenizer.encode(element, add_special_tokens=True) for element in df[0]]\n",
        "\n",
        "## Padding\n",
        "max_len = 0\n",
        "\n",
        "for value in tokenized:\n",
        "  if len(value) > max_len:\n",
        "    max_len = len(value)\n",
        "\n",
        "tokenized = np.array([i + [0]*(max_len - len(i)) for i in tokenized])\n",
        "print(tokenized.shape)\n",
        "\n",
        "## Attention Mark\n",
        "attention_mask = np.where(tokenized != 0, 1, 0)\n",
        "\n",
        "## labels\n",
        "labels = df[1].values\n",
        "\n",
        "batch_size=32\n",
        "\n",
        "tokenized = torch.tensor(tokenized).to(device)\n",
        "attention_mask = torch.tensor(attention_mask).to(device)\n",
        "labels = torch.tensor(labels).to(device)\n",
        "\n",
        "training_data = TensorDataset(tokenized, attention_mask, labels)\n",
        "train_sampler = RandomSampler(training_data)\n",
        "train_dataloader = DataLoader(training_data, sampler=train_sampler, batch_size=batch_size)\n",
        "\n",
        "# model = DistilBertModel.from_pretrained('distilbert-base-uncased')\n",
        "model = BertModel.from_pretrained('bert-base-uncased')\n",
        "model.cuda()\n",
        "\n",
        "features = []\n",
        "feature_labels = []\n",
        "for step, batch in enumerate(train_dataloader):\n",
        "\n",
        "  batch = tuple(t.to(device) for t in batch)\n",
        "  b_input_ids, b_input_mask, b_labels = batch\n",
        "\n",
        "  with torch.no_grad():\n",
        "      last_hidden_states = model(b_input_ids, attention_mask=b_input_mask)\n",
        "\n",
        "  # print(last_hidden_states[0][:,1:,:].size())\n",
        "  # print(last_hidden_states[0][:,1:,:].sum(dim=1).size())\n",
        "\n",
        "  if step==0:\n",
        "    features = last_hidden_states[0][:,:,:].cpu().numpy()\n",
        "    feature_labels = b_labels.cpu().numpy()\n",
        "  else:\n",
        "    features = np.concatenate((features, last_hidden_states[0][:,:,:].cpu().numpy()), axis=0)\n",
        "    feature_labels = np.concatenate((feature_labels, b_labels.cpu().numpy()), axis=0)\n"
      ],
      "execution_count": 0,
      "outputs": [
        {
          "output_type": "stream",
          "text": [
            "(6920, 67)\n"
          ],
          "name": "stdout"
        }
      ]
    },
    {
      "cell_type": "code",
      "metadata": {
        "id": "NSKrhzGdDJOB",
        "colab_type": "code",
        "outputId": "2c1a1421-553b-4ab4-bf34-652f68a967c5",
        "colab": {
          "base_uri": "https://localhost:8080/",
          "height": 68
        }
      },
      "source": [
        "print(features.shape)\n",
        "\n",
        "features_average = np.sum(features, axis=1) / 67  ## normalizing after adding 66 word embedding to generate sentence vector\n",
        "print(features_average.shape)\n",
        "\n",
        "features_concat = features.reshape(features.shape[0],-1)\n",
        "print(features_concat.shape)"
      ],
      "execution_count": 0,
      "outputs": [
        {
          "output_type": "stream",
          "text": [
            "(6920, 67, 768)\n",
            "(6920, 768)\n",
            "(6920, 51456)\n"
          ],
          "name": "stdout"
        }
      ]
    },
    {
      "cell_type": "markdown",
      "metadata": {
        "id": "y-JvDmC13s8I",
        "colab_type": "text"
      },
      "source": [
        "### Sentence Vector generation by averaging all the word embedding"
      ]
    },
    {
      "cell_type": "code",
      "metadata": {
        "id": "AUM7DcWlmNz5",
        "colab_type": "code",
        "outputId": "d0ee0195-40f7-4ef5-d060-1f91bb2610ec",
        "colab": {
          "base_uri": "https://localhost:8080/",
          "height": 122
        }
      },
      "source": [
        "train_features, test_features, train_labels, test_labels = train_test_split(features_average, feature_labels, stratify=feature_labels, random_state=42)\n",
        "print(train_features.shape, train_labels.shape)\n",
        "\n",
        "lr_clf = LogisticRegression(C=5)\n",
        "lr_clf.fit(train_features, train_labels)\n",
        "\n",
        "# parameters = {'C': np.linspace(0.0001, 100, 20)}\n",
        "# grid_search = GridSearchCV(LogisticRegression(), parameters)\n",
        "# grid_search.fit(train_features, train_labels)\n",
        "\n",
        "# print('best parameters: ', grid_search.best_params_)\n",
        "# print('best scrores: ', grid_search.best_score_)\n",
        "\n",
        "print(lr_clf.score(test_features, test_labels))\n",
        "print(lr_clf.score(train_features, train_labels))\n",
        "\n",
        "# xgb_model = XGBClassifier(max_depth=3)\n",
        "# xgb_model.fit(train_features, train_labels)\n",
        "\n",
        "# pred = xgb_model.predict(test_features)\n",
        "# print(accuracy_score(test_labels, pred))\n",
        "\n",
        "# pred = xgb_model.predict(train_features)\n",
        "# print(accuracy_score(train_labels, pred))"
      ],
      "execution_count": 0,
      "outputs": [
        {
          "output_type": "stream",
          "text": [
            "(5190, 768) (5190,)\n"
          ],
          "name": "stdout"
        },
        {
          "output_type": "stream",
          "text": [
            "/usr/local/lib/python3.6/dist-packages/sklearn/linear_model/logistic.py:432: FutureWarning: Default solver will be changed to 'lbfgs' in 0.22. Specify a solver to silence this warning.\n",
            "  FutureWarning)\n"
          ],
          "name": "stderr"
        },
        {
          "output_type": "stream",
          "text": [
            "0.8531791907514451\n",
            "0.9190751445086706\n"
          ],
          "name": "stdout"
        }
      ]
    },
    {
      "cell_type": "code",
      "metadata": {
        "id": "zDlL_FxGqW32",
        "colab_type": "code",
        "outputId": "7e0d7c5f-7814-4f07-ac1b-5ec00f34e761",
        "colab": {
          "base_uri": "https://localhost:8080/",
          "height": 355
        }
      },
      "source": [
        "## NN tuning\n",
        "\n",
        "train_features_torch = torch.tensor(train_features).to(device)\n",
        "train_labels_torch = torch.tensor(train_labels).to(device)\n",
        "test_features_torch = torch.tensor(test_features).to(device)\n",
        "test_labels_torch = torch.tensor(test_labels).to(device)\n",
        "\n",
        "fn = ffn(train_features.shape[1])\n",
        "fn.to(device)\n",
        "\n",
        "opt = optim.Adam(fn.parameters(), lr=0.00002, weight_decay=0.000000001)\n",
        "do_validation = True\n",
        "print(fit(train_features_torch, train_labels_torch, fn, opt, loss_fn, do_validation, test_features_torch, test_labels_torch, epochs=2500))\n",
        "print(accuracy(fn(test_features_torch), test_labels_torch).item())"
      ],
      "execution_count": 0,
      "outputs": [
        {
          "output_type": "stream",
          "text": [
            "/usr/local/lib/python3.6/dist-packages/torch/nn/modules/container.py:92: UserWarning: Implicit dimension choice for softmax has been deprecated. Change the call to include dim=X as an argument.\n",
            "  input = module(input)\n"
          ],
          "name": "stderr"
        },
        {
          "output_type": "stream",
          "text": [
            "0.9749518036842346\n",
            "0.8624277114868164\n"
          ],
          "name": "stdout"
        },
        {
          "output_type": "display_data",
          "data": {
            "image/png": "[encoded data removed]",
            "text/plain": [
              "<Figure size 432x288 with 1 Axes>"
            ]
          },
          "metadata": {
            "tags": []
          }
        }
      ]
    },
    {
      "cell_type": "markdown",
      "metadata": {
        "id": "JCYlQ7hX3662",
        "colab_type": "text"
      },
      "source": [
        "### Sentence Vector generation by concatenating all the word embedddings"
      ]
    },
    {
      "cell_type": "code",
      "metadata": {
        "id": "d_lbLuNkmOIh",
        "colab_type": "code",
        "outputId": "ecdddda2-1377-43a1-f2c9-e839e52597f5",
        "colab": {
          "base_uri": "https://localhost:8080/",
          "height": 119
        }
      },
      "source": [
        "train_features, test_features, train_labels, test_labels = train_test_split(features_concat, feature_labels, stratify=feature_labels, random_state=42)\n",
        "print(train_features.shape, train_labels.shape)\n",
        "\n",
        "pca = PCA(0.95)\n",
        "pca.fit(train_features)\n",
        "train_features_pca = pca.transform(train_features)\n",
        "test_features_pca = pca.transform(test_features)\n",
        "# print(pca.explained_variance_ratio_)\n",
        "print(train_features_pca.shape, test_features_pca.shape)\n",
        "\n",
        "lr_clf = LogisticRegression(C=5, solver = 'lbfgs')\n",
        "lr_clf.fit(train_features_pca, train_labels)\n",
        "\n",
        "# parameters = {'C': np.linspace(0.0001, 100, 20)}\n",
        "# grid_search = GridSearchCV(LogisticRegression(), parameters)\n",
        "# grid_search.fit(train_features, train_labels)\n",
        "\n",
        "# print('best parameters: ', grid_search.best_params_)\n",
        "# print('best scrores: ', grid_search.best_score_)\n",
        "\n",
        "print(lr_clf.score(test_features_pca, test_labels))\n",
        "print(lr_clf.score(train_features_pca, train_labels))\n",
        "\n",
        "# xgb_model = XGBClassifier(max_depth=3)\n",
        "# xgb_model.fit(train_features, train_labels)\n",
        "\n",
        "# pred = xgb_model.predict(test_features)\n",
        "# print(accuracy_score(test_labels, pred))\n",
        "\n",
        "# pred = xgb_model.predict(train_features)\n",
        "# print(accuracy_score(train_labels, pred))"
      ],
      "execution_count": 0,
      "outputs": [
        {
          "output_type": "stream",
          "text": [
            "(5190, 51456) (5190,)\n",
            "(5190, 3139) (1730, 3139)\n",
            "0.8138728323699422\n",
            "1.0\n"
          ],
          "name": "stdout"
        },
        {
          "output_type": "stream",
          "text": [
            "/usr/local/lib/python3.6/dist-packages/sklearn/linear_model/logistic.py:947: ConvergenceWarning: lbfgs failed to converge. Increase the number of iterations.\n",
            "  \"of iterations.\", ConvergenceWarning)\n"
          ],
          "name": "stderr"
        }
      ]
    },
    {
      "cell_type": "code",
      "metadata": {
        "id": "Df7cIkwX0X8h",
        "colab_type": "code",
        "outputId": "9a0704f7-0811-4efa-bb28-c69072f18a14",
        "colab": {
          "base_uri": "https://localhost:8080/",
          "height": 353
        }
      },
      "source": [
        "## NN tuning\n",
        "\n",
        "train_features_torch = torch.tensor(train_features_pca).to(device)\n",
        "train_labels_torch = torch.tensor(train_labels).to(device)\n",
        "test_features_torch = torch.tensor(test_features_pca).to(device)\n",
        "test_labels_torch = torch.tensor(test_labels).to(device)\n",
        "\n",
        "fn = ffn(train_features_pca.shape[1])\n",
        "fn.to(device)\n",
        "\n",
        "opt = optim.Adam(fn.parameters(), lr=0.00001, weight_decay=0.000000001)\n",
        "print(fit(train_features_torch, train_labels_torch, fn, opt, loss_fn, epochs=500))\n",
        "print(accuracy(fn(test_features_torch), test_labels_torch))"
      ],
      "execution_count": 0,
      "outputs": [
        {
          "output_type": "stream",
          "text": [
            "/usr/local/lib/python3.6/dist-packages/torch/nn/modules/container.py:92: UserWarning: Implicit dimension choice for softmax has been deprecated. Change the call to include dim=X as an argument.\n",
            "  input = module(input)\n"
          ],
          "name": "stderr"
        },
        {
          "output_type": "stream",
          "text": [
            "0.9953757524490356\n",
            "tensor(0.8185, device='cuda:0')\n"
          ],
          "name": "stdout"
        },
        {
          "output_type": "display_data",
          "data": {
            "image/png": "[encoded data removed]",
            "text/plain": [
              "<Figure size 432x288 with 1 Axes>"
            ]
          },
          "metadata": {
            "tags": []
          }
        }
      ]
    },
    {
      "cell_type": "markdown",
      "metadata": {
        "id": "iePmklRyUu-I",
        "colab_type": "text"
      },
      "source": [
        "## Fine-Tuning DistilBert Language Model to be used for Classification"
      ]
    },
    {
      "cell_type": "code",
      "metadata": {
        "id": "RddwAqoDUvSb",
        "colab_type": "code",
        "outputId": "261fabd9-ba01-4ca7-8371-6d41183df452",
        "colab": {
          "base_uri": "https://localhost:8080/",
          "height": 1000
        }
      },
      "source": [
        "!export TRAIN_FILE=train/data.txt\n",
        "# !export TEST_FILE=/path/to/dataset/wiki.test.raw\n",
        "\n",
        "!python transformers/examples/run_lm_finetuning.py \\\n",
        "    --output_dir=model_path \\\n",
        "    --model_type=bert \\\n",
        "    --model_name_or_path=bert-base-uncased \\\n",
        "    --do_train \\\n",
        "    --train_data_file=train/train_data.txt \\\n",
        "    --do_eval \\\n",
        "    --eval_data_file=train/eval_data.txt \\\n",
        "    --mlm \\\n",
        "    --do_lower_case \\\n",
        "    --evaluate_during_training \\\n",
        "    --num_train_epochs=10 \\\n",
        "    --overwrite_output_dir\n",
        "\n",
        "## --model_type=distilbert \\\n",
        "## --model_name_or_path=distilbert-base-uncased "
      ],
      "execution_count": 0,
      "outputs": [
        {
          "output_type": "stream",
          "text": [
            "12/12/2019 10:50:09 - WARNING - __main__ -   Process rank: -1, device: cuda, n_gpu: 1, distributed training: False, 16-bits training: False\n",
            "12/12/2019 10:50:09 - INFO - transformers.file_utils -   https://s3.amazonaws.com/models.huggingface.co/bert/bert-base-uncased-config.json not found in cache or force_download set to True, downloading to /tmp/tmpxa0j353t\n",
            "100% 313/313 [00:00<00:00, 240574.89B/s]\n",
            "12/12/2019 10:50:09 - INFO - transformers.file_utils -   copying /tmp/tmpxa0j353t to cache at /root/.cache/torch/transformers/4dad0251492946e18ac39290fcfe91b89d370fee250efe9521476438fe8ca185.bf3b9ea126d8c0001ee8a1e8b92229871d06d36d8808208cc2449280da87785c\n",
            "12/12/2019 10:50:09 - INFO - transformers.file_utils -   creating metadata file for /root/.cache/torch/transformers/4dad0251492946e18ac39290fcfe91b89d370fee250efe9521476438fe8ca185.bf3b9ea126d8c0001ee8a1e8b92229871d06d36d8808208cc2449280da87785c\n",
            "12/12/2019 10:50:09 - INFO - transformers.file_utils -   removing temp file /tmp/tmpxa0j353t\n",
            "12/12/2019 10:50:09 - INFO - transformers.configuration_utils -   loading configuration file https://s3.amazonaws.com/models.huggingface.co/bert/bert-base-uncased-config.json from cache at /root/.cache/torch/transformers/4dad0251492946e18ac39290fcfe91b89d370fee250efe9521476438fe8ca185.bf3b9ea126d8c0001ee8a1e8b92229871d06d36d8808208cc2449280da87785c\n",
            "12/12/2019 10:50:09 - INFO - transformers.configuration_utils -   Model config {\n",
            "  \"attention_probs_dropout_prob\": 0.1,\n",
            "  \"finetuning_task\": null,\n",
            "  \"hidden_act\": \"gelu\",\n",
            "  \"hidden_dropout_prob\": 0.1,\n",
            "  \"hidden_size\": 768,\n",
            "  \"initializer_range\": 0.02,\n",
            "  \"intermediate_size\": 3072,\n",
            "  \"is_decoder\": false,\n",
            "  \"layer_norm_eps\": 1e-12,\n",
            "  \"max_position_embeddings\": 512,\n",
            "  \"num_attention_heads\": 12,\n",
            "  \"num_hidden_layers\": 12,\n",
            "  \"num_labels\": 2,\n",
            "  \"output_attentions\": false,\n",
            "  \"output_hidden_states\": false,\n",
            "  \"output_past\": true,\n",
            "  \"pruned_heads\": {},\n",
            "  \"torchscript\": false,\n",
            "  \"type_vocab_size\": 2,\n",
            "  \"use_bfloat16\": false,\n",
            "  \"vocab_size\": 30522\n",
            "}\n",
            "\n",
            "12/12/2019 10:50:09 - INFO - transformers.tokenization_utils -   loading file https://s3.amazonaws.com/models.huggingface.co/bert/bert-base-uncased-vocab.txt from cache at /root/.cache/torch/transformers/26bc1ad6c0ac742e9b52263248f6d0f00068293b33709fae12320c0e35ccfbbb.542ce4285a40d23a559526243235df47c5f75c197f04f37d1a0c124c32c9a084\n",
            "12/12/2019 10:50:09 - INFO - transformers.file_utils -   https://s3.amazonaws.com/models.huggingface.co/bert/bert-base-uncased-pytorch_model.bin not found in cache or force_download set to True, downloading to /tmp/tmpv6v21u_z\n",
            "100% 440473133/440473133 [00:06<00:00, 63953688.32B/s]\n",
            "12/12/2019 10:50:16 - INFO - transformers.file_utils -   copying /tmp/tmpv6v21u_z to cache at /root/.cache/torch/transformers/aa1ef1aede4482d0dbcd4d52baad8ae300e60902e88fcb0bebdec09afd232066.36ca03ab34a1a5d5fa7bc3d03d55c4fa650fed07220e2eeebc06ce58d0e9a157\n",
            "12/12/2019 10:50:17 - INFO - transformers.file_utils -   creating metadata file for /root/.cache/torch/transformers/aa1ef1aede4482d0dbcd4d52baad8ae300e60902e88fcb0bebdec09afd232066.36ca03ab34a1a5d5fa7bc3d03d55c4fa650fed07220e2eeebc06ce58d0e9a157\n",
            "12/12/2019 10:50:17 - INFO - transformers.file_utils -   removing temp file /tmp/tmpv6v21u_z\n",
            "12/12/2019 10:50:17 - INFO - transformers.modeling_utils -   loading weights file https://s3.amazonaws.com/models.huggingface.co/bert/bert-base-uncased-pytorch_model.bin from cache at /root/.cache/torch/transformers/aa1ef1aede4482d0dbcd4d52baad8ae300e60902e88fcb0bebdec09afd232066.36ca03ab34a1a5d5fa7bc3d03d55c4fa650fed07220e2eeebc06ce58d0e9a157\n",
            "12/12/2019 10:50:21 - INFO - transformers.modeling_utils -   Weights from pretrained model not used in BertForMaskedLM: ['cls.seq_relationship.weight', 'cls.seq_relationship.bias']\n",
            "12/12/2019 10:50:24 - INFO - __main__ -   Training/evaluation parameters Namespace(adam_epsilon=1e-08, block_size=510, cache_dir='', config_name='', device=device(type='cuda'), do_eval=True, do_lower_case=True, do_train=True, eval_all_checkpoints=False, eval_data_file='train/eval_data.txt', evaluate_during_training=True, fp16=False, fp16_opt_level='O1', gradient_accumulation_steps=1, learning_rate=5e-05, local_rank=-1, logging_steps=50, max_grad_norm=1.0, max_steps=-1, mlm=True, mlm_probability=0.15, model_name_or_path='bert-base-uncased', model_type='bert', n_gpu=1, no_cuda=False, num_train_epochs=10.0, output_dir='model_path', overwrite_cache=False, overwrite_output_dir=True, per_gpu_eval_batch_size=4, per_gpu_train_batch_size=4, save_steps=50, save_total_limit=None, seed=42, server_ip='', server_port='', tokenizer_name='', train_data_file='train/train_data.txt', warmup_steps=0, weight_decay=0.0)\n",
            "12/12/2019 10:50:24 - INFO - __main__ -   Creating features from dataset file at train\n",
            "12/12/2019 10:50:26 - INFO - __main__ -   Saving features into cached file train/bert-base-uncased_cached_lm_510_train_data.txt\n",
            "12/12/2019 10:50:26 - INFO - __main__ -   ***** Running training *****\n",
            "12/12/2019 10:50:26 - INFO - __main__ -     Num examples = 217\n",
            "12/12/2019 10:50:26 - INFO - __main__ -     Num Epochs = 10\n",
            "12/12/2019 10:50:26 - INFO - __main__ -     Instantaneous batch size per GPU = 4\n",
            "12/12/2019 10:50:26 - INFO - __main__ -     Total train batch size (w. parallel, distributed & accumulation) = 4\n",
            "12/12/2019 10:50:26 - INFO - __main__ -     Gradient Accumulation steps = 1\n",
            "12/12/2019 10:50:26 - INFO - __main__ -     Total optimization steps = 550\n",
            "Epoch:   0% 0/10 [00:00<?, ?it/s]\n",
            "Iteration:   0% 0/55 [00:00<?, ?it/s]\u001b[A\n",
            "Iteration:   2% 1/55 [00:00<00:22,  2.39it/s]\u001b[A\n",
            "Iteration:   4% 2/55 [00:00<00:20,  2.53it/s]\u001b[A\n",
            "Iteration:   5% 3/55 [00:01<00:19,  2.65it/s]\u001b[A\n",
            "Iteration:   7% 4/55 [00:01<00:18,  2.73it/s]\u001b[A\n",
            "Iteration:   9% 5/55 [00:01<00:17,  2.80it/s]\u001b[A\n",
            "Iteration:  11% 6/55 [00:02<00:17,  2.84it/s]\u001b[A\n",
            "Iteration:  13% 7/55 [00:02<00:16,  2.87it/s]\u001b[A\n",
            "Iteration:  15% 8/55 [00:02<00:16,  2.90it/s]\u001b[A\n",
            "Iteration:  16% 9/55 [00:03<00:15,  2.92it/s]\u001b[A\n",
            "Iteration:  18% 10/55 [00:03<00:15,  2.93it/s]\u001b[A\n",
            "Iteration:  20% 11/55 [00:03<00:16,  2.61it/s]\u001b[A\n",
            "Iteration:  22% 12/55 [00:04<00:15,  2.70it/s]\u001b[A\n",
            "Iteration:  24% 13/55 [00:04<00:15,  2.77it/s]\u001b[A\n",
            "Iteration:  25% 14/55 [00:04<00:14,  2.83it/s]\u001b[A\n",
            "Iteration:  27% 15/55 [00:05<00:13,  2.87it/s]\u001b[A\n",
            "Iteration:  29% 16/55 [00:05<00:13,  2.90it/s]\u001b[A\n",
            "Iteration:  31% 17/55 [00:05<00:12,  2.92it/s]\u001b[A\n",
            "Iteration:  33% 18/55 [00:06<00:12,  2.93it/s]\u001b[A\n",
            "Iteration:  35% 19/55 [00:06<00:12,  2.95it/s]\u001b[A\n",
            "Iteration:  36% 20/55 [00:06<00:11,  2.94it/s]\u001b[A\n",
            "Iteration:  38% 21/55 [00:07<00:11,  2.95it/s]\u001b[A\n",
            "Iteration:  40% 22/55 [00:07<00:11,  2.95it/s]\u001b[A\n",
            "Iteration:  42% 23/55 [00:07<00:10,  2.95it/s]\u001b[A\n",
            "Iteration:  44% 24/55 [00:08<00:10,  2.96it/s]\u001b[A\n",
            "Iteration:  45% 25/55 [00:08<00:10,  2.96it/s]\u001b[A\n",
            "Iteration:  47% 26/55 [00:09<00:09,  2.96it/s]\u001b[A\n",
            "Iteration:  49% 27/55 [00:09<00:09,  2.96it/s]\u001b[A\n",
            "Iteration:  51% 28/55 [00:09<00:09,  2.96it/s]\u001b[A\n",
            "Iteration:  53% 29/55 [00:10<00:08,  2.97it/s]\u001b[A\n",
            "Iteration:  55% 30/55 [00:10<00:08,  2.97it/s]\u001b[A\n",
            "Iteration:  56% 31/55 [00:10<00:08,  2.97it/s]\u001b[A\n",
            "Iteration:  58% 32/55 [00:11<00:07,  2.97it/s]\u001b[A\n",
            "Iteration:  60% 33/55 [00:11<00:07,  2.97it/s]\u001b[A\n",
            "Iteration:  62% 34/55 [00:11<00:07,  2.97it/s]\u001b[A\n",
            "Iteration:  64% 35/55 [00:12<00:06,  2.97it/s]\u001b[A\n",
            "Iteration:  65% 36/55 [00:12<00:06,  2.97it/s]\u001b[A\n",
            "Iteration:  67% 37/55 [00:12<00:06,  2.97it/s]\u001b[A\n",
            "Iteration:  69% 38/55 [00:13<00:05,  2.96it/s]\u001b[A\n",
            "Iteration:  71% 39/55 [00:13<00:05,  2.97it/s]\u001b[A\n",
            "Iteration:  73% 40/55 [00:13<00:05,  2.96it/s]\u001b[A\n",
            "Iteration:  75% 41/55 [00:14<00:04,  2.96it/s]\u001b[A\n",
            "Iteration:  76% 42/55 [00:14<00:04,  2.96it/s]\u001b[A\n",
            "Iteration:  78% 43/55 [00:14<00:04,  2.96it/s]\u001b[A\n",
            "Iteration:  80% 44/55 [00:15<00:03,  2.95it/s]\u001b[A\n",
            "Iteration:  82% 45/55 [00:15<00:03,  2.94it/s]\u001b[A\n",
            "Iteration:  84% 46/55 [00:15<00:03,  2.94it/s]\u001b[A\n",
            "Iteration:  85% 47/55 [00:16<00:02,  2.94it/s]\u001b[A\n",
            "Iteration:  87% 48/55 [00:16<00:02,  2.94it/s]\u001b[A\n",
            "Iteration:  89% 49/55 [00:16<00:02,  2.94it/s]\u001b[A12/12/2019 10:50:43 - INFO - __main__ -   Creating features from dataset file at train\n",
            "12/12/2019 10:50:44 - INFO - __main__ -   Saving features into cached file train/bert-base-uncased_cached_lm_510_eval_data.txt\n",
            "12/12/2019 10:50:44 - INFO - __main__ -   ***** Running evaluation  *****\n",
            "12/12/2019 10:50:44 - INFO - __main__ -     Num examples = 72\n",
            "12/12/2019 10:50:44 - INFO - __main__ -     Batch size = 4\n",
            "\n",
            "\n",
            "Evaluating:   0% 0/18 [00:00<?, ?it/s]\u001b[A\u001b[A\n",
            "\n",
            "Evaluating:   6% 1/18 [00:00<00:01, 10.00it/s]\u001b[A\u001b[A\n",
            "\n",
            "Evaluating:  17% 3/18 [00:00<00:01, 10.01it/s]\u001b[A\u001b[A\n",
            "\n",
            "Evaluating:  28% 5/18 [00:00<00:01, 10.02it/s]\u001b[A\u001b[A\n",
            "\n",
            "Evaluating:  39% 7/18 [00:00<00:01, 10.02it/s]\u001b[A\u001b[A\n",
            "\n",
            "Evaluating:  44% 8/18 [00:00<00:00, 10.01it/s]\u001b[A\u001b[A\n",
            "\n",
            "Evaluating:  56% 10/18 [00:00<00:00, 10.02it/s]\u001b[A\u001b[A\n",
            "\n",
            "Evaluating:  61% 11/18 [00:01<00:00, 10.01it/s]\u001b[A\u001b[A\n",
            "\n",
            "Evaluating:  72% 13/18 [00:01<00:00, 10.03it/s]\u001b[A\u001b[A\n",
            "\n",
            "Evaluating:  83% 15/18 [00:01<00:00, 10.03it/s]\u001b[A\u001b[A\n",
            "\n",
            "Evaluating:  94% 17/18 [00:01<00:00, 10.03it/s]\u001b[A\u001b[A\n",
            "\n",
            "Evaluating: 100% 18/18 [00:01<00:00,  9.99it/s]\u001b[A\u001b[A\n",
            "\n",
            "\u001b[A\u001b[A12/12/2019 10:50:45 - INFO - __main__ -   ***** Eval results  *****\n",
            "12/12/2019 10:50:45 - INFO - __main__ -     perplexity = tensor(17.8492)\n",
            "12/12/2019 10:50:45 - INFO - transformers.configuration_utils -   Configuration saved in model_path/checkpoint-50/config.json\n",
            "12/12/2019 10:50:46 - INFO - transformers.modeling_utils -   Model weights saved in model_path/checkpoint-50/pytorch_model.bin\n",
            "12/12/2019 10:50:46 - INFO - __main__ -   Saving model checkpoint to model_path/checkpoint-50\n",
            "12/12/2019 10:50:50 - INFO - __main__ -   Saving optimizer and scheduler states to model_path/checkpoint-50\n",
            "\n",
            "Iteration:  91% 50/55 [00:23<00:11,  2.31s/it]\u001b[A\n",
            "Iteration:  93% 51/55 [00:24<00:06,  1.72s/it]\u001b[A\n",
            "Iteration:  95% 52/55 [00:24<00:03,  1.31s/it]\u001b[A\n",
            "Iteration:  96% 53/55 [00:24<00:02,  1.02s/it]\u001b[A\n",
            "Iteration:  98% 54/55 [00:25<00:00,  1.23it/s]\u001b[A\n",
            "Iteration: 100% 55/55 [00:25<00:00,  1.63it/s]\u001b[A\n",
            "Epoch:  10% 1/10 [00:25<03:47, 25.23s/it]\n",
            "Iteration:   0% 0/55 [00:00<?, ?it/s]\u001b[A\n",
            "Iteration:   2% 1/55 [00:00<00:18,  2.93it/s]\u001b[A\n",
            "Iteration:   4% 2/55 [00:00<00:18,  2.94it/s]\u001b[A\n",
            "Iteration:   5% 3/55 [00:01<00:17,  2.94it/s]\u001b[A\n",
            "Iteration:   7% 4/55 [00:01<00:17,  2.94it/s]\u001b[A\n",
            "Iteration:   9% 5/55 [00:01<00:16,  2.95it/s]\u001b[A\n",
            "Iteration:  11% 6/55 [00:02<00:16,  2.95it/s]\u001b[A\n",
            "Iteration:  13% 7/55 [00:02<00:16,  2.95it/s]\u001b[A\n",
            "Iteration:  15% 8/55 [00:02<00:15,  2.95it/s]\u001b[A\n",
            "Iteration:  16% 9/55 [00:03<00:15,  2.96it/s]\u001b[A\n",
            "Iteration:  18% 10/55 [00:03<00:15,  2.97it/s]\u001b[A\n",
            "Iteration:  20% 11/55 [00:03<00:14,  2.97it/s]\u001b[A\n",
            "Iteration:  22% 12/55 [00:04<00:14,  2.97it/s]\u001b[A\n",
            "Iteration:  24% 13/55 [00:04<00:14,  2.96it/s]\u001b[A\n",
            "Iteration:  25% 14/55 [00:04<00:13,  2.96it/s]\u001b[A\n",
            "Iteration:  27% 15/55 [00:05<00:13,  2.97it/s]\u001b[A\n",
            "Iteration:  29% 16/55 [00:05<00:13,  2.95it/s]\u001b[A\n",
            "Iteration:  31% 17/55 [00:05<00:12,  2.96it/s]\u001b[A\n",
            "Iteration:  33% 18/55 [00:06<00:12,  2.94it/s]\u001b[A\n",
            "Iteration:  35% 19/55 [00:06<00:12,  2.93it/s]\u001b[A\n",
            "Iteration:  36% 20/55 [00:06<00:11,  2.94it/s]\u001b[A\n",
            "Iteration:  38% 21/55 [00:07<00:11,  2.94it/s]\u001b[A\n",
            "Iteration:  40% 22/55 [00:07<00:11,  2.93it/s]\u001b[A\n",
            "Iteration:  42% 23/55 [00:07<00:10,  2.94it/s]\u001b[A\n",
            "Iteration:  44% 24/55 [00:08<00:10,  2.95it/s]\u001b[A\n",
            "Iteration:  45% 25/55 [00:08<00:10,  2.95it/s]\u001b[A\n",
            "Iteration:  47% 26/55 [00:08<00:09,  2.96it/s]\u001b[A\n",
            "Iteration:  49% 27/55 [00:09<00:09,  2.96it/s]\u001b[A\n",
            "Iteration:  51% 28/55 [00:09<00:09,  2.95it/s]\u001b[A\n",
            "Iteration:  53% 29/55 [00:09<00:08,  2.96it/s]\u001b[A\n",
            "Iteration:  55% 30/55 [00:10<00:08,  2.96it/s]\u001b[A\n",
            "Iteration:  56% 31/55 [00:10<00:08,  2.96it/s]\u001b[A\n",
            "Iteration:  58% 32/55 [00:10<00:07,  2.97it/s]\u001b[A\n",
            "Iteration:  60% 33/55 [00:11<00:07,  2.96it/s]\u001b[A\n",
            "Iteration:  62% 34/55 [00:11<00:07,  2.96it/s]\u001b[A\n",
            "Iteration:  64% 35/55 [00:11<00:06,  2.96it/s]\u001b[A\n",
            "Iteration:  65% 36/55 [00:12<00:06,  2.96it/s]\u001b[A\n",
            "Iteration:  67% 37/55 [00:12<00:06,  2.96it/s]\u001b[A\n",
            "Iteration:  69% 38/55 [00:12<00:05,  2.96it/s]\u001b[A\n",
            "Iteration:  71% 39/55 [00:13<00:05,  2.96it/s]\u001b[A\n",
            "Iteration:  73% 40/55 [00:13<00:05,  2.96it/s]\u001b[A\n",
            "Iteration:  75% 41/55 [00:13<00:04,  2.95it/s]\u001b[A\n",
            "Iteration:  76% 42/55 [00:14<00:04,  2.95it/s]\u001b[A\n",
            "Iteration:  78% 43/55 [00:14<00:04,  2.95it/s]\u001b[A\n",
            "Iteration:  80% 44/55 [00:14<00:03,  2.95it/s]\u001b[A12/12/2019 10:51:06 - INFO - __main__ -   Loading features from cached file train/bert-base-uncased_cached_lm_510_eval_data.txt\n",
            "12/12/2019 10:51:06 - INFO - __main__ -   ***** Running evaluation  *****\n",
            "12/12/2019 10:51:06 - INFO - __main__ -     Num examples = 72\n",
            "12/12/2019 10:51:06 - INFO - __main__ -     Batch size = 4\n",
            "\n",
            "\n",
            "Evaluating:   0% 0/18 [00:00<?, ?it/s]\u001b[A\u001b[A\n",
            "\n",
            "Evaluating:   6% 1/18 [00:00<00:01,  9.75it/s]\u001b[A\u001b[A\n",
            "\n",
            "Evaluating:  11% 2/18 [00:00<00:01,  9.81it/s]\u001b[A\u001b[A\n",
            "\n",
            "Evaluating:  17% 3/18 [00:00<00:01,  9.83it/s]\u001b[A\u001b[A\n",
            "\n",
            "Evaluating:  28% 5/18 [00:00<00:01,  9.89it/s]\u001b[A\u001b[A\n",
            "\n",
            "Evaluating:  39% 7/18 [00:00<00:01,  9.94it/s]\u001b[A\u001b[A\n",
            "\n",
            "Evaluating:  50% 9/18 [00:00<00:00,  9.97it/s]\u001b[A\u001b[A\n",
            "\n",
            "Evaluating:  56% 10/18 [00:01<00:00,  9.97it/s]\u001b[A\u001b[A\n",
            "\n",
            "Evaluating:  67% 12/18 [00:01<00:00,  9.99it/s]\u001b[A\u001b[A\n",
            "\n",
            "Evaluating:  78% 14/18 [00:01<00:00,  9.99it/s]\u001b[A\u001b[A\n",
            "\n",
            "Evaluating:  83% 15/18 [00:01<00:00,  9.99it/s]\u001b[A\u001b[A\n",
            "\n",
            "Evaluating:  89% 16/18 [00:01<00:00,  9.94it/s]\u001b[A\u001b[A\n",
            "\n",
            "Evaluating: 100% 18/18 [00:01<00:00,  9.97it/s]\u001b[A\u001b[A\n",
            "\n",
            "\u001b[A\u001b[A12/12/2019 10:51:08 - INFO - __main__ -   ***** Eval results  *****\n",
            "12/12/2019 10:51:08 - INFO - __main__ -     perplexity = tensor(15.1620)\n",
            "12/12/2019 10:51:08 - INFO - transformers.configuration_utils -   Configuration saved in model_path/checkpoint-100/config.json\n",
            "12/12/2019 10:51:09 - INFO - transformers.modeling_utils -   Model weights saved in model_path/checkpoint-100/pytorch_model.bin\n",
            "12/12/2019 10:51:09 - INFO - __main__ -   Saving model checkpoint to model_path/checkpoint-100\n",
            "12/12/2019 10:51:13 - INFO - __main__ -   Saving optimizer and scheduler states to model_path/checkpoint-100\n",
            "\n",
            "Iteration:  82% 45/55 [00:22<00:23,  2.39s/it]\u001b[A\n",
            "Iteration:  84% 46/55 [00:22<00:15,  1.78s/it]\u001b[A\n",
            "Iteration:  85% 47/55 [00:22<00:10,  1.35s/it]\u001b[A\n",
            "Iteration:  87% 48/55 [00:23<00:07,  1.04s/it]\u001b[A\n",
            "Iteration:  89% 49/55 [00:23<00:04,  1.20it/s]\u001b[A\n",
            "Iteration:  91% 50/55 [00:23<00:03,  1.46it/s]\u001b[A\n",
            "Iteration:  93% 51/55 [00:24<00:02,  1.73it/s]\u001b[A\n",
            "Iteration:  95% 52/55 [00:24<00:01,  1.97it/s]\u001b[A\n",
            "Iteration:  96% 53/55 [00:24<00:00,  2.19it/s]\u001b[A\n",
            "Iteration:  98% 54/55 [00:25<00:00,  2.38it/s]\u001b[A\n",
            "Iteration: 100% 55/55 [00:25<00:00,  2.98it/s]\u001b[A\n",
            "Epoch:  20% 2/10 [00:50<03:21, 25.24s/it]\n",
            "Iteration:   0% 0/55 [00:00<?, ?it/s]\u001b[A\n",
            "Iteration:   2% 1/55 [00:00<00:18,  2.96it/s]\u001b[A\n",
            "Iteration:   4% 2/55 [00:00<00:17,  2.96it/s]\u001b[A\n",
            "Iteration:   5% 3/55 [00:01<00:17,  2.95it/s]\u001b[A\n",
            "Iteration:   7% 4/55 [00:01<00:17,  2.95it/s]\u001b[A\n",
            "Iteration:   9% 5/55 [00:01<00:16,  2.95it/s]\u001b[A\n",
            "Iteration:  11% 6/55 [00:02<00:16,  2.95it/s]\u001b[A\n",
            "Iteration:  13% 7/55 [00:02<00:16,  2.96it/s]\u001b[A\n",
            "Iteration:  15% 8/55 [00:02<00:15,  2.95it/s]\u001b[A\n",
            "Iteration:  16% 9/55 [00:03<00:15,  2.96it/s]\u001b[A\n",
            "Iteration:  18% 10/55 [00:03<00:15,  2.96it/s]\u001b[A\n",
            "Iteration:  20% 11/55 [00:03<00:14,  2.96it/s]\u001b[A\n",
            "Iteration:  22% 12/55 [00:04<00:14,  2.96it/s]\u001b[A\n",
            "Iteration:  24% 13/55 [00:04<00:14,  2.96it/s]\u001b[A\n",
            "Iteration:  25% 14/55 [00:04<00:13,  2.95it/s]\u001b[A\n",
            "Iteration:  27% 15/55 [00:05<00:13,  2.94it/s]\u001b[A\n",
            "Iteration:  29% 16/55 [00:05<00:13,  2.95it/s]\u001b[A\n",
            "Iteration:  31% 17/55 [00:05<00:12,  2.94it/s]\u001b[A\n",
            "Iteration:  33% 18/55 [00:06<00:12,  2.96it/s]\u001b[A\n",
            "Iteration:  35% 19/55 [00:06<00:12,  2.96it/s]\u001b[A\n",
            "Iteration:  36% 20/55 [00:06<00:11,  2.95it/s]\u001b[A\n",
            "Iteration:  38% 21/55 [00:07<00:11,  2.96it/s]\u001b[A\n",
            "Iteration:  40% 22/55 [00:07<00:11,  2.96it/s]\u001b[A\n",
            "Iteration:  42% 23/55 [00:07<00:10,  2.95it/s]\u001b[A\n",
            "Iteration:  44% 24/55 [00:08<00:10,  2.95it/s]\u001b[A\n",
            "Iteration:  45% 25/55 [00:08<00:10,  2.95it/s]\u001b[A\n",
            "Iteration:  47% 26/55 [00:08<00:09,  2.94it/s]\u001b[A\n",
            "Iteration:  49% 27/55 [00:09<00:09,  2.95it/s]\u001b[A\n",
            "Iteration:  51% 28/55 [00:09<00:09,  2.95it/s]\u001b[A\n",
            "Iteration:  53% 29/55 [00:09<00:08,  2.94it/s]\u001b[A\n",
            "Iteration:  55% 30/55 [00:10<00:08,  2.94it/s]\u001b[A\n",
            "Iteration:  56% 31/55 [00:10<00:08,  2.95it/s]\u001b[A\n",
            "Iteration:  58% 32/55 [00:10<00:07,  2.94it/s]\u001b[A\n",
            "Iteration:  60% 33/55 [00:11<00:07,  2.94it/s]\u001b[A\n",
            "Iteration:  62% 34/55 [00:11<00:07,  2.95it/s]\u001b[A\n",
            "Iteration:  64% 35/55 [00:11<00:06,  2.94it/s]\u001b[A\n",
            "Iteration:  65% 36/55 [00:12<00:06,  2.95it/s]\u001b[A\n",
            "Iteration:  67% 37/55 [00:12<00:06,  2.95it/s]\u001b[A\n",
            "Iteration:  69% 38/55 [00:12<00:05,  2.95it/s]\u001b[A\n",
            "Iteration:  71% 39/55 [00:13<00:05,  2.95it/s]\u001b[A12/12/2019 10:51:30 - INFO - __main__ -   Loading features from cached file train/bert-base-uncased_cached_lm_510_eval_data.txt\n",
            "12/12/2019 10:51:30 - INFO - __main__ -   ***** Running evaluation  *****\n",
            "12/12/2019 10:51:30 - INFO - __main__ -     Num examples = 72\n",
            "12/12/2019 10:51:30 - INFO - __main__ -     Batch size = 4\n",
            "\n",
            "\n",
            "Evaluating:   0% 0/18 [00:00<?, ?it/s]\u001b[A\u001b[A\n",
            "\n",
            "Evaluating:   6% 1/18 [00:00<00:01,  9.95it/s]\u001b[A\u001b[A\n",
            "\n",
            "Evaluating:  17% 3/18 [00:00<00:01,  9.97it/s]\u001b[A\u001b[A\n",
            "\n",
            "Evaluating:  28% 5/18 [00:00<00:01,  9.99it/s]\u001b[A\u001b[A\n",
            "\n",
            "Evaluating:  39% 7/18 [00:00<00:01, 10.01it/s]\u001b[A\u001b[A\n",
            "\n",
            "Evaluating:  50% 9/18 [00:00<00:00, 10.02it/s]\u001b[A\u001b[A\n",
            "\n",
            "Evaluating:  61% 11/18 [00:01<00:00, 10.02it/s]\u001b[A\u001b[A\n",
            "\n",
            "Evaluating:  72% 13/18 [00:01<00:00, 10.02it/s]\u001b[A\u001b[A\n",
            "\n",
            "Evaluating:  83% 15/18 [00:01<00:00, 10.03it/s]\u001b[A\u001b[A\n",
            "\n",
            "Evaluating:  94% 17/18 [00:01<00:00, 10.03it/s]\u001b[A\u001b[A\n",
            "\n",
            "Evaluating: 100% 18/18 [00:01<00:00, 10.03it/s]\u001b[A\u001b[A12/12/2019 10:51:32 - INFO - __main__ -   ***** Eval results  *****\n",
            "12/12/2019 10:51:32 - INFO - __main__ -     perplexity = tensor(15.6011)\n",
            "12/12/2019 10:51:32 - INFO - transformers.configuration_utils -   Configuration saved in model_path/checkpoint-150/config.json\n",
            "12/12/2019 10:51:33 - INFO - transformers.modeling_utils -   Model weights saved in model_path/checkpoint-150/pytorch_model.bin\n",
            "12/12/2019 10:51:33 - INFO - __main__ -   Saving model checkpoint to model_path/checkpoint-150\n",
            "12/12/2019 10:51:36 - INFO - __main__ -   Saving optimizer and scheduler states to model_path/checkpoint-150\n",
            "\n",
            "Iteration:  73% 40/55 [00:19<00:31,  2.12s/it]\u001b[A\n",
            "Iteration:  75% 41/55 [00:19<00:22,  1.59s/it]\u001b[A\n",
            "Iteration:  76% 42/55 [00:20<00:15,  1.22s/it]\u001b[A\n",
            "Iteration:  78% 43/55 [00:20<00:11,  1.05it/s]\u001b[A\n",
            "Iteration:  80% 44/55 [00:20<00:08,  1.30it/s]\u001b[A\n",
            "Iteration:  82% 45/55 [00:21<00:06,  1.57it/s]\u001b[A\n",
            "Iteration:  84% 46/55 [00:21<00:04,  1.83it/s]\u001b[A\n",
            "Iteration:  85% 47/55 [00:21<00:03,  2.06it/s]\u001b[A\n",
            "Iteration:  87% 48/55 [00:22<00:03,  2.27it/s]\u001b[A\n",
            "Iteration:  89% 49/55 [00:22<00:02,  2.45it/s]\u001b[A\n",
            "Iteration:  91% 50/55 [00:22<00:01,  2.58it/s]\u001b[A\n",
            "Iteration:  93% 51/55 [00:23<00:01,  2.69it/s]\u001b[A\n",
            "Iteration:  95% 52/55 [00:23<00:01,  2.77it/s]\u001b[A\n",
            "Iteration:  96% 53/55 [00:23<00:00,  2.83it/s]\u001b[A\n",
            "Iteration:  98% 54/55 [00:24<00:00,  2.87it/s]\u001b[A\n",
            "Iteration: 100% 55/55 [00:24<00:00,  3.50it/s]\u001b[A\n",
            "Epoch:  30% 3/10 [01:14<02:54, 24.98s/it]\n",
            "Iteration:   0% 0/55 [00:00<?, ?it/s]\u001b[A\n",
            "Iteration:   2% 1/55 [00:00<00:18,  2.95it/s]\u001b[A\n",
            "Iteration:   4% 2/55 [00:00<00:17,  2.96it/s]\u001b[A\n",
            "Iteration:   5% 3/55 [00:01<00:17,  2.95it/s]\u001b[A\n",
            "Iteration:   7% 4/55 [00:01<00:17,  2.96it/s]\u001b[A\n",
            "Iteration:   9% 5/55 [00:01<00:16,  2.96it/s]\u001b[A\n",
            "Iteration:  11% 6/55 [00:02<00:16,  2.95it/s]\u001b[A\n",
            "Iteration:  13% 7/55 [00:02<00:16,  2.96it/s]\u001b[A\n",
            "Iteration:  15% 8/55 [00:02<00:15,  2.96it/s]\u001b[A\n",
            "Iteration:  16% 9/55 [00:03<00:15,  2.96it/s]\u001b[A\n",
            "Iteration:  18% 10/55 [00:03<00:15,  2.96it/s]\u001b[A\n",
            "Iteration:  20% 11/55 [00:03<00:14,  2.96it/s]\u001b[A\n",
            "Iteration:  22% 12/55 [00:04<00:14,  2.95it/s]\u001b[A\n",
            "Iteration:  24% 13/55 [00:04<00:14,  2.95it/s]\u001b[A\n",
            "Iteration:  25% 14/55 [00:04<00:13,  2.95it/s]\u001b[A\n",
            "Iteration:  27% 15/55 [00:05<00:13,  2.95it/s]\u001b[A\n",
            "Iteration:  29% 16/55 [00:05<00:13,  2.94it/s]\u001b[A\n",
            "Iteration:  31% 17/55 [00:05<00:12,  2.94it/s]\u001b[A\n",
            "Iteration:  33% 18/55 [00:06<00:12,  2.95it/s]\u001b[A\n",
            "Iteration:  35% 19/55 [00:06<00:12,  2.96it/s]\u001b[A\n",
            "Iteration:  36% 20/55 [00:06<00:11,  2.96it/s]\u001b[A\n",
            "Iteration:  38% 21/55 [00:07<00:11,  2.96it/s]\u001b[A\n",
            "Iteration:  40% 22/55 [00:07<00:11,  2.97it/s]\u001b[A\n",
            "Iteration:  42% 23/55 [00:07<00:10,  2.96it/s]\u001b[A\n",
            "Iteration:  44% 24/55 [00:08<00:10,  2.97it/s]\u001b[A\n",
            "Iteration:  45% 25/55 [00:08<00:10,  2.97it/s]\u001b[A\n",
            "Iteration:  47% 26/55 [00:08<00:09,  2.97it/s]\u001b[A\n",
            "Iteration:  49% 27/55 [00:09<00:09,  2.97it/s]\u001b[A\n",
            "Iteration:  51% 28/55 [00:09<00:09,  2.97it/s]\u001b[A\n",
            "Iteration:  53% 29/55 [00:09<00:08,  2.97it/s]\u001b[A\n",
            "Iteration:  55% 30/55 [00:10<00:08,  2.96it/s]\u001b[A\n",
            "Iteration:  56% 31/55 [00:10<00:08,  2.97it/s]\u001b[A\n",
            "Iteration:  58% 32/55 [00:10<00:07,  2.97it/s]\u001b[A\n",
            "Iteration:  60% 33/55 [00:11<00:07,  2.97it/s]\u001b[A\n",
            "Iteration:  62% 34/55 [00:11<00:07,  2.96it/s]\u001b[A12/12/2019 10:51:53 - INFO - __main__ -   Loading features from cached file train/bert-base-uncased_cached_lm_510_eval_data.txt\n",
            "12/12/2019 10:51:53 - INFO - __main__ -   ***** Running evaluation  *****\n",
            "12/12/2019 10:51:53 - INFO - __main__ -     Num examples = 72\n",
            "12/12/2019 10:51:53 - INFO - __main__ -     Batch size = 4\n",
            "\n",
            "\n",
            "Evaluating:   0% 0/18 [00:00<?, ?it/s]\u001b[A\u001b[A\n",
            "\n",
            "Evaluating:  11% 2/18 [00:00<00:01,  9.94it/s]\u001b[A\u001b[A\n",
            "\n",
            "Evaluating:  22% 4/18 [00:00<00:01,  9.97it/s]\u001b[A\u001b[A\n",
            "\n",
            "Evaluating:  33% 6/18 [00:00<00:01,  9.98it/s]\u001b[A\u001b[A\n",
            "\n",
            "Evaluating:  44% 8/18 [00:00<00:01,  9.99it/s]\u001b[A\u001b[A\n",
            "\n",
            "Evaluating:  56% 10/18 [00:00<00:00, 10.00it/s]\u001b[A\u001b[A\n",
            "\n",
            "Evaluating:  67% 12/18 [00:01<00:00, 10.01it/s]\u001b[A\u001b[A\n",
            "\n",
            "Evaluating:  72% 13/18 [00:01<00:00,  9.91it/s]\u001b[A\u001b[A\n",
            "\n",
            "Evaluating:  78% 14/18 [00:01<00:00,  9.93it/s]\u001b[A\u001b[A\n",
            "\n",
            "Evaluating:  89% 16/18 [00:01<00:00,  9.96it/s]\u001b[A\u001b[A\n",
            "\n",
            "Evaluating: 100% 18/18 [00:01<00:00,  9.99it/s]\u001b[A\u001b[A\n",
            "\n",
            "\u001b[A\u001b[A12/12/2019 10:51:54 - INFO - __main__ -   ***** Eval results  *****\n",
            "12/12/2019 10:51:54 - INFO - __main__ -     perplexity = tensor(16.0943)\n",
            "12/12/2019 10:51:54 - INFO - transformers.configuration_utils -   Configuration saved in model_path/checkpoint-200/config.json\n",
            "12/12/2019 10:51:55 - INFO - transformers.modeling_utils -   Model weights saved in model_path/checkpoint-200/pytorch_model.bin\n",
            "12/12/2019 10:51:55 - INFO - __main__ -   Saving model checkpoint to model_path/checkpoint-200\n",
            "12/12/2019 10:51:58 - INFO - __main__ -   Saving optimizer and scheduler states to model_path/checkpoint-200\n",
            "\n",
            "Iteration:  64% 35/55 [00:17<00:40,  2.05s/it]\u001b[A\n",
            "Iteration:  65% 36/55 [00:17<00:29,  1.54s/it]\u001b[A\n",
            "Iteration:  67% 37/55 [00:18<00:21,  1.18s/it]\u001b[A\n",
            "Iteration:  69% 38/55 [00:18<00:15,  1.08it/s]\u001b[A\n",
            "Iteration:  71% 39/55 [00:18<00:12,  1.33it/s]\u001b[A\n",
            "Iteration:  73% 40/55 [00:19<00:09,  1.59it/s]\u001b[A\n",
            "Iteration:  75% 41/55 [00:19<00:07,  1.84it/s]\u001b[A\n",
            "Iteration:  76% 42/55 [00:19<00:06,  2.08it/s]\u001b[A\n",
            "Iteration:  78% 43/55 [00:20<00:05,  2.27it/s]\u001b[A\n",
            "Iteration:  80% 44/55 [00:20<00:04,  2.44it/s]\u001b[A\n",
            "Iteration:  82% 45/55 [00:20<00:03,  2.58it/s]\u001b[A\n",
            "Iteration:  84% 46/55 [00:21<00:03,  2.67it/s]\u001b[A\n",
            "Iteration:  85% 47/55 [00:21<00:02,  2.72it/s]\u001b[A\n",
            "Iteration:  87% 48/55 [00:21<00:02,  2.79it/s]\u001b[A\n",
            "Iteration:  89% 49/55 [00:22<00:02,  2.82it/s]\u001b[A\n",
            "Iteration:  91% 50/55 [00:22<00:01,  2.86it/s]\u001b[A\n",
            "Iteration:  93% 51/55 [00:22<00:01,  2.89it/s]\u001b[A\n",
            "Iteration:  95% 52/55 [00:23<00:01,  2.91it/s]\u001b[A\n",
            "Iteration:  96% 53/55 [00:23<00:00,  2.92it/s]\u001b[A\n",
            "Iteration:  98% 54/55 [00:24<00:00,  2.93it/s]\u001b[A\n",
            "Iteration: 100% 55/55 [00:24<00:00,  3.57it/s]\u001b[A\n",
            "Epoch:  40% 4/10 [01:38<02:28, 24.73s/it]\n",
            "Iteration:   0% 0/55 [00:00<?, ?it/s]\u001b[A\n",
            "Iteration:   2% 1/55 [00:00<00:18,  2.96it/s]\u001b[A\n",
            "Iteration:   4% 2/55 [00:00<00:17,  2.96it/s]\u001b[A\n",
            "Iteration:   5% 3/55 [00:01<00:17,  2.96it/s]\u001b[A\n",
            "Iteration:   7% 4/55 [00:01<00:17,  2.96it/s]\u001b[A\n",
            "Iteration:   9% 5/55 [00:01<00:16,  2.96it/s]\u001b[A\n",
            "Iteration:  11% 6/55 [00:02<00:16,  2.95it/s]\u001b[A\n",
            "Iteration:  13% 7/55 [00:02<00:16,  2.95it/s]\u001b[A\n",
            "Iteration:  15% 8/55 [00:02<00:15,  2.96it/s]\u001b[A\n",
            "Iteration:  16% 9/55 [00:03<00:15,  2.96it/s]\u001b[A\n",
            "Iteration:  18% 10/55 [00:03<00:15,  2.96it/s]\u001b[A\n",
            "Iteration:  20% 11/55 [00:03<00:14,  2.96it/s]\u001b[A\n",
            "Iteration:  22% 12/55 [00:04<00:14,  2.96it/s]\u001b[A\n",
            "Iteration:  24% 13/55 [00:04<00:14,  2.96it/s]\u001b[A\n",
            "Iteration:  25% 14/55 [00:04<00:13,  2.97it/s]\u001b[A\n",
            "Iteration:  27% 15/55 [00:05<00:13,  2.97it/s]\u001b[A\n",
            "Iteration:  29% 16/55 [00:05<00:13,  2.97it/s]\u001b[A\n",
            "Iteration:  31% 17/55 [00:05<00:12,  2.97it/s]\u001b[A\n",
            "Iteration:  33% 18/55 [00:06<00:12,  2.96it/s]\u001b[A\n",
            "Iteration:  35% 19/55 [00:06<00:12,  2.95it/s]\u001b[A\n",
            "Iteration:  36% 20/55 [00:06<00:11,  2.94it/s]\u001b[A\n",
            "Iteration:  38% 21/55 [00:07<00:11,  2.95it/s]\u001b[A\n",
            "Iteration:  40% 22/55 [00:07<00:11,  2.95it/s]\u001b[A\n",
            "Iteration:  42% 23/55 [00:07<00:10,  2.96it/s]\u001b[A\n",
            "Iteration:  44% 24/55 [00:08<00:10,  2.96it/s]\u001b[A\n",
            "Iteration:  45% 25/55 [00:08<00:10,  2.96it/s]\u001b[A\n",
            "Iteration:  47% 26/55 [00:08<00:09,  2.96it/s]\u001b[A\n",
            "Iteration:  49% 27/55 [00:09<00:09,  2.96it/s]\u001b[A\n",
            "Iteration:  51% 28/55 [00:09<00:09,  2.95it/s]\u001b[A\n",
            "Iteration:  53% 29/55 [00:09<00:08,  2.94it/s]\u001b[A12/12/2019 10:52:15 - INFO - __main__ -   Loading features from cached file train/bert-base-uncased_cached_lm_510_eval_data.txt\n",
            "12/12/2019 10:52:15 - INFO - __main__ -   ***** Running evaluation  *****\n",
            "12/12/2019 10:52:15 - INFO - __main__ -     Num examples = 72\n",
            "12/12/2019 10:52:15 - INFO - __main__ -     Batch size = 4\n",
            "\n",
            "\n",
            "Evaluating:   0% 0/18 [00:00<?, ?it/s]\u001b[A\u001b[A\n",
            "\n",
            "Evaluating:   6% 1/18 [00:00<00:01, 10.00it/s]\u001b[A\u001b[A\n",
            "\n",
            "Evaluating:  17% 3/18 [00:00<00:01, 10.01it/s]\u001b[A\u001b[A\n",
            "\n",
            "Evaluating:  28% 5/18 [00:00<00:01, 10.02it/s]\u001b[A\u001b[A\n",
            "\n",
            "Evaluating:  33% 6/18 [00:00<00:01, 10.01it/s]\u001b[A\u001b[A\n",
            "\n",
            "Evaluating:  44% 8/18 [00:00<00:00, 10.01it/s]\u001b[A\u001b[A\n",
            "\n",
            "Evaluating:  56% 10/18 [00:00<00:00, 10.03it/s]\u001b[A\u001b[A\n",
            "\n",
            "Evaluating:  67% 12/18 [00:01<00:00, 10.02it/s]\u001b[A\u001b[A\n",
            "\n",
            "Evaluating:  78% 14/18 [00:01<00:00, 10.01it/s]\u001b[A\u001b[A\n",
            "\n",
            "Evaluating:  89% 16/18 [00:01<00:00, 10.02it/s]\u001b[A\u001b[A\n",
            "\n",
            "Evaluating:  94% 17/18 [00:01<00:00, 10.01it/s]\u001b[A\u001b[A\n",
            "\n",
            "Evaluating: 100% 18/18 [00:01<00:00, 10.02it/s]\u001b[A\u001b[A12/12/2019 10:52:17 - INFO - __main__ -   ***** Eval results  *****\n",
            "12/12/2019 10:52:17 - INFO - __main__ -     perplexity = tensor(14.9517)\n",
            "12/12/2019 10:52:17 - INFO - transformers.configuration_utils -   Configuration saved in model_path/checkpoint-250/config.json\n",
            "12/12/2019 10:52:18 - INFO - transformers.modeling_utils -   Model weights saved in model_path/checkpoint-250/pytorch_model.bin\n",
            "12/12/2019 10:52:18 - INFO - __main__ -   Saving model checkpoint to model_path/checkpoint-250\n",
            "12/12/2019 10:52:21 - INFO - __main__ -   Saving optimizer and scheduler states to model_path/checkpoint-250\n",
            "\n",
            "Iteration:  55% 30/55 [00:16<00:53,  2.12s/it]\u001b[A\n",
            "Iteration:  56% 31/55 [00:16<00:38,  1.59s/it]\u001b[A\n",
            "Iteration:  58% 32/55 [00:16<00:28,  1.22s/it]\u001b[A\n",
            "Iteration:  60% 33/55 [00:17<00:20,  1.05it/s]\u001b[A\n",
            "Iteration:  62% 34/55 [00:17<00:16,  1.30it/s]\u001b[A\n",
            "Iteration:  64% 35/55 [00:17<00:12,  1.56it/s]\u001b[A\n",
            "Iteration:  65% 36/55 [00:18<00:10,  1.81it/s]\u001b[A\n",
            "Iteration:  67% 37/55 [00:18<00:08,  2.04it/s]\u001b[A\n",
            "Iteration:  69% 38/55 [00:18<00:07,  2.24it/s]\u001b[A\n",
            "Iteration:  71% 39/55 [00:19<00:06,  2.42it/s]\u001b[A\n",
            "Iteration:  73% 40/55 [00:19<00:05,  2.56it/s]\u001b[A\n",
            "Iteration:  75% 41/55 [00:19<00:05,  2.66it/s]\u001b[A\n",
            "Iteration:  76% 42/55 [00:20<00:04,  2.75it/s]\u001b[A\n",
            "Iteration:  78% 43/55 [00:20<00:04,  2.80it/s]\u001b[A\n",
            "Iteration:  80% 44/55 [00:20<00:03,  2.85it/s]\u001b[A\n",
            "Iteration:  82% 45/55 [00:21<00:03,  2.88it/s]\u001b[A\n",
            "Iteration:  84% 46/55 [00:21<00:03,  2.90it/s]\u001b[A\n",
            "Iteration:  85% 47/55 [00:21<00:02,  2.92it/s]\u001b[A\n",
            "Iteration:  87% 48/55 [00:22<00:02,  2.93it/s]\u001b[A\n",
            "Iteration:  89% 49/55 [00:22<00:02,  2.94it/s]\u001b[A\n",
            "Iteration:  91% 50/55 [00:22<00:01,  2.95it/s]\u001b[A\n",
            "Iteration:  93% 51/55 [00:23<00:01,  2.95it/s]\u001b[A\n",
            "Iteration:  95% 52/55 [00:23<00:01,  2.95it/s]\u001b[A\n",
            "Iteration:  96% 53/55 [00:23<00:00,  2.95it/s]\u001b[A\n",
            "Iteration:  98% 54/55 [00:24<00:00,  2.96it/s]\u001b[A\n",
            "Iteration: 100% 55/55 [00:24<00:00,  3.61it/s]\u001b[A\n",
            "Epoch:  50% 5/10 [02:03<02:03, 24.62s/it]\n",
            "Iteration:   0% 0/55 [00:00<?, ?it/s]\u001b[A\n",
            "Iteration:   2% 1/55 [00:00<00:18,  2.97it/s]\u001b[A\n",
            "Iteration:   4% 2/55 [00:00<00:17,  2.97it/s]\u001b[A\n",
            "Iteration:   5% 3/55 [00:01<00:17,  2.97it/s]\u001b[A\n",
            "Iteration:   7% 4/55 [00:01<00:17,  2.97it/s]\u001b[A\n",
            "Iteration:   9% 5/55 [00:01<00:16,  2.97it/s]\u001b[A\n",
            "Iteration:  11% 6/55 [00:02<00:16,  2.97it/s]\u001b[A\n",
            "Iteration:  13% 7/55 [00:02<00:16,  2.97it/s]\u001b[A\n",
            "Iteration:  15% 8/55 [00:02<00:15,  2.97it/s]\u001b[A\n",
            "Iteration:  16% 9/55 [00:03<00:15,  2.96it/s]\u001b[A\n",
            "Iteration:  18% 10/55 [00:03<00:15,  2.96it/s]\u001b[A\n",
            "Iteration:  20% 11/55 [00:03<00:14,  2.96it/s]\u001b[A\n",
            "Iteration:  22% 12/55 [00:04<00:14,  2.96it/s]\u001b[A\n",
            "Iteration:  24% 13/55 [00:04<00:14,  2.96it/s]\u001b[A\n",
            "Iteration:  25% 14/55 [00:04<00:13,  2.96it/s]\u001b[A\n",
            "Iteration:  27% 15/55 [00:05<00:13,  2.96it/s]\u001b[A\n",
            "Iteration:  29% 16/55 [00:05<00:13,  2.96it/s]\u001b[A\n",
            "Iteration:  31% 17/55 [00:05<00:12,  2.96it/s]\u001b[A\n",
            "Iteration:  33% 18/55 [00:06<00:12,  2.97it/s]\u001b[A\n",
            "Iteration:  35% 19/55 [00:06<00:12,  2.97it/s]\u001b[A\n",
            "Iteration:  36% 20/55 [00:06<00:11,  2.97it/s]\u001b[A\n",
            "Iteration:  38% 21/55 [00:07<00:11,  2.97it/s]\u001b[A\n",
            "Iteration:  40% 22/55 [00:07<00:11,  2.97it/s]\u001b[A\n",
            "Iteration:  42% 23/55 [00:07<00:10,  2.97it/s]\u001b[A\n",
            "Iteration:  44% 24/55 [00:08<00:10,  2.97it/s]\u001b[A12/12/2019 10:52:38 - INFO - __main__ -   Loading features from cached file train/bert-base-uncased_cached_lm_510_eval_data.txt\n",
            "12/12/2019 10:52:38 - INFO - __main__ -   ***** Running evaluation  *****\n",
            "12/12/2019 10:52:38 - INFO - __main__ -     Num examples = 72\n",
            "12/12/2019 10:52:38 - INFO - __main__ -     Batch size = 4\n",
            "\n",
            "\n",
            "Evaluating:   0% 0/18 [00:00<?, ?it/s]\u001b[A\u001b[A\n",
            "\n",
            "Evaluating:  11% 2/18 [00:00<00:01, 10.05it/s]\u001b[A\u001b[A\n",
            "\n",
            "Evaluating:  22% 4/18 [00:00<00:01, 10.04it/s]\u001b[A\u001b[A\n",
            "\n",
            "Evaluating:  28% 5/18 [00:00<00:01, 10.03it/s]\u001b[A\u001b[A\n",
            "\n",
            "Evaluating:  39% 7/18 [00:00<00:01, 10.03it/s]\u001b[A\u001b[A\n",
            "\n",
            "Evaluating:  50% 9/18 [00:00<00:00, 10.03it/s]\u001b[A\u001b[A\n",
            "\n",
            "Evaluating:  61% 11/18 [00:01<00:00, 10.03it/s]\u001b[A\u001b[A\n",
            "\n",
            "Evaluating:  72% 13/18 [00:01<00:00, 10.04it/s]\u001b[A\u001b[A\n",
            "\n",
            "Evaluating:  83% 15/18 [00:01<00:00, 10.04it/s]\u001b[A\u001b[A\n",
            "\n",
            "Evaluating:  89% 16/18 [00:01<00:00, 10.03it/s]\u001b[A\u001b[A\n",
            "\n",
            "Evaluating: 100% 18/18 [00:01<00:00, 10.02it/s]\u001b[A\u001b[A\n",
            "\n",
            "\u001b[A\u001b[A12/12/2019 10:52:40 - INFO - __main__ -   ***** Eval results  *****\n",
            "12/12/2019 10:52:40 - INFO - __main__ -     perplexity = tensor(14.6790)\n",
            "12/12/2019 10:52:40 - INFO - transformers.configuration_utils -   Configuration saved in model_path/checkpoint-300/config.json\n",
            "12/12/2019 10:52:40 - INFO - transformers.modeling_utils -   Model weights saved in model_path/checkpoint-300/pytorch_model.bin\n",
            "12/12/2019 10:52:40 - INFO - __main__ -   Saving model checkpoint to model_path/checkpoint-300\n",
            "12/12/2019 10:52:44 - INFO - __main__ -   Saving optimizer and scheduler states to model_path/checkpoint-300\n",
            "\n",
            "Iteration:  45% 25/55 [00:14<01:03,  2.13s/it]\u001b[A\n",
            "Iteration:  47% 26/55 [00:14<00:46,  1.59s/it]\u001b[A\n",
            "Iteration:  49% 27/55 [00:15<00:34,  1.22s/it]\u001b[A\n",
            "Iteration:  51% 28/55 [00:15<00:25,  1.05it/s]\u001b[A\n",
            "Iteration:  53% 29/55 [00:15<00:19,  1.30it/s]\u001b[A\n",
            "Iteration:  55% 30/55 [00:16<00:15,  1.57it/s]\u001b[A\n",
            "Iteration:  56% 31/55 [00:16<00:13,  1.82it/s]\u001b[A\n",
            "Iteration:  58% 32/55 [00:16<00:11,  2.06it/s]\u001b[A\n",
            "Iteration:  60% 33/55 [00:17<00:09,  2.27it/s]\u001b[A\n",
            "Iteration:  62% 34/55 [00:17<00:08,  2.43it/s]\u001b[A\n",
            "Iteration:  64% 35/55 [00:17<00:07,  2.57it/s]\u001b[A\n",
            "Iteration:  65% 36/55 [00:18<00:07,  2.67it/s]\u001b[A\n",
            "Iteration:  67% 37/55 [00:18<00:06,  2.75it/s]\u001b[A\n",
            "Iteration:  69% 38/55 [00:18<00:06,  2.80it/s]\u001b[A\n",
            "Iteration:  71% 39/55 [00:19<00:05,  2.84it/s]\u001b[A\n",
            "Iteration:  73% 40/55 [00:19<00:05,  2.88it/s]\u001b[A\n",
            "Iteration:  75% 41/55 [00:19<00:04,  2.90it/s]\u001b[A\n",
            "Iteration:  76% 42/55 [00:20<00:04,  2.92it/s]\u001b[A\n",
            "Iteration:  78% 43/55 [00:20<00:04,  2.93it/s]\u001b[A\n",
            "Iteration:  80% 44/55 [00:20<00:03,  2.94it/s]\u001b[A\n",
            "Iteration:  82% 45/55 [00:21<00:03,  2.95it/s]\u001b[A\n",
            "Iteration:  84% 46/55 [00:21<00:03,  2.95it/s]\u001b[A\n",
            "Iteration:  85% 47/55 [00:21<00:02,  2.95it/s]\u001b[A\n",
            "Iteration:  87% 48/55 [00:22<00:02,  2.96it/s]\u001b[A\n",
            "Iteration:  89% 49/55 [00:22<00:02,  2.96it/s]\u001b[A\n",
            "Iteration:  91% 50/55 [00:22<00:01,  2.97it/s]\u001b[A\n",
            "Iteration:  93% 51/55 [00:23<00:01,  2.96it/s]\u001b[A\n",
            "Iteration:  95% 52/55 [00:23<00:01,  2.97it/s]\u001b[A\n",
            "Iteration:  96% 53/55 [00:23<00:00,  2.97it/s]\u001b[A\n",
            "Iteration:  98% 54/55 [00:24<00:00,  2.96it/s]\u001b[A\n",
            "Iteration: 100% 55/55 [00:24<00:00,  3.60it/s]\u001b[A\n",
            "Epoch:  60% 6/10 [02:27<01:38, 24.54s/it]\n",
            "Iteration:   0% 0/55 [00:00<?, ?it/s]\u001b[A\n",
            "Iteration:   2% 1/55 [00:00<00:18,  2.97it/s]\u001b[A\n",
            "Iteration:   4% 2/55 [00:00<00:17,  2.95it/s]\u001b[A\n",
            "Iteration:   5% 3/55 [00:01<00:17,  2.95it/s]\u001b[A\n",
            "Iteration:   7% 4/55 [00:01<00:17,  2.95it/s]\u001b[A\n",
            "Iteration:   9% 5/55 [00:01<00:16,  2.95it/s]\u001b[A\n",
            "Iteration:  11% 6/55 [00:02<00:16,  2.95it/s]\u001b[A\n",
            "Iteration:  13% 7/55 [00:02<00:16,  2.94it/s]\u001b[A\n",
            "Iteration:  15% 8/55 [00:02<00:15,  2.94it/s]\u001b[A\n",
            "Iteration:  16% 9/55 [00:03<00:15,  2.95it/s]\u001b[A\n",
            "Iteration:  18% 10/55 [00:03<00:15,  2.95it/s]\u001b[A\n",
            "Iteration:  20% 11/55 [00:03<00:14,  2.96it/s]\u001b[A\n",
            "Iteration:  22% 12/55 [00:04<00:14,  2.96it/s]\u001b[A\n",
            "Iteration:  24% 13/55 [00:04<00:14,  2.95it/s]\u001b[A\n",
            "Iteration:  25% 14/55 [00:04<00:13,  2.95it/s]\u001b[A\n",
            "Iteration:  27% 15/55 [00:05<00:13,  2.95it/s]\u001b[A\n",
            "Iteration:  29% 16/55 [00:05<00:13,  2.96it/s]\u001b[A\n",
            "Iteration:  31% 17/55 [00:05<00:12,  2.95it/s]\u001b[A\n",
            "Iteration:  33% 18/55 [00:06<00:12,  2.95it/s]\u001b[A\n",
            "Iteration:  35% 19/55 [00:06<00:12,  2.95it/s]\u001b[A12/12/2019 10:53:00 - INFO - __main__ -   Loading features from cached file train/bert-base-uncased_cached_lm_510_eval_data.txt\n",
            "12/12/2019 10:53:00 - INFO - __main__ -   ***** Running evaluation  *****\n",
            "12/12/2019 10:53:00 - INFO - __main__ -     Num examples = 72\n",
            "12/12/2019 10:53:00 - INFO - __main__ -     Batch size = 4\n",
            "\n",
            "\n",
            "Evaluating:   0% 0/18 [00:00<?, ?it/s]\u001b[A\u001b[A\n",
            "\n",
            "Evaluating:   6% 1/18 [00:00<00:01,  9.98it/s]\u001b[A\u001b[A\n",
            "\n",
            "Evaluating:  17% 3/18 [00:00<00:01, 10.00it/s]\u001b[A\u001b[A\n",
            "\n",
            "Evaluating:  28% 5/18 [00:00<00:01, 10.01it/s]\u001b[A\u001b[A\n",
            "\n",
            "Evaluating:  39% 7/18 [00:00<00:01, 10.02it/s]\u001b[A\u001b[A\n",
            "\n",
            "Evaluating:  44% 8/18 [00:00<00:00, 10.01it/s]\u001b[A\u001b[A\n",
            "\n",
            "Evaluating:  56% 10/18 [00:00<00:00, 10.02it/s]\u001b[A\u001b[A\n",
            "\n",
            "Evaluating:  61% 11/18 [00:01<00:00, 10.00it/s]\u001b[A\u001b[A\n",
            "\n",
            "Evaluating:  67% 12/18 [00:01<00:00, 10.00it/s]\u001b[A\u001b[A\n",
            "\n",
            "Evaluating:  78% 14/18 [00:01<00:00, 10.02it/s]\u001b[A\u001b[A\n",
            "\n",
            "Evaluating:  89% 16/18 [00:01<00:00, 10.02it/s]\u001b[A\u001b[A\n",
            "\n",
            "Evaluating: 100% 18/18 [00:01<00:00, 10.02it/s]\u001b[A\u001b[A\n",
            "\n",
            "\u001b[A\u001b[A12/12/2019 10:53:02 - INFO - __main__ -   ***** Eval results  *****\n",
            "12/12/2019 10:53:02 - INFO - __main__ -     perplexity = tensor(15.0409)\n",
            "12/12/2019 10:53:02 - INFO - transformers.configuration_utils -   Configuration saved in model_path/checkpoint-350/config.json\n",
            "12/12/2019 10:53:03 - INFO - transformers.modeling_utils -   Model weights saved in model_path/checkpoint-350/pytorch_model.bin\n",
            "12/12/2019 10:53:03 - INFO - __main__ -   Saving model checkpoint to model_path/checkpoint-350\n",
            "12/12/2019 10:53:06 - INFO - __main__ -   Saving optimizer and scheduler states to model_path/checkpoint-350\n",
            "\n",
            "Iteration:  36% 20/55 [00:12<01:13,  2.09s/it]\u001b[A\n",
            "Iteration:  38% 21/55 [00:12<00:53,  1.57s/it]\u001b[A\n",
            "Iteration:  40% 22/55 [00:13<00:39,  1.20s/it]\u001b[A\n",
            "Iteration:  42% 23/55 [00:13<00:30,  1.06it/s]\u001b[A\n",
            "Iteration:  44% 24/55 [00:13<00:23,  1.31it/s]\u001b[A\n",
            "Iteration:  45% 25/55 [00:14<00:19,  1.58it/s]\u001b[A\n",
            "Iteration:  47% 26/55 [00:14<00:15,  1.83it/s]\u001b[A\n",
            "Iteration:  49% 27/55 [00:15<00:13,  2.07it/s]\u001b[A\n",
            "Iteration:  51% 28/55 [00:15<00:11,  2.28it/s]\u001b[A\n",
            "Iteration:  53% 29/55 [00:15<00:10,  2.44it/s]\u001b[A\n",
            "Iteration:  55% 30/55 [00:16<00:09,  2.58it/s]\u001b[A\n",
            "Iteration:  56% 31/55 [00:16<00:08,  2.69it/s]\u001b[A\n",
            "Iteration:  58% 32/55 [00:16<00:08,  2.77it/s]\u001b[A\n",
            "Iteration:  60% 33/55 [00:17<00:07,  2.82it/s]\u001b[A\n",
            "Iteration:  62% 34/55 [00:17<00:07,  2.86it/s]\u001b[A\n",
            "Iteration:  64% 35/55 [00:17<00:06,  2.89it/s]\u001b[A\n",
            "Iteration:  65% 36/55 [00:18<00:06,  2.91it/s]\u001b[A\n",
            "Iteration:  67% 37/55 [00:18<00:06,  2.93it/s]\u001b[A\n",
            "Iteration:  69% 38/55 [00:18<00:05,  2.94it/s]\u001b[A\n",
            "Iteration:  71% 39/55 [00:19<00:05,  2.93it/s]\u001b[A\n",
            "Iteration:  73% 40/55 [00:19<00:05,  2.94it/s]\u001b[A\n",
            "Iteration:  75% 41/55 [00:19<00:04,  2.95it/s]\u001b[A\n",
            "Iteration:  76% 42/55 [00:20<00:04,  2.95it/s]\u001b[A\n",
            "Iteration:  78% 43/55 [00:20<00:04,  2.95it/s]\u001b[A\n",
            "Iteration:  80% 44/55 [00:20<00:03,  2.96it/s]\u001b[A\n",
            "Iteration:  82% 45/55 [00:21<00:03,  2.96it/s]\u001b[A\n",
            "Iteration:  84% 46/55 [00:21<00:03,  2.96it/s]\u001b[A\n",
            "Iteration:  85% 47/55 [00:21<00:02,  2.96it/s]\u001b[A\n",
            "Iteration:  87% 48/55 [00:22<00:02,  2.95it/s]\u001b[A\n",
            "Iteration:  89% 49/55 [00:22<00:02,  2.95it/s]\u001b[A\n",
            "Iteration:  91% 50/55 [00:22<00:01,  2.96it/s]\u001b[A\n",
            "Iteration:  93% 51/55 [00:23<00:01,  2.95it/s]\u001b[A\n",
            "Iteration:  95% 52/55 [00:23<00:01,  2.95it/s]\u001b[A\n",
            "Iteration:  96% 53/55 [00:23<00:00,  2.95it/s]\u001b[A\n",
            "Iteration:  98% 54/55 [00:24<00:00,  2.94it/s]\u001b[A\n",
            "Iteration: 100% 55/55 [00:24<00:00,  3.59it/s]\u001b[A\n",
            "Epoch:  70% 7/10 [02:52<01:13, 24.46s/it]\n",
            "Iteration:   0% 0/55 [00:00<?, ?it/s]\u001b[A\n",
            "Iteration:   2% 1/55 [00:00<00:18,  2.97it/s]\u001b[A\n",
            "Iteration:   4% 2/55 [00:00<00:17,  2.97it/s]\u001b[A\n",
            "Iteration:   5% 3/55 [00:01<00:17,  2.97it/s]\u001b[A\n",
            "Iteration:   7% 4/55 [00:01<00:17,  2.97it/s]\u001b[A\n",
            "Iteration:   9% 5/55 [00:01<00:16,  2.96it/s]\u001b[A\n",
            "Iteration:  11% 6/55 [00:02<00:16,  2.96it/s]\u001b[A\n",
            "Iteration:  13% 7/55 [00:02<00:16,  2.96it/s]\u001b[A\n",
            "Iteration:  15% 8/55 [00:02<00:15,  2.96it/s]\u001b[A\n",
            "Iteration:  16% 9/55 [00:03<00:15,  2.96it/s]\u001b[A\n",
            "Iteration:  18% 10/55 [00:03<00:15,  2.96it/s]\u001b[A\n",
            "Iteration:  20% 11/55 [00:03<00:14,  2.96it/s]\u001b[A\n",
            "Iteration:  22% 12/55 [00:04<00:14,  2.96it/s]\u001b[A\n",
            "Iteration:  24% 13/55 [00:04<00:14,  2.96it/s]\u001b[A\n",
            "Iteration:  25% 14/55 [00:04<00:13,  2.96it/s]\u001b[A12/12/2019 10:53:23 - INFO - __main__ -   Loading features from cached file train/bert-base-uncased_cached_lm_510_eval_data.txt\n",
            "12/12/2019 10:53:23 - INFO - __main__ -   ***** Running evaluation  *****\n",
            "12/12/2019 10:53:23 - INFO - __main__ -     Num examples = 72\n",
            "12/12/2019 10:53:23 - INFO - __main__ -     Batch size = 4\n",
            "\n",
            "\n",
            "Evaluating:   0% 0/18 [00:00<?, ?it/s]\u001b[A\u001b[A\n",
            "\n",
            "Evaluating:   6% 1/18 [00:00<00:01,  9.98it/s]\u001b[A\u001b[A\n",
            "\n",
            "Evaluating:  17% 3/18 [00:00<00:01, 10.00it/s]\u001b[A\u001b[A\n",
            "\n",
            "Evaluating:  22% 4/18 [00:00<00:01,  9.99it/s]\u001b[A\u001b[A\n",
            "\n",
            "Evaluating:  33% 6/18 [00:00<00:01, 10.00it/s]\u001b[A\u001b[A\n",
            "\n",
            "Evaluating:  44% 8/18 [00:00<00:00, 10.00it/s]\u001b[A\u001b[A\n",
            "\n",
            "Evaluating:  50% 9/18 [00:00<00:00, 10.00it/s]\u001b[A\u001b[A\n",
            "\n",
            "Evaluating:  61% 11/18 [00:01<00:00, 10.00it/s]\u001b[A\u001b[A\n",
            "\n",
            "Evaluating:  72% 13/18 [00:01<00:00, 10.01it/s]\u001b[A\u001b[A\n",
            "\n",
            "Evaluating:  83% 15/18 [00:01<00:00, 10.01it/s]\u001b[A\u001b[A\n",
            "\n",
            "Evaluating:  94% 17/18 [00:01<00:00, 10.01it/s]\u001b[A\u001b[A\n",
            "\n",
            "Evaluating: 100% 18/18 [00:01<00:00, 10.01it/s]\u001b[A\u001b[A12/12/2019 10:53:25 - INFO - __main__ -   ***** Eval results  *****\n",
            "12/12/2019 10:53:25 - INFO - __main__ -     perplexity = tensor(15.3526)\n",
            "12/12/2019 10:53:25 - INFO - transformers.configuration_utils -   Configuration saved in model_path/checkpoint-400/config.json\n",
            "12/12/2019 10:53:25 - INFO - transformers.modeling_utils -   Model weights saved in model_path/checkpoint-400/pytorch_model.bin\n",
            "12/12/2019 10:53:25 - INFO - __main__ -   Saving model checkpoint to model_path/checkpoint-400\n",
            "12/12/2019 10:53:29 - INFO - __main__ -   Saving optimizer and scheduler states to model_path/checkpoint-400\n",
            "\n",
            "Iteration:  27% 15/55 [00:10<01:23,  2.09s/it]\u001b[A\n",
            "Iteration:  29% 16/55 [00:11<01:01,  1.57s/it]\u001b[A\n",
            "Iteration:  31% 17/55 [00:11<00:45,  1.20s/it]\u001b[A\n",
            "Iteration:  33% 18/55 [00:11<00:34,  1.06it/s]\u001b[A\n",
            "Iteration:  35% 19/55 [00:12<00:27,  1.31it/s]\u001b[A\n",
            "Iteration:  36% 20/55 [00:12<00:22,  1.58it/s]\u001b[A\n",
            "Iteration:  38% 21/55 [00:12<00:18,  1.83it/s]\u001b[A\n",
            "Iteration:  40% 22/55 [00:13<00:15,  2.07it/s]\u001b[A\n",
            "Iteration:  42% 23/55 [00:13<00:14,  2.27it/s]\u001b[A\n",
            "Iteration:  44% 24/55 [00:13<00:12,  2.44it/s]\u001b[A\n",
            "Iteration:  45% 25/55 [00:14<00:11,  2.58it/s]\u001b[A\n",
            "Iteration:  47% 26/55 [00:14<00:10,  2.68it/s]\u001b[A\n",
            "Iteration:  49% 27/55 [00:14<00:10,  2.76it/s]\u001b[A\n",
            "Iteration:  51% 28/55 [00:15<00:09,  2.82it/s]\u001b[A\n",
            "Iteration:  53% 29/55 [00:15<00:09,  2.86it/s]\u001b[A\n",
            "Iteration:  55% 30/55 [00:15<00:08,  2.89it/s]\u001b[A\n",
            "Iteration:  56% 31/55 [00:16<00:08,  2.91it/s]\u001b[A\n",
            "Iteration:  58% 32/55 [00:16<00:07,  2.93it/s]\u001b[A\n",
            "Iteration:  60% 33/55 [00:16<00:07,  2.94it/s]\u001b[A\n",
            "Iteration:  62% 34/55 [00:17<00:07,  2.95it/s]\u001b[A\n",
            "Iteration:  64% 35/55 [00:17<00:06,  2.95it/s]\u001b[A\n",
            "Iteration:  65% 36/55 [00:18<00:06,  2.95it/s]\u001b[A\n",
            "Iteration:  67% 37/55 [00:18<00:06,  2.95it/s]\u001b[A\n",
            "Iteration:  69% 38/55 [00:18<00:05,  2.95it/s]\u001b[A\n",
            "Iteration:  71% 39/55 [00:19<00:05,  2.96it/s]\u001b[A\n",
            "Iteration:  73% 40/55 [00:19<00:05,  2.96it/s]\u001b[A\n",
            "Iteration:  75% 41/55 [00:19<00:04,  2.95it/s]\u001b[A\n",
            "Iteration:  76% 42/55 [00:20<00:04,  2.96it/s]\u001b[A\n",
            "Iteration:  78% 43/55 [00:20<00:04,  2.95it/s]\u001b[A\n",
            "Iteration:  80% 44/55 [00:20<00:03,  2.95it/s]\u001b[A\n",
            "Iteration:  82% 45/55 [00:21<00:03,  2.95it/s]\u001b[A\n",
            "Iteration:  84% 46/55 [00:21<00:03,  2.94it/s]\u001b[A\n",
            "Iteration:  85% 47/55 [00:21<00:02,  2.95it/s]\u001b[A\n",
            "Iteration:  87% 48/55 [00:22<00:02,  2.95it/s]\u001b[A\n",
            "Iteration:  89% 49/55 [00:22<00:02,  2.95it/s]\u001b[A\n",
            "Iteration:  91% 50/55 [00:22<00:01,  2.95it/s]\u001b[A\n",
            "Iteration:  93% 51/55 [00:23<00:01,  2.95it/s]\u001b[A\n",
            "Iteration:  95% 52/55 [00:23<00:01,  2.95it/s]\u001b[A\n",
            "Iteration:  96% 53/55 [00:23<00:00,  2.95it/s]\u001b[A\n",
            "Iteration:  98% 54/55 [00:24<00:00,  2.96it/s]\u001b[A\n",
            "Iteration: 100% 55/55 [00:24<00:00,  3.59it/s]\u001b[A\n",
            "Epoch:  80% 8/10 [03:16<00:48, 24.40s/it]\n",
            "Iteration:   0% 0/55 [00:00<?, ?it/s]\u001b[A\n",
            "Iteration:   2% 1/55 [00:00<00:18,  2.95it/s]\u001b[A\n",
            "Iteration:   4% 2/55 [00:00<00:17,  2.96it/s]\u001b[A\n",
            "Iteration:   5% 3/55 [00:01<00:17,  2.96it/s]\u001b[A\n",
            "Iteration:   7% 4/55 [00:01<00:17,  2.96it/s]\u001b[A\n",
            "Iteration:   9% 5/55 [00:01<00:16,  2.96it/s]\u001b[A\n",
            "Iteration:  11% 6/55 [00:02<00:16,  2.97it/s]\u001b[A\n",
            "Iteration:  13% 7/55 [00:02<00:16,  2.97it/s]\u001b[A\n",
            "Iteration:  15% 8/55 [00:02<00:15,  2.96it/s]\u001b[A\n",
            "Iteration:  16% 9/55 [00:03<00:15,  2.97it/s]\u001b[A12/12/2019 10:53:46 - INFO - __main__ -   Loading features from cached file train/bert-base-uncased_cached_lm_510_eval_data.txt\n",
            "12/12/2019 10:53:46 - INFO - __main__ -   ***** Running evaluation  *****\n",
            "12/12/2019 10:53:46 - INFO - __main__ -     Num examples = 72\n",
            "12/12/2019 10:53:46 - INFO - __main__ -     Batch size = 4\n",
            "\n",
            "\n",
            "Evaluating:   0% 0/18 [00:00<?, ?it/s]\u001b[A\u001b[A\n",
            "\n",
            "Evaluating:  11% 2/18 [00:00<00:01, 10.05it/s]\u001b[A\u001b[A\n",
            "\n",
            "Evaluating:  17% 3/18 [00:00<00:01, 10.03it/s]\u001b[A\u001b[A\n",
            "\n",
            "Evaluating:  28% 5/18 [00:00<00:01, 10.03it/s]\u001b[A\u001b[A\n",
            "\n",
            "Evaluating:  39% 7/18 [00:00<00:01, 10.03it/s]\u001b[A\u001b[A\n",
            "\n",
            "Evaluating:  50% 9/18 [00:00<00:00, 10.02it/s]\u001b[A\u001b[A\n",
            "\n",
            "Evaluating:  56% 10/18 [00:01<00:00,  9.92it/s]\u001b[A\u001b[A\n",
            "\n",
            "Evaluating:  67% 12/18 [00:01<00:00,  9.96it/s]\u001b[A\u001b[A\n",
            "\n",
            "Evaluating:  78% 14/18 [00:01<00:00,  9.98it/s]\u001b[A\u001b[A\n",
            "\n",
            "Evaluating:  89% 16/18 [00:01<00:00,  9.99it/s]\u001b[A\u001b[A\n",
            "\n",
            "Evaluating: 100% 18/18 [00:01<00:00, 10.01it/s]\u001b[A\u001b[A\n",
            "\n",
            "\u001b[A\u001b[A12/12/2019 10:53:47 - INFO - __main__ -   ***** Eval results  *****\n",
            "12/12/2019 10:53:47 - INFO - __main__ -     perplexity = tensor(15.7362)\n",
            "12/12/2019 10:53:47 - INFO - transformers.configuration_utils -   Configuration saved in model_path/checkpoint-450/config.json\n",
            "12/12/2019 10:53:48 - INFO - transformers.modeling_utils -   Model weights saved in model_path/checkpoint-450/pytorch_model.bin\n",
            "12/12/2019 10:53:48 - INFO - __main__ -   Saving model checkpoint to model_path/checkpoint-450\n",
            "12/12/2019 10:53:51 - INFO - __main__ -   Saving optimizer and scheduler states to model_path/checkpoint-450\n",
            "\n",
            "Iteration:  18% 10/55 [00:08<01:29,  1.98s/it]\u001b[A\n",
            "Iteration:  20% 11/55 [00:09<01:05,  1.50s/it]\u001b[A\n",
            "Iteration:  22% 12/55 [00:09<00:49,  1.15s/it]\u001b[A\n",
            "Iteration:  24% 13/55 [00:09<00:38,  1.10it/s]\u001b[A\n",
            "Iteration:  25% 14/55 [00:10<00:30,  1.36it/s]\u001b[A\n",
            "Iteration:  27% 15/55 [00:10<00:24,  1.62it/s]\u001b[A\n",
            "Iteration:  29% 16/55 [00:10<00:20,  1.88it/s]\u001b[A\n",
            "Iteration:  31% 17/55 [00:11<00:18,  2.10it/s]\u001b[A\n",
            "Iteration:  33% 18/55 [00:11<00:16,  2.30it/s]\u001b[A\n",
            "Iteration:  35% 19/55 [00:11<00:14,  2.46it/s]\u001b[A\n",
            "Iteration:  36% 20/55 [00:12<00:13,  2.59it/s]\u001b[A\n",
            "Iteration:  38% 21/55 [00:12<00:12,  2.69it/s]\u001b[A\n",
            "Iteration:  40% 22/55 [00:12<00:11,  2.77it/s]\u001b[A\n",
            "Iteration:  42% 23/55 [00:13<00:11,  2.78it/s]\u001b[A\n",
            "Iteration:  44% 24/55 [00:13<00:11,  2.81it/s]\u001b[A\n",
            "Iteration:  45% 25/55 [00:13<00:10,  2.85it/s]\u001b[A\n",
            "Iteration:  47% 26/55 [00:14<00:10,  2.88it/s]\u001b[A\n",
            "Iteration:  49% 27/55 [00:14<00:09,  2.90it/s]\u001b[A\n",
            "Iteration:  51% 28/55 [00:15<00:09,  2.91it/s]\u001b[A\n",
            "Iteration:  53% 29/55 [00:15<00:08,  2.92it/s]\u001b[A\n",
            "Iteration:  55% 30/55 [00:15<00:08,  2.93it/s]\u001b[A\n",
            "Iteration:  56% 31/55 [00:16<00:08,  2.94it/s]\u001b[A\n",
            "Iteration:  58% 32/55 [00:16<00:07,  2.95it/s]\u001b[A\n",
            "Iteration:  60% 33/55 [00:16<00:07,  2.94it/s]\u001b[A\n",
            "Iteration:  62% 34/55 [00:17<00:07,  2.95it/s]\u001b[A\n",
            "Iteration:  64% 35/55 [00:17<00:06,  2.95it/s]\u001b[A\n",
            "Iteration:  65% 36/55 [00:17<00:06,  2.95it/s]\u001b[A\n",
            "Iteration:  67% 37/55 [00:18<00:06,  2.96it/s]\u001b[A\n",
            "Iteration:  69% 38/55 [00:18<00:05,  2.95it/s]\u001b[A\n",
            "Iteration:  71% 39/55 [00:18<00:05,  2.95it/s]\u001b[A\n",
            "Iteration:  73% 40/55 [00:19<00:05,  2.95it/s]\u001b[A\n",
            "Iteration:  75% 41/55 [00:19<00:04,  2.95it/s]\u001b[A\n",
            "Iteration:  76% 42/55 [00:19<00:04,  2.96it/s]\u001b[A\n",
            "Iteration:  78% 43/55 [00:20<00:04,  2.96it/s]\u001b[A\n",
            "Iteration:  80% 44/55 [00:20<00:03,  2.96it/s]\u001b[A\n",
            "Iteration:  82% 45/55 [00:20<00:03,  2.96it/s]\u001b[A\n",
            "Iteration:  84% 46/55 [00:21<00:03,  2.96it/s]\u001b[A\n",
            "Iteration:  85% 47/55 [00:21<00:02,  2.96it/s]\u001b[A\n",
            "Iteration:  87% 48/55 [00:21<00:02,  2.96it/s]\u001b[A\n",
            "Iteration:  89% 49/55 [00:22<00:02,  2.96it/s]\u001b[A\n",
            "Iteration:  91% 50/55 [00:22<00:01,  2.96it/s]\u001b[A\n",
            "Iteration:  93% 51/55 [00:22<00:01,  2.96it/s]\u001b[A\n",
            "Iteration:  95% 52/55 [00:23<00:01,  2.96it/s]\u001b[A\n",
            "Iteration:  96% 53/55 [00:23<00:00,  2.96it/s]\u001b[A\n",
            "Iteration:  98% 54/55 [00:23<00:00,  2.95it/s]\u001b[A\n",
            "Iteration: 100% 55/55 [00:23<00:00,  3.59it/s]\u001b[A\n",
            "Epoch:  90% 9/10 [03:40<00:24, 24.26s/it]\n",
            "Iteration:   0% 0/55 [00:00<?, ?it/s]\u001b[A\n",
            "Iteration:   2% 1/55 [00:00<00:18,  2.94it/s]\u001b[A\n",
            "Iteration:   4% 2/55 [00:00<00:17,  2.95it/s]\u001b[A\n",
            "Iteration:   5% 3/55 [00:01<00:17,  2.95it/s]\u001b[A\n",
            "Iteration:   7% 4/55 [00:01<00:17,  2.95it/s]\u001b[A12/12/2019 10:54:08 - INFO - __main__ -   Loading features from cached file train/bert-base-uncased_cached_lm_510_eval_data.txt\n",
            "12/12/2019 10:54:08 - INFO - __main__ -   ***** Running evaluation  *****\n",
            "12/12/2019 10:54:08 - INFO - __main__ -     Num examples = 72\n",
            "12/12/2019 10:54:08 - INFO - __main__ -     Batch size = 4\n",
            "\n",
            "\n",
            "Evaluating:   0% 0/18 [00:00<?, ?it/s]\u001b[A\u001b[A\n",
            "\n",
            "Evaluating:  11% 2/18 [00:00<00:01, 10.03it/s]\u001b[A\u001b[A\n",
            "\n",
            "Evaluating:  17% 3/18 [00:00<00:01, 10.01it/s]\u001b[A\u001b[A\n",
            "\n",
            "Evaluating:  28% 5/18 [00:00<00:01, 10.02it/s]\u001b[A\u001b[A\n",
            "\n",
            "Evaluating:  33% 6/18 [00:00<00:01, 10.01it/s]\u001b[A\u001b[A\n",
            "\n",
            "Evaluating:  44% 8/18 [00:00<00:00, 10.01it/s]\u001b[A\u001b[A\n",
            "\n",
            "Evaluating:  50% 9/18 [00:00<00:00, 10.01it/s]\u001b[A\u001b[A\n",
            "\n",
            "Evaluating:  61% 11/18 [00:01<00:00, 10.01it/s]\u001b[A\u001b[A\n",
            "\n",
            "Evaluating:  72% 13/18 [00:01<00:00, 10.02it/s]\u001b[A\u001b[A\n",
            "\n",
            "Evaluating:  78% 14/18 [00:01<00:00, 10.01it/s]\u001b[A\u001b[A\n",
            "\n",
            "Evaluating:  89% 16/18 [00:01<00:00, 10.01it/s]\u001b[A\u001b[A\n",
            "\n",
            "Evaluating: 100% 18/18 [00:01<00:00, 10.02it/s]\u001b[A\u001b[A\n",
            "\n",
            "\u001b[A\u001b[A12/12/2019 10:54:10 - INFO - __main__ -   ***** Eval results  *****\n",
            "12/12/2019 10:54:10 - INFO - __main__ -     perplexity = tensor(15.8052)\n",
            "12/12/2019 10:54:10 - INFO - transformers.configuration_utils -   Configuration saved in model_path/checkpoint-500/config.json\n",
            "12/12/2019 10:54:10 - INFO - transformers.modeling_utils -   Model weights saved in model_path/checkpoint-500/pytorch_model.bin\n",
            "12/12/2019 10:54:10 - INFO - __main__ -   Saving model checkpoint to model_path/checkpoint-500\n",
            "12/12/2019 10:54:13 - INFO - __main__ -   Saving optimizer and scheduler states to model_path/checkpoint-500\n",
            "\n",
            "Iteration:   9% 5/55 [00:07<01:39,  1.98s/it]\u001b[A\n",
            "Iteration:  11% 6/55 [00:07<01:12,  1.49s/it]\u001b[A\n",
            "Iteration:  13% 7/55 [00:07<00:54,  1.14s/it]\u001b[A\n",
            "Iteration:  15% 8/55 [00:08<00:42,  1.11it/s]\u001b[A\n",
            "Iteration:  16% 9/55 [00:08<00:33,  1.36it/s]\u001b[A\n",
            "Iteration:  18% 10/55 [00:08<00:27,  1.62it/s]\u001b[A\n",
            "Iteration:  20% 11/55 [00:09<00:23,  1.88it/s]\u001b[A\n",
            "Iteration:  22% 12/55 [00:09<00:20,  2.11it/s]\u001b[A\n",
            "Iteration:  24% 13/55 [00:09<00:18,  2.31it/s]\u001b[A\n",
            "Iteration:  25% 14/55 [00:10<00:16,  2.47it/s]\u001b[A\n",
            "Iteration:  27% 15/55 [00:10<00:15,  2.60it/s]\u001b[A\n",
            "Iteration:  29% 16/55 [00:10<00:14,  2.69it/s]\u001b[A\n",
            "Iteration:  31% 17/55 [00:11<00:13,  2.76it/s]\u001b[A\n",
            "Iteration:  33% 18/55 [00:11<00:13,  2.80it/s]\u001b[A\n",
            "Iteration:  35% 19/55 [00:11<00:12,  2.85it/s]\u001b[A\n",
            "Iteration:  36% 20/55 [00:12<00:12,  2.88it/s]\u001b[A\n",
            "Iteration:  38% 21/55 [00:12<00:11,  2.91it/s]\u001b[A\n",
            "Iteration:  40% 22/55 [00:12<00:11,  2.93it/s]\u001b[A\n",
            "Iteration:  42% 23/55 [00:13<00:10,  2.93it/s]\u001b[A\n",
            "Iteration:  44% 24/55 [00:13<00:10,  2.94it/s]\u001b[A\n",
            "Iteration:  45% 25/55 [00:13<00:10,  2.94it/s]\u001b[A\n",
            "Iteration:  47% 26/55 [00:14<00:09,  2.95it/s]\u001b[A\n",
            "Iteration:  49% 27/55 [00:14<00:09,  2.95it/s]\u001b[A\n",
            "Iteration:  51% 28/55 [00:14<00:09,  2.96it/s]\u001b[A\n",
            "Iteration:  53% 29/55 [00:15<00:08,  2.96it/s]\u001b[A\n",
            "Iteration:  55% 30/55 [00:15<00:08,  2.96it/s]\u001b[A\n",
            "Iteration:  56% 31/55 [00:15<00:08,  2.96it/s]\u001b[A\n",
            "Iteration:  58% 32/55 [00:16<00:07,  2.95it/s]\u001b[A\n",
            "Iteration:  60% 33/55 [00:16<00:07,  2.96it/s]\u001b[A\n",
            "Iteration:  62% 34/55 [00:16<00:07,  2.96it/s]\u001b[A\n",
            "Iteration:  64% 35/55 [00:17<00:06,  2.95it/s]\u001b[A\n",
            "Iteration:  65% 36/55 [00:17<00:06,  2.96it/s]\u001b[A\n",
            "Iteration:  67% 37/55 [00:17<00:06,  2.96it/s]\u001b[A\n",
            "Iteration:  69% 38/55 [00:18<00:05,  2.95it/s]\u001b[A\n",
            "Iteration:  71% 39/55 [00:18<00:05,  2.95it/s]\u001b[A\n",
            "Iteration:  73% 40/55 [00:19<00:05,  2.95it/s]\u001b[A\n",
            "Iteration:  75% 41/55 [00:19<00:04,  2.95it/s]\u001b[A\n",
            "Iteration:  76% 42/55 [00:19<00:04,  2.94it/s]\u001b[A\n",
            "Iteration:  78% 43/55 [00:20<00:04,  2.95it/s]\u001b[A\n",
            "Iteration:  80% 44/55 [00:20<00:03,  2.96it/s]\u001b[A\n",
            "Iteration:  82% 45/55 [00:20<00:03,  2.96it/s]\u001b[A\n",
            "Iteration:  84% 46/55 [00:21<00:03,  2.96it/s]\u001b[A\n",
            "Iteration:  85% 47/55 [00:21<00:02,  2.96it/s]\u001b[A\n",
            "Iteration:  87% 48/55 [00:21<00:02,  2.96it/s]\u001b[A\n",
            "Iteration:  89% 49/55 [00:22<00:02,  2.96it/s]\u001b[A\n",
            "Iteration:  91% 50/55 [00:22<00:01,  2.96it/s]\u001b[A\n",
            "Iteration:  93% 51/55 [00:22<00:01,  2.96it/s]\u001b[A\n",
            "Iteration:  95% 52/55 [00:23<00:01,  2.96it/s]\u001b[A\n",
            "Iteration:  96% 53/55 [00:23<00:00,  2.96it/s]\u001b[A\n",
            "Iteration:  98% 54/55 [00:23<00:00,  2.96it/s]\u001b[A12/12/2019 10:54:30 - INFO - __main__ -   Loading features from cached file train/bert-base-uncased_cached_lm_510_eval_data.txt\n",
            "12/12/2019 10:54:30 - INFO - __main__ -   ***** Running evaluation  *****\n",
            "12/12/2019 10:54:30 - INFO - __main__ -     Num examples = 72\n",
            "12/12/2019 10:54:30 - INFO - __main__ -     Batch size = 4\n",
            "\n",
            "\n",
            "Evaluating:   0% 0/18 [00:00<?, ?it/s]\u001b[A\u001b[A\n",
            "\n",
            "Evaluating:  11% 2/18 [00:00<00:01, 10.02it/s]\u001b[A\u001b[A\n",
            "\n",
            "Evaluating:  17% 3/18 [00:00<00:01, 10.01it/s]\u001b[A\u001b[A\n",
            "\n",
            "Evaluating:  28% 5/18 [00:00<00:01, 10.02it/s]\u001b[A\u001b[A\n",
            "\n",
            "Evaluating:  33% 6/18 [00:00<00:01, 10.01it/s]\u001b[A\u001b[A\n",
            "\n",
            "Evaluating:  44% 8/18 [00:00<00:00, 10.03it/s]\u001b[A\u001b[A\n",
            "\n",
            "Evaluating:  56% 10/18 [00:00<00:00, 10.03it/s]\u001b[A\u001b[A\n",
            "\n",
            "Evaluating:  67% 12/18 [00:01<00:00, 10.02it/s]\u001b[A\u001b[A\n",
            "\n",
            "Evaluating:  72% 13/18 [00:01<00:00, 10.01it/s]\u001b[A\u001b[A\n",
            "\n",
            "Evaluating:  83% 15/18 [00:01<00:00, 10.02it/s]\u001b[A\u001b[A\n",
            "\n",
            "Evaluating:  89% 16/18 [00:01<00:00,  9.96it/s]\u001b[A\u001b[A\n",
            "\n",
            "Evaluating: 100% 18/18 [00:01<00:00,  9.99it/s]\u001b[A\u001b[A\n",
            "\n",
            "\u001b[A\u001b[A12/12/2019 10:54:32 - INFO - __main__ -   ***** Eval results  *****\n",
            "12/12/2019 10:54:32 - INFO - __main__ -     perplexity = tensor(13.7478)\n",
            "12/12/2019 10:54:32 - INFO - transformers.configuration_utils -   Configuration saved in model_path/checkpoint-550/config.json\n",
            "12/12/2019 10:54:32 - INFO - transformers.modeling_utils -   Model weights saved in model_path/checkpoint-550/pytorch_model.bin\n",
            "12/12/2019 10:54:32 - INFO - __main__ -   Saving model checkpoint to model_path/checkpoint-550\n",
            "12/12/2019 10:54:36 - INFO - __main__ -   Saving optimizer and scheduler states to model_path/checkpoint-550\n",
            "\n",
            "Iteration: 100% 55/55 [00:29<00:00,  1.92s/it]\u001b[A\n",
            "Epoch: 100% 10/10 [04:09<00:00, 25.80s/it]\n",
            "12/12/2019 10:54:36 - INFO - __main__ -    global_step = 550, average loss = 2.7283229567787863\n",
            "12/12/2019 10:54:36 - INFO - __main__ -   Saving model checkpoint to model_path\n",
            "12/12/2019 10:54:36 - INFO - transformers.configuration_utils -   Configuration saved in model_path/config.json\n",
            "12/12/2019 10:54:38 - INFO - transformers.modeling_utils -   Model weights saved in model_path/pytorch_model.bin\n",
            "12/12/2019 10:54:38 - INFO - transformers.configuration_utils -   loading configuration file model_path/config.json\n",
            "12/12/2019 10:54:38 - INFO - transformers.configuration_utils -   Model config {\n",
            "  \"attention_probs_dropout_prob\": 0.1,\n",
            "  \"finetuning_task\": null,\n",
            "  \"hidden_act\": \"gelu\",\n",
            "  \"hidden_dropout_prob\": 0.1,\n",
            "  \"hidden_size\": 768,\n",
            "  \"initializer_range\": 0.02,\n",
            "  \"intermediate_size\": 3072,\n",
            "  \"is_decoder\": false,\n",
            "  \"layer_norm_eps\": 1e-12,\n",
            "  \"max_position_embeddings\": 512,\n",
            "  \"num_attention_heads\": 12,\n",
            "  \"num_hidden_layers\": 12,\n",
            "  \"num_labels\": 2,\n",
            "  \"output_attentions\": false,\n",
            "  \"output_hidden_states\": false,\n",
            "  \"output_past\": true,\n",
            "  \"pruned_heads\": {},\n",
            "  \"torchscript\": false,\n",
            "  \"type_vocab_size\": 2,\n",
            "  \"use_bfloat16\": false,\n",
            "  \"vocab_size\": 30522\n",
            "}\n",
            "\n",
            "12/12/2019 10:54:38 - INFO - transformers.modeling_utils -   loading weights file model_path/pytorch_model.bin\n",
            "12/12/2019 10:54:42 - INFO - transformers.tokenization_utils -   Model name 'model_path' not found in model shortcut name list (bert-base-uncased, bert-large-uncased, bert-base-cased, bert-large-cased, bert-base-multilingual-uncased, bert-base-multilingual-cased, bert-base-chinese, bert-base-german-cased, bert-large-uncased-whole-word-masking, bert-large-cased-whole-word-masking, bert-large-uncased-whole-word-masking-finetuned-squad, bert-large-cased-whole-word-masking-finetuned-squad, bert-base-cased-finetuned-mrpc, bert-base-german-dbmdz-cased, bert-base-german-dbmdz-uncased). Assuming 'model_path' is a path or url to a directory containing tokenizer files.\n",
            "12/12/2019 10:54:42 - INFO - transformers.tokenization_utils -   loading file model_path/vocab.txt\n",
            "12/12/2019 10:54:42 - INFO - transformers.tokenization_utils -   loading file model_path/added_tokens.json\n",
            "12/12/2019 10:54:42 - INFO - transformers.tokenization_utils -   loading file model_path/special_tokens_map.json\n",
            "12/12/2019 10:54:42 - INFO - transformers.tokenization_utils -   loading file model_path/tokenizer_config.json\n",
            "12/12/2019 10:54:42 - INFO - __main__ -   Evaluate the following checkpoints: ['model_path']\n",
            "12/12/2019 10:54:42 - INFO - transformers.configuration_utils -   loading configuration file model_path/config.json\n",
            "12/12/2019 10:54:42 - INFO - transformers.configuration_utils -   Model config {\n",
            "  \"attention_probs_dropout_prob\": 0.1,\n",
            "  \"finetuning_task\": null,\n",
            "  \"hidden_act\": \"gelu\",\n",
            "  \"hidden_dropout_prob\": 0.1,\n",
            "  \"hidden_size\": 768,\n",
            "  \"initializer_range\": 0.02,\n",
            "  \"intermediate_size\": 3072,\n",
            "  \"is_decoder\": false,\n",
            "  \"layer_norm_eps\": 1e-12,\n",
            "  \"max_position_embeddings\": 512,\n",
            "  \"num_attention_heads\": 12,\n",
            "  \"num_hidden_layers\": 12,\n",
            "  \"num_labels\": 2,\n",
            "  \"output_attentions\": false,\n",
            "  \"output_hidden_states\": false,\n",
            "  \"output_past\": true,\n",
            "  \"pruned_heads\": {},\n",
            "  \"torchscript\": false,\n",
            "  \"type_vocab_size\": 2,\n",
            "  \"use_bfloat16\": false,\n",
            "  \"vocab_size\": 30522\n",
            "}\n",
            "\n",
            "12/12/2019 10:54:42 - INFO - transformers.modeling_utils -   loading weights file model_path/pytorch_model.bin\n",
            "12/12/2019 10:54:46 - INFO - __main__ -   Loading features from cached file train/bert-base-uncased_cached_lm_510_eval_data.txt\n",
            "12/12/2019 10:54:46 - INFO - __main__ -   ***** Running evaluation  *****\n",
            "12/12/2019 10:54:46 - INFO - __main__ -     Num examples = 72\n",
            "12/12/2019 10:54:46 - INFO - __main__ -     Batch size = 4\n",
            "Evaluating: 100% 18/18 [00:01<00:00,  9.96it/s]\n",
            "12/12/2019 10:54:48 - INFO - __main__ -   ***** Eval results  *****\n",
            "12/12/2019 10:54:48 - INFO - __main__ -     perplexity = tensor(15.7281)\n"
          ],
          "name": "stdout"
        }
      ]
    },
    {
      "cell_type": "markdown",
      "metadata": {
        "id": "88_dhb0ZYD88",
        "colab_type": "text"
      },
      "source": [
        "## Use Fine-Tuned DistilBert LM to get cls token output as features to build classification model using labels"
      ]
    },
    {
      "cell_type": "code",
      "metadata": {
        "id": "M_-hoLQaYEtl",
        "colab_type": "code",
        "outputId": "c5fd526e-8461-41cd-ef84-d9c7d6e69d70",
        "colab": {
          "base_uri": "https://localhost:8080/",
          "height": 34
        }
      },
      "source": [
        "# tokenizer = DistilBertTokenizer.from_pretrained('model_path')\n",
        "tokenizer = BertTokenizer.from_pretrained('model_path')\n",
        "\n",
        "tokenized = [tokenizer.encode(element, add_special_tokens=True) for element in df[0]]\n",
        "\n",
        "## Padding\n",
        "max_len = 0\n",
        "\n",
        "for value in tokenized:\n",
        "  if len(value) > max_len:\n",
        "    max_len = len(value)\n",
        "\n",
        "tokenized = np.array([i + [0]*(max_len - len(i)) for i in tokenized])\n",
        "print(tokenized.shape)\n",
        "\n",
        "## Attention Mark\n",
        "attention_mask = np.where(tokenized != 0, 1, 0)\n",
        "\n",
        "labels = df[1].values\n",
        "\n",
        "batch_size=32\n",
        "\n",
        "tokenized = torch.tensor(tokenized).to(device)\n",
        "attention_mask = torch.tensor(attention_mask).to(device)\n",
        "labels = torch.tensor(labels).to(device)\n",
        "\n",
        "training_data = TensorDataset(tokenized, attention_mask, labels)\n",
        "train_sampler = RandomSampler(training_data)\n",
        "train_dataloader = DataLoader(training_data, sampler=train_sampler, batch_size=batch_size)\n",
        "\n",
        "# model = DistilBertModel.from_pretrained('model_path')\n",
        "model = BertModel.from_pretrained('model_path')\n",
        "model.cuda()\n",
        "\n",
        "features = None\n",
        "feature_labels = None\n",
        "for step, batch in enumerate(train_dataloader):\n",
        "\n",
        "  batch = tuple(t.to(device) for t in batch)\n",
        "  b_input_ids, b_input_mask, b_labels = batch\n",
        "\n",
        "  with torch.no_grad():\n",
        "      last_hidden_states = model(b_input_ids, attention_mask=b_input_mask)\n",
        "\n",
        "  if step==0:\n",
        "    features = last_hidden_states[0][:,0,:].cpu().numpy()\n",
        "    feature_labels = b_labels.cpu().numpy()\n",
        "  else:\n",
        "    features = np.concatenate((features, last_hidden_states[0][:,0,:].cpu().numpy()), axis=0)\n",
        "    feature_labels = np.concatenate((feature_labels, b_labels.cpu().numpy()), axis=0)\n",
        "\n"
      ],
      "execution_count": 0,
      "outputs": [
        {
          "output_type": "stream",
          "text": [
            "(6920, 67)\n"
          ],
          "name": "stdout"
        }
      ]
    },
    {
      "cell_type": "code",
      "metadata": {
        "id": "s0hYylNWYFDn",
        "colab_type": "code",
        "outputId": "f6924aac-a328-4390-a27d-f2d52a08e6a4",
        "colab": {
          "base_uri": "https://localhost:8080/",
          "height": 102
        }
      },
      "source": [
        "# labels = df[1].values\n",
        "train_features, test_features, train_labels, test_labels = train_test_split(features, feature_labels, stratify=feature_labels)\n",
        "print(train_features.shape, train_labels.shape)\n",
        "\n",
        "lr_clf = LogisticRegression(C=3, solver='lbfgs')\n",
        "lr_clf.fit(train_features, train_labels)\n",
        "\n",
        "# parameters = {'C': np.linspace(0.0001, 100, 20)}\n",
        "# grid_search = GridSearchCV(LogisticRegression(), parameters)\n",
        "# grid_search.fit(train_features, train_labels)\n",
        "\n",
        "# print('best parameters: ', grid_search.best_params_)\n",
        "# print('best scrores: ', grid_search.best_score_)\n",
        "\n",
        "print(lr_clf.score(test_features, test_labels))\n",
        "lr_clf.score(train_features, train_labels)"
      ],
      "execution_count": 0,
      "outputs": [
        {
          "output_type": "stream",
          "text": [
            "(5190, 768) (5190,)\n",
            "0.8416184971098266\n"
          ],
          "name": "stdout"
        },
        {
          "output_type": "stream",
          "text": [
            "/usr/local/lib/python3.6/dist-packages/sklearn/linear_model/logistic.py:947: ConvergenceWarning: lbfgs failed to converge. Increase the number of iterations.\n",
            "  \"of iterations.\", ConvergenceWarning)\n"
          ],
          "name": "stderr"
        },
        {
          "output_type": "execute_result",
          "data": {
            "text/plain": [
              "0.9146435452793834"
            ]
          },
          "metadata": {
            "tags": []
          },
          "execution_count": 40
        }
      ]
    },
    {
      "cell_type": "code",
      "metadata": {
        "id": "oCaT9mzQvhe8",
        "colab_type": "code",
        "outputId": "b1c19fc3-cdcd-42f7-eff8-1ab7afcb5ad8",
        "colab": {
          "base_uri": "https://localhost:8080/",
          "height": 51
        }
      },
      "source": [
        "xgb_model = XGBClassifier()\n",
        "xgb_model.fit(train_features, train_labels)\n",
        "\n",
        "pred = xgb_model.predict(test_features)\n",
        "print(accuracy_score(test_labels, pred))\n",
        "\n",
        "pred = xgb_model.predict(train_features)\n",
        "print(accuracy_score(train_labels, pred))"
      ],
      "execution_count": 0,
      "outputs": [
        {
          "output_type": "stream",
          "text": [
            "0.8323699421965318\n",
            "0.9123314065510597\n"
          ],
          "name": "stdout"
        }
      ]
    },
    {
      "cell_type": "code",
      "metadata": {
        "id": "wdbwmORH541n",
        "colab_type": "code",
        "outputId": "821baea8-0203-48ac-f139-cb4e6ae005b5",
        "colab": {
          "base_uri": "https://localhost:8080/",
          "height": 356
        }
      },
      "source": [
        "## NN tuning\n",
        "\n",
        "train_features_torch = torch.tensor(train_features).to(device)\n",
        "train_labels_torch = torch.tensor(train_labels).to(device)\n",
        "test_features_torch = torch.tensor(test_features).to(device)\n",
        "test_labels_torch = torch.tensor(test_labels).to(device)\n",
        "\n",
        "fn = ffn(train_features.shape[1])\n",
        "fn.to(device)\n",
        "\n",
        "opt = optim.Adam(fn.parameters(), lr=0.00002, weight_decay=0.000000001)\n",
        "do_validation = True\n",
        "print(fit(train_features_torch, train_labels_torch, fn, opt, loss_fn, do_validation, test_features_torch, test_labels_torch, epochs=2000))\n",
        "print(accuracy(fn(test_features_torch), test_labels_torch).item())"
      ],
      "execution_count": 0,
      "outputs": [
        {
          "output_type": "stream",
          "text": [
            "/usr/local/lib/python3.6/dist-packages/torch/nn/modules/container.py:92: UserWarning: Implicit dimension choice for softmax has been deprecated. Change the call to include dim=X as an argument.\n",
            "  input = module(input)\n"
          ],
          "name": "stderr"
        },
        {
          "output_type": "stream",
          "text": [
            "0.9726396799087524\n",
            "0.8560693264007568\n"
          ],
          "name": "stdout"
        },
        {
          "output_type": "display_data",
          "data": {
            "image/png": "[encoded data removed]",
            "text/plain": [
              "<Figure size 432x288 with 1 Axes>"
            ]
          },
          "metadata": {
            "tags": []
          }
        }
      ]
    },
    {
      "cell_type": "markdown",
      "metadata": {
        "id": "0zvrUoe02WyO",
        "colab_type": "text"
      },
      "source": [
        "## Use Fine-tuned DistilBertModel to get sentence vector by taking average of all the word vectors or concating all the word vectors"
      ]
    },
    {
      "cell_type": "code",
      "metadata": {
        "id": "OLEGMR-i2ffn",
        "colab_type": "code",
        "outputId": "3acd5c6e-5123-4a9e-f46d-f6ff6bde38c4",
        "colab": {
          "base_uri": "https://localhost:8080/",
          "height": 34
        }
      },
      "source": [
        "tokenizer = DistilBertTokenizer.from_pretrained('model_path')\n",
        "\n",
        "tokenized = [tokenizer.encode(element, add_special_tokens=True) for element in df[0]]\n",
        "\n",
        "## Padding\n",
        "max_len = 0\n",
        "\n",
        "for value in tokenized:\n",
        "  if len(value) > max_len:\n",
        "    max_len = len(value)\n",
        "\n",
        "tokenized = np.array([i + [0]*(max_len - len(i)) for i in tokenized])\n",
        "print(tokenized.shape)\n",
        "\n",
        "## Attention Mark\n",
        "attention_mask = np.where(tokenized != 0, 1, 0)\n",
        "\n",
        "## labels\n",
        "labels = df[1].values\n",
        "\n",
        "batch_size=32\n",
        "\n",
        "tokenized = torch.tensor(tokenized).to(device)\n",
        "attention_mask = torch.tensor(attention_mask).to(device)\n",
        "labels = torch.tensor(labels).to(device)\n",
        "\n",
        "training_data = TensorDataset(tokenized, attention_mask, labels)\n",
        "train_sampler = RandomSampler(training_data)\n",
        "train_dataloader = DataLoader(training_data, sampler=train_sampler, batch_size=batch_size)\n",
        "\n",
        "model = DistilBertModel.from_pretrained('model_path')\n",
        "model.cuda()\n",
        "\n",
        "features = []\n",
        "feature_labels = []\n",
        "for step, batch in enumerate(train_dataloader):\n",
        "\n",
        "  batch = tuple(t.to(device) for t in batch)\n",
        "  b_input_ids, b_input_mask, b_labels = batch\n",
        "\n",
        "  with torch.no_grad():\n",
        "      last_hidden_states = model(b_input_ids, attention_mask=b_input_mask)\n",
        "\n",
        "  # print(last_hidden_states[0][:,1:,:].size())\n",
        "  # print(last_hidden_states[0][:,1:,:].sum(dim=1).size())\n",
        "\n",
        "  if step==0:\n",
        "    features = last_hidden_states[0][:,:,:].cpu().numpy()\n",
        "    feature_labels = b_labels.cpu().numpy()\n",
        "  else:\n",
        "    features = np.concatenate((features, last_hidden_states[0][:,:,:].cpu().numpy()), axis=0)\n",
        "    feature_labels = np.concatenate((feature_labels, b_labels.cpu().numpy()), axis=0)\n"
      ],
      "execution_count": 0,
      "outputs": [
        {
          "output_type": "stream",
          "text": [
            "(6920, 67)\n"
          ],
          "name": "stdout"
        }
      ]
    },
    {
      "cell_type": "code",
      "metadata": {
        "id": "iLlwxPNV3ali",
        "colab_type": "code",
        "outputId": "c703fe71-273e-4039-a778-cdb064a02cca",
        "colab": {
          "base_uri": "https://localhost:8080/",
          "height": 68
        }
      },
      "source": [
        "print(features.shape)\n",
        "\n",
        "features_average = np.sum(features, axis=1) / 67  ## normalizing after adding 66 word embedding to generate sentence vector\n",
        "print(features_average.shape)\n",
        "\n",
        "features_concat = features.reshape(features.shape[0],-1)\n",
        "print(features_concat.shape)"
      ],
      "execution_count": 0,
      "outputs": [
        {
          "output_type": "stream",
          "text": [
            "(6920, 67, 768)\n",
            "(6920, 768)\n",
            "(6920, 51456)\n"
          ],
          "name": "stdout"
        }
      ]
    },
    {
      "cell_type": "markdown",
      "metadata": {
        "id": "woZ8di4s5YV3",
        "colab_type": "text"
      },
      "source": [
        "### Sentence Vector generation by averaging all the word embedding"
      ]
    },
    {
      "cell_type": "code",
      "metadata": {
        "id": "Cnfk7ucA3boO",
        "colab_type": "code",
        "outputId": "5dd0cb80-687d-40e2-9e56-ac54c3bab89e",
        "colab": {
          "base_uri": "https://localhost:8080/",
          "height": 136
        }
      },
      "source": [
        "train_features, test_features, train_labels, test_labels = train_test_split(features_average, feature_labels, stratify=feature_labels, random_state=42)\n",
        "print(train_features.shape, train_labels.shape)\n",
        "\n",
        "lr_clf = LogisticRegression(C=5, solver='lbfgs')\n",
        "lr_clf.fit(train_features, train_labels)\n",
        "\n",
        "# parameters = {'C': np.linspace(0.0001, 100, 20)}\n",
        "# grid_search = GridSearchCV(LogisticRegression(), parameters)\n",
        "# grid_search.fit(train_features, train_labels)\n",
        "\n",
        "# print('best parameters: ', grid_search.best_params_)\n",
        "# print('best scrores: ', grid_search.best_score_)\n",
        "\n",
        "print(lr_clf.score(test_features, test_labels))\n",
        "print(lr_clf.score(train_features, train_labels))\n",
        "\n",
        "xgb_model = XGBClassifier(max_depth=3)\n",
        "xgb_model.fit(train_features, train_labels)\n",
        "\n",
        "pred = xgb_model.predict(test_features)\n",
        "print(accuracy_score(test_labels, pred))\n",
        "\n",
        "pred = xgb_model.predict(train_features)\n",
        "print(accuracy_score(train_labels, pred))"
      ],
      "execution_count": 0,
      "outputs": [
        {
          "output_type": "stream",
          "text": [
            "(5190, 768) (5190,)\n"
          ],
          "name": "stdout"
        },
        {
          "output_type": "stream",
          "text": [
            "/usr/local/lib/python3.6/dist-packages/sklearn/linear_model/logistic.py:947: ConvergenceWarning: lbfgs failed to converge. Increase the number of iterations.\n",
            "  \"of iterations.\", ConvergenceWarning)\n"
          ],
          "name": "stderr"
        },
        {
          "output_type": "stream",
          "text": [
            "0.8514450867052024\n",
            "0.8913294797687862\n",
            "0.8202312138728324\n",
            "0.9127167630057803\n"
          ],
          "name": "stdout"
        }
      ]
    },
    {
      "cell_type": "code",
      "metadata": {
        "id": "5vWXeKJe6c-R",
        "colab_type": "code",
        "outputId": "f2d448a4-5a73-440a-a01d-c6cd559e9c6a",
        "colab": {
          "base_uri": "https://localhost:8080/",
          "height": 353
        }
      },
      "source": [
        "## NN tuning\n",
        "\n",
        "train_features_torch = torch.tensor(train_features).to(device)\n",
        "train_labels_torch = torch.tensor(train_labels).to(device)\n",
        "test_features_torch = torch.tensor(test_features).to(device)\n",
        "test_labels_torch = torch.tensor(test_labels).to(device)\n",
        "\n",
        "fn = ffn(train_features.shape[1])\n",
        "fn.to(device)\n",
        "\n",
        "opt = optim.Adam(fn.parameters(), lr=0.00001, weight_decay=0.000000001)\n",
        "print(fit(train_features_torch, train_labels_torch, fn, opt, loss_fn, epochs=4000))\n",
        "print(accuracy(fn(test_features_torch), test_labels_torch).item())"
      ],
      "execution_count": 0,
      "outputs": [
        {
          "output_type": "stream",
          "text": [
            "/usr/local/lib/python3.6/dist-packages/torch/nn/modules/container.py:92: UserWarning: Implicit dimension choice for softmax has been deprecated. Change the call to include dim=X as an argument.\n",
            "  input = module(input)\n"
          ],
          "name": "stderr"
        },
        {
          "output_type": "stream",
          "text": [
            "0.9581888318061829\n",
            "0.8508670330047607\n"
          ],
          "name": "stdout"
        },
        {
          "output_type": "display_data",
          "data": {
            "image/png": "[encoded data removed]",
            "text/plain": [
              "<Figure size 432x288 with 1 Axes>"
            ]
          },
          "metadata": {
            "tags": []
          }
        }
      ]
    },
    {
      "cell_type": "markdown",
      "metadata": {
        "id": "HwAbl-Ny5dLC",
        "colab_type": "text"
      },
      "source": [
        "### Sentence Vector generation by concatenating all the word embedddings"
      ]
    },
    {
      "cell_type": "code",
      "metadata": {
        "id": "jZf1Ckky3b-a",
        "colab_type": "code",
        "outputId": "377a7ebc-c4e7-4bcc-d7da-8790cf7da82c",
        "colab": {
          "base_uri": "https://localhost:8080/",
          "height": 119
        }
      },
      "source": [
        "train_features, test_features, train_labels, test_labels = train_test_split(features_concat, feature_labels, stratify=feature_labels, random_state=42)\n",
        "print(train_features.shape, train_labels.shape)\n",
        "\n",
        "pca = PCA(0.99)\n",
        "pca.fit(train_features)\n",
        "train_features_pca = pca.transform(train_features)\n",
        "test_features_pca = pca.transform(test_features)\n",
        "# print(pca.explained_variance_ratio_)\n",
        "print(train_features_pca.shape, test_features_pca.shape)\n",
        "\n",
        "lr_clf = LogisticRegression(C=5, solver = 'lbfgs')\n",
        "lr_clf.fit(train_features_pca, train_labels)\n",
        "\n",
        "# parameters = {'C': np.linspace(0.0001, 100, 20)}\n",
        "# grid_search = GridSearchCV(LogisticRegression(), parameters)\n",
        "# grid_search.fit(train_features, train_labels)\n",
        "\n",
        "# print('best parameters: ', grid_search.best_params_)\n",
        "# print('best scrores: ', grid_search.best_score_)\n",
        "\n",
        "print(lr_clf.score(test_features_pca, test_labels))\n",
        "print(lr_clf.score(train_features_pca, train_labels))\n",
        "\n",
        "# xgb_model = XGBClassifier(max_depth=3)\n",
        "# xgb_model.fit(train_features, train_labels)\n",
        "\n",
        "# pred = xgb_model.predict(test_features)\n",
        "# print(accuracy_score(test_labels, pred))\n",
        "\n",
        "# pred = xgb_model.predict(train_features)\n",
        "# print(accuracy_score(train_labels, pred))"
      ],
      "execution_count": 0,
      "outputs": [
        {
          "output_type": "stream",
          "text": [
            "(5190, 51456) (5190,)\n",
            "(5190, 4486) (1730, 4486)\n",
            "0.8167630057803468\n",
            "1.0\n"
          ],
          "name": "stdout"
        },
        {
          "output_type": "stream",
          "text": [
            "/usr/local/lib/python3.6/dist-packages/sklearn/linear_model/logistic.py:947: ConvergenceWarning: lbfgs failed to converge. Increase the number of iterations.\n",
            "  \"of iterations.\", ConvergenceWarning)\n"
          ],
          "name": "stderr"
        }
      ]
    },
    {
      "cell_type": "code",
      "metadata": {
        "id": "nB235csF3cPW",
        "colab_type": "code",
        "outputId": "1846dbbf-0abb-4d96-cc91-31b1a68e2acc",
        "colab": {
          "base_uri": "https://localhost:8080/",
          "height": 353
        }
      },
      "source": [
        "## NN tuning\n",
        "\n",
        "train_features_torch = torch.tensor(train_features_pca).to(device)\n",
        "train_labels_torch = torch.tensor(train_labels).to(device)\n",
        "test_features_torch = torch.tensor(test_features_pca).to(device)\n",
        "test_labels_torch = torch.tensor(test_labels).to(device)\n",
        "\n",
        "fn = ffn(train_features_pca.shape[1])\n",
        "fn.to(device)\n",
        "\n",
        "opt = optim.Adam(fn.parameters(), lr=0.00001, weight_decay=0.000000001)\n",
        "print(fit(train_features_torch, train_labels_torch, fn, opt, loss_fn, epochs=450))\n",
        "print(accuracy(fn(test_features_torch), test_labels_torch))"
      ],
      "execution_count": 0,
      "outputs": [
        {
          "output_type": "stream",
          "text": [
            "/usr/local/lib/python3.6/dist-packages/torch/nn/modules/container.py:92: UserWarning: Implicit dimension choice for softmax has been deprecated. Change the call to include dim=X as an argument.\n",
            "  input = module(input)\n"
          ],
          "name": "stderr"
        },
        {
          "output_type": "stream",
          "text": [
            "0.9998072981834412\n",
            "tensor(0.8179, device='cuda:0')\n"
          ],
          "name": "stdout"
        },
        {
          "output_type": "display_data",
          "data": {
            "image/png": "[encoded data removed]",
            "text/plain": [
              "<Figure size 432x288 with 1 Axes>"
            ]
          },
          "metadata": {
            "tags": []
          }
        }
      ]
    },
    {
      "cell_type": "code",
      "metadata": {
        "id": "djPjJV0x9Rm3",
        "colab_type": "code",
        "colab": {}
      },
      "source": [
        ""
      ],
      "execution_count": 0,
      "outputs": []
    }
  ]
}