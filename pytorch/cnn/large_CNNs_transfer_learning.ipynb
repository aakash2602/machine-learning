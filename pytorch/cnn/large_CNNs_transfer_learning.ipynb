{
  "nbformat": 4,
  "nbformat_minor": 0,
  "metadata": {
    "colab": {
      "name": "LargeCNNs.ipynb",
      "provenance": [],
      "collapsed_sections": [
        "1kvP6DbrcfyI",
        "mvEel5Szf4Kv",
        "mbixj2WHmq91",
        "s9kGxK86vDiA"
      ]
    },
    "kernelspec": {
      "name": "python3",
      "display_name": "Python 3"
    },
    "accelerator": "GPU"
  },
  "cells": [
    {
      "cell_type": "code",
      "metadata": {
        "id": "hQv2YN1pbhfU",
        "colab_type": "code",
        "colab": {}
      },
      "source": [
        "import numpy as np\n",
        "import matplotlib.pyplot as plt\n",
        "\n",
        "import torch\n",
        "import torchvision\n",
        "import torchvision.transforms as transforms\n",
        "import torch.nn as nn\n",
        "import torch.optim as optim\n",
        "from torch.optim import lr_scheduler\n",
        "from torchvision import models\n",
        "\n",
        "import copy"
      ],
      "execution_count": 0,
      "outputs": []
    },
    {
      "cell_type": "code",
      "metadata": {
        "id": "vDUIg68EbwyE",
        "colab_type": "code",
        "outputId": "b84a4f92-5c54-48e1-8af8-2b69251bd8c7",
        "colab": {
          "base_uri": "https://localhost:8080/",
          "height": 34
        }
      },
      "source": [
        "device = torch.device(\"cuda:0\" if torch.cuda.is_available() else \"cpu\")\n",
        "device"
      ],
      "execution_count": 0,
      "outputs": [
        {
          "output_type": "execute_result",
          "data": {
            "text/plain": [
              "device(type='cuda', index=0)"
            ]
          },
          "metadata": {
            "tags": []
          },
          "execution_count": 2
        }
      ]
    },
    {
      "cell_type": "markdown",
      "metadata": {
        "id": "ZhQZB2tecKVH",
        "colab_type": "text"
      },
      "source": [
        "## Datasets, Transforms and Visualization"
      ]
    },
    {
      "cell_type": "code",
      "metadata": {
        "id": "xWtV_flxcBwD",
        "colab_type": "code",
        "colab": {}
      },
      "source": [
        "transform_train = transforms.Compose([\n",
        "    transforms.RandomResizedCrop(224),\n",
        "    transforms.RandomHorizontalFlip(),\n",
        "    transforms.ToTensor(),\n",
        "    transforms.Normalize([0.485, 0.456, 0.406], [0.229, 0.224, 0.225])\n",
        "   ])\n",
        "\n",
        "transform_test = transforms.Compose([\n",
        "    transforms.RandomResizedCrop(224),\n",
        "    transforms.ToTensor(),\n",
        "    transforms.Normalize([0.485, 0.456, 0.406], [0.229, 0.224, 0.225])\n",
        "])"
      ],
      "execution_count": 0,
      "outputs": []
    },
    {
      "cell_type": "code",
      "metadata": {
        "id": "qM0EeHB_T7My",
        "colab_type": "code",
        "outputId": "cb41d5da-d03a-49ea-ec68-a06f3291b8bb",
        "colab": {
          "base_uri": "https://localhost:8080/",
          "height": 85
        }
      },
      "source": [
        "trainset = torchvision.datasets.CIFAR10(root='./data', train=True, transform=transform_train, download=True)\n",
        "\n",
        "testset = torchvision.datasets.CIFAR10(root='./data', train=False, download=True, transform=transform_test)"
      ],
      "execution_count": 0,
      "outputs": [
        {
          "output_type": "stream",
          "text": [
            "\r0it [00:00, ?it/s]"
          ],
          "name": "stderr"
        },
        {
          "output_type": "stream",
          "text": [
            "Downloading https://www.cs.toronto.edu/~kriz/cifar-10-python.tar.gz to ./data/cifar-10-python.tar.gz\n"
          ],
          "name": "stdout"
        },
        {
          "output_type": "stream",
          "text": [
            "170500096it [00:06, 27119321.30it/s]                               \n"
          ],
          "name": "stderr"
        },
        {
          "output_type": "stream",
          "text": [
            "Extracting ./data/cifar-10-python.tar.gz to ./data\n",
            "Files already downloaded and verified\n"
          ],
          "name": "stdout"
        }
      ]
    },
    {
      "cell_type": "code",
      "metadata": {
        "id": "3tsjfhIzUTFp",
        "colab_type": "code",
        "colab": {}
      },
      "source": [
        "num_classes = 10\n",
        "batch_size = 4"
      ],
      "execution_count": 0,
      "outputs": []
    },
    {
      "cell_type": "code",
      "metadata": {
        "id": "QSP2h6b4Ub4f",
        "colab_type": "code",
        "colab": {}
      },
      "source": [
        "trainloader = torch.utils.data.DataLoader(trainset, batch_size=batch_size, shuffle=True)"
      ],
      "execution_count": 0,
      "outputs": []
    },
    {
      "cell_type": "code",
      "metadata": {
        "id": "8QXTN69dUqe2",
        "colab_type": "code",
        "outputId": "1b97f4fc-71c1-44f5-e966-b839059c5d68",
        "colab": {
          "base_uri": "https://localhost:8080/",
          "height": 85
        }
      },
      "source": [
        "dataiter = iter(trainloader)\n",
        "images, labels = dataiter.next()\n",
        "\n",
        "print(images.shape)\n",
        "print(images[1].shape)\n",
        "print(labels.shape)\n",
        "print(labels[1])"
      ],
      "execution_count": 0,
      "outputs": [
        {
          "output_type": "stream",
          "text": [
            "torch.Size([4, 3, 224, 224])\n",
            "torch.Size([3, 224, 224])\n",
            "torch.Size([4])\n",
            "tensor(0)\n"
          ],
          "name": "stdout"
        }
      ]
    },
    {
      "cell_type": "code",
      "metadata": {
        "id": "Txh6UJmnU452",
        "colab_type": "code",
        "colab": {}
      },
      "source": [
        "def imshow(img, title):\n",
        "  npimg = img.numpy()/2 + 0.5 ## denormalizing\n",
        "  plt.figure(figsize=(batch_size, 1))\n",
        "  plt.axis('off')\n",
        "  plt.imshow(np.transpose(npimg, (1, 2, 0)))\n",
        "  plt.title(title)\n",
        "  plt.show()"
      ],
      "execution_count": 0,
      "outputs": []
    },
    {
      "cell_type": "code",
      "metadata": {
        "id": "oC6z185eWRKQ",
        "colab_type": "code",
        "colab": {}
      },
      "source": [
        "def show_batch_images(dataloader):\n",
        "  images, labels = next(iter(dataloader))\n",
        "  img = torchvision.utils.make_grid(images)\n",
        "  imshow(img, title = [str(x.item()) for x in labels])"
      ],
      "execution_count": 0,
      "outputs": []
    },
    {
      "cell_type": "code",
      "metadata": {
        "id": "vBhimAUnWpEU",
        "colab_type": "code",
        "outputId": "f0db0e29-8dad-4fd9-dba6-5af876f6b77d",
        "colab": {
          "base_uri": "https://localhost:8080/",
          "height": 421
        }
      },
      "source": [
        "for i in range(4):\n",
        "  show_batch_images(trainloader)"
      ],
      "execution_count": 0,
      "outputs": [
        {
          "output_type": "stream",
          "text": [
            "Clipping input data to the valid range for imshow with RGB data ([0..1] for floats or [0..255] for integers).\n"
          ],
          "name": "stderr"
        },
        {
          "output_type": "display_data",
          "data": {
            "image/png": "[encoded data removed]",
            "text/plain": [
              "<Figure size 288x72 with 1 Axes>"
            ]
          },
          "metadata": {
            "tags": []
          }
        },
        {
          "output_type": "stream",
          "text": [
            "Clipping input data to the valid range for imshow with RGB data ([0..1] for floats or [0..255] for integers).\n"
          ],
          "name": "stderr"
        },
        {
          "output_type": "display_data",
          "data": {
            "image/png": "[encoded data removed]",
            "text/plain": [
              "<Figure size 288x72 with 1 Axes>"
            ]
          },
          "metadata": {
            "tags": []
          }
        },
        {
          "output_type": "stream",
          "text": [
            "Clipping input data to the valid range for imshow with RGB data ([0..1] for floats or [0..255] for integers).\n"
          ],
          "name": "stderr"
        },
        {
          "output_type": "display_data",
          "data": {
            "image/png": "[encoded data removed]",
            "text/plain": [
              "<Figure size 288x72 with 1 Axes>"
            ]
          },
          "metadata": {
            "tags": []
          }
        },
        {
          "output_type": "stream",
          "text": [
            "Clipping input data to the valid range for imshow with RGB data ([0..1] for floats or [0..255] for integers).\n"
          ],
          "name": "stderr"
        },
        {
          "output_type": "display_data",
          "data": {
            "image/png": "[encoded data removed]",
            "text/plain": [
              "<Figure size 288x72 with 1 Axes>"
            ]
          },
          "metadata": {
            "tags": []
          }
        }
      ]
    },
    {
      "cell_type": "markdown",
      "metadata": {
        "id": "1kvP6DbrcfyI",
        "colab_type": "text"
      },
      "source": [
        "## Creating VGG-16"
      ]
    },
    {
      "cell_type": "code",
      "metadata": {
        "id": "LLVcEV_EWuIQ",
        "colab_type": "code",
        "colab": {}
      },
      "source": [
        "from torchvision import models"
      ],
      "execution_count": 0,
      "outputs": []
    },
    {
      "cell_type": "code",
      "metadata": {
        "id": "5atQVM31ck9W",
        "colab_type": "code",
        "outputId": "926308e3-40e4-49a8-cac1-2f59cbf0aa04",
        "colab": {
          "base_uri": "https://localhost:8080/",
          "height": 1000
        }
      },
      "source": [
        "## 1 Way to change the last layer of classifier to have 10 classes as output\n",
        "# vgg = models.vgg16_bn(num_classes=num_classes)\n",
        "# print(vgg)\n",
        "\n",
        "## Another way to change the last layer of classifier to have 10 classes as output\n",
        "vgg = models.vgg16_bn()\n",
        "print(vgg)"
      ],
      "execution_count": 0,
      "outputs": [
        {
          "output_type": "stream",
          "text": [
            "VGG(\n",
            "  (features): Sequential(\n",
            "    (0): Conv2d(3, 64, kernel_size=(3, 3), stride=(1, 1), padding=(1, 1))\n",
            "    (1): BatchNorm2d(64, eps=1e-05, momentum=0.1, affine=True, track_running_stats=True)\n",
            "    (2): ReLU(inplace=True)\n",
            "    (3): Conv2d(64, 64, kernel_size=(3, 3), stride=(1, 1), padding=(1, 1))\n",
            "    (4): BatchNorm2d(64, eps=1e-05, momentum=0.1, affine=True, track_running_stats=True)\n",
            "    (5): ReLU(inplace=True)\n",
            "    (6): MaxPool2d(kernel_size=2, stride=2, padding=0, dilation=1, ceil_mode=False)\n",
            "    (7): Conv2d(64, 128, kernel_size=(3, 3), stride=(1, 1), padding=(1, 1))\n",
            "    (8): BatchNorm2d(128, eps=1e-05, momentum=0.1, affine=True, track_running_stats=True)\n",
            "    (9): ReLU(inplace=True)\n",
            "    (10): Conv2d(128, 128, kernel_size=(3, 3), stride=(1, 1), padding=(1, 1))\n",
            "    (11): BatchNorm2d(128, eps=1e-05, momentum=0.1, affine=True, track_running_stats=True)\n",
            "    (12): ReLU(inplace=True)\n",
            "    (13): MaxPool2d(kernel_size=2, stride=2, padding=0, dilation=1, ceil_mode=False)\n",
            "    (14): Conv2d(128, 256, kernel_size=(3, 3), stride=(1, 1), padding=(1, 1))\n",
            "    (15): BatchNorm2d(256, eps=1e-05, momentum=0.1, affine=True, track_running_stats=True)\n",
            "    (16): ReLU(inplace=True)\n",
            "    (17): Conv2d(256, 256, kernel_size=(3, 3), stride=(1, 1), padding=(1, 1))\n",
            "    (18): BatchNorm2d(256, eps=1e-05, momentum=0.1, affine=True, track_running_stats=True)\n",
            "    (19): ReLU(inplace=True)\n",
            "    (20): Conv2d(256, 256, kernel_size=(3, 3), stride=(1, 1), padding=(1, 1))\n",
            "    (21): BatchNorm2d(256, eps=1e-05, momentum=0.1, affine=True, track_running_stats=True)\n",
            "    (22): ReLU(inplace=True)\n",
            "    (23): MaxPool2d(kernel_size=2, stride=2, padding=0, dilation=1, ceil_mode=False)\n",
            "    (24): Conv2d(256, 512, kernel_size=(3, 3), stride=(1, 1), padding=(1, 1))\n",
            "    (25): BatchNorm2d(512, eps=1e-05, momentum=0.1, affine=True, track_running_stats=True)\n",
            "    (26): ReLU(inplace=True)\n",
            "    (27): Conv2d(512, 512, kernel_size=(3, 3), stride=(1, 1), padding=(1, 1))\n",
            "    (28): BatchNorm2d(512, eps=1e-05, momentum=0.1, affine=True, track_running_stats=True)\n",
            "    (29): ReLU(inplace=True)\n",
            "    (30): Conv2d(512, 512, kernel_size=(3, 3), stride=(1, 1), padding=(1, 1))\n",
            "    (31): BatchNorm2d(512, eps=1e-05, momentum=0.1, affine=True, track_running_stats=True)\n",
            "    (32): ReLU(inplace=True)\n",
            "    (33): MaxPool2d(kernel_size=2, stride=2, padding=0, dilation=1, ceil_mode=False)\n",
            "    (34): Conv2d(512, 512, kernel_size=(3, 3), stride=(1, 1), padding=(1, 1))\n",
            "    (35): BatchNorm2d(512, eps=1e-05, momentum=0.1, affine=True, track_running_stats=True)\n",
            "    (36): ReLU(inplace=True)\n",
            "    (37): Conv2d(512, 512, kernel_size=(3, 3), stride=(1, 1), padding=(1, 1))\n",
            "    (38): BatchNorm2d(512, eps=1e-05, momentum=0.1, affine=True, track_running_stats=True)\n",
            "    (39): ReLU(inplace=True)\n",
            "    (40): Conv2d(512, 512, kernel_size=(3, 3), stride=(1, 1), padding=(1, 1))\n",
            "    (41): BatchNorm2d(512, eps=1e-05, momentum=0.1, affine=True, track_running_stats=True)\n",
            "    (42): ReLU(inplace=True)\n",
            "    (43): MaxPool2d(kernel_size=2, stride=2, padding=0, dilation=1, ceil_mode=False)\n",
            "  )\n",
            "  (avgpool): AdaptiveAvgPool2d(output_size=(7, 7))\n",
            "  (classifier): Sequential(\n",
            "    (0): Linear(in_features=25088, out_features=4096, bias=True)\n",
            "    (1): ReLU(inplace=True)\n",
            "    (2): Dropout(p=0.5, inplace=False)\n",
            "    (3): Linear(in_features=4096, out_features=4096, bias=True)\n",
            "    (4): ReLU(inplace=True)\n",
            "    (5): Dropout(p=0.5, inplace=False)\n",
            "    (6): Linear(in_features=4096, out_features=1000, bias=True)\n",
            "  )\n",
            ")\n"
          ],
          "name": "stdout"
        }
      ]
    },
    {
      "cell_type": "code",
      "metadata": {
        "id": "ZMB2jmEfctfm",
        "colab_type": "code",
        "outputId": "15a32567-88af-4cfa-97bb-7646067ed2b8",
        "colab": {
          "base_uri": "https://localhost:8080/",
          "height": 34
        }
      },
      "source": [
        "print(vgg.features[0])"
      ],
      "execution_count": 0,
      "outputs": [
        {
          "output_type": "stream",
          "text": [
            "Conv2d(3, 64, kernel_size=(3, 3), stride=(1, 1), padding=(1, 1))\n"
          ],
          "name": "stdout"
        }
      ]
    },
    {
      "cell_type": "code",
      "metadata": {
        "id": "eTk5VYXVdV66",
        "colab_type": "code",
        "outputId": "42173437-aee0-41ae-be54-30e3ce1e9234",
        "colab": {
          "base_uri": "https://localhost:8080/",
          "height": 170
        }
      },
      "source": [
        "print(vgg.classifier)"
      ],
      "execution_count": 0,
      "outputs": [
        {
          "output_type": "stream",
          "text": [
            "Sequential(\n",
            "  (0): Linear(in_features=25088, out_features=4096, bias=True)\n",
            "  (1): ReLU(inplace=True)\n",
            "  (2): Dropout(p=0.5, inplace=False)\n",
            "  (3): Linear(in_features=4096, out_features=4096, bias=True)\n",
            "  (4): ReLU(inplace=True)\n",
            "  (5): Dropout(p=0.5, inplace=False)\n",
            "  (6): Linear(in_features=4096, out_features=1000, bias=True)\n",
            ")\n"
          ],
          "name": "stdout"
        }
      ]
    },
    {
      "cell_type": "code",
      "metadata": {
        "id": "n1D7JEnNdYkE",
        "colab_type": "code",
        "outputId": "879463c1-96c2-46fc-c325-ae3c51995f53",
        "colab": {
          "base_uri": "https://localhost:8080/",
          "height": 54
        }
      },
      "source": [
        "## changing last layer of classifier to out_features=10, we are using CIFAR 10 dataset\n",
        "final_in_features = vgg.classifier[6].in_features\n",
        "mod_classifier = list(vgg.classifier.children())[:-1]\n",
        "mod_classifier.extend([nn.Linear(final_in_features, num_classes)])\n",
        "print(mod_classifier)"
      ],
      "execution_count": 0,
      "outputs": [
        {
          "output_type": "stream",
          "text": [
            "[Linear(in_features=25088, out_features=4096, bias=True), ReLU(inplace=True), Dropout(p=0.5, inplace=False), Linear(in_features=4096, out_features=4096, bias=True), ReLU(inplace=True), Dropout(p=0.5, inplace=False), Linear(in_features=4096, out_features=10, bias=True)]\n"
          ],
          "name": "stdout"
        }
      ]
    },
    {
      "cell_type": "code",
      "metadata": {
        "id": "HypguUJVeQVz",
        "colab_type": "code",
        "outputId": "b80f6497-39e5-4eae-f305-021235ad2fa4",
        "colab": {
          "base_uri": "https://localhost:8080/",
          "height": 1000
        }
      },
      "source": [
        "vgg.classifier = nn.Sequential(*mod_classifier)\n",
        "print(vgg)"
      ],
      "execution_count": 0,
      "outputs": [
        {
          "output_type": "stream",
          "text": [
            "VGG(\n",
            "  (features): Sequential(\n",
            "    (0): Conv2d(3, 64, kernel_size=(3, 3), stride=(1, 1), padding=(1, 1))\n",
            "    (1): BatchNorm2d(64, eps=1e-05, momentum=0.1, affine=True, track_running_stats=True)\n",
            "    (2): ReLU(inplace=True)\n",
            "    (3): Conv2d(64, 64, kernel_size=(3, 3), stride=(1, 1), padding=(1, 1))\n",
            "    (4): BatchNorm2d(64, eps=1e-05, momentum=0.1, affine=True, track_running_stats=True)\n",
            "    (5): ReLU(inplace=True)\n",
            "    (6): MaxPool2d(kernel_size=2, stride=2, padding=0, dilation=1, ceil_mode=False)\n",
            "    (7): Conv2d(64, 128, kernel_size=(3, 3), stride=(1, 1), padding=(1, 1))\n",
            "    (8): BatchNorm2d(128, eps=1e-05, momentum=0.1, affine=True, track_running_stats=True)\n",
            "    (9): ReLU(inplace=True)\n",
            "    (10): Conv2d(128, 128, kernel_size=(3, 3), stride=(1, 1), padding=(1, 1))\n",
            "    (11): BatchNorm2d(128, eps=1e-05, momentum=0.1, affine=True, track_running_stats=True)\n",
            "    (12): ReLU(inplace=True)\n",
            "    (13): MaxPool2d(kernel_size=2, stride=2, padding=0, dilation=1, ceil_mode=False)\n",
            "    (14): Conv2d(128, 256, kernel_size=(3, 3), stride=(1, 1), padding=(1, 1))\n",
            "    (15): BatchNorm2d(256, eps=1e-05, momentum=0.1, affine=True, track_running_stats=True)\n",
            "    (16): ReLU(inplace=True)\n",
            "    (17): Conv2d(256, 256, kernel_size=(3, 3), stride=(1, 1), padding=(1, 1))\n",
            "    (18): BatchNorm2d(256, eps=1e-05, momentum=0.1, affine=True, track_running_stats=True)\n",
            "    (19): ReLU(inplace=True)\n",
            "    (20): Conv2d(256, 256, kernel_size=(3, 3), stride=(1, 1), padding=(1, 1))\n",
            "    (21): BatchNorm2d(256, eps=1e-05, momentum=0.1, affine=True, track_running_stats=True)\n",
            "    (22): ReLU(inplace=True)\n",
            "    (23): MaxPool2d(kernel_size=2, stride=2, padding=0, dilation=1, ceil_mode=False)\n",
            "    (24): Conv2d(256, 512, kernel_size=(3, 3), stride=(1, 1), padding=(1, 1))\n",
            "    (25): BatchNorm2d(512, eps=1e-05, momentum=0.1, affine=True, track_running_stats=True)\n",
            "    (26): ReLU(inplace=True)\n",
            "    (27): Conv2d(512, 512, kernel_size=(3, 3), stride=(1, 1), padding=(1, 1))\n",
            "    (28): BatchNorm2d(512, eps=1e-05, momentum=0.1, affine=True, track_running_stats=True)\n",
            "    (29): ReLU(inplace=True)\n",
            "    (30): Conv2d(512, 512, kernel_size=(3, 3), stride=(1, 1), padding=(1, 1))\n",
            "    (31): BatchNorm2d(512, eps=1e-05, momentum=0.1, affine=True, track_running_stats=True)\n",
            "    (32): ReLU(inplace=True)\n",
            "    (33): MaxPool2d(kernel_size=2, stride=2, padding=0, dilation=1, ceil_mode=False)\n",
            "    (34): Conv2d(512, 512, kernel_size=(3, 3), stride=(1, 1), padding=(1, 1))\n",
            "    (35): BatchNorm2d(512, eps=1e-05, momentum=0.1, affine=True, track_running_stats=True)\n",
            "    (36): ReLU(inplace=True)\n",
            "    (37): Conv2d(512, 512, kernel_size=(3, 3), stride=(1, 1), padding=(1, 1))\n",
            "    (38): BatchNorm2d(512, eps=1e-05, momentum=0.1, affine=True, track_running_stats=True)\n",
            "    (39): ReLU(inplace=True)\n",
            "    (40): Conv2d(512, 512, kernel_size=(3, 3), stride=(1, 1), padding=(1, 1))\n",
            "    (41): BatchNorm2d(512, eps=1e-05, momentum=0.1, affine=True, track_running_stats=True)\n",
            "    (42): ReLU(inplace=True)\n",
            "    (43): MaxPool2d(kernel_size=2, stride=2, padding=0, dilation=1, ceil_mode=False)\n",
            "  )\n",
            "  (avgpool): AdaptiveAvgPool2d(output_size=(7, 7))\n",
            "  (classifier): Sequential(\n",
            "    (0): Linear(in_features=25088, out_features=4096, bias=True)\n",
            "    (1): ReLU(inplace=True)\n",
            "    (2): Dropout(p=0.5, inplace=False)\n",
            "    (3): Linear(in_features=4096, out_features=4096, bias=True)\n",
            "    (4): ReLU(inplace=True)\n",
            "    (5): Dropout(p=0.5, inplace=False)\n",
            "    (6): Linear(in_features=4096, out_features=10, bias=True)\n",
            "  )\n",
            ")\n"
          ],
          "name": "stdout"
        }
      ]
    },
    {
      "cell_type": "markdown",
      "metadata": {
        "id": "mvEel5Szf4Kv",
        "colab_type": "text"
      },
      "source": [
        "## Train CIFAR10"
      ]
    },
    {
      "cell_type": "code",
      "metadata": {
        "id": "r6hdXn-Me8kr",
        "colab_type": "code",
        "colab": {}
      },
      "source": [
        "batch_size = 16\n",
        "\n",
        "trainloader = torch.utils.data.DataLoader(trainset, batch_size=batch_size, shuffle=True)\n",
        "testloader = torch.utils.data.DataLoader(testset, batch_size=batch_size, shuffle=True)"
      ],
      "execution_count": 0,
      "outputs": []
    },
    {
      "cell_type": "code",
      "metadata": {
        "id": "5qZ2Kre2glSQ",
        "colab_type": "code",
        "colab": {}
      },
      "source": [
        "def evaluation(dataloader, model):\n",
        "  total, correct = 0, 0\n",
        "  for data in dataloader:\n",
        "    images, labels = data\n",
        "    images, labels = images.to(device), labels.to(device)\n",
        "    outputs = model(images)\n",
        "    _, pred = torch.max(outputs, 1)\n",
        "    total += labels.size(0)\n",
        "    correct += (pred==labels).sum().item()\n",
        "  print('Accuracy is %f' % (correct/total) )\n",
        "  return correct/total"
      ],
      "execution_count": 0,
      "outputs": []
    },
    {
      "cell_type": "code",
      "metadata": {
        "id": "q_v0stF1jyZK",
        "colab_type": "code",
        "colab": {}
      },
      "source": [
        "vgg = vgg.to(device)\n",
        "loss_fn = nn.CrossEntropyLoss()\n",
        "opt = optim.SGD(vgg.parameters(), lr=0.001)"
      ],
      "execution_count": 0,
      "outputs": []
    },
    {
      "cell_type": "code",
      "metadata": {
        "id": "sjJ5tgMvj83r",
        "colab_type": "code",
        "outputId": "09ff3914-7e97-4b6a-8e87-4168429fb280",
        "colab": {
          "base_uri": "https://localhost:8080/",
          "height": 895
        }
      },
      "source": [
        "max_epochs = 1\n",
        "loss_epoch_arr = []\n",
        "\n",
        "n_iters = np.ceil(50000//batch_size)\n",
        "\n",
        "for epoch in range(max_epochs):\n",
        "  for i, data in enumerate(trainloader, 0):\n",
        "\n",
        "    images, labels = data\n",
        "    images, labels = images.to(device), labels.to(device)\n",
        "\n",
        "    opt.zero_grad()\n",
        "\n",
        "    outputs = vgg(images)\n",
        "    loss = loss_fn(outputs, labels)\n",
        "    loss.backward()\n",
        "    opt.step()\n",
        "\n",
        "    del images, labels, outputs\n",
        "    torch.cuda.empty_cache()\n",
        "\n",
        "    if i % 100 == 0:\n",
        "      print('%d/%d Training Loss: %.2f' % (i, n_iters, loss.item()))\n",
        "\n",
        "  loss_epoch_arr.append(loss.item())\n",
        "  print('%d/%d, Training Accuracy: %.2f Test Accuracy: %.2f'%(epoch, max_epochs, evaluation(trainloader, vgg), evaluation(testloader, vgg)))\n",
        "\n",
        "plt.plot(loss_epoch_arr)\n",
        "plt.show()"
      ],
      "execution_count": 0,
      "outputs": [
        {
          "output_type": "stream",
          "text": [
            "0/3125 Training Loss: 2.44\n",
            "100/3125 Training Loss: 2.76\n",
            "200/3125 Training Loss: 2.18\n",
            "300/3125 Training Loss: 2.02\n",
            "400/3125 Training Loss: 2.11\n",
            "500/3125 Training Loss: 2.07\n",
            "600/3125 Training Loss: 2.18\n",
            "700/3125 Training Loss: 2.13\n",
            "800/3125 Training Loss: 2.14\n",
            "900/3125 Training Loss: 2.17\n",
            "1000/3125 Training Loss: 1.95\n",
            "1100/3125 Training Loss: 2.11\n",
            "1200/3125 Training Loss: 1.95\n",
            "1300/3125 Training Loss: 2.02\n",
            "1400/3125 Training Loss: 2.46\n",
            "1500/3125 Training Loss: 2.00\n",
            "1600/3125 Training Loss: 1.87\n",
            "1700/3125 Training Loss: 1.88\n",
            "1800/3125 Training Loss: 2.12\n",
            "1900/3125 Training Loss: 1.59\n",
            "2000/3125 Training Loss: 2.39\n",
            "2100/3125 Training Loss: 1.90\n",
            "2200/3125 Training Loss: 1.67\n",
            "2300/3125 Training Loss: 2.04\n",
            "2400/3125 Training Loss: 1.90\n",
            "2500/3125 Training Loss: 1.66\n",
            "2600/3125 Training Loss: 1.59\n",
            "2700/3125 Training Loss: 2.14\n",
            "2800/3125 Training Loss: 1.90\n",
            "2900/3125 Training Loss: 2.35\n",
            "3000/3125 Training Loss: 2.03\n",
            "3100/3125 Training Loss: 1.96\n"
          ],
          "name": "stdout"
        },
        {
          "output_type": "error",
          "ename": "UnboundLocalError",
          "evalue": "ignored",
          "traceback": [
            "\u001b[0;31m---------------------------------------------------------------------------\u001b[0m",
            "\u001b[0;31mUnboundLocalError\u001b[0m                         Traceback (most recent call last)",
            "\u001b[0;32m<ipython-input-41-3bcd42cd1f11>\u001b[0m in \u001b[0;36m<module>\u001b[0;34m()\u001b[0m\n\u001b[1;32m     24\u001b[0m \u001b[0;34m\u001b[0m\u001b[0m\n\u001b[1;32m     25\u001b[0m   \u001b[0mloss_epoch_arr\u001b[0m\u001b[0;34m.\u001b[0m\u001b[0mappend\u001b[0m\u001b[0;34m(\u001b[0m\u001b[0mloss\u001b[0m\u001b[0;34m.\u001b[0m\u001b[0mitem\u001b[0m\u001b[0;34m(\u001b[0m\u001b[0;34m)\u001b[0m\u001b[0;34m)\u001b[0m\u001b[0;34m\u001b[0m\u001b[0;34m\u001b[0m\u001b[0m\n\u001b[0;32m---> 26\u001b[0;31m   \u001b[0mprint\u001b[0m\u001b[0;34m(\u001b[0m\u001b[0;34m'%d/%d, Training Accuracy: %.2f Test Accuracy: %.2f'\u001b[0m\u001b[0;34m%\u001b[0m\u001b[0;34m(\u001b[0m\u001b[0mepoch\u001b[0m\u001b[0;34m,\u001b[0m \u001b[0mmax_epochs\u001b[0m\u001b[0;34m,\u001b[0m \u001b[0mevaluation\u001b[0m\u001b[0;34m(\u001b[0m\u001b[0mtrainloader\u001b[0m\u001b[0;34m,\u001b[0m \u001b[0mvgg\u001b[0m\u001b[0;34m)\u001b[0m\u001b[0;34m,\u001b[0m \u001b[0mevaluation\u001b[0m\u001b[0;34m(\u001b[0m\u001b[0mtestloader\u001b[0m\u001b[0;34m,\u001b[0m \u001b[0mvgg\u001b[0m\u001b[0;34m)\u001b[0m\u001b[0;34m)\u001b[0m\u001b[0;34m)\u001b[0m\u001b[0;34m\u001b[0m\u001b[0;34m\u001b[0m\u001b[0m\n\u001b[0m\u001b[1;32m     27\u001b[0m \u001b[0;34m\u001b[0m\u001b[0m\n\u001b[1;32m     28\u001b[0m \u001b[0mplt\u001b[0m\u001b[0;34m.\u001b[0m\u001b[0mplot\u001b[0m\u001b[0;34m(\u001b[0m\u001b[0mloss_epoch_arr\u001b[0m\u001b[0;34m)\u001b[0m\u001b[0;34m\u001b[0m\u001b[0;34m\u001b[0m\u001b[0m\n",
            "\u001b[0;32m<ipython-input-35-beda9de0cf7f>\u001b[0m in \u001b[0;36mevaluation\u001b[0;34m(dataloader, model)\u001b[0m\n\u001b[1;32m      6\u001b[0m     \u001b[0moutputs\u001b[0m \u001b[0;34m=\u001b[0m \u001b[0mmodel\u001b[0m\u001b[0;34m(\u001b[0m\u001b[0mimages\u001b[0m\u001b[0;34m)\u001b[0m\u001b[0;34m\u001b[0m\u001b[0;34m\u001b[0m\u001b[0m\n\u001b[1;32m      7\u001b[0m     \u001b[0m_\u001b[0m\u001b[0;34m,\u001b[0m \u001b[0mpred\u001b[0m \u001b[0;34m=\u001b[0m \u001b[0mtorch\u001b[0m\u001b[0;34m.\u001b[0m\u001b[0mmax\u001b[0m\u001b[0;34m(\u001b[0m\u001b[0moutputs\u001b[0m\u001b[0;34m,\u001b[0m \u001b[0;36m1\u001b[0m\u001b[0;34m)\u001b[0m\u001b[0;34m\u001b[0m\u001b[0;34m\u001b[0m\u001b[0m\n\u001b[0;32m----> 8\u001b[0;31m     \u001b[0mtotal\u001b[0m \u001b[0;34m+=\u001b[0m \u001b[0mlabels\u001b[0m\u001b[0;34m.\u001b[0m\u001b[0msize\u001b[0m\u001b[0;34m(\u001b[0m\u001b[0;36m0\u001b[0m\u001b[0;34m)\u001b[0m\u001b[0;34m\u001b[0m\u001b[0;34m\u001b[0m\u001b[0m\n\u001b[0m\u001b[1;32m      9\u001b[0m     \u001b[0mcorrect\u001b[0m \u001b[0;34m+=\u001b[0m \u001b[0;34m(\u001b[0m\u001b[0mpred\u001b[0m\u001b[0;34m==\u001b[0m\u001b[0mlabels\u001b[0m\u001b[0;34m)\u001b[0m\u001b[0;34m.\u001b[0m\u001b[0msum\u001b[0m\u001b[0;34m(\u001b[0m\u001b[0;34m)\u001b[0m\u001b[0;34m.\u001b[0m\u001b[0mitem\u001b[0m\u001b[0;34m(\u001b[0m\u001b[0;34m)\u001b[0m\u001b[0;34m\u001b[0m\u001b[0;34m\u001b[0m\u001b[0m\n\u001b[1;32m     10\u001b[0m   \u001b[0mprint\u001b[0m\u001b[0;34m(\u001b[0m\u001b[0;34m'Accuracy is %f'\u001b[0m \u001b[0;34m%\u001b[0m \u001b[0;34m(\u001b[0m\u001b[0mcorrect\u001b[0m\u001b[0;34m/\u001b[0m\u001b[0mtotal\u001b[0m\u001b[0;34m)\u001b[0m \u001b[0;34m)\u001b[0m\u001b[0;34m\u001b[0m\u001b[0;34m\u001b[0m\u001b[0m\n",
            "\u001b[0;31mUnboundLocalError\u001b[0m: local variable 'total' referenced before assignment"
          ]
        }
      ]
    },
    {
      "cell_type": "code",
      "metadata": {
        "id": "-OoLssTxpwo5",
        "colab_type": "code",
        "outputId": "6f8db747-21bf-4c36-d19d-9f517d196e87",
        "colab": {
          "base_uri": "https://localhost:8080/",
          "height": 85
        }
      },
      "source": [
        "print(evaluation(trainloader, vgg))\n",
        "print(evaluation(testloader, vgg))"
      ],
      "execution_count": 0,
      "outputs": [
        {
          "output_type": "stream",
          "text": [
            "Accuracy is 0.315580\n",
            "0.31558\n",
            "Accuracy is 0.313400\n",
            "0.3134\n"
          ],
          "name": "stdout"
        }
      ]
    },
    {
      "cell_type": "markdown",
      "metadata": {
        "id": "mbixj2WHmq91",
        "colab_type": "text"
      },
      "source": [
        "## Freeze layers of Convolutional Operations"
      ]
    },
    {
      "cell_type": "code",
      "metadata": {
        "id": "j5Sfp9Jclx74",
        "colab_type": "code",
        "colab": {}
      },
      "source": [
        "batch_size = 64\n",
        "\n",
        "trainloader = torch.utils.data.DataLoader(trainset, batch_size=batch_size, shuffle=True)\n",
        "testloader = torch.utils.data.DataLoader(testset, batch_size=batch_size, shuffle=True)"
      ],
      "execution_count": 0,
      "outputs": []
    },
    {
      "cell_type": "code",
      "metadata": {
        "id": "_xlkryDvqQrT",
        "colab_type": "code",
        "outputId": "159e5266-9a17-4920-b8bd-faf0f3fb9e89",
        "colab": {
          "base_uri": "https://localhost:8080/",
          "height": 1000
        }
      },
      "source": [
        "vgg = models.vgg16_bn(pretrained=True)"
      ],
      "execution_count": 0,
      "outputs": [
        {
          "output_type": "stream",
          "text": [
            "Downloading: \"https://download.pytorch.org/models/vgg16_bn-6c64b313.pth\" to /root/.cache/torch/checkpoints/vgg16_bn-6c64b313.pth\n",
            "\n",
            "  0%|          | 0.00/528M [00:00<?, ?B/s]\u001b[A\n",
            "  1%|          | 2.89M/528M [00:00<00:18, 30.3MB/s]\u001b[A\n",
            "  1%|          | 5.62M/528M [00:00<00:18, 29.3MB/s]\u001b[A\n",
            "  2%|▏         | 8.38M/528M [00:00<00:18, 29.1MB/s]\u001b[A\n",
            "  2%|▏         | 11.0M/528M [00:00<00:19, 28.4MB/s]\u001b[A\n",
            "  3%|▎         | 13.5M/528M [00:00<00:19, 27.4MB/s]\u001b[A\n",
            "  3%|▎         | 16.1M/528M [00:00<00:19, 27.1MB/s]\u001b[A\n",
            "  4%|▎         | 18.7M/528M [00:00<00:19, 27.0MB/s]\u001b[A\n",
            "  4%|▍         | 21.5M/528M [00:00<00:19, 27.7MB/s]\u001b[A\n",
            "  5%|▍         | 24.2M/528M [00:00<00:19, 27.6MB/s]\u001b[A\n",
            "  5%|▌         | 26.8M/528M [00:01<00:19, 27.5MB/s]\u001b[A\n",
            "  6%|▌         | 29.5M/528M [00:01<00:18, 27.7MB/s]\u001b[A\n",
            "  6%|▌         | 32.2M/528M [00:01<00:18, 28.0MB/s]\u001b[A\n",
            "  7%|▋         | 34.9M/528M [00:01<00:18, 27.6MB/s]\u001b[A\n",
            "  7%|▋         | 37.7M/528M [00:01<00:18, 27.9MB/s]\u001b[A\n",
            "  8%|▊         | 40.3M/528M [00:01<00:18, 27.9MB/s]\u001b[A\n",
            "  8%|▊         | 43.0M/528M [00:01<00:18, 27.1MB/s]\u001b[A\n",
            "  9%|▊         | 45.8M/528M [00:01<00:18, 27.7MB/s]\u001b[A\n",
            "  9%|▉         | 48.5M/528M [00:01<00:18, 27.7MB/s]\u001b[A\n",
            " 10%|▉         | 51.2M/528M [00:01<00:18, 27.7MB/s]\u001b[A\n",
            " 10%|█         | 53.8M/528M [00:02<00:18, 27.6MB/s]\u001b[A\n",
            " 11%|█         | 56.6M/528M [00:02<00:17, 27.9MB/s]\u001b[A\n",
            " 11%|█         | 59.3M/528M [00:02<00:17, 27.8MB/s]\u001b[A\n",
            " 12%|█▏        | 61.9M/528M [00:02<00:18, 27.0MB/s]\u001b[A\n",
            " 12%|█▏        | 64.6M/528M [00:02<00:17, 27.2MB/s]\u001b[A\n",
            " 13%|█▎        | 67.4M/528M [00:02<00:17, 27.7MB/s]\u001b[A\n",
            " 13%|█▎        | 70.1M/528M [00:02<00:17, 27.6MB/s]\u001b[A\n",
            " 14%|█▍        | 72.7M/528M [00:02<00:17, 26.9MB/s]\u001b[A\n",
            " 14%|█▍        | 75.3M/528M [00:02<00:17, 26.9MB/s]\u001b[A\n",
            "170500096it [00:30, 14207386.07it/s]                               \n",
            " 15%|█▌        | 80.5M/528M [00:03<00:17, 27.0MB/s]\u001b[A\n",
            " 16%|█▌        | 83.3M/528M [00:03<00:16, 27.4MB/s]\u001b[A\n",
            " 16%|█▋        | 85.9M/528M [00:03<00:16, 27.5MB/s]\u001b[A\n",
            " 17%|█▋        | 88.5M/528M [00:03<00:16, 27.5MB/s]\u001b[A\n",
            " 17%|█▋        | 91.2M/528M [00:03<00:16, 27.5MB/s]\u001b[A\n",
            " 18%|█▊        | 93.8M/528M [00:03<00:16, 27.5MB/s]\u001b[A\n",
            " 18%|█▊        | 96.5M/528M [00:03<00:16, 27.5MB/s]\u001b[A\n",
            " 19%|█▉        | 99.1M/528M [00:03<00:16, 27.1MB/s]\u001b[A\n",
            " 19%|█▉        | 102M/528M [00:03<00:16, 27.5MB/s] \u001b[A\n",
            " 20%|█▉        | 105M/528M [00:03<00:15, 28.0MB/s]\u001b[A\n",
            " 20%|██        | 107M/528M [00:04<00:15, 28.2MB/s]\u001b[A\n",
            " 21%|██        | 110M/528M [00:04<00:15, 28.7MB/s]\u001b[A\n",
            " 21%|██▏       | 113M/528M [00:04<00:15, 27.8MB/s]\u001b[A\n",
            " 22%|██▏       | 116M/528M [00:04<00:16, 26.8MB/s]\u001b[A\n",
            " 22%|██▏       | 118M/528M [00:04<00:15, 27.3MB/s]\u001b[A\n",
            " 23%|██▎       | 121M/528M [00:04<00:16, 26.4MB/s]\u001b[A\n",
            " 23%|██▎       | 124M/528M [00:04<00:16, 25.9MB/s]\u001b[A\n",
            " 24%|██▍       | 126M/528M [00:04<00:15, 26.5MB/s]\u001b[A\n",
            " 24%|██▍       | 129M/528M [00:04<00:15, 27.1MB/s]\u001b[A\n",
            " 25%|██▍       | 132M/528M [00:05<00:15, 27.4MB/s]\u001b[A\n",
            " 25%|██▌       | 134M/528M [00:05<00:15, 27.3MB/s]\u001b[A\n",
            " 26%|██▌       | 137M/528M [00:05<00:14, 27.5MB/s]\u001b[A\n",
            " 26%|██▋       | 140M/528M [00:05<00:14, 27.4MB/s]\u001b[A\n",
            " 27%|██▋       | 142M/528M [00:05<00:15, 26.7MB/s]\u001b[A\n",
            " 28%|██▊       | 145M/528M [00:05<00:14, 27.3MB/s]\u001b[A\n",
            " 28%|██▊       | 148M/528M [00:05<00:14, 27.6MB/s]\u001b[A\n",
            " 29%|██▊       | 151M/528M [00:05<00:16, 24.3MB/s]\u001b[A\n",
            " 29%|██▉       | 154M/528M [00:05<00:15, 25.7MB/s]\u001b[A\n",
            " 30%|██▉       | 156M/528M [00:06<00:15, 25.8MB/s]\u001b[A\n",
            " 30%|███       | 159M/528M [00:06<00:15, 25.0MB/s]\u001b[A\n",
            " 31%|███       | 162M/528M [00:06<00:14, 26.2MB/s]\u001b[A\n",
            " 31%|███       | 164M/528M [00:06<00:14, 26.6MB/s]\u001b[A\n",
            " 32%|███▏      | 167M/528M [00:06<00:15, 25.0MB/s]\u001b[A\n",
            " 32%|███▏      | 169M/528M [00:06<00:15, 24.5MB/s]\u001b[A\n",
            " 33%|███▎      | 172M/528M [00:06<00:14, 25.3MB/s]\u001b[A\n",
            " 33%|███▎      | 174M/528M [00:06<00:17, 21.8MB/s]\u001b[A\n",
            " 34%|███▎      | 177M/528M [00:06<00:15, 23.5MB/s]\u001b[A\n",
            " 34%|███▍      | 180M/528M [00:07<00:14, 25.1MB/s]\u001b[A\n",
            " 35%|███▍      | 183M/528M [00:07<00:13, 26.0MB/s]\u001b[A\n",
            " 35%|███▌      | 185M/528M [00:07<00:17, 20.6MB/s]\u001b[A\n",
            " 36%|███▌      | 188M/528M [00:07<00:15, 22.4MB/s]\u001b[A\n",
            " 36%|███▌      | 190M/528M [00:07<00:16, 20.9MB/s]\u001b[A\n",
            " 37%|███▋      | 193M/528M [00:07<00:15, 22.8MB/s]\u001b[A\n",
            " 37%|███▋      | 196M/528M [00:07<00:14, 23.6MB/s]\u001b[A\n",
            " 38%|███▊      | 198M/528M [00:07<00:15, 22.0MB/s]\u001b[A\n",
            " 38%|███▊      | 201M/528M [00:07<00:14, 23.2MB/s]\u001b[A\n",
            " 39%|███▊      | 203M/528M [00:08<00:13, 24.3MB/s]\u001b[A\n",
            " 39%|███▉      | 206M/528M [00:08<00:17, 19.7MB/s]\u001b[A\n",
            " 40%|███▉      | 209M/528M [00:08<00:15, 21.8MB/s]\u001b[A\n",
            " 40%|███▉      | 211M/528M [00:08<00:16, 20.4MB/s]\u001b[A\n",
            " 40%|████      | 214M/528M [00:08<00:14, 22.3MB/s]\u001b[A\n",
            " 41%|████      | 216M/528M [00:08<00:14, 22.5MB/s]\u001b[A\n",
            " 41%|████▏     | 218M/528M [00:08<00:15, 21.4MB/s]\u001b[A\n",
            " 42%|████▏     | 220M/528M [00:08<00:16, 19.9MB/s]\u001b[A\n",
            " 42%|████▏     | 223M/528M [00:09<00:14, 21.7MB/s]\u001b[A\n",
            " 43%|████▎     | 225M/528M [00:09<00:13, 22.8MB/s]\u001b[A\n",
            " 43%|████▎     | 228M/528M [00:09<00:13, 24.0MB/s]\u001b[A\n",
            " 44%|████▎     | 230M/528M [00:09<00:13, 23.9MB/s]\u001b[A\n",
            " 44%|████▍     | 233M/528M [00:09<00:15, 20.0MB/s]\u001b[A\n",
            " 45%|████▍     | 235M/528M [00:09<00:14, 21.7MB/s]\u001b[A\n",
            " 45%|████▌     | 238M/528M [00:09<00:13, 22.5MB/s]\u001b[A\n",
            " 46%|████▌     | 241M/528M [00:09<00:12, 24.1MB/s]\u001b[A\n",
            " 46%|████▌     | 243M/528M [00:10<00:15, 19.8MB/s]\u001b[A\n",
            " 46%|████▋     | 245M/528M [00:10<00:15, 18.7MB/s]\u001b[A\n",
            " 47%|████▋     | 247M/528M [00:10<00:15, 18.8MB/s]\u001b[A\n",
            " 47%|████▋     | 249M/528M [00:10<00:17, 17.2MB/s]\u001b[A\n",
            " 48%|████▊     | 252M/528M [00:10<00:14, 19.5MB/s]\u001b[A\n",
            " 48%|████▊     | 254M/528M [00:10<00:13, 21.5MB/s]\u001b[A\n",
            " 49%|████▊     | 257M/528M [00:10<00:12, 22.0MB/s]\u001b[A\n",
            " 49%|████▉     | 259M/528M [00:10<00:13, 21.6MB/s]\u001b[A\n",
            " 49%|████▉     | 261M/528M [00:10<00:12, 22.2MB/s]\u001b[A\n",
            " 50%|█████     | 264M/528M [00:11<00:11, 23.8MB/s]\u001b[A\n",
            " 50%|█████     | 267M/528M [00:11<00:11, 24.6MB/s]\u001b[A\n",
            " 51%|█████     | 269M/528M [00:11<00:10, 25.8MB/s]\u001b[A\n",
            " 52%|█████▏    | 272M/528M [00:11<00:10, 25.9MB/s]\u001b[A\n",
            " 52%|█████▏    | 275M/528M [00:11<00:10, 26.5MB/s]\u001b[A\n",
            " 53%|█████▎    | 277M/528M [00:11<00:09, 27.1MB/s]\u001b[A\n",
            " 53%|█████▎    | 280M/528M [00:11<00:09, 27.6MB/s]\u001b[A\n",
            " 54%|█████▎    | 283M/528M [00:11<00:09, 27.6MB/s]\u001b[A\n",
            " 54%|█████▍    | 286M/528M [00:11<00:09, 28.0MB/s]\u001b[A\n",
            " 55%|█████▍    | 288M/528M [00:11<00:08, 28.1MB/s]\u001b[A\n",
            " 55%|█████▌    | 291M/528M [00:12<00:08, 27.8MB/s]\u001b[A\n",
            " 56%|█████▌    | 294M/528M [00:12<00:08, 28.3MB/s]\u001b[A\n",
            " 56%|█████▌    | 297M/528M [00:12<00:08, 27.5MB/s]\u001b[A\n",
            " 57%|█████▋    | 299M/528M [00:12<00:08, 27.3MB/s]\u001b[A\n",
            " 57%|█████▋    | 302M/528M [00:12<00:08, 27.4MB/s]\u001b[A\n",
            " 58%|█████▊    | 304M/528M [00:12<00:08, 26.9MB/s]\u001b[A\n",
            " 58%|█████▊    | 307M/528M [00:12<00:08, 27.0MB/s]\u001b[A\n",
            " 59%|█████▊    | 310M/528M [00:12<00:08, 27.1MB/s]\u001b[A\n",
            " 59%|█████▉    | 312M/528M [00:12<00:08, 27.5MB/s]\u001b[A\n",
            " 60%|█████▉    | 315M/528M [00:12<00:08, 27.5MB/s]\u001b[A\n",
            " 60%|██████    | 318M/528M [00:13<00:08, 26.9MB/s]\u001b[A\n",
            " 61%|██████    | 320M/528M [00:13<00:08, 26.9MB/s]\u001b[A\n",
            " 61%|██████    | 323M/528M [00:13<00:07, 27.8MB/s]\u001b[A\n",
            " 62%|██████▏   | 326M/528M [00:13<00:07, 26.9MB/s]\u001b[A\n",
            " 62%|██████▏   | 329M/528M [00:13<00:07, 27.3MB/s]\u001b[A\n",
            " 63%|██████▎   | 331M/528M [00:13<00:07, 27.1MB/s]\u001b[A\n",
            " 63%|██████▎   | 334M/528M [00:13<00:07, 27.2MB/s]\u001b[A\n",
            " 64%|██████▎   | 336M/528M [00:13<00:07, 27.2MB/s]\u001b[A\n",
            " 64%|██████▍   | 339M/528M [00:13<00:07, 27.4MB/s]\u001b[A\n",
            " 65%|██████▍   | 342M/528M [00:14<00:07, 27.1MB/s]\u001b[A\n",
            " 65%|██████▌   | 345M/528M [00:14<00:06, 27.8MB/s]\u001b[A\n",
            " 66%|██████▌   | 347M/528M [00:14<00:06, 27.8MB/s]\u001b[A\n",
            " 66%|██████▋   | 350M/528M [00:14<00:06, 27.7MB/s]\u001b[A\n",
            " 67%|██████▋   | 353M/528M [00:14<00:06, 27.5MB/s]\u001b[A\n",
            " 67%|██████▋   | 355M/528M [00:14<00:06, 26.3MB/s]\u001b[A\n",
            " 68%|██████▊   | 358M/528M [00:14<00:06, 26.4MB/s]\u001b[A\n",
            " 68%|██████▊   | 361M/528M [00:14<00:06, 27.2MB/s]\u001b[A\n",
            " 69%|██████▉   | 363M/528M [00:14<00:06, 26.4MB/s]\u001b[A\n",
            " 69%|██████▉   | 366M/528M [00:14<00:06, 27.3MB/s]\u001b[A\n",
            " 70%|██████▉   | 369M/528M [00:15<00:06, 26.9MB/s]\u001b[A\n",
            " 70%|███████   | 371M/528M [00:15<00:06, 27.2MB/s]\u001b[A\n",
            " 71%|███████   | 374M/528M [00:15<00:05, 27.4MB/s]\u001b[A\n",
            " 71%|███████▏  | 377M/528M [00:15<00:06, 25.2MB/s]\u001b[A\n",
            " 72%|███████▏  | 379M/528M [00:15<00:05, 26.0MB/s]\u001b[A\n",
            " 72%|███████▏  | 382M/528M [00:15<00:05, 26.6MB/s]\u001b[A\n",
            " 73%|███████▎  | 385M/528M [00:15<00:05, 26.1MB/s]\u001b[A\n",
            " 73%|███████▎  | 387M/528M [00:15<00:05, 26.6MB/s]\u001b[A\n",
            " 74%|███████▍  | 390M/528M [00:15<00:05, 27.0MB/s]\u001b[A\n",
            " 74%|███████▍  | 393M/528M [00:15<00:05, 27.5MB/s]\u001b[A\n",
            " 75%|███████▍  | 395M/528M [00:16<00:05, 27.4MB/s]\u001b[A\n",
            " 75%|███████▌  | 398M/528M [00:16<00:04, 27.6MB/s]\u001b[A\n",
            " 76%|███████▌  | 401M/528M [00:16<00:04, 27.6MB/s]\u001b[A\n",
            " 76%|███████▋  | 403M/528M [00:16<00:04, 27.5MB/s]\u001b[A\n",
            " 77%|███████▋  | 406M/528M [00:16<00:04, 27.6MB/s]\u001b[A\n",
            " 77%|███████▋  | 409M/528M [00:16<00:04, 27.4MB/s]\u001b[A\n",
            " 78%|███████▊  | 411M/528M [00:16<00:04, 27.3MB/s]\u001b[A\n",
            " 78%|███████▊  | 414M/528M [00:16<00:04, 26.7MB/s]\u001b[A\n",
            " 79%|███████▉  | 417M/528M [00:16<00:04, 27.2MB/s]\u001b[A\n",
            " 79%|███████▉  | 419M/528M [00:17<00:06, 18.3MB/s]\u001b[A\n",
            " 80%|████████  | 423M/528M [00:17<00:05, 21.4MB/s]\u001b[A\n",
            " 81%|████████  | 425M/528M [00:17<00:04, 22.9MB/s]\u001b[A\n",
            " 81%|████████  | 428M/528M [00:17<00:04, 24.5MB/s]\u001b[A\n",
            " 82%|████████▏ | 431M/528M [00:17<00:04, 25.3MB/s]\u001b[A\n",
            " 82%|████████▏ | 433M/528M [00:17<00:03, 25.7MB/s]\u001b[A\n",
            " 83%|████████▎ | 436M/528M [00:17<00:03, 25.6MB/s]\u001b[A\n",
            " 83%|████████▎ | 439M/528M [00:17<00:03, 26.4MB/s]\u001b[A\n",
            " 84%|████████▎ | 441M/528M [00:17<00:03, 26.6MB/s]\u001b[A\n",
            " 84%|████████▍ | 444M/528M [00:18<00:03, 25.9MB/s]\u001b[A\n",
            " 85%|████████▍ | 446M/528M [00:18<00:03, 26.0MB/s]\u001b[A\n",
            " 85%|████████▌ | 449M/528M [00:18<00:03, 26.9MB/s]\u001b[A\n",
            " 86%|████████▌ | 452M/528M [00:18<00:03, 26.3MB/s]\u001b[A\n",
            " 86%|████████▌ | 455M/528M [00:18<00:02, 27.1MB/s]\u001b[A\n",
            " 87%|████████▋ | 457M/528M [00:18<00:02, 27.2MB/s]\u001b[A\n",
            " 87%|████████▋ | 460M/528M [00:18<00:02, 27.5MB/s]\u001b[A\n",
            " 88%|████████▊ | 462M/528M [00:18<00:02, 27.4MB/s]\u001b[A\n",
            " 88%|████████▊ | 465M/528M [00:18<00:02, 26.7MB/s]\u001b[A\n",
            " 89%|████████▊ | 468M/528M [00:19<00:02, 26.9MB/s]\u001b[A\n",
            " 89%|████████▉ | 470M/528M [00:19<00:02, 26.7MB/s]\u001b[A\n",
            " 90%|████████▉ | 473M/528M [00:19<00:02, 27.2MB/s]\u001b[A\n",
            " 90%|█████████ | 476M/528M [00:19<00:02, 26.8MB/s]\u001b[A\n",
            " 91%|█████████ | 478M/528M [00:19<00:01, 27.0MB/s]\u001b[A\n",
            " 91%|█████████ | 481M/528M [00:19<00:01, 27.6MB/s]\u001b[A\n",
            " 92%|█████████▏| 484M/528M [00:19<00:01, 27.7MB/s]\u001b[A\n",
            " 92%|█████████▏| 487M/528M [00:19<00:01, 27.9MB/s]\u001b[A\n",
            " 93%|█████████▎| 489M/528M [00:19<00:01, 27.9MB/s]\u001b[A\n",
            " 93%|█████████▎| 492M/528M [00:19<00:01, 26.4MB/s]\u001b[A\n",
            " 94%|█████████▎| 494M/528M [00:20<00:01, 26.4MB/s]\u001b[A\n",
            " 94%|█████████▍| 497M/528M [00:20<00:01, 26.4MB/s]\u001b[A\n",
            " 95%|█████████▍| 499M/528M [00:20<00:01, 26.4MB/s]\u001b[A\n",
            " 95%|█████████▌| 502M/528M [00:20<00:01, 26.7MB/s]\u001b[A\n",
            " 96%|█████████▌| 505M/528M [00:20<00:00, 26.6MB/s]\u001b[A\n",
            " 96%|█████████▌| 507M/528M [00:20<00:00, 26.4MB/s]\u001b[A\n",
            " 97%|█████████▋| 510M/528M [00:20<00:00, 27.0MB/s]\u001b[A\n",
            " 97%|█████████▋| 513M/528M [00:20<00:00, 24.2MB/s]\u001b[A\n",
            " 98%|█████████▊| 515M/528M [00:20<00:00, 25.1MB/s]\u001b[A\n",
            " 98%|█████████▊| 518M/528M [00:21<00:00, 26.4MB/s]\u001b[A\n",
            " 99%|█████████▊| 521M/528M [00:21<00:00, 26.9MB/s]\u001b[A\n",
            " 99%|█████████▉| 524M/528M [00:21<00:00, 26.4MB/s]\u001b[A\n",
            "100%|█████████▉| 526M/528M [00:21<00:00, 26.5MB/s]\u001b[A\n",
            "100%|██████████| 528M/528M [00:21<00:00, 25.8MB/s]\u001b[A"
          ],
          "name": "stderr"
        }
      ]
    },
    {
      "cell_type": "code",
      "metadata": {
        "id": "MRvCz87iH0Y-",
        "colab_type": "code",
        "outputId": "0078c0ed-6e4d-4b3a-f8cc-65e9455c6edb",
        "colab": {
          "base_uri": "https://localhost:8080/",
          "height": 1000
        }
      },
      "source": [
        "print(vgg)"
      ],
      "execution_count": 0,
      "outputs": [
        {
          "output_type": "stream",
          "text": [
            "VGG(\n",
            "  (features): Sequential(\n",
            "    (0): Conv2d(3, 64, kernel_size=(3, 3), stride=(1, 1), padding=(1, 1))\n",
            "    (1): BatchNorm2d(64, eps=1e-05, momentum=0.1, affine=True, track_running_stats=True)\n",
            "    (2): ReLU(inplace=True)\n",
            "    (3): Conv2d(64, 64, kernel_size=(3, 3), stride=(1, 1), padding=(1, 1))\n",
            "    (4): BatchNorm2d(64, eps=1e-05, momentum=0.1, affine=True, track_running_stats=True)\n",
            "    (5): ReLU(inplace=True)\n",
            "    (6): MaxPool2d(kernel_size=2, stride=2, padding=0, dilation=1, ceil_mode=False)\n",
            "    (7): Conv2d(64, 128, kernel_size=(3, 3), stride=(1, 1), padding=(1, 1))\n",
            "    (8): BatchNorm2d(128, eps=1e-05, momentum=0.1, affine=True, track_running_stats=True)\n",
            "    (9): ReLU(inplace=True)\n",
            "    (10): Conv2d(128, 128, kernel_size=(3, 3), stride=(1, 1), padding=(1, 1))\n",
            "    (11): BatchNorm2d(128, eps=1e-05, momentum=0.1, affine=True, track_running_stats=True)\n",
            "    (12): ReLU(inplace=True)\n",
            "    (13): MaxPool2d(kernel_size=2, stride=2, padding=0, dilation=1, ceil_mode=False)\n",
            "    (14): Conv2d(128, 256, kernel_size=(3, 3), stride=(1, 1), padding=(1, 1))\n",
            "    (15): BatchNorm2d(256, eps=1e-05, momentum=0.1, affine=True, track_running_stats=True)\n",
            "    (16): ReLU(inplace=True)\n",
            "    (17): Conv2d(256, 256, kernel_size=(3, 3), stride=(1, 1), padding=(1, 1))\n",
            "    (18): BatchNorm2d(256, eps=1e-05, momentum=0.1, affine=True, track_running_stats=True)\n",
            "    (19): ReLU(inplace=True)\n",
            "    (20): Conv2d(256, 256, kernel_size=(3, 3), stride=(1, 1), padding=(1, 1))\n",
            "    (21): BatchNorm2d(256, eps=1e-05, momentum=0.1, affine=True, track_running_stats=True)\n",
            "    (22): ReLU(inplace=True)\n",
            "    (23): MaxPool2d(kernel_size=2, stride=2, padding=0, dilation=1, ceil_mode=False)\n",
            "    (24): Conv2d(256, 512, kernel_size=(3, 3), stride=(1, 1), padding=(1, 1))\n",
            "    (25): BatchNorm2d(512, eps=1e-05, momentum=0.1, affine=True, track_running_stats=True)\n",
            "    (26): ReLU(inplace=True)\n",
            "    (27): Conv2d(512, 512, kernel_size=(3, 3), stride=(1, 1), padding=(1, 1))\n",
            "    (28): BatchNorm2d(512, eps=1e-05, momentum=0.1, affine=True, track_running_stats=True)\n",
            "    (29): ReLU(inplace=True)\n",
            "    (30): Conv2d(512, 512, kernel_size=(3, 3), stride=(1, 1), padding=(1, 1))\n",
            "    (31): BatchNorm2d(512, eps=1e-05, momentum=0.1, affine=True, track_running_stats=True)\n",
            "    (32): ReLU(inplace=True)\n",
            "    (33): MaxPool2d(kernel_size=2, stride=2, padding=0, dilation=1, ceil_mode=False)\n",
            "    (34): Conv2d(512, 512, kernel_size=(3, 3), stride=(1, 1), padding=(1, 1))\n",
            "    (35): BatchNorm2d(512, eps=1e-05, momentum=0.1, affine=True, track_running_stats=True)\n",
            "    (36): ReLU(inplace=True)\n",
            "    (37): Conv2d(512, 512, kernel_size=(3, 3), stride=(1, 1), padding=(1, 1))\n",
            "    (38): BatchNorm2d(512, eps=1e-05, momentum=0.1, affine=True, track_running_stats=True)\n",
            "    (39): ReLU(inplace=True)\n",
            "    (40): Conv2d(512, 512, kernel_size=(3, 3), stride=(1, 1), padding=(1, 1))\n",
            "    (41): BatchNorm2d(512, eps=1e-05, momentum=0.1, affine=True, track_running_stats=True)\n",
            "    (42): ReLU(inplace=True)\n",
            "    (43): MaxPool2d(kernel_size=2, stride=2, padding=0, dilation=1, ceil_mode=False)\n",
            "  )\n",
            "  (avgpool): AdaptiveAvgPool2d(output_size=(7, 7))\n",
            "  (classifier): Sequential(\n",
            "    (0): Linear(in_features=25088, out_features=4096, bias=True)\n",
            "    (1): ReLU(inplace=True)\n",
            "    (2): Dropout(p=0.5, inplace=False)\n",
            "    (3): Linear(in_features=4096, out_features=4096, bias=True)\n",
            "    (4): ReLU(inplace=True)\n",
            "    (5): Dropout(p=0.5, inplace=False)\n",
            "    (6): Linear(in_features=4096, out_features=1000, bias=True)\n",
            "  )\n",
            ")\n"
          ],
          "name": "stdout"
        }
      ]
    },
    {
      "cell_type": "code",
      "metadata": {
        "id": "vigzmmHFqQlw",
        "colab_type": "code",
        "colab": {}
      },
      "source": [
        "for param in vgg.parameters():\n",
        "  param.requires_grad = False"
      ],
      "execution_count": 0,
      "outputs": []
    },
    {
      "cell_type": "code",
      "metadata": {
        "id": "4BD9WSdrqQZY",
        "colab_type": "code",
        "colab": {}
      },
      "source": [
        "final_in_features = vgg.classifier[6].in_features\n",
        "vgg.classifier[6] = nn.Linear(final_in_features, num_classes)"
      ],
      "execution_count": 0,
      "outputs": []
    },
    {
      "cell_type": "code",
      "metadata": {
        "id": "pA2GcUtIrrgj",
        "colab_type": "code",
        "outputId": "afe107c0-d61d-40e3-aa96-b9f8e6c238f4",
        "colab": {
          "base_uri": "https://localhost:8080/",
          "height": 51
        }
      },
      "source": [
        "for param in vgg.parameters():\n",
        "  if param.requires_grad:\n",
        "    print(param.shape)"
      ],
      "execution_count": 0,
      "outputs": [
        {
          "output_type": "stream",
          "text": [
            "torch.Size([10, 4096])\n",
            "torch.Size([10])\n"
          ],
          "name": "stdout"
        }
      ]
    },
    {
      "cell_type": "code",
      "metadata": {
        "id": "iXsyNorYrxl3",
        "colab_type": "code",
        "colab": {}
      },
      "source": [
        "vgg = vgg.to(device)\n",
        "loss_fn = nn.CrossEntropyLoss()\n",
        "opt = optim.SGD(vgg.parameters(), lr=0.005)"
      ],
      "execution_count": 0,
      "outputs": []
    },
    {
      "cell_type": "code",
      "metadata": {
        "id": "K6nZpPahsNLN",
        "colab_type": "code",
        "outputId": "8cdbb862-368c-436e-be94-c4437d8b495e",
        "colab": {
          "base_uri": "https://localhost:8080/",
          "height": 1000
        }
      },
      "source": [
        "max_epochs = 100\n",
        "loss_epoch_arr = []\n",
        "\n",
        "n_iters = np.ceil(50000//batch_size)\n",
        "\n",
        "for epoch in range(max_epochs):\n",
        "  for i, data in enumerate(trainloader, 0):\n",
        "\n",
        "    images, labels = data\n",
        "    images, labels = images.to(device), labels.to(device)\n",
        "\n",
        "    opt.zero_grad()\n",
        "\n",
        "    outputs = vgg(images)\n",
        "    loss = loss_fn(outputs, labels)\n",
        "    loss.backward()\n",
        "    opt.step()\n",
        "\n",
        "    del images, labels, outputs\n",
        "    torch.cuda.empty_cache()\n",
        "\n",
        "    if i % 100 == 0:\n",
        "      print('%d: %d/%d Training Loss: %.2f' % (epoch, i, n_iters, loss.item()))\n",
        "\n",
        "  loss_epoch_arr.append(loss.item())\n",
        "  if epoch+1 % 100 == 0:\n",
        "    print('%d/%d, Training Accuracy: %.2f Test Accuracy: %.2f'%(epoch+1, max_epochs, evaluation(trainloader, vgg), evaluation(testloader, vgg)))\n",
        "\n",
        "# plt.plot(loss_epoch_arr)\n",
        "# plt.show()"
      ],
      "execution_count": 0,
      "outputs": [
        {
          "output_type": "stream",
          "text": [
            "0/781 Training Loss: 2.30\n",
            "100/781 Training Loss: 1.80\n",
            "200/781 Training Loss: 1.60\n",
            "300/781 Training Loss: 1.76\n",
            "400/781 Training Loss: 1.47\n",
            "500/781 Training Loss: 1.58\n",
            "600/781 Training Loss: 1.40\n",
            "700/781 Training Loss: 1.34\n",
            "0/781 Training Loss: 1.59\n",
            "100/781 Training Loss: 1.41\n",
            "200/781 Training Loss: 1.22\n",
            "300/781 Training Loss: 1.26\n",
            "400/781 Training Loss: 1.31\n",
            "500/781 Training Loss: 1.51\n",
            "600/781 Training Loss: 1.25\n",
            "700/781 Training Loss: 1.42\n",
            "0/781 Training Loss: 1.36\n",
            "100/781 Training Loss: 1.25\n",
            "200/781 Training Loss: 1.43\n",
            "300/781 Training Loss: 1.36\n",
            "400/781 Training Loss: 1.33\n",
            "500/781 Training Loss: 1.31\n",
            "600/781 Training Loss: 1.22\n",
            "700/781 Training Loss: 1.22\n",
            "0/781 Training Loss: 1.41\n",
            "100/781 Training Loss: 1.26\n",
            "200/781 Training Loss: 1.51\n",
            "300/781 Training Loss: 1.29\n",
            "400/781 Training Loss: 1.09\n",
            "500/781 Training Loss: 1.60\n",
            "600/781 Training Loss: 1.26\n",
            "700/781 Training Loss: 1.25\n",
            "0/781 Training Loss: 1.37\n",
            "100/781 Training Loss: 1.48\n",
            "200/781 Training Loss: 1.10\n",
            "300/781 Training Loss: 1.32\n",
            "400/781 Training Loss: 1.50\n",
            "500/781 Training Loss: 1.32\n",
            "600/781 Training Loss: 1.05\n",
            "700/781 Training Loss: 1.13\n",
            "0/781 Training Loss: 1.22\n",
            "100/781 Training Loss: 1.29\n",
            "200/781 Training Loss: 1.15\n",
            "300/781 Training Loss: 1.22\n",
            "400/781 Training Loss: 1.26\n",
            "500/781 Training Loss: 1.42\n",
            "600/781 Training Loss: 1.43\n",
            "700/781 Training Loss: 1.19\n",
            "0/781 Training Loss: 1.07\n",
            "100/781 Training Loss: 1.17\n",
            "200/781 Training Loss: 1.16\n",
            "300/781 Training Loss: 0.90\n",
            "400/781 Training Loss: 1.59\n",
            "500/781 Training Loss: 1.14\n",
            "600/781 Training Loss: 0.97\n",
            "700/781 Training Loss: 1.13\n",
            "0/781 Training Loss: 1.56\n",
            "100/781 Training Loss: 1.18\n",
            "200/781 Training Loss: 1.09\n",
            "300/781 Training Loss: 1.22\n",
            "400/781 Training Loss: 1.36\n",
            "500/781 Training Loss: 1.07\n",
            "600/781 Training Loss: 1.23\n",
            "700/781 Training Loss: 1.26\n",
            "0/781 Training Loss: 1.20\n",
            "100/781 Training Loss: 1.37\n",
            "200/781 Training Loss: 1.62\n",
            "300/781 Training Loss: 1.13\n",
            "400/781 Training Loss: 1.13\n",
            "500/781 Training Loss: 1.27\n",
            "600/781 Training Loss: 1.07\n",
            "700/781 Training Loss: 1.22\n",
            "0/781 Training Loss: 1.24\n",
            "100/781 Training Loss: 1.19\n",
            "200/781 Training Loss: 1.30\n",
            "300/781 Training Loss: 1.24\n",
            "400/781 Training Loss: 1.30\n",
            "500/781 Training Loss: 1.30\n",
            "600/781 Training Loss: 1.38\n",
            "700/781 Training Loss: 1.44\n",
            "0/781 Training Loss: 1.14\n",
            "100/781 Training Loss: 1.27\n",
            "200/781 Training Loss: 1.17\n",
            "300/781 Training Loss: 1.23\n",
            "400/781 Training Loss: 1.29\n",
            "500/781 Training Loss: 1.17\n",
            "600/781 Training Loss: 1.07\n",
            "700/781 Training Loss: 1.55\n",
            "0/781 Training Loss: 1.25\n",
            "100/781 Training Loss: 1.12\n",
            "200/781 Training Loss: 1.18\n",
            "300/781 Training Loss: 1.41\n",
            "400/781 Training Loss: 1.30\n",
            "500/781 Training Loss: 1.18\n",
            "600/781 Training Loss: 1.08\n",
            "700/781 Training Loss: 1.27\n",
            "0/781 Training Loss: 1.17\n",
            "100/781 Training Loss: 1.21\n",
            "200/781 Training Loss: 1.18\n",
            "300/781 Training Loss: 1.40\n",
            "400/781 Training Loss: 1.36\n",
            "500/781 Training Loss: 1.23\n",
            "600/781 Training Loss: 1.43\n",
            "700/781 Training Loss: 1.04\n",
            "0/781 Training Loss: 1.31\n",
            "100/781 Training Loss: 1.14\n",
            "200/781 Training Loss: 1.13\n",
            "300/781 Training Loss: 1.31\n",
            "400/781 Training Loss: 1.27\n",
            "500/781 Training Loss: 1.40\n",
            "600/781 Training Loss: 1.12\n",
            "700/781 Training Loss: 1.13\n",
            "0/781 Training Loss: 1.22\n",
            "100/781 Training Loss: 1.19\n",
            "200/781 Training Loss: 1.25\n",
            "300/781 Training Loss: 1.44\n",
            "400/781 Training Loss: 1.14\n",
            "500/781 Training Loss: 1.12\n",
            "600/781 Training Loss: 1.31\n",
            "700/781 Training Loss: 1.23\n",
            "0/781 Training Loss: 1.16\n",
            "100/781 Training Loss: 1.25\n",
            "200/781 Training Loss: 1.07\n",
            "300/781 Training Loss: 1.20\n",
            "400/781 Training Loss: 1.14\n",
            "500/781 Training Loss: 1.15\n",
            "600/781 Training Loss: 1.19\n",
            "700/781 Training Loss: 1.13\n",
            "0/781 Training Loss: 1.42\n",
            "100/781 Training Loss: 1.29\n",
            "200/781 Training Loss: 1.22\n",
            "300/781 Training Loss: 1.34\n",
            "400/781 Training Loss: 1.30\n",
            "500/781 Training Loss: 0.86\n",
            "600/781 Training Loss: 1.20\n",
            "700/781 Training Loss: 1.13\n",
            "0/781 Training Loss: 1.15\n",
            "100/781 Training Loss: 0.96\n",
            "200/781 Training Loss: 1.42\n",
            "300/781 Training Loss: 1.21\n",
            "400/781 Training Loss: 1.17\n",
            "500/781 Training Loss: 1.17\n",
            "600/781 Training Loss: 1.18\n",
            "700/781 Training Loss: 1.12\n",
            "0/781 Training Loss: 1.18\n",
            "100/781 Training Loss: 1.00\n",
            "200/781 Training Loss: 1.18\n",
            "300/781 Training Loss: 0.98\n",
            "400/781 Training Loss: 1.22\n",
            "500/781 Training Loss: 1.24\n",
            "600/781 Training Loss: 1.19\n",
            "700/781 Training Loss: 1.21\n",
            "0/781 Training Loss: 1.15\n",
            "100/781 Training Loss: 1.09\n",
            "200/781 Training Loss: 1.29\n",
            "300/781 Training Loss: 1.20\n",
            "400/781 Training Loss: 1.00\n",
            "500/781 Training Loss: 1.31\n",
            "600/781 Training Loss: 0.96\n",
            "700/781 Training Loss: 1.09\n",
            "0/781 Training Loss: 1.34\n",
            "100/781 Training Loss: 1.15\n",
            "200/781 Training Loss: 1.20\n",
            "300/781 Training Loss: 1.29\n",
            "400/781 Training Loss: 1.18\n",
            "500/781 Training Loss: 1.03\n",
            "600/781 Training Loss: 1.26\n",
            "700/781 Training Loss: 1.23\n",
            "0/781 Training Loss: 1.26\n",
            "100/781 Training Loss: 1.07\n",
            "200/781 Training Loss: 1.31\n",
            "300/781 Training Loss: 1.20\n",
            "400/781 Training Loss: 1.18\n",
            "500/781 Training Loss: 1.26\n",
            "600/781 Training Loss: 1.29\n",
            "700/781 Training Loss: 1.18\n",
            "0/781 Training Loss: 1.04\n",
            "100/781 Training Loss: 1.18\n",
            "200/781 Training Loss: 1.26\n",
            "300/781 Training Loss: 1.27\n",
            "400/781 Training Loss: 1.07\n",
            "500/781 Training Loss: 1.28\n",
            "600/781 Training Loss: 1.18\n",
            "700/781 Training Loss: 1.17\n",
            "0/781 Training Loss: 1.44\n",
            "100/781 Training Loss: 1.13\n",
            "200/781 Training Loss: 1.13\n",
            "300/781 Training Loss: 1.34\n",
            "400/781 Training Loss: 1.42\n",
            "500/781 Training Loss: 1.35\n",
            "600/781 Training Loss: 1.28\n",
            "700/781 Training Loss: 1.27\n",
            "0/781 Training Loss: 1.25\n",
            "100/781 Training Loss: 1.09\n",
            "200/781 Training Loss: 1.25\n",
            "300/781 Training Loss: 1.17\n",
            "400/781 Training Loss: 1.00\n",
            "500/781 Training Loss: 1.26\n",
            "600/781 Training Loss: 1.22\n",
            "700/781 Training Loss: 0.90\n",
            "0/781 Training Loss: 1.15\n",
            "100/781 Training Loss: 1.27\n",
            "200/781 Training Loss: 0.85\n",
            "300/781 Training Loss: 1.41\n",
            "400/781 Training Loss: 1.34\n",
            "500/781 Training Loss: 0.88\n",
            "600/781 Training Loss: 1.38\n",
            "700/781 Training Loss: 1.11\n",
            "0/781 Training Loss: 1.10\n",
            "100/781 Training Loss: 1.33\n",
            "200/781 Training Loss: 1.63\n",
            "300/781 Training Loss: 1.38\n",
            "400/781 Training Loss: 1.11\n",
            "500/781 Training Loss: 1.33\n",
            "600/781 Training Loss: 1.16\n",
            "700/781 Training Loss: 1.32\n",
            "0/781 Training Loss: 1.05\n",
            "100/781 Training Loss: 1.42\n",
            "200/781 Training Loss: 1.29\n",
            "300/781 Training Loss: 1.15\n",
            "400/781 Training Loss: 1.48\n",
            "500/781 Training Loss: 1.36\n",
            "600/781 Training Loss: 1.21\n",
            "700/781 Training Loss: 1.16\n",
            "0/781 Training Loss: 1.24\n",
            "100/781 Training Loss: 1.45\n",
            "200/781 Training Loss: 1.10\n",
            "300/781 Training Loss: 1.28\n",
            "400/781 Training Loss: 1.39\n",
            "500/781 Training Loss: 1.18\n",
            "600/781 Training Loss: 1.05\n",
            "700/781 Training Loss: 1.38\n",
            "0/781 Training Loss: 1.03\n",
            "100/781 Training Loss: 1.34\n",
            "200/781 Training Loss: 1.12\n",
            "300/781 Training Loss: 1.11\n",
            "400/781 Training Loss: 1.01\n",
            "500/781 Training Loss: 1.07\n",
            "600/781 Training Loss: 1.30\n",
            "700/781 Training Loss: 1.15\n",
            "0/781 Training Loss: 1.09\n",
            "100/781 Training Loss: 1.09\n",
            "200/781 Training Loss: 1.40\n",
            "300/781 Training Loss: 1.41\n",
            "400/781 Training Loss: 1.15\n",
            "500/781 Training Loss: 1.22\n",
            "600/781 Training Loss: 1.14\n",
            "700/781 Training Loss: 1.28\n",
            "0/781 Training Loss: 1.18\n"
          ],
          "name": "stdout"
        },
        {
          "output_type": "error",
          "ename": "KeyboardInterrupt",
          "evalue": "ignored",
          "traceback": [
            "\u001b[0;31m---------------------------------------------------------------------------\u001b[0m",
            "\u001b[0;31mKeyboardInterrupt\u001b[0m                         Traceback (most recent call last)",
            "\u001b[0;32m<ipython-input-19-c1968d1d025f>\u001b[0m in \u001b[0;36m<module>\u001b[0;34m()\u001b[0m\n\u001b[1;32m     18\u001b[0m \u001b[0;34m\u001b[0m\u001b[0m\n\u001b[1;32m     19\u001b[0m     \u001b[0;32mdel\u001b[0m \u001b[0mimages\u001b[0m\u001b[0;34m,\u001b[0m \u001b[0mlabels\u001b[0m\u001b[0;34m,\u001b[0m \u001b[0moutputs\u001b[0m\u001b[0;34m\u001b[0m\u001b[0;34m\u001b[0m\u001b[0m\n\u001b[0;32m---> 20\u001b[0;31m     \u001b[0mtorch\u001b[0m\u001b[0;34m.\u001b[0m\u001b[0mcuda\u001b[0m\u001b[0;34m.\u001b[0m\u001b[0mempty_cache\u001b[0m\u001b[0;34m(\u001b[0m\u001b[0;34m)\u001b[0m\u001b[0;34m\u001b[0m\u001b[0;34m\u001b[0m\u001b[0m\n\u001b[0m\u001b[1;32m     21\u001b[0m \u001b[0;34m\u001b[0m\u001b[0m\n\u001b[1;32m     22\u001b[0m     \u001b[0;32mif\u001b[0m \u001b[0mi\u001b[0m \u001b[0;34m%\u001b[0m \u001b[0;36m100\u001b[0m \u001b[0;34m==\u001b[0m \u001b[0;36m0\u001b[0m\u001b[0;34m:\u001b[0m\u001b[0;34m\u001b[0m\u001b[0;34m\u001b[0m\u001b[0m\n",
            "\u001b[0;32m/usr/local/lib/python3.6/dist-packages/torch/cuda/__init__.py\u001b[0m in \u001b[0;36mempty_cache\u001b[0;34m()\u001b[0m\n\u001b[1;32m    459\u001b[0m     \"\"\"\n\u001b[1;32m    460\u001b[0m     \u001b[0;32mif\u001b[0m \u001b[0m_initialized\u001b[0m\u001b[0;34m:\u001b[0m\u001b[0;34m\u001b[0m\u001b[0;34m\u001b[0m\u001b[0m\n\u001b[0;32m--> 461\u001b[0;31m         \u001b[0mtorch\u001b[0m\u001b[0;34m.\u001b[0m\u001b[0m_C\u001b[0m\u001b[0;34m.\u001b[0m\u001b[0m_cuda_emptyCache\u001b[0m\u001b[0;34m(\u001b[0m\u001b[0;34m)\u001b[0m\u001b[0;34m\u001b[0m\u001b[0;34m\u001b[0m\u001b[0m\n\u001b[0m\u001b[1;32m    462\u001b[0m \u001b[0;34m\u001b[0m\u001b[0m\n\u001b[1;32m    463\u001b[0m \u001b[0;34m\u001b[0m\u001b[0m\n",
            "\u001b[0;31mKeyboardInterrupt\u001b[0m: "
          ]
        }
      ]
    },
    {
      "cell_type": "code",
      "metadata": {
        "id": "ksIchPKe3dCt",
        "colab_type": "code",
        "outputId": "3bd0989f-f5de-4899-d754-6780a46093a4",
        "colab": {
          "base_uri": "https://localhost:8080/",
          "height": 265
        }
      },
      "source": [
        "plt.plot(loss_epoch_arr)\n",
        "plt.show()"
      ],
      "execution_count": 0,
      "outputs": [
        {
          "output_type": "display_data",
          "data": {
            "image/png": "[encoded data removed]",
            "text/plain": [
              "<Figure size 432x288 with 1 Axes>"
            ]
          },
          "metadata": {
            "tags": []
          }
        }
      ]
    },
    {
      "cell_type": "markdown",
      "metadata": {
        "id": "s9kGxK86vDiA",
        "colab_type": "text"
      },
      "source": [
        "## With model copies"
      ]
    },
    {
      "cell_type": "code",
      "metadata": {
        "id": "Vf4vqlG2sPG4",
        "colab_type": "code",
        "colab": {}
      },
      "source": [
        "import copy"
      ],
      "execution_count": 0,
      "outputs": []
    },
    {
      "cell_type": "code",
      "metadata": {
        "id": "hMScywpgvJ9S",
        "colab_type": "code",
        "outputId": "f3979fe7-b9c1-445f-fc48-c3c7dd42a0f9",
        "colab": {
          "base_uri": "https://localhost:8080/",
          "height": 962
        }
      },
      "source": [
        "max_epochs = 1\n",
        "loss_epoch_arr = []\n",
        "\n",
        "min_loss = 1000\n",
        "\n",
        "n_iters = np.ceil(50000//batch_size)\n",
        "\n",
        "for epoch in range(max_epochs):\n",
        "  for i, data in enumerate(trainloader, 0):\n",
        "\n",
        "    images, labels = data\n",
        "    images, labels = images.to(device), labels.to(device)\n",
        "\n",
        "    opt.zero_grad()\n",
        "\n",
        "    outputs = vgg(images)\n",
        "    loss = loss_fn(outputs, labels)\n",
        "    loss.backward()\n",
        "    opt.step()\n",
        "\n",
        "    if min_loss > loss.item():\n",
        "      min_loss = loss.item()\n",
        "      best_model = copy.deepcopy(vgg.state_dict())\n",
        "      print('Min Loss is %.2f' % (min_loss))\n",
        "\n",
        "    del images, labels, outputs\n",
        "    torch.cuda.empty_cache()\n",
        "\n",
        "    if i % 100 == 0:\n",
        "      print('%d/%d Training Loss: %.2f' % (i, n_iters, loss.item()))\n",
        "\n",
        "  loss_epoch_arr.append(loss.item())\n",
        "  print('%d/%d, Training Accuracy: %.2f Test Accuracy: %.2f'%(epoch, max_epochs, evaluation(trainloader, vgg), evaluation(testloader, vgg)))\n",
        "\n",
        "# plt.plot(loss_epoch_arr)\n",
        "# plt.show()"
      ],
      "execution_count": 0,
      "outputs": [
        {
          "output_type": "stream",
          "text": [
            "Min Loss is 1.79\n",
            "0/3125 Training Loss: 1.79\n",
            "Min Loss is 1.33\n",
            "Min Loss is 0.97\n",
            "Min Loss is 0.70\n",
            "Min Loss is 0.55\n",
            "100/3125 Training Loss: 1.99\n",
            "200/3125 Training Loss: 1.76\n",
            "300/3125 Training Loss: 1.61\n",
            "400/3125 Training Loss: 2.63\n",
            "500/3125 Training Loss: 1.74\n",
            "600/3125 Training Loss: 2.44\n",
            "700/3125 Training Loss: 2.44\n",
            "800/3125 Training Loss: 1.86\n",
            "900/3125 Training Loss: 1.77\n",
            "1000/3125 Training Loss: 2.68\n",
            "1100/3125 Training Loss: 1.93\n",
            "1200/3125 Training Loss: 1.20\n",
            "1300/3125 Training Loss: 1.32\n",
            "Min Loss is 0.49\n",
            "1400/3125 Training Loss: 2.84\n",
            "1500/3125 Training Loss: 2.55\n",
            "1600/3125 Training Loss: 2.57\n",
            "1700/3125 Training Loss: 2.47\n",
            "1800/3125 Training Loss: 2.70\n",
            "1900/3125 Training Loss: 1.96\n",
            "2000/3125 Training Loss: 2.29\n",
            "2100/3125 Training Loss: 0.93\n",
            "2200/3125 Training Loss: 3.75\n",
            "2300/3125 Training Loss: 1.45\n",
            "2400/3125 Training Loss: 2.20\n",
            "2500/3125 Training Loss: 2.67\n",
            "2600/3125 Training Loss: 1.62\n",
            "2700/3125 Training Loss: 2.49\n",
            "2800/3125 Training Loss: 1.83\n",
            "2900/3125 Training Loss: 2.84\n",
            "3000/3125 Training Loss: 2.33\n",
            "3100/3125 Training Loss: 1.51\n",
            "Accuracy is 0.474020\n",
            "Accuracy is 0.472000\n",
            "0/1, Training Accuracy: 0.47 Test Accuracy: 0.47\n"
          ],
          "name": "stdout"
        },
        {
          "output_type": "display_data",
          "data": {
            "image/png": "[encoded data removed]",
            "text/plain": [
              "<Figure size 432x288 with 1 Axes>"
            ]
          },
          "metadata": {
            "tags": []
          }
        }
      ]
    },
    {
      "cell_type": "code",
      "metadata": {
        "id": "I_nLKTOqv3E1",
        "colab_type": "code",
        "outputId": "a4bcb45f-8a4f-4623-d22e-a16b6918cbc7",
        "colab": {
          "base_uri": "https://localhost:8080/",
          "height": 68
        }
      },
      "source": [
        "vgg.load_state_dict(best_model)\n",
        "print(evaluation(trainloader, vgg), evaluation(testloader, vgg))"
      ],
      "execution_count": 0,
      "outputs": [
        {
          "output_type": "stream",
          "text": [
            "Accuracy is 0.426620\n",
            "Accuracy is 0.425200\n",
            "0.42662 0.4252\n"
          ],
          "name": "stdout"
        }
      ]
    },
    {
      "cell_type": "markdown",
      "metadata": {
        "id": "iyWa11VzwuFc",
        "colab_type": "text"
      },
      "source": [
        "## ResNet Model"
      ]
    },
    {
      "cell_type": "code",
      "metadata": {
        "id": "60OImyuz_U_Y",
        "colab_type": "code",
        "colab": {}
      },
      "source": [
        "batch_size = 64\n",
        "\n",
        "trainloader = torch.utils.data.DataLoader(trainset, batch_size=batch_size, shuffle=True)\n",
        "testloader = torch.utils.data.DataLoader(testset, batch_size=batch_size, shuffle=True)"
      ],
      "execution_count": 0,
      "outputs": []
    },
    {
      "cell_type": "code",
      "metadata": {
        "id": "3GYE6Xv2UEwX",
        "colab_type": "code",
        "colab": {}
      },
      "source": [
        "def evaluation(dataloader, model):\n",
        "  total, correct = 0, 0\n",
        "  for data in dataloader:\n",
        "    images, labels = data\n",
        "    images, labels = images.to(device), labels.to(device)\n",
        "    outputs = model(images)\n",
        "    _, pred = torch.max(outputs, 1)\n",
        "    total += labels.size(0)\n",
        "    correct += (pred==labels).sum().item()\n",
        "  print('Accuracy is %f' % (correct/total) )\n",
        "  return correct/total"
      ],
      "execution_count": 0,
      "outputs": []
    },
    {
      "cell_type": "code",
      "metadata": {
        "id": "thCcRL1gwvrl",
        "colab_type": "code",
        "outputId": "89db7693-ac58-463f-88b1-47d64fd54b42",
        "colab": {
          "base_uri": "https://localhost:8080/",
          "height": 1000
        }
      },
      "source": [
        "resnet = models.resnet18(pretrained=True)\n",
        "print(resnet)"
      ],
      "execution_count": 0,
      "outputs": [
        {
          "output_type": "stream",
          "text": [
            "Downloading: \"https://download.pytorch.org/models/resnet18-5c106cde.pth\" to /root/.cache/torch/checkpoints/resnet18-5c106cde.pth\n",
            "100%|██████████| 44.7M/44.7M [00:00<00:00, 129MB/s] \n"
          ],
          "name": "stderr"
        },
        {
          "output_type": "stream",
          "text": [
            "ResNet(\n",
            "  (conv1): Conv2d(3, 64, kernel_size=(7, 7), stride=(2, 2), padding=(3, 3), bias=False)\n",
            "  (bn1): BatchNorm2d(64, eps=1e-05, momentum=0.1, affine=True, track_running_stats=True)\n",
            "  (relu): ReLU(inplace=True)\n",
            "  (maxpool): MaxPool2d(kernel_size=3, stride=2, padding=1, dilation=1, ceil_mode=False)\n",
            "  (layer1): Sequential(\n",
            "    (0): BasicBlock(\n",
            "      (conv1): Conv2d(64, 64, kernel_size=(3, 3), stride=(1, 1), padding=(1, 1), bias=False)\n",
            "      (bn1): BatchNorm2d(64, eps=1e-05, momentum=0.1, affine=True, track_running_stats=True)\n",
            "      (relu): ReLU(inplace=True)\n",
            "      (conv2): Conv2d(64, 64, kernel_size=(3, 3), stride=(1, 1), padding=(1, 1), bias=False)\n",
            "      (bn2): BatchNorm2d(64, eps=1e-05, momentum=0.1, affine=True, track_running_stats=True)\n",
            "    )\n",
            "    (1): BasicBlock(\n",
            "      (conv1): Conv2d(64, 64, kernel_size=(3, 3), stride=(1, 1), padding=(1, 1), bias=False)\n",
            "      (bn1): BatchNorm2d(64, eps=1e-05, momentum=0.1, affine=True, track_running_stats=True)\n",
            "      (relu): ReLU(inplace=True)\n",
            "      (conv2): Conv2d(64, 64, kernel_size=(3, 3), stride=(1, 1), padding=(1, 1), bias=False)\n",
            "      (bn2): BatchNorm2d(64, eps=1e-05, momentum=0.1, affine=True, track_running_stats=True)\n",
            "    )\n",
            "  )\n",
            "  (layer2): Sequential(\n",
            "    (0): BasicBlock(\n",
            "      (conv1): Conv2d(64, 128, kernel_size=(3, 3), stride=(2, 2), padding=(1, 1), bias=False)\n",
            "      (bn1): BatchNorm2d(128, eps=1e-05, momentum=0.1, affine=True, track_running_stats=True)\n",
            "      (relu): ReLU(inplace=True)\n",
            "      (conv2): Conv2d(128, 128, kernel_size=(3, 3), stride=(1, 1), padding=(1, 1), bias=False)\n",
            "      (bn2): BatchNorm2d(128, eps=1e-05, momentum=0.1, affine=True, track_running_stats=True)\n",
            "      (downsample): Sequential(\n",
            "        (0): Conv2d(64, 128, kernel_size=(1, 1), stride=(2, 2), bias=False)\n",
            "        (1): BatchNorm2d(128, eps=1e-05, momentum=0.1, affine=True, track_running_stats=True)\n",
            "      )\n",
            "    )\n",
            "    (1): BasicBlock(\n",
            "      (conv1): Conv2d(128, 128, kernel_size=(3, 3), stride=(1, 1), padding=(1, 1), bias=False)\n",
            "      (bn1): BatchNorm2d(128, eps=1e-05, momentum=0.1, affine=True, track_running_stats=True)\n",
            "      (relu): ReLU(inplace=True)\n",
            "      (conv2): Conv2d(128, 128, kernel_size=(3, 3), stride=(1, 1), padding=(1, 1), bias=False)\n",
            "      (bn2): BatchNorm2d(128, eps=1e-05, momentum=0.1, affine=True, track_running_stats=True)\n",
            "    )\n",
            "  )\n",
            "  (layer3): Sequential(\n",
            "    (0): BasicBlock(\n",
            "      (conv1): Conv2d(128, 256, kernel_size=(3, 3), stride=(2, 2), padding=(1, 1), bias=False)\n",
            "      (bn1): BatchNorm2d(256, eps=1e-05, momentum=0.1, affine=True, track_running_stats=True)\n",
            "      (relu): ReLU(inplace=True)\n",
            "      (conv2): Conv2d(256, 256, kernel_size=(3, 3), stride=(1, 1), padding=(1, 1), bias=False)\n",
            "      (bn2): BatchNorm2d(256, eps=1e-05, momentum=0.1, affine=True, track_running_stats=True)\n",
            "      (downsample): Sequential(\n",
            "        (0): Conv2d(128, 256, kernel_size=(1, 1), stride=(2, 2), bias=False)\n",
            "        (1): BatchNorm2d(256, eps=1e-05, momentum=0.1, affine=True, track_running_stats=True)\n",
            "      )\n",
            "    )\n",
            "    (1): BasicBlock(\n",
            "      (conv1): Conv2d(256, 256, kernel_size=(3, 3), stride=(1, 1), padding=(1, 1), bias=False)\n",
            "      (bn1): BatchNorm2d(256, eps=1e-05, momentum=0.1, affine=True, track_running_stats=True)\n",
            "      (relu): ReLU(inplace=True)\n",
            "      (conv2): Conv2d(256, 256, kernel_size=(3, 3), stride=(1, 1), padding=(1, 1), bias=False)\n",
            "      (bn2): BatchNorm2d(256, eps=1e-05, momentum=0.1, affine=True, track_running_stats=True)\n",
            "    )\n",
            "  )\n",
            "  (layer4): Sequential(\n",
            "    (0): BasicBlock(\n",
            "      (conv1): Conv2d(256, 512, kernel_size=(3, 3), stride=(2, 2), padding=(1, 1), bias=False)\n",
            "      (bn1): BatchNorm2d(512, eps=1e-05, momentum=0.1, affine=True, track_running_stats=True)\n",
            "      (relu): ReLU(inplace=True)\n",
            "      (conv2): Conv2d(512, 512, kernel_size=(3, 3), stride=(1, 1), padding=(1, 1), bias=False)\n",
            "      (bn2): BatchNorm2d(512, eps=1e-05, momentum=0.1, affine=True, track_running_stats=True)\n",
            "      (downsample): Sequential(\n",
            "        (0): Conv2d(256, 512, kernel_size=(1, 1), stride=(2, 2), bias=False)\n",
            "        (1): BatchNorm2d(512, eps=1e-05, momentum=0.1, affine=True, track_running_stats=True)\n",
            "      )\n",
            "    )\n",
            "    (1): BasicBlock(\n",
            "      (conv1): Conv2d(512, 512, kernel_size=(3, 3), stride=(1, 1), padding=(1, 1), bias=False)\n",
            "      (bn1): BatchNorm2d(512, eps=1e-05, momentum=0.1, affine=True, track_running_stats=True)\n",
            "      (relu): ReLU(inplace=True)\n",
            "      (conv2): Conv2d(512, 512, kernel_size=(3, 3), stride=(1, 1), padding=(1, 1), bias=False)\n",
            "      (bn2): BatchNorm2d(512, eps=1e-05, momentum=0.1, affine=True, track_running_stats=True)\n",
            "    )\n",
            "  )\n",
            "  (avgpool): AdaptiveAvgPool2d(output_size=(1, 1))\n",
            "  (fc): Linear(in_features=512, out_features=1000, bias=True)\n",
            ")\n"
          ],
          "name": "stdout"
        }
      ]
    },
    {
      "cell_type": "code",
      "metadata": {
        "id": "_u5JiQtyzN3c",
        "colab_type": "code",
        "colab": {}
      },
      "source": [
        "for param in resnet.parameters():\n",
        "  param.requires_grad = False\n",
        "\n",
        "# for param in resnet.layer1.parameters():\n",
        "#   param.requires_grad = True\n",
        "for param in resnet.layer2.parameters():\n",
        "  param.requires_grad = True\n",
        "for param in resnet.layer3.parameters():\n",
        "  param.requires_grad = True\n",
        "for param in resnet.layer4.parameters():\n",
        "  param.requires_grad = True"
      ],
      "execution_count": 0,
      "outputs": []
    },
    {
      "cell_type": "code",
      "metadata": {
        "id": "qCpZLltYzXZx",
        "colab_type": "code",
        "colab": {}
      },
      "source": [
        "in_features = resnet.fc.in_features\n",
        "# resnet.fc = nn.Linear(in_features, num_classes)\n",
        "\n",
        "resnet.fc = nn.Sequential(\n",
        "    nn.BatchNorm1d(in_features),\n",
        "    nn.Linear(in_features, 200),\n",
        "    nn.ReLU(),\n",
        "    nn.Dropout(0.3),\n",
        "    nn.BatchNorm1d(200),\n",
        "    nn.Linear(200, num_classes)\n",
        ")"
      ],
      "execution_count": 0,
      "outputs": []
    },
    {
      "cell_type": "code",
      "metadata": {
        "id": "aV078m8Zzfsk",
        "colab_type": "code",
        "outputId": "da9f268f-a818-48b2-86dc-df713a375c52",
        "colab": {
          "base_uri": "https://localhost:8080/",
          "height": 918
        }
      },
      "source": [
        "for param in resnet.parameters():\n",
        "  if param.requires_grad:\n",
        "    print(param.shape)"
      ],
      "execution_count": 0,
      "outputs": [
        {
          "output_type": "stream",
          "text": [
            "torch.Size([128, 64, 3, 3])\n",
            "torch.Size([128])\n",
            "torch.Size([128])\n",
            "torch.Size([128, 128, 3, 3])\n",
            "torch.Size([128])\n",
            "torch.Size([128])\n",
            "torch.Size([128, 64, 1, 1])\n",
            "torch.Size([128])\n",
            "torch.Size([128])\n",
            "torch.Size([128, 128, 3, 3])\n",
            "torch.Size([128])\n",
            "torch.Size([128])\n",
            "torch.Size([128, 128, 3, 3])\n",
            "torch.Size([128])\n",
            "torch.Size([128])\n",
            "torch.Size([256, 128, 3, 3])\n",
            "torch.Size([256])\n",
            "torch.Size([256])\n",
            "torch.Size([256, 256, 3, 3])\n",
            "torch.Size([256])\n",
            "torch.Size([256])\n",
            "torch.Size([256, 128, 1, 1])\n",
            "torch.Size([256])\n",
            "torch.Size([256])\n",
            "torch.Size([256, 256, 3, 3])\n",
            "torch.Size([256])\n",
            "torch.Size([256])\n",
            "torch.Size([256, 256, 3, 3])\n",
            "torch.Size([256])\n",
            "torch.Size([256])\n",
            "torch.Size([512, 256, 3, 3])\n",
            "torch.Size([512])\n",
            "torch.Size([512])\n",
            "torch.Size([512, 512, 3, 3])\n",
            "torch.Size([512])\n",
            "torch.Size([512])\n",
            "torch.Size([512, 256, 1, 1])\n",
            "torch.Size([512])\n",
            "torch.Size([512])\n",
            "torch.Size([512, 512, 3, 3])\n",
            "torch.Size([512])\n",
            "torch.Size([512])\n",
            "torch.Size([512, 512, 3, 3])\n",
            "torch.Size([512])\n",
            "torch.Size([512])\n",
            "torch.Size([512])\n",
            "torch.Size([512])\n",
            "torch.Size([200, 512])\n",
            "torch.Size([200])\n",
            "torch.Size([200])\n",
            "torch.Size([200])\n",
            "torch.Size([10, 200])\n",
            "torch.Size([10])\n"
          ],
          "name": "stdout"
        }
      ]
    },
    {
      "cell_type": "code",
      "metadata": {
        "id": "Kbk61h_CzlkV",
        "colab_type": "code",
        "colab": {}
      },
      "source": [
        "resnet = resnet.to(device)\n",
        "loss_fn = nn.CrossEntropyLoss()\n",
        "# opt = optim.SGD(resnet.parameters(), lr=0.005, weight_decay=4e-3)"
      ],
      "execution_count": 0,
      "outputs": []
    },
    {
      "cell_type": "code",
      "metadata": {
        "id": "59EqvrnLzvuu",
        "colab_type": "code",
        "outputId": "337fa136-1b18-4e1e-ed47-d2f1af0562d0",
        "colab": {
          "base_uri": "https://localhost:8080/",
          "height": 1000
        }
      },
      "source": [
        "%%time\n",
        "\n",
        "# opt = optim.Adam([{\"params\": resnet.fc.parameters(), \"lr\": 0.001},\n",
        "#                   {\"params\": resnet.layer2.parameters(), \"lr\": 1e-5},\n",
        "#                   {\"params\": resnet.layer3.parameters(), \"lr\": 1e-4},\n",
        "#                   {\"params\": resnet.layer4.parameters(), \"lr\": 1e-4}], lr=0.001)#, weight_decay=4e-3)\n",
        "opt = optim.SGD([{\"params\": resnet.fc.parameters(), \"lr\": 0.00001},\n",
        "                 {\"params\": resnet.layer2.parameters(), \"lr\": 1e-7},\n",
        "                  {\"params\": resnet.layer3.parameters(), \"lr\": 1e-6},\n",
        "                  {\"params\": resnet.layer4.parameters(), \"lr\": 1e-6}], lr=0.001)#, weight_decay=4e-3)\n",
        "# opt = optim.SGD(resnet.parameters(), lr=0.001)\n",
        "scheduler = lr_scheduler.StepLR(opt, step_size=3, gamma=0.1)\n",
        "\n",
        "max_epochs = 10\n",
        "loss_epoch_arr = []\n",
        "\n",
        "min_loss = 1000\n",
        "\n",
        "n_iters = np.ceil(50000//batch_size)\n",
        "\n",
        "for epoch in range(max_epochs):\n",
        "  scheduler.step()\n",
        "  for i, data in enumerate(trainloader, 0):\n",
        "\n",
        "    images, labels = data\n",
        "    images, labels = images.to(device), labels.to(device)\n",
        "\n",
        "    opt.zero_grad()\n",
        "\n",
        "    outputs = resnet(images)\n",
        "    loss = loss_fn(outputs, labels)\n",
        "    loss.backward()\n",
        "    opt.step()\n",
        "\n",
        "    if min_loss > loss.item():\n",
        "      min_loss = loss.item()\n",
        "      best_model = copy.deepcopy(resnet.state_dict())\n",
        "      print('%d/%d, Min Loss is %.2f' % (i, n_iters, min_loss))\n",
        "\n",
        "    del images, labels, outputs\n",
        "    torch.cuda.empty_cache()\n",
        "\n",
        "    if i % 100 == 0:\n",
        "      print('Epoch: %d %d/%d Training Loss: %.2f' % (epoch+1, i, n_iters, loss.item()))\n",
        "\n",
        "  loss_epoch_arr.append(loss.item())\n",
        "  # if epoch+1 % 10 == 0:\n",
        "  #   print('%d/%d, Training Accuracy: %.2f Test Accuracy: %.2f'%(epoch+1, max_epochs, evaluation(trainloader, resnet), evaluation(testloader, resnet)))\n",
        "\n",
        "print(evaluation(trainloader, resnet), evaluation(testloader, resnet))\n",
        "\n",
        "plt.plot(loss_epoch_arr)\n",
        "plt.show()"
      ],
      "execution_count": 0,
      "outputs": [
        {
          "output_type": "stream",
          "text": [
            "/usr/local/lib/python3.6/dist-packages/torch/optim/lr_scheduler.py:100: UserWarning: Detected call of `lr_scheduler.step()` before `optimizer.step()`. In PyTorch 1.1.0 and later, you should call them in the opposite order: `optimizer.step()` before `lr_scheduler.step()`.  Failure to do this will result in PyTorch skipping the first value of the learning rate schedule.See more details at https://pytorch.org/docs/stable/optim.html#how-to-adjust-learning-rate\n",
            "  \"https://pytorch.org/docs/stable/optim.html#how-to-adjust-learning-rate\", UserWarning)\n"
          ],
          "name": "stderr"
        },
        {
          "output_type": "stream",
          "text": [
            "0/781, Min Loss is 0.31\n",
            "Epoch: 1 0/781 Training Loss: 0.31\n",
            "3/781, Min Loss is 0.15\n",
            "16/781, Min Loss is 0.14\n",
            "46/781, Min Loss is 0.13\n",
            "Epoch: 1 100/781 Training Loss: 0.29\n",
            "112/781, Min Loss is 0.13\n",
            "120/781, Min Loss is 0.13\n",
            "156/781, Min Loss is 0.11\n",
            "Epoch: 1 200/781 Training Loss: 0.28\n",
            "222/781, Min Loss is 0.07\n",
            "Epoch: 1 300/781 Training Loss: 0.12\n",
            "Epoch: 1 400/781 Training Loss: 0.15\n",
            "Epoch: 1 500/781 Training Loss: 0.38\n",
            "Epoch: 1 600/781 Training Loss: 0.29\n",
            "Epoch: 1 700/781 Training Loss: 0.24\n",
            "Epoch: 2 0/781 Training Loss: 0.27\n",
            "Epoch: 2 100/781 Training Loss: 0.15\n",
            "Epoch: 2 200/781 Training Loss: 0.40\n",
            "Epoch: 2 300/781 Training Loss: 0.29\n",
            "Epoch: 2 400/781 Training Loss: 0.18\n",
            "Epoch: 2 500/781 Training Loss: 0.32\n",
            "Epoch: 2 600/781 Training Loss: 0.39\n",
            "Epoch: 2 700/781 Training Loss: 0.31\n",
            "Epoch: 3 0/781 Training Loss: 0.32\n",
            "Epoch: 3 100/781 Training Loss: 0.34\n",
            "Epoch: 3 200/781 Training Loss: 0.24\n",
            "Epoch: 3 300/781 Training Loss: 0.24\n",
            "Epoch: 3 400/781 Training Loss: 0.21\n",
            "Epoch: 3 500/781 Training Loss: 0.56\n",
            "Epoch: 3 600/781 Training Loss: 0.20\n",
            "Epoch: 3 700/781 Training Loss: 0.21\n",
            "Epoch: 4 0/781 Training Loss: 0.33\n",
            "Epoch: 4 100/781 Training Loss: 0.39\n",
            "Epoch: 4 200/781 Training Loss: 0.11\n",
            "Epoch: 4 300/781 Training Loss: 0.25\n",
            "Epoch: 4 400/781 Training Loss: 0.17\n",
            "Epoch: 4 500/781 Training Loss: 0.39\n",
            "Epoch: 4 600/781 Training Loss: 0.30\n",
            "659/781, Min Loss is 0.07\n",
            "Epoch: 4 700/781 Training Loss: 0.24\n",
            "Epoch: 5 0/781 Training Loss: 0.36\n",
            "Epoch: 5 100/781 Training Loss: 0.27\n",
            "Epoch: 5 200/781 Training Loss: 0.37\n",
            "Epoch: 5 300/781 Training Loss: 0.24\n",
            "Epoch: 5 400/781 Training Loss: 0.20\n",
            "Epoch: 5 500/781 Training Loss: 0.17\n",
            "Epoch: 5 600/781 Training Loss: 0.22\n",
            "Epoch: 5 700/781 Training Loss: 0.12\n",
            "Epoch: 6 0/781 Training Loss: 0.26\n",
            "Epoch: 6 100/781 Training Loss: 0.14\n",
            "135/781, Min Loss is 0.07\n",
            "Epoch: 6 200/781 Training Loss: 0.18\n",
            "Epoch: 6 300/781 Training Loss: 0.22\n",
            "Epoch: 6 400/781 Training Loss: 0.32\n",
            "Epoch: 6 500/781 Training Loss: 0.23\n",
            "Epoch: 6 600/781 Training Loss: 0.15\n",
            "Epoch: 6 700/781 Training Loss: 0.39\n",
            "Epoch: 7 0/781 Training Loss: 0.23\n",
            "Epoch: 7 100/781 Training Loss: 0.25\n",
            "Epoch: 7 200/781 Training Loss: 0.27\n",
            "Epoch: 7 300/781 Training Loss: 0.22\n",
            "Epoch: 7 400/781 Training Loss: 0.25\n",
            "Epoch: 7 500/781 Training Loss: 0.29\n",
            "Epoch: 7 600/781 Training Loss: 0.25\n",
            "Epoch: 7 700/781 Training Loss: 0.41\n",
            "Epoch: 8 0/781 Training Loss: 0.25\n",
            "Epoch: 8 100/781 Training Loss: 0.41\n",
            "Epoch: 8 200/781 Training Loss: 0.21\n",
            "Epoch: 8 300/781 Training Loss: 0.42\n",
            "Epoch: 8 400/781 Training Loss: 0.37\n",
            "Epoch: 8 500/781 Training Loss: 0.21\n",
            "Epoch: 8 600/781 Training Loss: 0.20\n",
            "Epoch: 8 700/781 Training Loss: 0.33\n",
            "Epoch: 9 0/781 Training Loss: 0.23\n",
            "Epoch: 9 100/781 Training Loss: 0.27\n",
            "Epoch: 9 200/781 Training Loss: 0.15\n",
            "Epoch: 9 300/781 Training Loss: 0.30\n",
            "Epoch: 9 400/781 Training Loss: 0.24\n",
            "Epoch: 9 500/781 Training Loss: 0.31\n",
            "Epoch: 9 600/781 Training Loss: 0.35\n",
            "Epoch: 9 700/781 Training Loss: 0.24\n",
            "Epoch: 10 0/781 Training Loss: 0.31\n",
            "Epoch: 10 100/781 Training Loss: 0.37\n",
            "Epoch: 10 200/781 Training Loss: 0.15\n",
            "Epoch: 10 300/781 Training Loss: 0.25\n",
            "Epoch: 10 400/781 Training Loss: 0.35\n",
            "Epoch: 10 500/781 Training Loss: 0.32\n",
            "Epoch: 10 600/781 Training Loss: 0.62\n",
            "Epoch: 10 700/781 Training Loss: 0.33\n",
            "Accuracy is 0.896360\n",
            "Accuracy is 0.862300\n",
            "0.89636 0.8623\n"
          ],
          "name": "stdout"
        },
        {
          "output_type": "display_data",
          "data": {
            "image/png": "[encoded data removed]",
            "text/plain": [
              "<Figure size 432x288 with 1 Axes>"
            ]
          },
          "metadata": {
            "tags": []
          }
        },
        {
          "output_type": "stream",
          "text": [
            "CPU times: user 19min 14s, sys: 5min 7s, total: 24min 22s\n",
            "Wall time: 24min 23s\n"
          ],
          "name": "stdout"
        }
      ]
    },
    {
      "cell_type": "code",
      "metadata": {
        "id": "Y1oWBXdgEWUM",
        "colab_type": "code",
        "outputId": "d92b531b-1e1a-4d90-d784-2bc301f64e20",
        "colab": {
          "base_uri": "https://localhost:8080/",
          "height": 102
        }
      },
      "source": [
        "%%time\n",
        "print(evaluation(trainloader, resnet), evaluation(testloader, resnet))"
      ],
      "execution_count": 0,
      "outputs": [
        {
          "output_type": "stream",
          "text": [
            "Accuracy is 0.856320\n",
            "Accuracy is 0.830600\n",
            "0.85632 0.8306\n",
            "CPU times: user 2min 8s, sys: 16.7 s, total: 2min 25s\n",
            "Wall time: 2min 25s\n"
          ],
          "name": "stdout"
        }
      ]
    },
    {
      "cell_type": "code",
      "metadata": {
        "id": "XlLbHNzQzzUk",
        "colab_type": "code",
        "outputId": "21a4e50c-41c1-4b6f-dccb-8f2718527956",
        "colab": {
          "base_uri": "https://localhost:8080/",
          "height": 68
        }
      },
      "source": [
        "resnet.load_state_dict(best_model)\n",
        "print(evaluation(trainloader, resnet), evaluation(testloader, resnet))"
      ],
      "execution_count": 0,
      "outputs": [
        {
          "output_type": "stream",
          "text": [
            "Accuracy is 0.899400\n",
            "Accuracy is 0.857000\n",
            "0.8994 0.857\n"
          ],
          "name": "stdout"
        }
      ]
    },
    {
      "cell_type": "code",
      "metadata": {
        "id": "GZ5IA75PiFeu",
        "colab_type": "code",
        "colab": {}
      },
      "source": [
        "torch.save(resnet.state_dict(), './resnet_weights')\n",
        "# the_model.load_state_dict(torch.load('./resnet_weights'))"
      ],
      "execution_count": 0,
      "outputs": []
    },
    {
      "cell_type": "code",
      "metadata": {
        "id": "OhNtA4GMiR5G",
        "colab_type": "code",
        "outputId": "6329e020-55af-42e1-960c-3394d78dbe6e",
        "colab": {
          "base_uri": "https://localhost:8080/",
          "height": 34
        }
      },
      "source": [
        "!ls -alh resnet_weights"
      ],
      "execution_count": 0,
      "outputs": [
        {
          "output_type": "stream",
          "text": [
            "-rw-r--r-- 1 root root 44M Jan 15 14:08 resnet_weights\n"
          ],
          "name": "stdout"
        }
      ]
    },
    {
      "cell_type": "markdown",
      "metadata": {
        "id": "aXjGzkfNz6XT",
        "colab_type": "text"
      },
      "source": [
        "## Inception v3 Model"
      ]
    },
    {
      "cell_type": "code",
      "metadata": {
        "id": "pw9PS8Avz8hE",
        "colab_type": "code",
        "outputId": "877cd345-3bda-411f-cab6-040a8226460b",
        "colab": {
          "base_uri": "https://localhost:8080/",
          "height": 1000
        }
      },
      "source": [
        "inception = models.inception_v3(pretrained=True)\n",
        "print(inception)"
      ],
      "execution_count": 0,
      "outputs": [
        {
          "output_type": "stream",
          "text": [
            "Inception3(\n",
            "  (Conv2d_1a_3x3): BasicConv2d(\n",
            "    (conv): Conv2d(3, 32, kernel_size=(3, 3), stride=(2, 2), bias=False)\n",
            "    (bn): BatchNorm2d(32, eps=0.001, momentum=0.1, affine=True, track_running_stats=True)\n",
            "  )\n",
            "  (Conv2d_2a_3x3): BasicConv2d(\n",
            "    (conv): Conv2d(32, 32, kernel_size=(3, 3), stride=(1, 1), bias=False)\n",
            "    (bn): BatchNorm2d(32, eps=0.001, momentum=0.1, affine=True, track_running_stats=True)\n",
            "  )\n",
            "  (Conv2d_2b_3x3): BasicConv2d(\n",
            "    (conv): Conv2d(32, 64, kernel_size=(3, 3), stride=(1, 1), padding=(1, 1), bias=False)\n",
            "    (bn): BatchNorm2d(64, eps=0.001, momentum=0.1, affine=True, track_running_stats=True)\n",
            "  )\n",
            "  (Conv2d_3b_1x1): BasicConv2d(\n",
            "    (conv): Conv2d(64, 80, kernel_size=(1, 1), stride=(1, 1), bias=False)\n",
            "    (bn): BatchNorm2d(80, eps=0.001, momentum=0.1, affine=True, track_running_stats=True)\n",
            "  )\n",
            "  (Conv2d_4a_3x3): BasicConv2d(\n",
            "    (conv): Conv2d(80, 192, kernel_size=(3, 3), stride=(1, 1), bias=False)\n",
            "    (bn): BatchNorm2d(192, eps=0.001, momentum=0.1, affine=True, track_running_stats=True)\n",
            "  )\n",
            "  (Mixed_5b): InceptionA(\n",
            "    (branch1x1): BasicConv2d(\n",
            "      (conv): Conv2d(192, 64, kernel_size=(1, 1), stride=(1, 1), bias=False)\n",
            "      (bn): BatchNorm2d(64, eps=0.001, momentum=0.1, affine=True, track_running_stats=True)\n",
            "    )\n",
            "    (branch5x5_1): BasicConv2d(\n",
            "      (conv): Conv2d(192, 48, kernel_size=(1, 1), stride=(1, 1), bias=False)\n",
            "      (bn): BatchNorm2d(48, eps=0.001, momentum=0.1, affine=True, track_running_stats=True)\n",
            "    )\n",
            "    (branch5x5_2): BasicConv2d(\n",
            "      (conv): Conv2d(48, 64, kernel_size=(5, 5), stride=(1, 1), padding=(2, 2), bias=False)\n",
            "      (bn): BatchNorm2d(64, eps=0.001, momentum=0.1, affine=True, track_running_stats=True)\n",
            "    )\n",
            "    (branch3x3dbl_1): BasicConv2d(\n",
            "      (conv): Conv2d(192, 64, kernel_size=(1, 1), stride=(1, 1), bias=False)\n",
            "      (bn): BatchNorm2d(64, eps=0.001, momentum=0.1, affine=True, track_running_stats=True)\n",
            "    )\n",
            "    (branch3x3dbl_2): BasicConv2d(\n",
            "      (conv): Conv2d(64, 96, kernel_size=(3, 3), stride=(1, 1), padding=(1, 1), bias=False)\n",
            "      (bn): BatchNorm2d(96, eps=0.001, momentum=0.1, affine=True, track_running_stats=True)\n",
            "    )\n",
            "    (branch3x3dbl_3): BasicConv2d(\n",
            "      (conv): Conv2d(96, 96, kernel_size=(3, 3), stride=(1, 1), padding=(1, 1), bias=False)\n",
            "      (bn): BatchNorm2d(96, eps=0.001, momentum=0.1, affine=True, track_running_stats=True)\n",
            "    )\n",
            "    (branch_pool): BasicConv2d(\n",
            "      (conv): Conv2d(192, 32, kernel_size=(1, 1), stride=(1, 1), bias=False)\n",
            "      (bn): BatchNorm2d(32, eps=0.001, momentum=0.1, affine=True, track_running_stats=True)\n",
            "    )\n",
            "  )\n",
            "  (Mixed_5c): InceptionA(\n",
            "    (branch1x1): BasicConv2d(\n",
            "      (conv): Conv2d(256, 64, kernel_size=(1, 1), stride=(1, 1), bias=False)\n",
            "      (bn): BatchNorm2d(64, eps=0.001, momentum=0.1, affine=True, track_running_stats=True)\n",
            "    )\n",
            "    (branch5x5_1): BasicConv2d(\n",
            "      (conv): Conv2d(256, 48, kernel_size=(1, 1), stride=(1, 1), bias=False)\n",
            "      (bn): BatchNorm2d(48, eps=0.001, momentum=0.1, affine=True, track_running_stats=True)\n",
            "    )\n",
            "    (branch5x5_2): BasicConv2d(\n",
            "      (conv): Conv2d(48, 64, kernel_size=(5, 5), stride=(1, 1), padding=(2, 2), bias=False)\n",
            "      (bn): BatchNorm2d(64, eps=0.001, momentum=0.1, affine=True, track_running_stats=True)\n",
            "    )\n",
            "    (branch3x3dbl_1): BasicConv2d(\n",
            "      (conv): Conv2d(256, 64, kernel_size=(1, 1), stride=(1, 1), bias=False)\n",
            "      (bn): BatchNorm2d(64, eps=0.001, momentum=0.1, affine=True, track_running_stats=True)\n",
            "    )\n",
            "    (branch3x3dbl_2): BasicConv2d(\n",
            "      (conv): Conv2d(64, 96, kernel_size=(3, 3), stride=(1, 1), padding=(1, 1), bias=False)\n",
            "      (bn): BatchNorm2d(96, eps=0.001, momentum=0.1, affine=True, track_running_stats=True)\n",
            "    )\n",
            "    (branch3x3dbl_3): BasicConv2d(\n",
            "      (conv): Conv2d(96, 96, kernel_size=(3, 3), stride=(1, 1), padding=(1, 1), bias=False)\n",
            "      (bn): BatchNorm2d(96, eps=0.001, momentum=0.1, affine=True, track_running_stats=True)\n",
            "    )\n",
            "    (branch_pool): BasicConv2d(\n",
            "      (conv): Conv2d(256, 64, kernel_size=(1, 1), stride=(1, 1), bias=False)\n",
            "      (bn): BatchNorm2d(64, eps=0.001, momentum=0.1, affine=True, track_running_stats=True)\n",
            "    )\n",
            "  )\n",
            "  (Mixed_5d): InceptionA(\n",
            "    (branch1x1): BasicConv2d(\n",
            "      (conv): Conv2d(288, 64, kernel_size=(1, 1), stride=(1, 1), bias=False)\n",
            "      (bn): BatchNorm2d(64, eps=0.001, momentum=0.1, affine=True, track_running_stats=True)\n",
            "    )\n",
            "    (branch5x5_1): BasicConv2d(\n",
            "      (conv): Conv2d(288, 48, kernel_size=(1, 1), stride=(1, 1), bias=False)\n",
            "      (bn): BatchNorm2d(48, eps=0.001, momentum=0.1, affine=True, track_running_stats=True)\n",
            "    )\n",
            "    (branch5x5_2): BasicConv2d(\n",
            "      (conv): Conv2d(48, 64, kernel_size=(5, 5), stride=(1, 1), padding=(2, 2), bias=False)\n",
            "      (bn): BatchNorm2d(64, eps=0.001, momentum=0.1, affine=True, track_running_stats=True)\n",
            "    )\n",
            "    (branch3x3dbl_1): BasicConv2d(\n",
            "      (conv): Conv2d(288, 64, kernel_size=(1, 1), stride=(1, 1), bias=False)\n",
            "      (bn): BatchNorm2d(64, eps=0.001, momentum=0.1, affine=True, track_running_stats=True)\n",
            "    )\n",
            "    (branch3x3dbl_2): BasicConv2d(\n",
            "      (conv): Conv2d(64, 96, kernel_size=(3, 3), stride=(1, 1), padding=(1, 1), bias=False)\n",
            "      (bn): BatchNorm2d(96, eps=0.001, momentum=0.1, affine=True, track_running_stats=True)\n",
            "    )\n",
            "    (branch3x3dbl_3): BasicConv2d(\n",
            "      (conv): Conv2d(96, 96, kernel_size=(3, 3), stride=(1, 1), padding=(1, 1), bias=False)\n",
            "      (bn): BatchNorm2d(96, eps=0.001, momentum=0.1, affine=True, track_running_stats=True)\n",
            "    )\n",
            "    (branch_pool): BasicConv2d(\n",
            "      (conv): Conv2d(288, 64, kernel_size=(1, 1), stride=(1, 1), bias=False)\n",
            "      (bn): BatchNorm2d(64, eps=0.001, momentum=0.1, affine=True, track_running_stats=True)\n",
            "    )\n",
            "  )\n",
            "  (Mixed_6a): InceptionB(\n",
            "    (branch3x3): BasicConv2d(\n",
            "      (conv): Conv2d(288, 384, kernel_size=(3, 3), stride=(2, 2), bias=False)\n",
            "      (bn): BatchNorm2d(384, eps=0.001, momentum=0.1, affine=True, track_running_stats=True)\n",
            "    )\n",
            "    (branch3x3dbl_1): BasicConv2d(\n",
            "      (conv): Conv2d(288, 64, kernel_size=(1, 1), stride=(1, 1), bias=False)\n",
            "      (bn): BatchNorm2d(64, eps=0.001, momentum=0.1, affine=True, track_running_stats=True)\n",
            "    )\n",
            "    (branch3x3dbl_2): BasicConv2d(\n",
            "      (conv): Conv2d(64, 96, kernel_size=(3, 3), stride=(1, 1), padding=(1, 1), bias=False)\n",
            "      (bn): BatchNorm2d(96, eps=0.001, momentum=0.1, affine=True, track_running_stats=True)\n",
            "    )\n",
            "    (branch3x3dbl_3): BasicConv2d(\n",
            "      (conv): Conv2d(96, 96, kernel_size=(3, 3), stride=(2, 2), bias=False)\n",
            "      (bn): BatchNorm2d(96, eps=0.001, momentum=0.1, affine=True, track_running_stats=True)\n",
            "    )\n",
            "  )\n",
            "  (Mixed_6b): InceptionC(\n",
            "    (branch1x1): BasicConv2d(\n",
            "      (conv): Conv2d(768, 192, kernel_size=(1, 1), stride=(1, 1), bias=False)\n",
            "      (bn): BatchNorm2d(192, eps=0.001, momentum=0.1, affine=True, track_running_stats=True)\n",
            "    )\n",
            "    (branch7x7_1): BasicConv2d(\n",
            "      (conv): Conv2d(768, 128, kernel_size=(1, 1), stride=(1, 1), bias=False)\n",
            "      (bn): BatchNorm2d(128, eps=0.001, momentum=0.1, affine=True, track_running_stats=True)\n",
            "    )\n",
            "    (branch7x7_2): BasicConv2d(\n",
            "      (conv): Conv2d(128, 128, kernel_size=(1, 7), stride=(1, 1), padding=(0, 3), bias=False)\n",
            "      (bn): BatchNorm2d(128, eps=0.001, momentum=0.1, affine=True, track_running_stats=True)\n",
            "    )\n",
            "    (branch7x7_3): BasicConv2d(\n",
            "      (conv): Conv2d(128, 192, kernel_size=(7, 1), stride=(1, 1), padding=(3, 0), bias=False)\n",
            "      (bn): BatchNorm2d(192, eps=0.001, momentum=0.1, affine=True, track_running_stats=True)\n",
            "    )\n",
            "    (branch7x7dbl_1): BasicConv2d(\n",
            "      (conv): Conv2d(768, 128, kernel_size=(1, 1), stride=(1, 1), bias=False)\n",
            "      (bn): BatchNorm2d(128, eps=0.001, momentum=0.1, affine=True, track_running_stats=True)\n",
            "    )\n",
            "    (branch7x7dbl_2): BasicConv2d(\n",
            "      (conv): Conv2d(128, 128, kernel_size=(7, 1), stride=(1, 1), padding=(3, 0), bias=False)\n",
            "      (bn): BatchNorm2d(128, eps=0.001, momentum=0.1, affine=True, track_running_stats=True)\n",
            "    )\n",
            "    (branch7x7dbl_3): BasicConv2d(\n",
            "      (conv): Conv2d(128, 128, kernel_size=(1, 7), stride=(1, 1), padding=(0, 3), bias=False)\n",
            "      (bn): BatchNorm2d(128, eps=0.001, momentum=0.1, affine=True, track_running_stats=True)\n",
            "    )\n",
            "    (branch7x7dbl_4): BasicConv2d(\n",
            "      (conv): Conv2d(128, 128, kernel_size=(7, 1), stride=(1, 1), padding=(3, 0), bias=False)\n",
            "      (bn): BatchNorm2d(128, eps=0.001, momentum=0.1, affine=True, track_running_stats=True)\n",
            "    )\n",
            "    (branch7x7dbl_5): BasicConv2d(\n",
            "      (conv): Conv2d(128, 192, kernel_size=(1, 7), stride=(1, 1), padding=(0, 3), bias=False)\n",
            "      (bn): BatchNorm2d(192, eps=0.001, momentum=0.1, affine=True, track_running_stats=True)\n",
            "    )\n",
            "    (branch_pool): BasicConv2d(\n",
            "      (conv): Conv2d(768, 192, kernel_size=(1, 1), stride=(1, 1), bias=False)\n",
            "      (bn): BatchNorm2d(192, eps=0.001, momentum=0.1, affine=True, track_running_stats=True)\n",
            "    )\n",
            "  )\n",
            "  (Mixed_6c): InceptionC(\n",
            "    (branch1x1): BasicConv2d(\n",
            "      (conv): Conv2d(768, 192, kernel_size=(1, 1), stride=(1, 1), bias=False)\n",
            "      (bn): BatchNorm2d(192, eps=0.001, momentum=0.1, affine=True, track_running_stats=True)\n",
            "    )\n",
            "    (branch7x7_1): BasicConv2d(\n",
            "      (conv): Conv2d(768, 160, kernel_size=(1, 1), stride=(1, 1), bias=False)\n",
            "      (bn): BatchNorm2d(160, eps=0.001, momentum=0.1, affine=True, track_running_stats=True)\n",
            "    )\n",
            "    (branch7x7_2): BasicConv2d(\n",
            "      (conv): Conv2d(160, 160, kernel_size=(1, 7), stride=(1, 1), padding=(0, 3), bias=False)\n",
            "      (bn): BatchNorm2d(160, eps=0.001, momentum=0.1, affine=True, track_running_stats=True)\n",
            "    )\n",
            "    (branch7x7_3): BasicConv2d(\n",
            "      (conv): Conv2d(160, 192, kernel_size=(7, 1), stride=(1, 1), padding=(3, 0), bias=False)\n",
            "      (bn): BatchNorm2d(192, eps=0.001, momentum=0.1, affine=True, track_running_stats=True)\n",
            "    )\n",
            "    (branch7x7dbl_1): BasicConv2d(\n",
            "      (conv): Conv2d(768, 160, kernel_size=(1, 1), stride=(1, 1), bias=False)\n",
            "      (bn): BatchNorm2d(160, eps=0.001, momentum=0.1, affine=True, track_running_stats=True)\n",
            "    )\n",
            "    (branch7x7dbl_2): BasicConv2d(\n",
            "      (conv): Conv2d(160, 160, kernel_size=(7, 1), stride=(1, 1), padding=(3, 0), bias=False)\n",
            "      (bn): BatchNorm2d(160, eps=0.001, momentum=0.1, affine=True, track_running_stats=True)\n",
            "    )\n",
            "    (branch7x7dbl_3): BasicConv2d(\n",
            "      (conv): Conv2d(160, 160, kernel_size=(1, 7), stride=(1, 1), padding=(0, 3), bias=False)\n",
            "      (bn): BatchNorm2d(160, eps=0.001, momentum=0.1, affine=True, track_running_stats=True)\n",
            "    )\n",
            "    (branch7x7dbl_4): BasicConv2d(\n",
            "      (conv): Conv2d(160, 160, kernel_size=(7, 1), stride=(1, 1), padding=(3, 0), bias=False)\n",
            "      (bn): BatchNorm2d(160, eps=0.001, momentum=0.1, affine=True, track_running_stats=True)\n",
            "    )\n",
            "    (branch7x7dbl_5): BasicConv2d(\n",
            "      (conv): Conv2d(160, 192, kernel_size=(1, 7), stride=(1, 1), padding=(0, 3), bias=False)\n",
            "      (bn): BatchNorm2d(192, eps=0.001, momentum=0.1, affine=True, track_running_stats=True)\n",
            "    )\n",
            "    (branch_pool): BasicConv2d(\n",
            "      (conv): Conv2d(768, 192, kernel_size=(1, 1), stride=(1, 1), bias=False)\n",
            "      (bn): BatchNorm2d(192, eps=0.001, momentum=0.1, affine=True, track_running_stats=True)\n",
            "    )\n",
            "  )\n",
            "  (Mixed_6d): InceptionC(\n",
            "    (branch1x1): BasicConv2d(\n",
            "      (conv): Conv2d(768, 192, kernel_size=(1, 1), stride=(1, 1), bias=False)\n",
            "      (bn): BatchNorm2d(192, eps=0.001, momentum=0.1, affine=True, track_running_stats=True)\n",
            "    )\n",
            "    (branch7x7_1): BasicConv2d(\n",
            "      (conv): Conv2d(768, 160, kernel_size=(1, 1), stride=(1, 1), bias=False)\n",
            "      (bn): BatchNorm2d(160, eps=0.001, momentum=0.1, affine=True, track_running_stats=True)\n",
            "    )\n",
            "    (branch7x7_2): BasicConv2d(\n",
            "      (conv): Conv2d(160, 160, kernel_size=(1, 7), stride=(1, 1), padding=(0, 3), bias=False)\n",
            "      (bn): BatchNorm2d(160, eps=0.001, momentum=0.1, affine=True, track_running_stats=True)\n",
            "    )\n",
            "    (branch7x7_3): BasicConv2d(\n",
            "      (conv): Conv2d(160, 192, kernel_size=(7, 1), stride=(1, 1), padding=(3, 0), bias=False)\n",
            "      (bn): BatchNorm2d(192, eps=0.001, momentum=0.1, affine=True, track_running_stats=True)\n",
            "    )\n",
            "    (branch7x7dbl_1): BasicConv2d(\n",
            "      (conv): Conv2d(768, 160, kernel_size=(1, 1), stride=(1, 1), bias=False)\n",
            "      (bn): BatchNorm2d(160, eps=0.001, momentum=0.1, affine=True, track_running_stats=True)\n",
            "    )\n",
            "    (branch7x7dbl_2): BasicConv2d(\n",
            "      (conv): Conv2d(160, 160, kernel_size=(7, 1), stride=(1, 1), padding=(3, 0), bias=False)\n",
            "      (bn): BatchNorm2d(160, eps=0.001, momentum=0.1, affine=True, track_running_stats=True)\n",
            "    )\n",
            "    (branch7x7dbl_3): BasicConv2d(\n",
            "      (conv): Conv2d(160, 160, kernel_size=(1, 7), stride=(1, 1), padding=(0, 3), bias=False)\n",
            "      (bn): BatchNorm2d(160, eps=0.001, momentum=0.1, affine=True, track_running_stats=True)\n",
            "    )\n",
            "    (branch7x7dbl_4): BasicConv2d(\n",
            "      (conv): Conv2d(160, 160, kernel_size=(7, 1), stride=(1, 1), padding=(3, 0), bias=False)\n",
            "      (bn): BatchNorm2d(160, eps=0.001, momentum=0.1, affine=True, track_running_stats=True)\n",
            "    )\n",
            "    (branch7x7dbl_5): BasicConv2d(\n",
            "      (conv): Conv2d(160, 192, kernel_size=(1, 7), stride=(1, 1), padding=(0, 3), bias=False)\n",
            "      (bn): BatchNorm2d(192, eps=0.001, momentum=0.1, affine=True, track_running_stats=True)\n",
            "    )\n",
            "    (branch_pool): BasicConv2d(\n",
            "      (conv): Conv2d(768, 192, kernel_size=(1, 1), stride=(1, 1), bias=False)\n",
            "      (bn): BatchNorm2d(192, eps=0.001, momentum=0.1, affine=True, track_running_stats=True)\n",
            "    )\n",
            "  )\n",
            "  (Mixed_6e): InceptionC(\n",
            "    (branch1x1): BasicConv2d(\n",
            "      (conv): Conv2d(768, 192, kernel_size=(1, 1), stride=(1, 1), bias=False)\n",
            "      (bn): BatchNorm2d(192, eps=0.001, momentum=0.1, affine=True, track_running_stats=True)\n",
            "    )\n",
            "    (branch7x7_1): BasicConv2d(\n",
            "      (conv): Conv2d(768, 192, kernel_size=(1, 1), stride=(1, 1), bias=False)\n",
            "      (bn): BatchNorm2d(192, eps=0.001, momentum=0.1, affine=True, track_running_stats=True)\n",
            "    )\n",
            "    (branch7x7_2): BasicConv2d(\n",
            "      (conv): Conv2d(192, 192, kernel_size=(1, 7), stride=(1, 1), padding=(0, 3), bias=False)\n",
            "      (bn): BatchNorm2d(192, eps=0.001, momentum=0.1, affine=True, track_running_stats=True)\n",
            "    )\n",
            "    (branch7x7_3): BasicConv2d(\n",
            "      (conv): Conv2d(192, 192, kernel_size=(7, 1), stride=(1, 1), padding=(3, 0), bias=False)\n",
            "      (bn): BatchNorm2d(192, eps=0.001, momentum=0.1, affine=True, track_running_stats=True)\n",
            "    )\n",
            "    (branch7x7dbl_1): BasicConv2d(\n",
            "      (conv): Conv2d(768, 192, kernel_size=(1, 1), stride=(1, 1), bias=False)\n",
            "      (bn): BatchNorm2d(192, eps=0.001, momentum=0.1, affine=True, track_running_stats=True)\n",
            "    )\n",
            "    (branch7x7dbl_2): BasicConv2d(\n",
            "      (conv): Conv2d(192, 192, kernel_size=(7, 1), stride=(1, 1), padding=(3, 0), bias=False)\n",
            "      (bn): BatchNorm2d(192, eps=0.001, momentum=0.1, affine=True, track_running_stats=True)\n",
            "    )\n",
            "    (branch7x7dbl_3): BasicConv2d(\n",
            "      (conv): Conv2d(192, 192, kernel_size=(1, 7), stride=(1, 1), padding=(0, 3), bias=False)\n",
            "      (bn): BatchNorm2d(192, eps=0.001, momentum=0.1, affine=True, track_running_stats=True)\n",
            "    )\n",
            "    (branch7x7dbl_4): BasicConv2d(\n",
            "      (conv): Conv2d(192, 192, kernel_size=(7, 1), stride=(1, 1), padding=(3, 0), bias=False)\n",
            "      (bn): BatchNorm2d(192, eps=0.001, momentum=0.1, affine=True, track_running_stats=True)\n",
            "    )\n",
            "    (branch7x7dbl_5): BasicConv2d(\n",
            "      (conv): Conv2d(192, 192, kernel_size=(1, 7), stride=(1, 1), padding=(0, 3), bias=False)\n",
            "      (bn): BatchNorm2d(192, eps=0.001, momentum=0.1, affine=True, track_running_stats=True)\n",
            "    )\n",
            "    (branch_pool): BasicConv2d(\n",
            "      (conv): Conv2d(768, 192, kernel_size=(1, 1), stride=(1, 1), bias=False)\n",
            "      (bn): BatchNorm2d(192, eps=0.001, momentum=0.1, affine=True, track_running_stats=True)\n",
            "    )\n",
            "  )\n",
            "  (AuxLogits): InceptionAux(\n",
            "    (conv0): BasicConv2d(\n",
            "      (conv): Conv2d(768, 128, kernel_size=(1, 1), stride=(1, 1), bias=False)\n",
            "      (bn): BatchNorm2d(128, eps=0.001, momentum=0.1, affine=True, track_running_stats=True)\n",
            "    )\n",
            "    (conv1): BasicConv2d(\n",
            "      (conv): Conv2d(128, 768, kernel_size=(5, 5), stride=(1, 1), bias=False)\n",
            "      (bn): BatchNorm2d(768, eps=0.001, momentum=0.1, affine=True, track_running_stats=True)\n",
            "    )\n",
            "    (fc): Linear(in_features=768, out_features=1000, bias=True)\n",
            "  )\n",
            "  (Mixed_7a): InceptionD(\n",
            "    (branch3x3_1): BasicConv2d(\n",
            "      (conv): Conv2d(768, 192, kernel_size=(1, 1), stride=(1, 1), bias=False)\n",
            "      (bn): BatchNorm2d(192, eps=0.001, momentum=0.1, affine=True, track_running_stats=True)\n",
            "    )\n",
            "    (branch3x3_2): BasicConv2d(\n",
            "      (conv): Conv2d(192, 320, kernel_size=(3, 3), stride=(2, 2), bias=False)\n",
            "      (bn): BatchNorm2d(320, eps=0.001, momentum=0.1, affine=True, track_running_stats=True)\n",
            "    )\n",
            "    (branch7x7x3_1): BasicConv2d(\n",
            "      (conv): Conv2d(768, 192, kernel_size=(1, 1), stride=(1, 1), bias=False)\n",
            "      (bn): BatchNorm2d(192, eps=0.001, momentum=0.1, affine=True, track_running_stats=True)\n",
            "    )\n",
            "    (branch7x7x3_2): BasicConv2d(\n",
            "      (conv): Conv2d(192, 192, kernel_size=(1, 7), stride=(1, 1), padding=(0, 3), bias=False)\n",
            "      (bn): BatchNorm2d(192, eps=0.001, momentum=0.1, affine=True, track_running_stats=True)\n",
            "    )\n",
            "    (branch7x7x3_3): BasicConv2d(\n",
            "      (conv): Conv2d(192, 192, kernel_size=(7, 1), stride=(1, 1), padding=(3, 0), bias=False)\n",
            "      (bn): BatchNorm2d(192, eps=0.001, momentum=0.1, affine=True, track_running_stats=True)\n",
            "    )\n",
            "    (branch7x7x3_4): BasicConv2d(\n",
            "      (conv): Conv2d(192, 192, kernel_size=(3, 3), stride=(2, 2), bias=False)\n",
            "      (bn): BatchNorm2d(192, eps=0.001, momentum=0.1, affine=True, track_running_stats=True)\n",
            "    )\n",
            "  )\n",
            "  (Mixed_7b): InceptionE(\n",
            "    (branch1x1): BasicConv2d(\n",
            "      (conv): Conv2d(1280, 320, kernel_size=(1, 1), stride=(1, 1), bias=False)\n",
            "      (bn): BatchNorm2d(320, eps=0.001, momentum=0.1, affine=True, track_running_stats=True)\n",
            "    )\n",
            "    (branch3x3_1): BasicConv2d(\n",
            "      (conv): Conv2d(1280, 384, kernel_size=(1, 1), stride=(1, 1), bias=False)\n",
            "      (bn): BatchNorm2d(384, eps=0.001, momentum=0.1, affine=True, track_running_stats=True)\n",
            "    )\n",
            "    (branch3x3_2a): BasicConv2d(\n",
            "      (conv): Conv2d(384, 384, kernel_size=(1, 3), stride=(1, 1), padding=(0, 1), bias=False)\n",
            "      (bn): BatchNorm2d(384, eps=0.001, momentum=0.1, affine=True, track_running_stats=True)\n",
            "    )\n",
            "    (branch3x3_2b): BasicConv2d(\n",
            "      (conv): Conv2d(384, 384, kernel_size=(3, 1), stride=(1, 1), padding=(1, 0), bias=False)\n",
            "      (bn): BatchNorm2d(384, eps=0.001, momentum=0.1, affine=True, track_running_stats=True)\n",
            "    )\n",
            "    (branch3x3dbl_1): BasicConv2d(\n",
            "      (conv): Conv2d(1280, 448, kernel_size=(1, 1), stride=(1, 1), bias=False)\n",
            "      (bn): BatchNorm2d(448, eps=0.001, momentum=0.1, affine=True, track_running_stats=True)\n",
            "    )\n",
            "    (branch3x3dbl_2): BasicConv2d(\n",
            "      (conv): Conv2d(448, 384, kernel_size=(3, 3), stride=(1, 1), padding=(1, 1), bias=False)\n",
            "      (bn): BatchNorm2d(384, eps=0.001, momentum=0.1, affine=True, track_running_stats=True)\n",
            "    )\n",
            "    (branch3x3dbl_3a): BasicConv2d(\n",
            "      (conv): Conv2d(384, 384, kernel_size=(1, 3), stride=(1, 1), padding=(0, 1), bias=False)\n",
            "      (bn): BatchNorm2d(384, eps=0.001, momentum=0.1, affine=True, track_running_stats=True)\n",
            "    )\n",
            "    (branch3x3dbl_3b): BasicConv2d(\n",
            "      (conv): Conv2d(384, 384, kernel_size=(3, 1), stride=(1, 1), padding=(1, 0), bias=False)\n",
            "      (bn): BatchNorm2d(384, eps=0.001, momentum=0.1, affine=True, track_running_stats=True)\n",
            "    )\n",
            "    (branch_pool): BasicConv2d(\n",
            "      (conv): Conv2d(1280, 192, kernel_size=(1, 1), stride=(1, 1), bias=False)\n",
            "      (bn): BatchNorm2d(192, eps=0.001, momentum=0.1, affine=True, track_running_stats=True)\n",
            "    )\n",
            "  )\n",
            "  (Mixed_7c): InceptionE(\n",
            "    (branch1x1): BasicConv2d(\n",
            "      (conv): Conv2d(2048, 320, kernel_size=(1, 1), stride=(1, 1), bias=False)\n",
            "      (bn): BatchNorm2d(320, eps=0.001, momentum=0.1, affine=True, track_running_stats=True)\n",
            "    )\n",
            "    (branch3x3_1): BasicConv2d(\n",
            "      (conv): Conv2d(2048, 384, kernel_size=(1, 1), stride=(1, 1), bias=False)\n",
            "      (bn): BatchNorm2d(384, eps=0.001, momentum=0.1, affine=True, track_running_stats=True)\n",
            "    )\n",
            "    (branch3x3_2a): BasicConv2d(\n",
            "      (conv): Conv2d(384, 384, kernel_size=(1, 3), stride=(1, 1), padding=(0, 1), bias=False)\n",
            "      (bn): BatchNorm2d(384, eps=0.001, momentum=0.1, affine=True, track_running_stats=True)\n",
            "    )\n",
            "    (branch3x3_2b): BasicConv2d(\n",
            "      (conv): Conv2d(384, 384, kernel_size=(3, 1), stride=(1, 1), padding=(1, 0), bias=False)\n",
            "      (bn): BatchNorm2d(384, eps=0.001, momentum=0.1, affine=True, track_running_stats=True)\n",
            "    )\n",
            "    (branch3x3dbl_1): BasicConv2d(\n",
            "      (conv): Conv2d(2048, 448, kernel_size=(1, 1), stride=(1, 1), bias=False)\n",
            "      (bn): BatchNorm2d(448, eps=0.001, momentum=0.1, affine=True, track_running_stats=True)\n",
            "    )\n",
            "    (branch3x3dbl_2): BasicConv2d(\n",
            "      (conv): Conv2d(448, 384, kernel_size=(3, 3), stride=(1, 1), padding=(1, 1), bias=False)\n",
            "      (bn): BatchNorm2d(384, eps=0.001, momentum=0.1, affine=True, track_running_stats=True)\n",
            "    )\n",
            "    (branch3x3dbl_3a): BasicConv2d(\n",
            "      (conv): Conv2d(384, 384, kernel_size=(1, 3), stride=(1, 1), padding=(0, 1), bias=False)\n",
            "      (bn): BatchNorm2d(384, eps=0.001, momentum=0.1, affine=True, track_running_stats=True)\n",
            "    )\n",
            "    (branch3x3dbl_3b): BasicConv2d(\n",
            "      (conv): Conv2d(384, 384, kernel_size=(3, 1), stride=(1, 1), padding=(1, 0), bias=False)\n",
            "      (bn): BatchNorm2d(384, eps=0.001, momentum=0.1, affine=True, track_running_stats=True)\n",
            "    )\n",
            "    (branch_pool): BasicConv2d(\n",
            "      (conv): Conv2d(2048, 192, kernel_size=(1, 1), stride=(1, 1), bias=False)\n",
            "      (bn): BatchNorm2d(192, eps=0.001, momentum=0.1, affine=True, track_running_stats=True)\n",
            "    )\n",
            "  )\n",
            "  (fc): Linear(in_features=2048, out_features=1000, bias=True)\n",
            ")\n"
          ],
          "name": "stdout"
        }
      ]
    },
    {
      "cell_type": "code",
      "metadata": {
        "id": "tkr6v1lT0IvM",
        "colab_type": "code",
        "colab": {}
      },
      "source": [
        "for param in inception.parameters():\n",
        "  param.requires_grad = False"
      ],
      "execution_count": 0,
      "outputs": []
    },
    {
      "cell_type": "code",
      "metadata": {
        "id": "bd1i57Ze0Y0i",
        "colab_type": "code",
        "colab": {}
      },
      "source": [
        "in_features = inception.AuxLogits.fc.in_features\n",
        "inception.AuxLogits.fc = nn.Linear(in_features, num_classes)"
      ],
      "execution_count": 0,
      "outputs": []
    },
    {
      "cell_type": "code",
      "metadata": {
        "id": "oJ2Ius8f1CJ0",
        "colab_type": "code",
        "outputId": "8d8e4da7-cdaf-40a5-e6b2-4ec5668ff0bc",
        "colab": {
          "base_uri": "https://localhost:8080/",
          "height": 51
        }
      },
      "source": [
        "for param in inception.parameters():\n",
        "  if param.requires_grad:\n",
        "    print(param.shape)"
      ],
      "execution_count": 0,
      "outputs": [
        {
          "output_type": "stream",
          "text": [
            "torch.Size([10, 768])\n",
            "torch.Size([10])\n"
          ],
          "name": "stdout"
        }
      ]
    },
    {
      "cell_type": "code",
      "metadata": {
        "id": "_xJTTXQU5Mt1",
        "colab_type": "code",
        "colab": {}
      },
      "source": [
        "in_features = inception.fc.in_features\n",
        "inception.fc = nn.Linear(in_features, num_classes)"
      ],
      "execution_count": 0,
      "outputs": []
    },
    {
      "cell_type": "code",
      "metadata": {
        "id": "1liQw3Ld5MT7",
        "colab_type": "code",
        "outputId": "e0c83779-56ab-48df-c979-4dd8fed93b1d",
        "colab": {
          "base_uri": "https://localhost:8080/",
          "height": 85
        }
      },
      "source": [
        "for param in inception.parameters():\n",
        "  if param.requires_grad:\n",
        "    print(param.shape)"
      ],
      "execution_count": 0,
      "outputs": [
        {
          "output_type": "stream",
          "text": [
            "torch.Size([10, 768])\n",
            "torch.Size([10])\n",
            "torch.Size([10, 2048])\n",
            "torch.Size([10])\n"
          ],
          "name": "stdout"
        }
      ]
    },
    {
      "cell_type": "code",
      "metadata": {
        "id": "KUBgQIaY_TVY",
        "colab_type": "code",
        "outputId": "6bfacfa9-73e9-45db-f86b-224c6def03c8",
        "colab": {
          "base_uri": "https://localhost:8080/",
          "height": 51
        }
      },
      "source": [
        "transform_train = transforms.Compose([\n",
        "    transforms.RandomResizedCrop(299),\n",
        "    transforms.ToTensor(),\n",
        "    transforms.Normalize((0.5, 0.5, 0.5), (0.5, 0.5, 0.5))\n",
        "  ])\n",
        "\n",
        "transform_test = transforms.Compose([\n",
        "    transforms.RandomResizedCrop(299),\n",
        "    transforms.ToTensor(),\n",
        "    transforms.Normalize((0.5, 0.5, 0.5), (0.5, 0.5, 0.5))\n",
        "  ])\n",
        "\n",
        "trainset = torchvision.datasets.CIFAR10(root='./data', train=True, download=True, transform=transform_train)\n",
        "testset = torchvision.datasets.CIFAR10(root='./data', train=False, download=True, transform=transform_test)\n",
        "\n",
        "batch_size = 256\n",
        "trainloader = torch.utils.data.DataLoader(trainset, batch_size=batch_size, shuffle=True)\n",
        "testloader = torch.utils.data.DataLoader(testset, batch_size=batch_size, shuffle=True)"
      ],
      "execution_count": 0,
      "outputs": [
        {
          "output_type": "stream",
          "text": [
            "Files already downloaded and verified\n",
            "Files already downloaded and verified\n"
          ],
          "name": "stdout"
        }
      ]
    },
    {
      "cell_type": "code",
      "metadata": {
        "id": "wftD3uyd1GwN",
        "colab_type": "code",
        "colab": {}
      },
      "source": [
        "inception = inception.to(device)\n",
        "loss_fn = nn.CrossEntropyLoss()\n",
        "opt = optim.SGD(inception.parameters(), lr=0.05)"
      ],
      "execution_count": 0,
      "outputs": []
    },
    {
      "cell_type": "code",
      "metadata": {
        "id": "tV-C9Dly1TxD",
        "colab_type": "code",
        "colab": {}
      },
      "source": [
        "def evaluation_inception(dataloader, model):\n",
        "  total, correct = 0, 0\n",
        "  for data in dataloader:\n",
        "    images, labels = data\n",
        "    images, labels = images.to(device), labels.to(device)\n",
        "    outputs, aux_outputs = model(images)\n",
        "    _, pred = torch.max(outputs, 1)\n",
        "    total += labels.size(0)\n",
        "    correct += (pred==labels).sum().item()\n",
        "  print('Accuracy is %f' % (correct/total) )\n",
        "  return 100 * correct/total"
      ],
      "execution_count": 0,
      "outputs": []
    },
    {
      "cell_type": "code",
      "metadata": {
        "id": "N40mKL7MBxmK",
        "colab_type": "code",
        "outputId": "f57a4206-e804-4647-92f0-b7598226dad0",
        "colab": {
          "base_uri": "https://localhost:8080/",
          "height": 663
        }
      },
      "source": [
        "max_epochs = 1\n",
        "loss_epoch_arr = []\n",
        "\n",
        "min_loss = 1000\n",
        "\n",
        "n_iters = np.ceil(50000//batch_size)\n",
        "\n",
        "for epoch in range(max_epochs):\n",
        "  for i, data in enumerate(trainloader, 0):\n",
        "\n",
        "    images, labels = data\n",
        "    images, labels = images.to(device), labels.to(device)\n",
        "\n",
        "    opt.zero_grad()\n",
        "\n",
        "    outputs, aux_outputs = inception(images)\n",
        "    loss = loss_fn(outputs, labels) + 0.3 * loss_fn(aux_outputs, labels)\n",
        "    loss.backward()\n",
        "    opt.step()\n",
        "\n",
        "    if min_loss > loss.item():\n",
        "      min_loss = loss.item()\n",
        "      best_model = copy.deepcopy(inception.state_dict())\n",
        "      print('Min Loss is %.2f' % (min_loss))\n",
        "\n",
        "    del images, labels, outputs\n",
        "    torch.cuda.empty_cache()\n",
        "\n",
        "    if i % 100 == 0:\n",
        "      print('%d/%d Training Loss: %.2f' % (i, n_iters, loss.item()))\n",
        "\n",
        "  loss_epoch_arr.append(loss.item())\n",
        "  print('%d/%d, Training Accuracy: %.2f Test Accuracy: %.2f'%(epoch, max_epochs, evaluation_inception(trainloader, inception), evaluation_inception(testloader, inception)))\n",
        "\n",
        "# plt.plot(loss_epoch_arr)\n",
        "# plt.show()"
      ],
      "execution_count": 0,
      "outputs": [
        {
          "output_type": "stream",
          "text": [
            "Min Loss is 2.77\n",
            "0/3125 Training Loss: 2.77\n",
            "Min Loss is 1.43\n",
            "Min Loss is 0.95\n",
            "100/3125 Training Loss: 1.82\n",
            "200/3125 Training Loss: 1.53\n",
            "300/3125 Training Loss: 2.13\n",
            "400/3125 Training Loss: 2.77\n",
            "500/3125 Training Loss: 2.44\n",
            "600/3125 Training Loss: 3.23\n",
            "700/3125 Training Loss: 1.71\n",
            "800/3125 Training Loss: 2.42\n",
            "900/3125 Training Loss: 1.75\n",
            "1000/3125 Training Loss: 3.22\n",
            "1100/3125 Training Loss: 2.23\n",
            "1200/3125 Training Loss: 2.29\n",
            "1300/3125 Training Loss: 1.64\n",
            "1400/3125 Training Loss: 2.38\n",
            "1500/3125 Training Loss: 2.68\n",
            "1600/3125 Training Loss: 1.96\n",
            "1700/3125 Training Loss: 2.26\n",
            "1800/3125 Training Loss: 1.75\n",
            "1900/3125 Training Loss: 2.99\n",
            "2000/3125 Training Loss: 1.64\n",
            "2100/3125 Training Loss: 1.99\n",
            "2200/3125 Training Loss: 1.79\n",
            "2300/3125 Training Loss: 2.56\n",
            "2400/3125 Training Loss: 2.05\n",
            "2500/3125 Training Loss: 1.48\n",
            "2600/3125 Training Loss: 2.10\n",
            "2700/3125 Training Loss: 3.32\n",
            "2800/3125 Training Loss: 2.52\n",
            "2900/3125 Training Loss: 2.01\n",
            "3000/3125 Training Loss: 1.99\n",
            "3100/3125 Training Loss: 2.95\n",
            "Accuracy is 0.424060\n",
            "Accuracy is 0.430800\n",
            "0/1, Training Accuracy: 0.42 Test Accuracy: 0.43\n"
          ],
          "name": "stdout"
        }
      ]
    },
    {
      "cell_type": "code",
      "metadata": {
        "id": "rMbgMiVPB_w3",
        "colab_type": "code",
        "outputId": "18c79ee4-c8de-4d0e-fee9-47da87323925",
        "colab": {
          "base_uri": "https://localhost:8080/",
          "height": 68
        }
      },
      "source": [
        "inception.load_state_dict(best_model)\n",
        "print(evaluation_inception(trainloader, inception), evaluation_inception(testloader, inception))"
      ],
      "execution_count": 0,
      "outputs": [
        {
          "output_type": "stream",
          "text": [
            "Accuracy is 0.431740\n",
            "Accuracy is 0.434100\n",
            "0.43174 0.4341\n"
          ],
          "name": "stdout"
        }
      ]
    },
    {
      "cell_type": "markdown",
      "metadata": {
        "id": "jvfb8wQQC2EF",
        "colab_type": "text"
      },
      "source": [
        "## Exercises\n",
        "1. Structure the above code into a series of functions and then call each model - Not very important\n",
        "2. Tune the models and get best published results on them\n",
        "3. Try CIFAR100, STL10 datasets\n",
        "4. Try SqueezeNet - Read the paper\n",
        "5. Try training multiple layers and not just the last layer"
      ]
    },
    {
      "cell_type": "code",
      "metadata": {
        "id": "2r45VOJFHOPd",
        "colab_type": "code",
        "colab": {}
      },
      "source": [
        ""
      ],
      "execution_count": 0,
      "outputs": []
    }
  ]
}