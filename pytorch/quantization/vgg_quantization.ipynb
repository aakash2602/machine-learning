{
  "nbformat": 4,
  "nbformat_minor": 0,
  "metadata": {
    "colab": {
      "name": "vgg_quantization.ipynb",
      "provenance": [],
      "collapsed_sections": []
    },
    "kernelspec": {
      "name": "python3",
      "display_name": "Python 3"
    },
    "accelerator": "GPU",
    "widgets": {
      "application/vnd.jupyter.widget-state+json": {
        "7af2e73a7a3340f5bd28b81aec1b0d4f": {
          "model_module": "@jupyter-widgets/controls",
          "model_name": "HBoxModel",
          "state": {
            "_view_name": "HBoxView",
            "_dom_classes": [],
            "_model_name": "HBoxModel",
            "_view_module": "@jupyter-widgets/controls",
            "_model_module_version": "1.5.0",
            "_view_count": null,
            "_view_module_version": "1.5.0",
            "box_style": "",
            "layout": "IPY_MODEL_8c71f8f44a3341bd829bed626e163fcd",
            "_model_module": "@jupyter-widgets/controls",
            "children": [
              "IPY_MODEL_828f23fa4a0a45349991413500035802",
              "IPY_MODEL_47cebf8a8d484344839b3f345b30a961"
            ]
          }
        },
        "8c71f8f44a3341bd829bed626e163fcd": {
          "model_module": "@jupyter-widgets/base",
          "model_name": "LayoutModel",
          "state": {
            "_view_name": "LayoutView",
            "grid_template_rows": null,
            "right": null,
            "justify_content": null,
            "_view_module": "@jupyter-widgets/base",
            "overflow": null,
            "_model_module_version": "1.2.0",
            "_view_count": null,
            "flex_flow": null,
            "width": null,
            "min_width": null,
            "border": null,
            "align_items": null,
            "bottom": null,
            "_model_module": "@jupyter-widgets/base",
            "top": null,
            "grid_column": null,
            "overflow_y": null,
            "overflow_x": null,
            "grid_auto_flow": null,
            "grid_area": null,
            "grid_template_columns": null,
            "flex": null,
            "_model_name": "LayoutModel",
            "justify_items": null,
            "grid_row": null,
            "max_height": null,
            "align_content": null,
            "visibility": null,
            "align_self": null,
            "height": null,
            "min_height": null,
            "padding": null,
            "grid_auto_rows": null,
            "grid_gap": null,
            "max_width": null,
            "order": null,
            "_view_module_version": "1.2.0",
            "grid_template_areas": null,
            "object_position": null,
            "object_fit": null,
            "grid_auto_columns": null,
            "margin": null,
            "display": null,
            "left": null
          }
        },
        "828f23fa4a0a45349991413500035802": {
          "model_module": "@jupyter-widgets/controls",
          "model_name": "IntProgressModel",
          "state": {
            "_view_name": "ProgressView",
            "style": "IPY_MODEL_245c02157e1f4910b04d6a2defdf90ea",
            "_dom_classes": [],
            "description": "",
            "_model_name": "IntProgressModel",
            "bar_style": "info",
            "max": 1,
            "_view_module": "@jupyter-widgets/controls",
            "_model_module_version": "1.5.0",
            "value": 1,
            "_view_count": null,
            "_view_module_version": "1.5.0",
            "orientation": "horizontal",
            "min": 0,
            "description_tooltip": null,
            "_model_module": "@jupyter-widgets/controls",
            "layout": "IPY_MODEL_748e582473f04752b7b22b8cbcb8b78e"
          }
        },
        "47cebf8a8d484344839b3f345b30a961": {
          "model_module": "@jupyter-widgets/controls",
          "model_name": "HTMLModel",
          "state": {
            "_view_name": "HTMLView",
            "style": "IPY_MODEL_d0e8c5db518543278b1274569449ed37",
            "_dom_classes": [],
            "description": "",
            "_model_name": "HTMLModel",
            "placeholder": "​",
            "_view_module": "@jupyter-widgets/controls",
            "_model_module_version": "1.5.0",
            "value": "170500096it [00:30, 12162258.04it/s]",
            "_view_count": null,
            "_view_module_version": "1.5.0",
            "description_tooltip": null,
            "_model_module": "@jupyter-widgets/controls",
            "layout": "IPY_MODEL_4702a2a3a8a44dceb346b925d3b911a4"
          }
        },
        "245c02157e1f4910b04d6a2defdf90ea": {
          "model_module": "@jupyter-widgets/controls",
          "model_name": "ProgressStyleModel",
          "state": {
            "_view_name": "StyleView",
            "_model_name": "ProgressStyleModel",
            "description_width": "",
            "_view_module": "@jupyter-widgets/base",
            "_model_module_version": "1.5.0",
            "_view_count": null,
            "_view_module_version": "1.2.0",
            "bar_color": null,
            "_model_module": "@jupyter-widgets/controls"
          }
        },
        "748e582473f04752b7b22b8cbcb8b78e": {
          "model_module": "@jupyter-widgets/base",
          "model_name": "LayoutModel",
          "state": {
            "_view_name": "LayoutView",
            "grid_template_rows": null,
            "right": null,
            "justify_content": null,
            "_view_module": "@jupyter-widgets/base",
            "overflow": null,
            "_model_module_version": "1.2.0",
            "_view_count": null,
            "flex_flow": null,
            "width": null,
            "min_width": null,
            "border": null,
            "align_items": null,
            "bottom": null,
            "_model_module": "@jupyter-widgets/base",
            "top": null,
            "grid_column": null,
            "overflow_y": null,
            "overflow_x": null,
            "grid_auto_flow": null,
            "grid_area": null,
            "grid_template_columns": null,
            "flex": null,
            "_model_name": "LayoutModel",
            "justify_items": null,
            "grid_row": null,
            "max_height": null,
            "align_content": null,
            "visibility": null,
            "align_self": null,
            "height": null,
            "min_height": null,
            "padding": null,
            "grid_auto_rows": null,
            "grid_gap": null,
            "max_width": null,
            "order": null,
            "_view_module_version": "1.2.0",
            "grid_template_areas": null,
            "object_position": null,
            "object_fit": null,
            "grid_auto_columns": null,
            "margin": null,
            "display": null,
            "left": null
          }
        },
        "d0e8c5db518543278b1274569449ed37": {
          "model_module": "@jupyter-widgets/controls",
          "model_name": "DescriptionStyleModel",
          "state": {
            "_view_name": "StyleView",
            "_model_name": "DescriptionStyleModel",
            "description_width": "",
            "_view_module": "@jupyter-widgets/base",
            "_model_module_version": "1.5.0",
            "_view_count": null,
            "_view_module_version": "1.2.0",
            "_model_module": "@jupyter-widgets/controls"
          }
        },
        "4702a2a3a8a44dceb346b925d3b911a4": {
          "model_module": "@jupyter-widgets/base",
          "model_name": "LayoutModel",
          "state": {
            "_view_name": "LayoutView",
            "grid_template_rows": null,
            "right": null,
            "justify_content": null,
            "_view_module": "@jupyter-widgets/base",
            "overflow": null,
            "_model_module_version": "1.2.0",
            "_view_count": null,
            "flex_flow": null,
            "width": null,
            "min_width": null,
            "border": null,
            "align_items": null,
            "bottom": null,
            "_model_module": "@jupyter-widgets/base",
            "top": null,
            "grid_column": null,
            "overflow_y": null,
            "overflow_x": null,
            "grid_auto_flow": null,
            "grid_area": null,
            "grid_template_columns": null,
            "flex": null,
            "_model_name": "LayoutModel",
            "justify_items": null,
            "grid_row": null,
            "max_height": null,
            "align_content": null,
            "visibility": null,
            "align_self": null,
            "height": null,
            "min_height": null,
            "padding": null,
            "grid_auto_rows": null,
            "grid_gap": null,
            "max_width": null,
            "order": null,
            "_view_module_version": "1.2.0",
            "grid_template_areas": null,
            "object_position": null,
            "object_fit": null,
            "grid_auto_columns": null,
            "margin": null,
            "display": null,
            "left": null
          }
        },
        "2c43df737283453bbe4692ac690b90a4": {
          "model_module": "@jupyter-widgets/controls",
          "model_name": "HBoxModel",
          "state": {
            "_view_name": "HBoxView",
            "_dom_classes": [],
            "_model_name": "HBoxModel",
            "_view_module": "@jupyter-widgets/controls",
            "_model_module_version": "1.5.0",
            "_view_count": null,
            "_view_module_version": "1.5.0",
            "box_style": "",
            "layout": "IPY_MODEL_fbeb0629f1f8492191cc64c9439ecf14",
            "_model_module": "@jupyter-widgets/controls",
            "children": [
              "IPY_MODEL_dee77280accf4ce29d3dc5d15ef43464",
              "IPY_MODEL_5d8ef9aeec114168b30a775ce1524687"
            ]
          }
        },
        "fbeb0629f1f8492191cc64c9439ecf14": {
          "model_module": "@jupyter-widgets/base",
          "model_name": "LayoutModel",
          "state": {
            "_view_name": "LayoutView",
            "grid_template_rows": null,
            "right": null,
            "justify_content": null,
            "_view_module": "@jupyter-widgets/base",
            "overflow": null,
            "_model_module_version": "1.2.0",
            "_view_count": null,
            "flex_flow": null,
            "width": null,
            "min_width": null,
            "border": null,
            "align_items": null,
            "bottom": null,
            "_model_module": "@jupyter-widgets/base",
            "top": null,
            "grid_column": null,
            "overflow_y": null,
            "overflow_x": null,
            "grid_auto_flow": null,
            "grid_area": null,
            "grid_template_columns": null,
            "flex": null,
            "_model_name": "LayoutModel",
            "justify_items": null,
            "grid_row": null,
            "max_height": null,
            "align_content": null,
            "visibility": null,
            "align_self": null,
            "height": null,
            "min_height": null,
            "padding": null,
            "grid_auto_rows": null,
            "grid_gap": null,
            "max_width": null,
            "order": null,
            "_view_module_version": "1.2.0",
            "grid_template_areas": null,
            "object_position": null,
            "object_fit": null,
            "grid_auto_columns": null,
            "margin": null,
            "display": null,
            "left": null
          }
        },
        "dee77280accf4ce29d3dc5d15ef43464": {
          "model_module": "@jupyter-widgets/controls",
          "model_name": "IntProgressModel",
          "state": {
            "_view_name": "ProgressView",
            "style": "IPY_MODEL_921f3a71c7fd488db7f3a9b85efe5be7",
            "_dom_classes": [],
            "description": "",
            "_model_name": "IntProgressModel",
            "bar_style": "success",
            "max": 553433881,
            "_view_module": "@jupyter-widgets/controls",
            "_model_module_version": "1.5.0",
            "value": 553433881,
            "_view_count": null,
            "_view_module_version": "1.5.0",
            "orientation": "horizontal",
            "min": 0,
            "description_tooltip": null,
            "_model_module": "@jupyter-widgets/controls",
            "layout": "IPY_MODEL_a4474b5be0594248bc2f7b4330f49391"
          }
        },
        "5d8ef9aeec114168b30a775ce1524687": {
          "model_module": "@jupyter-widgets/controls",
          "model_name": "HTMLModel",
          "state": {
            "_view_name": "HTMLView",
            "style": "IPY_MODEL_566cabc998d84ad9a1f067f47f2f8b6a",
            "_dom_classes": [],
            "description": "",
            "_model_name": "HTMLModel",
            "placeholder": "​",
            "_view_module": "@jupyter-widgets/controls",
            "_model_module_version": "1.5.0",
            "value": "100% 528M/528M [00:02&lt;00:00, 221MB/s]",
            "_view_count": null,
            "_view_module_version": "1.5.0",
            "description_tooltip": null,
            "_model_module": "@jupyter-widgets/controls",
            "layout": "IPY_MODEL_82693a50e77b42adb759716bbefcea36"
          }
        },
        "921f3a71c7fd488db7f3a9b85efe5be7": {
          "model_module": "@jupyter-widgets/controls",
          "model_name": "ProgressStyleModel",
          "state": {
            "_view_name": "StyleView",
            "_model_name": "ProgressStyleModel",
            "description_width": "",
            "_view_module": "@jupyter-widgets/base",
            "_model_module_version": "1.5.0",
            "_view_count": null,
            "_view_module_version": "1.2.0",
            "bar_color": null,
            "_model_module": "@jupyter-widgets/controls"
          }
        },
        "a4474b5be0594248bc2f7b4330f49391": {
          "model_module": "@jupyter-widgets/base",
          "model_name": "LayoutModel",
          "state": {
            "_view_name": "LayoutView",
            "grid_template_rows": null,
            "right": null,
            "justify_content": null,
            "_view_module": "@jupyter-widgets/base",
            "overflow": null,
            "_model_module_version": "1.2.0",
            "_view_count": null,
            "flex_flow": null,
            "width": null,
            "min_width": null,
            "border": null,
            "align_items": null,
            "bottom": null,
            "_model_module": "@jupyter-widgets/base",
            "top": null,
            "grid_column": null,
            "overflow_y": null,
            "overflow_x": null,
            "grid_auto_flow": null,
            "grid_area": null,
            "grid_template_columns": null,
            "flex": null,
            "_model_name": "LayoutModel",
            "justify_items": null,
            "grid_row": null,
            "max_height": null,
            "align_content": null,
            "visibility": null,
            "align_self": null,
            "height": null,
            "min_height": null,
            "padding": null,
            "grid_auto_rows": null,
            "grid_gap": null,
            "max_width": null,
            "order": null,
            "_view_module_version": "1.2.0",
            "grid_template_areas": null,
            "object_position": null,
            "object_fit": null,
            "grid_auto_columns": null,
            "margin": null,
            "display": null,
            "left": null
          }
        },
        "566cabc998d84ad9a1f067f47f2f8b6a": {
          "model_module": "@jupyter-widgets/controls",
          "model_name": "DescriptionStyleModel",
          "state": {
            "_view_name": "StyleView",
            "_model_name": "DescriptionStyleModel",
            "description_width": "",
            "_view_module": "@jupyter-widgets/base",
            "_model_module_version": "1.5.0",
            "_view_count": null,
            "_view_module_version": "1.2.0",
            "_model_module": "@jupyter-widgets/controls"
          }
        },
        "82693a50e77b42adb759716bbefcea36": {
          "model_module": "@jupyter-widgets/base",
          "model_name": "LayoutModel",
          "state": {
            "_view_name": "LayoutView",
            "grid_template_rows": null,
            "right": null,
            "justify_content": null,
            "_view_module": "@jupyter-widgets/base",
            "overflow": null,
            "_model_module_version": "1.2.0",
            "_view_count": null,
            "flex_flow": null,
            "width": null,
            "min_width": null,
            "border": null,
            "align_items": null,
            "bottom": null,
            "_model_module": "@jupyter-widgets/base",
            "top": null,
            "grid_column": null,
            "overflow_y": null,
            "overflow_x": null,
            "grid_auto_flow": null,
            "grid_area": null,
            "grid_template_columns": null,
            "flex": null,
            "_model_name": "LayoutModel",
            "justify_items": null,
            "grid_row": null,
            "max_height": null,
            "align_content": null,
            "visibility": null,
            "align_self": null,
            "height": null,
            "min_height": null,
            "padding": null,
            "grid_auto_rows": null,
            "grid_gap": null,
            "max_width": null,
            "order": null,
            "_view_module_version": "1.2.0",
            "grid_template_areas": null,
            "object_position": null,
            "object_fit": null,
            "grid_auto_columns": null,
            "margin": null,
            "display": null,
            "left": null
          }
        }
      }
    }
  },
  "cells": [
    {
      "cell_type": "code",
      "metadata": {
        "id": "a9fTCmjXXYCQ",
        "colab_type": "code",
        "colab": {}
      },
      "source": [
        "import numpy as np\n",
        "import matplotlib.pyplot as plt\n",
        "\n",
        "import torch\n",
        "import torchvision\n",
        "import torchvision.transforms as transforms\n",
        "import torch.nn as nn\n",
        "import torch.optim as optim\n",
        "from torch.optim import lr_scheduler\n",
        "# from torchvision.models.quantization import models\n",
        "from torchvision import models\n",
        "\n",
        "import copy"
      ],
      "execution_count": 0,
      "outputs": []
    },
    {
      "cell_type": "markdown",
      "metadata": {
        "id": "WWayQQ5enPwq",
        "colab_type": "text"
      },
      "source": [
        "## Enabling CUDA"
      ]
    },
    {
      "cell_type": "code",
      "metadata": {
        "id": "6JhrTAtqnMyu",
        "colab_type": "code",
        "outputId": "ad2295f0-237d-4b6e-99c6-9c409f2e3ea1",
        "colab": {
          "base_uri": "https://localhost:8080/",
          "height": 34
        }
      },
      "source": [
        "device = torch.device(\"cuda:0\" if torch.cuda.is_available() else \"cpu\")\n",
        "# device = torch.device(\"cpu\")\n",
        "device"
      ],
      "execution_count": 0,
      "outputs": [
        {
          "output_type": "execute_result",
          "data": {
            "text/plain": [
              "device(type='cuda', index=0)"
            ]
          },
          "metadata": {
            "tags": []
          },
          "execution_count": 2
        }
      ]
    },
    {
      "cell_type": "markdown",
      "metadata": {
        "id": "C_tJgpcLnPYQ",
        "colab_type": "text"
      },
      "source": [
        "## Loading Dataset"
      ]
    },
    {
      "cell_type": "code",
      "metadata": {
        "id": "vFQcBdWWnOeF",
        "colab_type": "code",
        "colab": {}
      },
      "source": [
        "transform_train = transforms.Compose([\n",
        "    transforms.RandomResizedCrop(224),\n",
        "    transforms.RandomHorizontalFlip(),\n",
        "    transforms.ToTensor(),\n",
        "    transforms.Normalize([0.485, 0.456, 0.406], [0.229, 0.224, 0.225])\n",
        "   ])\n",
        "\n",
        "transform_test = transforms.Compose([\n",
        "    transforms.RandomResizedCrop(224),\n",
        "    transforms.ToTensor(),\n",
        "    transforms.Normalize([0.485, 0.456, 0.406], [0.229, 0.224, 0.225])\n",
        "])"
      ],
      "execution_count": 0,
      "outputs": []
    },
    {
      "cell_type": "code",
      "metadata": {
        "id": "oHYuiN_GnYwn",
        "colab_type": "code",
        "outputId": "e0348f79-c99c-4fce-dcb2-6851b7b61fec",
        "colab": {
          "base_uri": "https://localhost:8080/",
          "height": 100,
          "referenced_widgets": [
            "7af2e73a7a3340f5bd28b81aec1b0d4f",
            "8c71f8f44a3341bd829bed626e163fcd",
            "828f23fa4a0a45349991413500035802",
            "47cebf8a8d484344839b3f345b30a961",
            "245c02157e1f4910b04d6a2defdf90ea",
            "748e582473f04752b7b22b8cbcb8b78e",
            "d0e8c5db518543278b1274569449ed37",
            "4702a2a3a8a44dceb346b925d3b911a4"
          ]
        }
      },
      "source": [
        "trainset = torchvision.datasets.CIFAR10(root='./data', train=True, transform=transform_train, download=True)\n",
        "\n",
        "testset = torchvision.datasets.CIFAR10(root='./data', train=False, download=True, transform=transform_test)"
      ],
      "execution_count": 0,
      "outputs": [
        {
          "output_type": "stream",
          "text": [
            "Downloading https://www.cs.toronto.edu/~kriz/cifar-10-python.tar.gz to ./data/cifar-10-python.tar.gz\n"
          ],
          "name": "stdout"
        },
        {
          "output_type": "display_data",
          "data": {
            "application/vnd.jupyter.widget-view+json": {
              "model_id": "7af2e73a7a3340f5bd28b81aec1b0d4f",
              "version_minor": 0,
              "version_major": 2
            },
            "text/plain": [
              "HBox(children=(IntProgress(value=1, bar_style='info', max=1), HTML(value='')))"
            ]
          },
          "metadata": {
            "tags": []
          }
        },
        {
          "output_type": "stream",
          "text": [
            "Extracting ./data/cifar-10-python.tar.gz to ./data\n",
            "Files already downloaded and verified\n"
          ],
          "name": "stdout"
        }
      ]
    },
    {
      "cell_type": "code",
      "metadata": {
        "id": "ZGxkaMgcnZ0c",
        "colab_type": "code",
        "colab": {}
      },
      "source": [
        "num_classes = 10\n",
        "batch_size = 4"
      ],
      "execution_count": 0,
      "outputs": []
    },
    {
      "cell_type": "code",
      "metadata": {
        "id": "m-N3hSjsna9F",
        "colab_type": "code",
        "outputId": "4cfb390f-ab1f-4133-ca8c-15ec34a67288",
        "colab": {
          "base_uri": "https://localhost:8080/",
          "height": 85
        }
      },
      "source": [
        "trainloader = torch.utils.data.DataLoader(trainset, batch_size=batch_size, shuffle=True)\n",
        "testloader = torch.utils.data.DataLoader(testset, batch_size=batch_size, shuffle=True)\n",
        "\n",
        "dataiter = iter(trainloader)\n",
        "images, labels = dataiter.next()\n",
        "\n",
        "print(images.shape)\n",
        "print(images[1].shape)\n",
        "print(labels.shape)\n",
        "print(labels[1])"
      ],
      "execution_count": 0,
      "outputs": [
        {
          "output_type": "stream",
          "text": [
            "torch.Size([4, 3, 224, 224])\n",
            "torch.Size([3, 224, 224])\n",
            "torch.Size([4])\n",
            "tensor(6)\n"
          ],
          "name": "stdout"
        }
      ]
    },
    {
      "cell_type": "code",
      "metadata": {
        "id": "_bLH-rEenb_F",
        "colab_type": "code",
        "colab": {}
      },
      "source": [
        "def imshow(img, title):\n",
        "  npimg = img.numpy()/2 + 0.5 ## denormalizing\n",
        "  plt.figure(figsize=(batch_size, 1))\n",
        "  plt.axis('off')\n",
        "  plt.imshow(np.transpose(npimg, (1, 2, 0)))\n",
        "  plt.title(title)\n",
        "  plt.show()\n",
        "\n",
        "def show_batch_images(dataloader):\n",
        "  images, labels = next(iter(dataloader))\n",
        "  img = torchvision.utils.make_grid(images)\n",
        "  imshow(img, title = [str(x.item()) for x in labels])"
      ],
      "execution_count": 0,
      "outputs": []
    },
    {
      "cell_type": "code",
      "metadata": {
        "id": "pm7oizHonc24",
        "colab_type": "code",
        "outputId": "9420927a-6045-4a41-9836-d77f5fa2ae58",
        "colab": {
          "base_uri": "https://localhost:8080/",
          "height": 421
        }
      },
      "source": [
        "for i in range(4):\n",
        "  show_batch_images(trainloader)"
      ],
      "execution_count": 0,
      "outputs": [
        {
          "output_type": "stream",
          "text": [
            "Clipping input data to the valid range for imshow with RGB data ([0..1] for floats or [0..255] for integers).\n"
          ],
          "name": "stderr"
        },
        {
          "output_type": "display_data",
          "data": {
            "image/png": "[encoded data removed]",
            "text/plain": [
              "<Figure size 288x72 with 1 Axes>"
            ]
          },
          "metadata": {
            "tags": []
          }
        },
        {
          "output_type": "stream",
          "text": [
            "Clipping input data to the valid range for imshow with RGB data ([0..1] for floats or [0..255] for integers).\n"
          ],
          "name": "stderr"
        },
        {
          "output_type": "display_data",
          "data": {
            "image/png": "[encoded data removed]",
            "text/plain": [
              "<Figure size 288x72 with 1 Axes>"
            ]
          },
          "metadata": {
            "tags": []
          }
        },
        {
          "output_type": "stream",
          "text": [
            "Clipping input data to the valid range for imshow with RGB data ([0..1] for floats or [0..255] for integers).\n"
          ],
          "name": "stderr"
        },
        {
          "output_type": "display_data",
          "data": {
            "image/png": "[encoded data removed]",
            "text/plain": [
              "<Figure size 288x72 with 1 Axes>"
            ]
          },
          "metadata": {
            "tags": []
          }
        },
        {
          "output_type": "stream",
          "text": [
            "Clipping input data to the valid range for imshow with RGB data ([0..1] for floats or [0..255] for integers).\n"
          ],
          "name": "stderr"
        },
        {
          "output_type": "display_data",
          "data": {
            "image/png": "[encoded data removed]",
            "text/plain": [
              "<Figure size 288x72 with 1 Axes>"
            ]
          },
          "metadata": {
            "tags": []
          }
        }
      ]
    },
    {
      "cell_type": "markdown",
      "metadata": {
        "id": "1G4D2du1nfyN",
        "colab_type": "text"
      },
      "source": [
        "## Training VGG"
      ]
    },
    {
      "cell_type": "code",
      "metadata": {
        "id": "bQZGUZYQnd_J",
        "colab_type": "code",
        "outputId": "4d3df6d5-6b45-4e45-8824-f102c4ae53fd",
        "colab": {
          "base_uri": "https://localhost:8080/",
          "height": 66,
          "referenced_widgets": [
            "2c43df737283453bbe4692ac690b90a4",
            "fbeb0629f1f8492191cc64c9439ecf14",
            "dee77280accf4ce29d3dc5d15ef43464",
            "5d8ef9aeec114168b30a775ce1524687",
            "921f3a71c7fd488db7f3a9b85efe5be7",
            "a4474b5be0594248bc2f7b4330f49391",
            "566cabc998d84ad9a1f067f47f2f8b6a",
            "82693a50e77b42adb759716bbefcea36"
          ]
        }
      },
      "source": [
        "model = models.vgg16(pretrained=True)"
      ],
      "execution_count": 0,
      "outputs": [
        {
          "output_type": "stream",
          "text": [
            "Downloading: \"https://download.pytorch.org/models/vgg16-397923af.pth\" to /root/.cache/torch/checkpoints/vgg16-397923af.pth\n"
          ],
          "name": "stderr"
        },
        {
          "output_type": "display_data",
          "data": {
            "application/vnd.jupyter.widget-view+json": {
              "model_id": "2c43df737283453bbe4692ac690b90a4",
              "version_minor": 0,
              "version_major": 2
            },
            "text/plain": [
              "HBox(children=(IntProgress(value=0, max=553433881), HTML(value='')))"
            ]
          },
          "metadata": {
            "tags": []
          }
        }
      ]
    },
    {
      "cell_type": "code",
      "metadata": {
        "id": "g-7-hPCinm4S",
        "colab_type": "code",
        "outputId": "0cb12f3a-72fa-4d05-d1e5-c462b21f516e",
        "colab": {
          "base_uri": "https://localhost:8080/",
          "height": 782
        }
      },
      "source": [
        "print(model)"
      ],
      "execution_count": 0,
      "outputs": [
        {
          "output_type": "stream",
          "text": [
            "VGG(\n",
            "  (features): Sequential(\n",
            "    (0): Conv2d(3, 64, kernel_size=(3, 3), stride=(1, 1), padding=(1, 1))\n",
            "    (1): ReLU(inplace=True)\n",
            "    (2): Conv2d(64, 64, kernel_size=(3, 3), stride=(1, 1), padding=(1, 1))\n",
            "    (3): ReLU(inplace=True)\n",
            "    (4): MaxPool2d(kernel_size=2, stride=2, padding=0, dilation=1, ceil_mode=False)\n",
            "    (5): Conv2d(64, 128, kernel_size=(3, 3), stride=(1, 1), padding=(1, 1))\n",
            "    (6): ReLU(inplace=True)\n",
            "    (7): Conv2d(128, 128, kernel_size=(3, 3), stride=(1, 1), padding=(1, 1))\n",
            "    (8): ReLU(inplace=True)\n",
            "    (9): MaxPool2d(kernel_size=2, stride=2, padding=0, dilation=1, ceil_mode=False)\n",
            "    (10): Conv2d(128, 256, kernel_size=(3, 3), stride=(1, 1), padding=(1, 1))\n",
            "    (11): ReLU(inplace=True)\n",
            "    (12): Conv2d(256, 256, kernel_size=(3, 3), stride=(1, 1), padding=(1, 1))\n",
            "    (13): ReLU(inplace=True)\n",
            "    (14): Conv2d(256, 256, kernel_size=(3, 3), stride=(1, 1), padding=(1, 1))\n",
            "    (15): ReLU(inplace=True)\n",
            "    (16): MaxPool2d(kernel_size=2, stride=2, padding=0, dilation=1, ceil_mode=False)\n",
            "    (17): Conv2d(256, 512, kernel_size=(3, 3), stride=(1, 1), padding=(1, 1))\n",
            "    (18): ReLU(inplace=True)\n",
            "    (19): Conv2d(512, 512, kernel_size=(3, 3), stride=(1, 1), padding=(1, 1))\n",
            "    (20): ReLU(inplace=True)\n",
            "    (21): Conv2d(512, 512, kernel_size=(3, 3), stride=(1, 1), padding=(1, 1))\n",
            "    (22): ReLU(inplace=True)\n",
            "    (23): MaxPool2d(kernel_size=2, stride=2, padding=0, dilation=1, ceil_mode=False)\n",
            "    (24): Conv2d(512, 512, kernel_size=(3, 3), stride=(1, 1), padding=(1, 1))\n",
            "    (25): ReLU(inplace=True)\n",
            "    (26): Conv2d(512, 512, kernel_size=(3, 3), stride=(1, 1), padding=(1, 1))\n",
            "    (27): ReLU(inplace=True)\n",
            "    (28): Conv2d(512, 512, kernel_size=(3, 3), stride=(1, 1), padding=(1, 1))\n",
            "    (29): ReLU(inplace=True)\n",
            "    (30): MaxPool2d(kernel_size=2, stride=2, padding=0, dilation=1, ceil_mode=False)\n",
            "  )\n",
            "  (avgpool): AdaptiveAvgPool2d(output_size=(7, 7))\n",
            "  (classifier): Sequential(\n",
            "    (0): Linear(in_features=25088, out_features=4096, bias=True)\n",
            "    (1): ReLU(inplace=True)\n",
            "    (2): Dropout(p=0.5, inplace=False)\n",
            "    (3): Linear(in_features=4096, out_features=4096, bias=True)\n",
            "    (4): ReLU(inplace=True)\n",
            "    (5): Dropout(p=0.5, inplace=False)\n",
            "    (6): Linear(in_features=4096, out_features=1000, bias=True)\n",
            "  )\n",
            ")\n"
          ],
          "name": "stdout"
        }
      ]
    },
    {
      "cell_type": "code",
      "metadata": {
        "id": "VhSqixm3MuvS",
        "colab_type": "code",
        "colab": {}
      },
      "source": [
        "for param in model.parameters():\n",
        "  param.requires_grad = False\n",
        "\n",
        "in_features = model.classifier[0].in_features\n",
        "\n",
        "model.classifier = nn.Sequential(\n",
        "    nn.Linear(in_features, 4096, bias=True),\n",
        "    nn.ReLU(),\n",
        "    nn.Dropout(0.5),\n",
        "    nn.Linear(4096, 1000, bias=True),\n",
        "    nn.ReLU(),\n",
        "    nn.Dropout(0.5),\n",
        "    nn.Linear(1000, 10, bias=True)\n",
        ")\n",
        "\n",
        "for param in model.parameters():\n",
        "  if param.requires_grad:\n",
        "    print(param.shape)"
      ],
      "execution_count": 0,
      "outputs": []
    },
    {
      "cell_type": "code",
      "metadata": {
        "id": "doa-lFeuQx5e",
        "colab_type": "code",
        "outputId": "e42459d1-8af9-4350-be51-682020a7097f",
        "colab": {
          "base_uri": "https://localhost:8080/",
          "height": 119
        }
      },
      "source": [
        "for param in model.parameters():\n",
        "  if param.requires_grad:\n",
        "    print(param.shape)"
      ],
      "execution_count": 0,
      "outputs": [
        {
          "output_type": "stream",
          "text": [
            "torch.Size([4096, 25088])\n",
            "torch.Size([4096])\n",
            "torch.Size([1000, 4096])\n",
            "torch.Size([1000])\n",
            "torch.Size([10, 1000])\n",
            "torch.Size([10])\n"
          ],
          "name": "stdout"
        }
      ]
    },
    {
      "cell_type": "code",
      "metadata": {
        "id": "DccpCeFKoh01",
        "colab_type": "code",
        "outputId": "90f0f447-790e-446a-ae43-8b014549ec2d",
        "colab": {
          "base_uri": "https://localhost:8080/",
          "height": 1000
        }
      },
      "source": [
        "model = model.to(device)\n",
        "criterion = nn.CrossEntropyLoss()\n",
        "opt = optim.Adam(model.parameters(), 0.0001)\n",
        "epochs = 10\n",
        "\n",
        "loss_arr = []\n",
        "\n",
        "for epoch in range(epochs):\n",
        "  loss_value = 0.0\n",
        "  for i, data in enumerate(trainloader):\n",
        "    images, labels = data\n",
        "    images, labels = images.to(device), labels.to(device)\n",
        "    outputs = model(images)\n",
        "    \n",
        "    opt.zero_grad()\n",
        "\n",
        "    loss_val = criterion(outputs, labels)\n",
        "    loss_val.backward()\n",
        "    opt.step()\n",
        "\n",
        "    if i%100 == 1:\n",
        "      print('epoch :', epoch, ' iteration :', i, ' loss: ', loss_val.item())\n",
        "    loss_value += loss_val.item()\n",
        "  loss_arr.append(loss_value/i)\n",
        "\n"
      ],
      "execution_count": 0,
      "outputs": [
        {
          "output_type": "stream",
          "text": [
            "epoch : 0  iteration : 1  loss:  1.4993647336959839\n",
            "epoch : 0  iteration : 101  loss:  4.124796390533447\n",
            "epoch : 0  iteration : 201  loss:  0.6865440011024475\n",
            "epoch : 0  iteration : 301  loss:  1.1066062450408936\n",
            "epoch : 0  iteration : 401  loss:  0.9314309358596802\n",
            "epoch : 0  iteration : 501  loss:  1.0824631452560425\n",
            "epoch : 0  iteration : 601  loss:  0.8906031250953674\n",
            "epoch : 0  iteration : 701  loss:  0.7609904408454895\n",
            "epoch : 0  iteration : 801  loss:  1.345536708831787\n",
            "epoch : 0  iteration : 901  loss:  0.7539348602294922\n",
            "epoch : 0  iteration : 1001  loss:  1.9128673076629639\n",
            "epoch : 0  iteration : 1101  loss:  1.6486985683441162\n",
            "epoch : 0  iteration : 1201  loss:  1.1431183815002441\n",
            "epoch : 0  iteration : 1301  loss:  0.8565210103988647\n",
            "epoch : 0  iteration : 1401  loss:  1.3123561143875122\n",
            "epoch : 0  iteration : 1501  loss:  2.293846607208252\n",
            "epoch : 0  iteration : 1601  loss:  2.1540377140045166\n",
            "epoch : 0  iteration : 1701  loss:  1.030517339706421\n",
            "epoch : 0  iteration : 1801  loss:  1.4786120653152466\n",
            "epoch : 0  iteration : 1901  loss:  0.24940453469753265\n",
            "epoch : 0  iteration : 2001  loss:  0.6470373868942261\n",
            "epoch : 0  iteration : 2101  loss:  1.8239340782165527\n",
            "epoch : 0  iteration : 2201  loss:  1.6589343547821045\n",
            "epoch : 0  iteration : 2301  loss:  1.167508840560913\n",
            "epoch : 0  iteration : 2401  loss:  1.170973777770996\n",
            "epoch : 0  iteration : 2501  loss:  1.2260756492614746\n",
            "epoch : 0  iteration : 2601  loss:  0.6741305589675903\n",
            "epoch : 0  iteration : 2701  loss:  1.1455928087234497\n",
            "epoch : 0  iteration : 2801  loss:  1.6194427013397217\n",
            "epoch : 0  iteration : 2901  loss:  1.4996198415756226\n",
            "epoch : 0  iteration : 3001  loss:  1.5402815341949463\n",
            "epoch : 0  iteration : 3101  loss:  0.9314497113227844\n",
            "epoch : 0  iteration : 3201  loss:  1.2404189109802246\n",
            "epoch : 0  iteration : 3301  loss:  2.3017709255218506\n",
            "epoch : 0  iteration : 3401  loss:  0.6101076602935791\n",
            "epoch : 0  iteration : 3501  loss:  0.24433869123458862\n",
            "epoch : 0  iteration : 3601  loss:  0.6044161915779114\n",
            "epoch : 0  iteration : 3701  loss:  0.5290337204933167\n",
            "epoch : 0  iteration : 3801  loss:  0.30550503730773926\n",
            "epoch : 0  iteration : 3901  loss:  0.6126621961593628\n",
            "epoch : 0  iteration : 4001  loss:  0.0032592415809631348\n",
            "epoch : 0  iteration : 4101  loss:  1.1887143850326538\n",
            "epoch : 0  iteration : 4201  loss:  0.9415642023086548\n",
            "epoch : 0  iteration : 4301  loss:  2.550006628036499\n",
            "epoch : 0  iteration : 4401  loss:  0.5738886594772339\n",
            "epoch : 0  iteration : 4501  loss:  1.67023766040802\n",
            "epoch : 0  iteration : 4601  loss:  0.8768631219863892\n",
            "epoch : 0  iteration : 4701  loss:  0.9151660799980164\n",
            "epoch : 0  iteration : 4801  loss:  1.797753095626831\n",
            "epoch : 0  iteration : 4901  loss:  0.8223767280578613\n",
            "epoch : 0  iteration : 5001  loss:  0.8372929096221924\n",
            "epoch : 0  iteration : 5101  loss:  1.1995997428894043\n",
            "epoch : 0  iteration : 5201  loss:  1.7981992959976196\n",
            "epoch : 0  iteration : 5301  loss:  0.6475561857223511\n",
            "epoch : 0  iteration : 5401  loss:  1.0074050426483154\n",
            "epoch : 0  iteration : 5501  loss:  1.1147489547729492\n",
            "epoch : 0  iteration : 5601  loss:  3.0919153690338135\n",
            "epoch : 0  iteration : 5701  loss:  1.3395328521728516\n",
            "epoch : 0  iteration : 5801  loss:  1.4873056411743164\n",
            "epoch : 0  iteration : 5901  loss:  0.9720438718795776\n",
            "epoch : 0  iteration : 6001  loss:  1.0582947731018066\n",
            "epoch : 0  iteration : 6101  loss:  0.4382256269454956\n",
            "epoch : 0  iteration : 6201  loss:  2.2484331130981445\n",
            "epoch : 0  iteration : 6301  loss:  0.4001239538192749\n",
            "epoch : 0  iteration : 6401  loss:  1.682475209236145\n",
            "epoch : 0  iteration : 6501  loss:  0.723418116569519\n",
            "epoch : 0  iteration : 6601  loss:  1.6508443355560303\n",
            "epoch : 0  iteration : 6701  loss:  1.1122206449508667\n",
            "epoch : 0  iteration : 6801  loss:  0.7849433422088623\n",
            "epoch : 0  iteration : 6901  loss:  0.47328436374664307\n",
            "epoch : 0  iteration : 7001  loss:  1.6264231204986572\n",
            "epoch : 0  iteration : 7101  loss:  0.3362860679626465\n",
            "epoch : 0  iteration : 7201  loss:  0.739336371421814\n",
            "epoch : 0  iteration : 7301  loss:  1.1825714111328125\n",
            "epoch : 0  iteration : 7401  loss:  0.6970188617706299\n",
            "epoch : 0  iteration : 7501  loss:  0.9638183116912842\n",
            "epoch : 0  iteration : 7601  loss:  0.3959430456161499\n",
            "epoch : 0  iteration : 7701  loss:  0.8443769216537476\n",
            "epoch : 0  iteration : 7801  loss:  1.4637463092803955\n",
            "epoch : 0  iteration : 7901  loss:  1.1830898523330688\n",
            "epoch : 0  iteration : 8001  loss:  0.4924994111061096\n",
            "epoch : 0  iteration : 8101  loss:  0.8361803293228149\n",
            "epoch : 0  iteration : 8201  loss:  1.1405956745147705\n",
            "epoch : 0  iteration : 8301  loss:  0.5209704637527466\n",
            "epoch : 0  iteration : 8401  loss:  2.4089035987854004\n",
            "epoch : 0  iteration : 8501  loss:  0.48789507150650024\n",
            "epoch : 0  iteration : 8601  loss:  1.1264636516571045\n",
            "epoch : 0  iteration : 8701  loss:  0.44756755232810974\n",
            "epoch : 0  iteration : 8801  loss:  1.5541012287139893\n",
            "epoch : 0  iteration : 8901  loss:  1.2463053464889526\n",
            "epoch : 0  iteration : 9001  loss:  1.1084403991699219\n",
            "epoch : 0  iteration : 9101  loss:  0.6421154141426086\n",
            "epoch : 0  iteration : 9201  loss:  1.7675797939300537\n",
            "epoch : 0  iteration : 9301  loss:  0.8609062433242798\n",
            "epoch : 0  iteration : 9401  loss:  1.8130970001220703\n",
            "epoch : 0  iteration : 9501  loss:  0.1936977654695511\n",
            "epoch : 0  iteration : 9601  loss:  0.49402186274528503\n",
            "epoch : 0  iteration : 9701  loss:  0.6842396259307861\n",
            "epoch : 0  iteration : 9801  loss:  2.1079459190368652\n",
            "epoch : 0  iteration : 9901  loss:  0.6921346783638\n",
            "epoch : 0  iteration : 10001  loss:  1.1302852630615234\n",
            "epoch : 0  iteration : 10101  loss:  0.5201667547225952\n",
            "epoch : 0  iteration : 10201  loss:  0.8066562414169312\n",
            "epoch : 0  iteration : 10301  loss:  1.465091586112976\n",
            "epoch : 0  iteration : 10401  loss:  2.8283262252807617\n",
            "epoch : 0  iteration : 10501  loss:  2.1359827518463135\n",
            "epoch : 0  iteration : 10601  loss:  1.2185066938400269\n",
            "epoch : 0  iteration : 10701  loss:  0.5234953165054321\n",
            "epoch : 0  iteration : 10801  loss:  2.6040186882019043\n",
            "epoch : 0  iteration : 10901  loss:  0.7242336273193359\n",
            "epoch : 0  iteration : 11001  loss:  1.7755885124206543\n",
            "epoch : 0  iteration : 11101  loss:  0.48951980471611023\n",
            "epoch : 0  iteration : 11201  loss:  0.5222606062889099\n",
            "epoch : 0  iteration : 11301  loss:  1.4260661602020264\n",
            "epoch : 0  iteration : 11401  loss:  0.6440107226371765\n",
            "epoch : 0  iteration : 11501  loss:  0.24924582242965698\n",
            "epoch : 0  iteration : 11601  loss:  0.2267896831035614\n",
            "epoch : 0  iteration : 11701  loss:  1.9248616695404053\n",
            "epoch : 0  iteration : 11801  loss:  1.7443197965621948\n",
            "epoch : 0  iteration : 11901  loss:  0.24821163713932037\n",
            "epoch : 0  iteration : 12001  loss:  1.2923314571380615\n",
            "epoch : 0  iteration : 12101  loss:  1.4099187850952148\n",
            "epoch : 0  iteration : 12201  loss:  1.139785647392273\n",
            "epoch : 0  iteration : 12301  loss:  0.5803654193878174\n",
            "epoch : 0  iteration : 12401  loss:  1.4262375831604004\n",
            "epoch : 1  iteration : 1  loss:  1.3305870294570923\n",
            "epoch : 1  iteration : 101  loss:  2.831275463104248\n",
            "epoch : 1  iteration : 201  loss:  1.183072566986084\n",
            "epoch : 1  iteration : 301  loss:  0.43553611636161804\n",
            "epoch : 1  iteration : 401  loss:  0.5296265482902527\n",
            "epoch : 1  iteration : 501  loss:  0.9151729941368103\n",
            "epoch : 1  iteration : 601  loss:  1.3346844911575317\n",
            "epoch : 1  iteration : 701  loss:  1.04891836643219\n",
            "epoch : 1  iteration : 801  loss:  1.5605127811431885\n",
            "epoch : 1  iteration : 901  loss:  1.349703311920166\n",
            "epoch : 1  iteration : 1001  loss:  1.1021735668182373\n",
            "epoch : 1  iteration : 1101  loss:  0.9804518222808838\n",
            "epoch : 1  iteration : 1201  loss:  0.6005954742431641\n",
            "epoch : 1  iteration : 1301  loss:  0.24232929944992065\n",
            "epoch : 1  iteration : 1401  loss:  0.6931681632995605\n",
            "epoch : 1  iteration : 1501  loss:  0.4451807737350464\n",
            "epoch : 1  iteration : 1601  loss:  0.5732777118682861\n",
            "epoch : 1  iteration : 1701  loss:  1.3117856979370117\n",
            "epoch : 1  iteration : 1801  loss:  0.64024817943573\n",
            "epoch : 1  iteration : 1901  loss:  1.9957383871078491\n",
            "epoch : 1  iteration : 2001  loss:  0.4222342371940613\n",
            "epoch : 1  iteration : 2101  loss:  0.9613538980484009\n",
            "epoch : 1  iteration : 2201  loss:  0.9442501068115234\n",
            "epoch : 1  iteration : 2301  loss:  0.6413476467132568\n",
            "epoch : 1  iteration : 2401  loss:  0.8621801733970642\n",
            "epoch : 1  iteration : 2501  loss:  0.5135477781295776\n",
            "epoch : 1  iteration : 2601  loss:  0.8515089750289917\n",
            "epoch : 1  iteration : 2701  loss:  0.8403161764144897\n",
            "epoch : 1  iteration : 2801  loss:  2.4808249473571777\n",
            "epoch : 1  iteration : 2901  loss:  1.07342529296875\n",
            "epoch : 1  iteration : 3001  loss:  0.7219639420509338\n",
            "epoch : 1  iteration : 3101  loss:  0.6735695600509644\n",
            "epoch : 1  iteration : 3201  loss:  1.2402104139328003\n",
            "epoch : 1  iteration : 3301  loss:  0.9961033463478088\n",
            "epoch : 1  iteration : 3401  loss:  1.9349110126495361\n",
            "epoch : 1  iteration : 3501  loss:  0.4659494459629059\n",
            "epoch : 1  iteration : 3601  loss:  1.307485580444336\n",
            "epoch : 1  iteration : 3701  loss:  0.5650686025619507\n",
            "epoch : 1  iteration : 3801  loss:  1.5518287420272827\n",
            "epoch : 1  iteration : 3901  loss:  2.608759880065918\n",
            "epoch : 1  iteration : 4001  loss:  1.6175113916397095\n",
            "epoch : 1  iteration : 4101  loss:  0.5376937389373779\n",
            "epoch : 1  iteration : 4201  loss:  0.588830292224884\n",
            "epoch : 1  iteration : 4301  loss:  0.5667824149131775\n",
            "epoch : 1  iteration : 4401  loss:  1.265686273574829\n",
            "epoch : 1  iteration : 4501  loss:  0.16440342366695404\n",
            "epoch : 1  iteration : 4601  loss:  2.6738474369049072\n",
            "epoch : 1  iteration : 4701  loss:  0.36630985140800476\n",
            "epoch : 1  iteration : 4801  loss:  0.8486945629119873\n",
            "epoch : 1  iteration : 4901  loss:  1.0998672246932983\n",
            "epoch : 1  iteration : 5001  loss:  0.19135397672653198\n",
            "epoch : 1  iteration : 5101  loss:  0.024041667580604553\n",
            "epoch : 1  iteration : 5201  loss:  2.007340908050537\n",
            "epoch : 1  iteration : 5301  loss:  0.6683837175369263\n",
            "epoch : 1  iteration : 5401  loss:  2.250584840774536\n",
            "epoch : 1  iteration : 5501  loss:  0.39457666873931885\n",
            "epoch : 1  iteration : 5601  loss:  0.8075686693191528\n",
            "epoch : 1  iteration : 5701  loss:  0.19564560055732727\n",
            "epoch : 1  iteration : 5801  loss:  0.6078585386276245\n",
            "epoch : 1  iteration : 5901  loss:  1.4674584865570068\n",
            "epoch : 1  iteration : 6001  loss:  0.6984162330627441\n",
            "epoch : 1  iteration : 6101  loss:  2.9125988483428955\n",
            "epoch : 1  iteration : 6201  loss:  0.30921775102615356\n",
            "epoch : 1  iteration : 6301  loss:  1.0344295501708984\n",
            "epoch : 1  iteration : 6401  loss:  0.7024242281913757\n",
            "epoch : 1  iteration : 6501  loss:  1.5405898094177246\n",
            "epoch : 1  iteration : 6601  loss:  1.3011114597320557\n",
            "epoch : 1  iteration : 6701  loss:  0.3834267556667328\n",
            "epoch : 1  iteration : 6801  loss:  0.025080323219299316\n",
            "epoch : 1  iteration : 6901  loss:  0.6615893244743347\n",
            "epoch : 1  iteration : 7001  loss:  0.7896340489387512\n",
            "epoch : 1  iteration : 7101  loss:  1.0484102964401245\n",
            "epoch : 1  iteration : 7201  loss:  0.2268662452697754\n",
            "epoch : 1  iteration : 7301  loss:  1.695094108581543\n",
            "epoch : 1  iteration : 7401  loss:  0.2767523527145386\n",
            "epoch : 1  iteration : 7501  loss:  2.287339925765991\n",
            "epoch : 1  iteration : 7601  loss:  1.017743706703186\n",
            "epoch : 1  iteration : 7701  loss:  1.555152177810669\n",
            "epoch : 1  iteration : 7801  loss:  0.5034565329551697\n",
            "epoch : 1  iteration : 7901  loss:  0.6390601396560669\n",
            "epoch : 1  iteration : 8001  loss:  1.1535003185272217\n",
            "epoch : 1  iteration : 8101  loss:  0.33729326725006104\n",
            "epoch : 1  iteration : 8201  loss:  0.8189474940299988\n",
            "epoch : 1  iteration : 8301  loss:  0.9045291543006897\n",
            "epoch : 1  iteration : 8401  loss:  0.9048923254013062\n",
            "epoch : 1  iteration : 8501  loss:  1.6489869356155396\n",
            "epoch : 1  iteration : 8601  loss:  0.12177198380231857\n",
            "epoch : 1  iteration : 8701  loss:  0.647350549697876\n",
            "epoch : 1  iteration : 8801  loss:  1.02740478515625\n",
            "epoch : 1  iteration : 8901  loss:  1.437821388244629\n",
            "epoch : 1  iteration : 9001  loss:  0.032270126044750214\n",
            "epoch : 1  iteration : 9101  loss:  1.4054460525512695\n",
            "epoch : 1  iteration : 9201  loss:  0.24484221637248993\n",
            "epoch : 1  iteration : 9301  loss:  0.9926212430000305\n",
            "epoch : 1  iteration : 9401  loss:  0.40982407331466675\n",
            "epoch : 1  iteration : 9501  loss:  0.5167364478111267\n",
            "epoch : 1  iteration : 9601  loss:  0.8464324474334717\n",
            "epoch : 1  iteration : 9701  loss:  1.4720118045806885\n",
            "epoch : 1  iteration : 9801  loss:  1.8290138244628906\n",
            "epoch : 1  iteration : 9901  loss:  0.9499300718307495\n",
            "epoch : 1  iteration : 10001  loss:  0.22557209432125092\n",
            "epoch : 1  iteration : 10101  loss:  0.8747868537902832\n",
            "epoch : 1  iteration : 10201  loss:  1.3723082542419434\n",
            "epoch : 1  iteration : 10301  loss:  1.9376118183135986\n",
            "epoch : 1  iteration : 10401  loss:  1.4112157821655273\n",
            "epoch : 1  iteration : 10501  loss:  0.707740306854248\n",
            "epoch : 1  iteration : 10601  loss:  0.9689825177192688\n",
            "epoch : 1  iteration : 10701  loss:  0.4460703134536743\n",
            "epoch : 1  iteration : 10801  loss:  1.0962977409362793\n",
            "epoch : 1  iteration : 10901  loss:  0.25929927825927734\n",
            "epoch : 1  iteration : 11001  loss:  1.3027074337005615\n",
            "epoch : 1  iteration : 11101  loss:  0.8634743094444275\n",
            "epoch : 1  iteration : 11201  loss:  0.048392802476882935\n",
            "epoch : 1  iteration : 11301  loss:  1.3941419124603271\n",
            "epoch : 1  iteration : 11401  loss:  1.042524814605713\n",
            "epoch : 1  iteration : 11501  loss:  0.4555460214614868\n",
            "epoch : 1  iteration : 11601  loss:  0.9356276988983154\n",
            "epoch : 1  iteration : 11701  loss:  1.2945002317428589\n",
            "epoch : 1  iteration : 11801  loss:  0.7735521197319031\n",
            "epoch : 1  iteration : 11901  loss:  0.9367729425430298\n",
            "epoch : 1  iteration : 12001  loss:  0.14952820539474487\n",
            "epoch : 1  iteration : 12101  loss:  0.7054739594459534\n",
            "epoch : 1  iteration : 12201  loss:  1.179254174232483\n",
            "epoch : 1  iteration : 12301  loss:  0.9715880751609802\n",
            "epoch : 1  iteration : 12401  loss:  1.0006412267684937\n",
            "epoch : 2  iteration : 1  loss:  1.0263490676879883\n",
            "epoch : 2  iteration : 101  loss:  0.5560092926025391\n",
            "epoch : 2  iteration : 201  loss:  1.903084397315979\n",
            "epoch : 2  iteration : 301  loss:  0.9855870008468628\n",
            "epoch : 2  iteration : 401  loss:  2.0506272315979004\n",
            "epoch : 2  iteration : 501  loss:  0.054249055683612823\n",
            "epoch : 2  iteration : 601  loss:  1.2758762836456299\n",
            "epoch : 2  iteration : 701  loss:  0.5526781678199768\n",
            "epoch : 2  iteration : 801  loss:  0.5582227110862732\n",
            "epoch : 2  iteration : 901  loss:  0.6210286021232605\n",
            "epoch : 2  iteration : 1001  loss:  0.9001540541648865\n",
            "epoch : 2  iteration : 1101  loss:  0.22625809907913208\n",
            "epoch : 2  iteration : 1201  loss:  1.1116385459899902\n",
            "epoch : 2  iteration : 1301  loss:  0.7461261749267578\n",
            "epoch : 2  iteration : 1401  loss:  1.1192636489868164\n",
            "epoch : 2  iteration : 1501  loss:  0.6163473129272461\n",
            "epoch : 2  iteration : 1601  loss:  0.04123987257480621\n",
            "epoch : 2  iteration : 1701  loss:  1.3516165018081665\n",
            "epoch : 2  iteration : 1801  loss:  0.07822729647159576\n",
            "epoch : 2  iteration : 1901  loss:  0.8651328086853027\n",
            "epoch : 2  iteration : 2001  loss:  1.0503736734390259\n",
            "epoch : 2  iteration : 2101  loss:  0.620526909828186\n",
            "epoch : 2  iteration : 2201  loss:  1.4920328855514526\n",
            "epoch : 2  iteration : 2301  loss:  0.7097634077072144\n",
            "epoch : 2  iteration : 2401  loss:  1.0308834314346313\n",
            "epoch : 2  iteration : 2501  loss:  3.041264533996582\n",
            "epoch : 2  iteration : 2601  loss:  0.3822193145751953\n",
            "epoch : 2  iteration : 2701  loss:  1.743332862854004\n",
            "epoch : 2  iteration : 2801  loss:  0.025575906038284302\n",
            "epoch : 2  iteration : 2901  loss:  1.285918116569519\n",
            "epoch : 2  iteration : 3001  loss:  0.6441106796264648\n",
            "epoch : 2  iteration : 3101  loss:  0.6990039944648743\n",
            "epoch : 2  iteration : 3201  loss:  0.7893147468566895\n",
            "epoch : 2  iteration : 3301  loss:  0.6731668710708618\n",
            "epoch : 2  iteration : 3401  loss:  0.5249904990196228\n",
            "epoch : 2  iteration : 3501  loss:  1.4388900995254517\n",
            "epoch : 2  iteration : 3601  loss:  0.7039880156517029\n",
            "epoch : 2  iteration : 3701  loss:  1.5288867950439453\n",
            "epoch : 2  iteration : 3801  loss:  0.9983951449394226\n",
            "epoch : 2  iteration : 3901  loss:  0.6822623014450073\n",
            "epoch : 2  iteration : 4001  loss:  1.2339210510253906\n",
            "epoch : 2  iteration : 4101  loss:  1.3190654516220093\n",
            "epoch : 2  iteration : 4201  loss:  0.8771637082099915\n",
            "epoch : 2  iteration : 4301  loss:  1.1663129329681396\n",
            "epoch : 2  iteration : 4401  loss:  0.9069617986679077\n",
            "epoch : 2  iteration : 4501  loss:  0.0179109089076519\n",
            "epoch : 2  iteration : 4601  loss:  0.7371478080749512\n",
            "epoch : 2  iteration : 4701  loss:  0.2996283173561096\n",
            "epoch : 2  iteration : 4801  loss:  0.8365839123725891\n",
            "epoch : 2  iteration : 4901  loss:  1.6517634391784668\n",
            "epoch : 2  iteration : 5001  loss:  0.37642350792884827\n",
            "epoch : 2  iteration : 5101  loss:  0.8127108216285706\n",
            "epoch : 2  iteration : 5201  loss:  1.2817326784133911\n",
            "epoch : 2  iteration : 5301  loss:  1.4533778429031372\n",
            "epoch : 2  iteration : 5401  loss:  1.7804322242736816\n",
            "epoch : 2  iteration : 5501  loss:  0.23964029550552368\n",
            "epoch : 2  iteration : 5601  loss:  0.7037932276725769\n",
            "epoch : 2  iteration : 5701  loss:  0.8401172161102295\n",
            "epoch : 2  iteration : 5801  loss:  0.3040350675582886\n",
            "epoch : 2  iteration : 5901  loss:  1.7271121740341187\n",
            "epoch : 2  iteration : 6001  loss:  0.5417616963386536\n",
            "epoch : 2  iteration : 6101  loss:  0.7251842617988586\n",
            "epoch : 2  iteration : 6201  loss:  0.7347913980484009\n",
            "epoch : 2  iteration : 6301  loss:  0.489191472530365\n",
            "epoch : 2  iteration : 6401  loss:  0.8838230967521667\n",
            "epoch : 2  iteration : 6501  loss:  0.05577373877167702\n",
            "epoch : 2  iteration : 6601  loss:  0.9222228527069092\n",
            "epoch : 2  iteration : 6701  loss:  0.3389700651168823\n",
            "epoch : 2  iteration : 6801  loss:  1.0857540369033813\n",
            "epoch : 2  iteration : 6901  loss:  0.97109055519104\n",
            "epoch : 2  iteration : 7001  loss:  0.17896492779254913\n",
            "epoch : 2  iteration : 7101  loss:  1.1790072917938232\n",
            "epoch : 2  iteration : 7201  loss:  1.3150677680969238\n",
            "epoch : 2  iteration : 7301  loss:  1.483033299446106\n",
            "epoch : 2  iteration : 7401  loss:  1.4993818998336792\n",
            "epoch : 2  iteration : 7501  loss:  0.11375200748443604\n",
            "epoch : 2  iteration : 7601  loss:  0.13873682916164398\n",
            "epoch : 2  iteration : 7701  loss:  2.1753621101379395\n",
            "epoch : 2  iteration : 7801  loss:  1.3469871282577515\n",
            "epoch : 2  iteration : 7901  loss:  1.4320956468582153\n",
            "epoch : 2  iteration : 8001  loss:  1.165238618850708\n",
            "epoch : 2  iteration : 8101  loss:  3.5781800746917725\n",
            "epoch : 2  iteration : 8201  loss:  1.1547255516052246\n",
            "epoch : 2  iteration : 8301  loss:  1.2074127197265625\n",
            "epoch : 2  iteration : 8401  loss:  0.9148721694946289\n",
            "epoch : 2  iteration : 8501  loss:  1.2659149169921875\n",
            "epoch : 2  iteration : 8601  loss:  1.2441418170928955\n",
            "epoch : 2  iteration : 8701  loss:  2.075554132461548\n",
            "epoch : 2  iteration : 8801  loss:  1.333328366279602\n",
            "epoch : 2  iteration : 8901  loss:  1.2136220932006836\n",
            "epoch : 2  iteration : 9001  loss:  0.8432924747467041\n",
            "epoch : 2  iteration : 9101  loss:  1.3224704265594482\n",
            "epoch : 2  iteration : 9201  loss:  0.3688068985939026\n",
            "epoch : 2  iteration : 9301  loss:  0.20021523535251617\n",
            "epoch : 2  iteration : 9401  loss:  1.4773885011672974\n",
            "epoch : 2  iteration : 9501  loss:  1.124570608139038\n",
            "epoch : 2  iteration : 9601  loss:  1.8804579973220825\n",
            "epoch : 2  iteration : 9701  loss:  0.4090792238712311\n",
            "epoch : 2  iteration : 9801  loss:  0.4782235026359558\n",
            "epoch : 2  iteration : 9901  loss:  0.4294804036617279\n",
            "epoch : 2  iteration : 10001  loss:  1.2967913150787354\n",
            "epoch : 2  iteration : 10101  loss:  0.3062880039215088\n",
            "epoch : 2  iteration : 10201  loss:  0.3917515277862549\n",
            "epoch : 2  iteration : 10301  loss:  0.809700071811676\n",
            "epoch : 2  iteration : 10401  loss:  0.956994354724884\n",
            "epoch : 2  iteration : 10501  loss:  0.47878438234329224\n",
            "epoch : 2  iteration : 10601  loss:  0.3558107614517212\n",
            "epoch : 2  iteration : 10701  loss:  1.789339542388916\n",
            "epoch : 2  iteration : 10801  loss:  0.12274415791034698\n",
            "epoch : 2  iteration : 10901  loss:  0.08042504638433456\n",
            "epoch : 2  iteration : 11001  loss:  0.6499185562133789\n",
            "epoch : 2  iteration : 11101  loss:  1.0974681377410889\n",
            "epoch : 2  iteration : 11201  loss:  0.027554750442504883\n",
            "epoch : 2  iteration : 11301  loss:  0.22143197059631348\n",
            "epoch : 2  iteration : 11401  loss:  1.3295835256576538\n",
            "epoch : 2  iteration : 11501  loss:  1.077574610710144\n",
            "epoch : 2  iteration : 11601  loss:  0.6696241497993469\n",
            "epoch : 2  iteration : 11701  loss:  1.0095698833465576\n",
            "epoch : 2  iteration : 11801  loss:  1.5012714862823486\n",
            "epoch : 2  iteration : 11901  loss:  0.6304855346679688\n",
            "epoch : 2  iteration : 12001  loss:  1.1459304094314575\n",
            "epoch : 2  iteration : 12101  loss:  1.4648809432983398\n",
            "epoch : 2  iteration : 12201  loss:  0.9905601143836975\n",
            "epoch : 2  iteration : 12301  loss:  0.22744521498680115\n",
            "epoch : 2  iteration : 12401  loss:  0.4162346124649048\n",
            "epoch : 3  iteration : 1  loss:  0.16181598603725433\n",
            "epoch : 3  iteration : 101  loss:  0.5398960709571838\n",
            "epoch : 3  iteration : 201  loss:  0.4221709370613098\n",
            "epoch : 3  iteration : 301  loss:  0.39881038665771484\n",
            "epoch : 3  iteration : 401  loss:  0.7469404935836792\n",
            "epoch : 3  iteration : 501  loss:  1.1080071926116943\n",
            "epoch : 3  iteration : 601  loss:  1.6172983646392822\n",
            "epoch : 3  iteration : 701  loss:  2.3509175777435303\n",
            "epoch : 3  iteration : 801  loss:  1.9041308164596558\n",
            "epoch : 3  iteration : 901  loss:  1.1739919185638428\n",
            "epoch : 3  iteration : 1001  loss:  1.4545546770095825\n",
            "epoch : 3  iteration : 1101  loss:  1.5522767305374146\n",
            "epoch : 3  iteration : 1201  loss:  0.0018428266048431396\n",
            "epoch : 3  iteration : 1301  loss:  0.35061708092689514\n",
            "epoch : 3  iteration : 1401  loss:  0.048013120889663696\n",
            "epoch : 3  iteration : 1501  loss:  0.9086464643478394\n",
            "epoch : 3  iteration : 1601  loss:  1.455822467803955\n",
            "epoch : 3  iteration : 1701  loss:  0.9048671722412109\n",
            "epoch : 3  iteration : 1801  loss:  0.07827084511518478\n",
            "epoch : 3  iteration : 1901  loss:  0.8063070774078369\n",
            "epoch : 3  iteration : 2001  loss:  0.5490650534629822\n",
            "epoch : 3  iteration : 2101  loss:  1.0703002214431763\n",
            "epoch : 3  iteration : 2201  loss:  0.4960365295410156\n",
            "epoch : 3  iteration : 2301  loss:  1.1646736860275269\n",
            "epoch : 3  iteration : 2401  loss:  0.10619115084409714\n",
            "epoch : 3  iteration : 2501  loss:  0.7147688865661621\n",
            "epoch : 3  iteration : 2601  loss:  0.5626572370529175\n",
            "epoch : 3  iteration : 2701  loss:  0.6485942602157593\n",
            "epoch : 3  iteration : 2801  loss:  0.09526300430297852\n",
            "epoch : 3  iteration : 2901  loss:  0.4018653631210327\n",
            "epoch : 3  iteration : 3001  loss:  0.6235034465789795\n",
            "epoch : 3  iteration : 3101  loss:  1.2348482608795166\n",
            "epoch : 3  iteration : 3201  loss:  0.8776946663856506\n",
            "epoch : 3  iteration : 3301  loss:  0.43758365511894226\n",
            "epoch : 3  iteration : 3401  loss:  1.1231257915496826\n",
            "epoch : 3  iteration : 3501  loss:  1.173845887184143\n",
            "epoch : 3  iteration : 3601  loss:  2.0098910331726074\n",
            "epoch : 3  iteration : 3701  loss:  0.3651026785373688\n",
            "epoch : 3  iteration : 3801  loss:  1.0923833847045898\n",
            "epoch : 3  iteration : 3901  loss:  0.9869763851165771\n",
            "epoch : 3  iteration : 4001  loss:  1.036155343055725\n",
            "epoch : 3  iteration : 4101  loss:  2.6171727180480957\n",
            "epoch : 3  iteration : 4201  loss:  0.9436367154121399\n",
            "epoch : 3  iteration : 4301  loss:  1.5167572498321533\n",
            "epoch : 3  iteration : 4401  loss:  0.29731833934783936\n",
            "epoch : 3  iteration : 4501  loss:  0.5860714912414551\n",
            "epoch : 3  iteration : 4601  loss:  0.44190558791160583\n",
            "epoch : 3  iteration : 4701  loss:  0.9457215070724487\n",
            "epoch : 3  iteration : 4801  loss:  1.2569949626922607\n",
            "epoch : 3  iteration : 4901  loss:  1.698641300201416\n",
            "epoch : 3  iteration : 5001  loss:  1.8162089586257935\n",
            "epoch : 3  iteration : 5101  loss:  1.1795350313186646\n",
            "epoch : 3  iteration : 5201  loss:  2.0002336502075195\n",
            "epoch : 3  iteration : 5301  loss:  0.6418660879135132\n",
            "epoch : 3  iteration : 5401  loss:  0.5588997602462769\n",
            "epoch : 3  iteration : 5501  loss:  2.213531970977783\n",
            "epoch : 3  iteration : 5601  loss:  0.48136651515960693\n",
            "epoch : 3  iteration : 5701  loss:  1.045029640197754\n",
            "epoch : 3  iteration : 5801  loss:  1.9623217582702637\n",
            "epoch : 3  iteration : 5901  loss:  0.6799489259719849\n",
            "epoch : 3  iteration : 6001  loss:  0.7053483724594116\n",
            "epoch : 3  iteration : 6101  loss:  0.5473244190216064\n",
            "epoch : 3  iteration : 6201  loss:  0.6878694295883179\n",
            "epoch : 3  iteration : 6301  loss:  1.217219591140747\n",
            "epoch : 3  iteration : 6401  loss:  1.3282910585403442\n",
            "epoch : 3  iteration : 6501  loss:  1.0539822578430176\n",
            "epoch : 3  iteration : 6601  loss:  1.0463660955429077\n",
            "epoch : 3  iteration : 6701  loss:  1.4789280891418457\n",
            "epoch : 3  iteration : 6801  loss:  0.5020497441291809\n",
            "epoch : 3  iteration : 6901  loss:  1.3070776462554932\n",
            "epoch : 3  iteration : 7001  loss:  0.7076383829116821\n",
            "epoch : 3  iteration : 7101  loss:  0.6482145190238953\n",
            "epoch : 3  iteration : 7201  loss:  0.311801940202713\n",
            "epoch : 3  iteration : 7301  loss:  0.5953238010406494\n",
            "epoch : 3  iteration : 7401  loss:  0.6133666038513184\n",
            "epoch : 3  iteration : 7501  loss:  2.1102776527404785\n",
            "epoch : 3  iteration : 7601  loss:  1.5812052488327026\n",
            "epoch : 3  iteration : 7701  loss:  0.9660246968269348\n",
            "epoch : 3  iteration : 7801  loss:  0.8667854070663452\n",
            "epoch : 3  iteration : 7901  loss:  2.544548749923706\n",
            "epoch : 3  iteration : 8001  loss:  0.42543792724609375\n",
            "epoch : 3  iteration : 8101  loss:  0.9985531568527222\n",
            "epoch : 3  iteration : 8201  loss:  1.2102755308151245\n",
            "epoch : 3  iteration : 8301  loss:  1.0384206771850586\n",
            "epoch : 3  iteration : 8401  loss:  1.3104331493377686\n",
            "epoch : 3  iteration : 8501  loss:  0.09836626052856445\n",
            "epoch : 3  iteration : 8601  loss:  0.6386476755142212\n",
            "epoch : 3  iteration : 8701  loss:  0.5796211957931519\n",
            "epoch : 3  iteration : 8801  loss:  1.3323594331741333\n",
            "epoch : 3  iteration : 8901  loss:  0.0244753360748291\n"
          ],
          "name": "stdout"
        }
      ]
    },
    {
      "cell_type": "code",
      "metadata": {
        "id": "QTPKQ03moJSD",
        "colab_type": "code",
        "colab": {}
      },
      "source": [
        "def evaluate(model, criterion, dataloader, num_batches):\n",
        "  total, correct = 0, 0\n",
        "  count = 0\n",
        "  for data in dataloader:\n",
        "    images, labels = data\n",
        "    # print(images.shape)\n",
        "    # print(labels.shape)\n",
        "    print('iteration i: ', count)\n",
        "    images, labels = images.to(device), labels.to(device)\n",
        "    outputs = model(images)\n",
        "    _, pred = torch.max(outputs, 1)\n",
        "    total += labels.size(0)\n",
        "    correct += (pred==labels).sum().item()\n",
        "    if count >= num_batches:\n",
        "      break\n",
        "    count += 1\n",
        "  print('Accuracy is %f' % (correct/total) )\n",
        "  return correct/total"
      ],
      "execution_count": 0,
      "outputs": []
    },
    {
      "cell_type": "code",
      "metadata": {
        "id": "MBQ_Lu8jDoG4",
        "colab_type": "code",
        "colab": {}
      },
      "source": [
        "def quantize_evaluate(model, criterion, dataloader, num_batches):\n",
        "  total, correct = 0, 0\n",
        "  count = 0\n",
        "  for data in dataloader:\n",
        "    images, labels = data\n",
        "    # print(images.shape)\n",
        "    # print(labels.shape)\n",
        "    images = torch.quantize_per_tensor(images, scale=1e-3, zero_point=0, dtype=torch.quint8) ##\n",
        "    print('iteration i: ', count)\n",
        "    images, labels = images.to(device), labels.to(device)\n",
        "    outputs = model(images)\n",
        "    _, pred = torch.max(outputs, 1)\n",
        "    total += labels.size(0)\n",
        "    correct += (pred==labels).sum().item()\n",
        "    if count >= num_batches:\n",
        "      break\n",
        "    count += 1\n",
        "  print('Accuracy is %f' % (correct/total) )\n",
        "  return correct/total"
      ],
      "execution_count": 0,
      "outputs": []
    },
    {
      "cell_type": "code",
      "metadata": {
        "id": "lh6KL6-k0VrA",
        "colab_type": "code",
        "colab": {}
      },
      "source": [
        "import os \n",
        "def print_size_of_model(model):\n",
        "    torch.save(model.state_dict(), \"temp.p\")\n",
        "    print('Size (MB):', os.path.getsize(\"temp.p\")/1e6)\n",
        "    os.remove('temp.p')"
      ],
      "execution_count": 0,
      "outputs": []
    },
    {
      "cell_type": "code",
      "metadata": {
        "id": "4PLX_zDpn5fs",
        "colab_type": "code",
        "colab": {}
      },
      "source": [
        "# Start with simple min/max range estimation and per-tensor quantization of weights\n",
        "model.qconfig = torch.quantization.default_qconfig\n",
        "print(model.qconfig)\n",
        "torch.quantization.prepare(model, inplace=True)\n",
        "\n",
        "# Calibrate first\n",
        "print('Post Training Quantization Prepare: Inserting Observers')\n",
        "print('\\n Inverted Residual Block:After observer insertion \\n\\n', model.features[0])\n",
        "\n",
        "# Calibrate with the training set\n",
        "evaluate(model, criterion, trainloader, num_batches=10)\n",
        "print('Post Training Quantization: Calibration done')\n",
        "\n",
        "# Convert to quantized model\n",
        "torch.quantization.convert(model, inplace=True)\n",
        "print('Post Training Quantization: Convert done')\n",
        "print('\\n Inverted Residual Block: After fusion and quantization, note fused modules: \\n\\n',model.features[0])\n",
        "\n",
        "print(\"Size of model after quantization\")\n",
        "print_size_of_model(model)\n",
        "\n"
      ],
      "execution_count": 0,
      "outputs": []
    },
    {
      "cell_type": "code",
      "metadata": {
        "id": "DFUt5RplA_0P",
        "colab_type": "code",
        "outputId": "b38200a0-07bb-4eb2-e58b-72bbab9fdf13",
        "colab": {
          "base_uri": "https://localhost:8080/",
          "height": 935
        }
      },
      "source": [
        "print(model)"
      ],
      "execution_count": 0,
      "outputs": [
        {
          "output_type": "stream",
          "text": [
            "VGG(\n",
            "  (features): Sequential(\n",
            "    (0): QuantizedConv2d(3, 64, kernel_size=(3, 3), stride=(1, 1), scale=0.17031711339950562, zero_point=57, padding=(1, 1))\n",
            "    (1): QuantizedReLU(inplace=True)\n",
            "    (2): QuantizedConv2d(64, 64, kernel_size=(3, 3), stride=(1, 1), scale=0.2733255922794342, zero_point=66, padding=(1, 1))\n",
            "    (3): QuantizedReLU(inplace=True)\n",
            "    (4): MaxPool2d(kernel_size=2, stride=2, padding=0, dilation=1, ceil_mode=False)\n",
            "    (5): QuantizedConv2d(64, 128, kernel_size=(3, 3), stride=(1, 1), scale=0.5160344243049622, zero_point=69, padding=(1, 1))\n",
            "    (6): QuantizedReLU(inplace=True)\n",
            "    (7): QuantizedConv2d(128, 128, kernel_size=(3, 3), stride=(1, 1), scale=0.576509416103363, zero_point=66, padding=(1, 1))\n",
            "    (8): QuantizedReLU(inplace=True)\n",
            "    (9): MaxPool2d(kernel_size=2, stride=2, padding=0, dilation=1, ceil_mode=False)\n",
            "    (10): QuantizedConv2d(128, 256, kernel_size=(3, 3), stride=(1, 1), scale=0.6099780201911926, zero_point=68, padding=(1, 1))\n",
            "    (11): QuantizedReLU(inplace=True)\n",
            "    (12): QuantizedConv2d(256, 256, kernel_size=(3, 3), stride=(1, 1), scale=0.7691784501075745, zero_point=72, padding=(1, 1))\n",
            "    (13): QuantizedReLU(inplace=True)\n",
            "    (14): QuantizedConv2d(256, 256, kernel_size=(3, 3), stride=(1, 1), scale=0.9711594581604004, zero_point=61, padding=(1, 1))\n",
            "    (15): QuantizedReLU(inplace=True)\n",
            "    (16): MaxPool2d(kernel_size=2, stride=2, padding=0, dilation=1, ceil_mode=False)\n",
            "    (17): QuantizedConv2d(256, 512, kernel_size=(3, 3), stride=(1, 1), scale=0.9611807465553284, zero_point=71, padding=(1, 1))\n",
            "    (18): QuantizedReLU(inplace=True)\n",
            "    (19): QuantizedConv2d(512, 512, kernel_size=(3, 3), stride=(1, 1), scale=0.7555109858512878, zero_point=68, padding=(1, 1))\n",
            "    (20): QuantizedReLU(inplace=True)\n",
            "    (21): QuantizedConv2d(512, 512, kernel_size=(3, 3), stride=(1, 1), scale=0.6790158152580261, zero_point=76, padding=(1, 1))\n",
            "    (22): QuantizedReLU(inplace=True)\n",
            "    (23): MaxPool2d(kernel_size=2, stride=2, padding=0, dilation=1, ceil_mode=False)\n",
            "    (24): QuantizedConv2d(512, 512, kernel_size=(3, 3), stride=(1, 1), scale=0.403791218996048, zero_point=59, padding=(1, 1))\n",
            "    (25): QuantizedReLU(inplace=True)\n",
            "    (26): QuantizedConv2d(512, 512, kernel_size=(3, 3), stride=(1, 1), scale=0.2694966197013855, zero_point=69, padding=(1, 1))\n",
            "    (27): QuantizedReLU(inplace=True)\n",
            "    (28): QuantizedConv2d(512, 512, kernel_size=(3, 3), stride=(1, 1), scale=0.22272424399852753, zero_point=76, padding=(1, 1))\n",
            "    (29): QuantizedReLU(inplace=True)\n",
            "    (30): MaxPool2d(kernel_size=2, stride=2, padding=0, dilation=1, ceil_mode=False)\n",
            "  )\n",
            "  (avgpool): AdaptiveAvgPool2d(output_size=(7, 7))\n",
            "  (classifier): Sequential(\n",
            "    (0): QuantizedLinear(\n",
            "      in_features=25088, out_features=4096, scale=0.12715797126293182, zero_point=83\n",
            "      (_packed_params): LinearPackedParams()\n",
            "    )\n",
            "    (1): QuantizedReLU(inplace=True)\n",
            "    (2): Dropout(p=0.5, inplace=False)\n",
            "    (3): QuantizedLinear(\n",
            "      in_features=4096, out_features=4096, scale=0.11668016016483307, zero_point=68\n",
            "      (_packed_params): LinearPackedParams()\n",
            "    )\n",
            "    (4): QuantizedReLU(inplace=True)\n",
            "    (5): Dropout(p=0.5, inplace=False)\n",
            "    (6): QuantizedLinear(\n",
            "      in_features=4096, out_features=1000, scale=0.2172255516052246, zero_point=44\n",
            "      (_packed_params): LinearPackedParams()\n",
            "    )\n",
            "  )\n",
            ")\n"
          ],
          "name": "stdout"
        }
      ]
    },
    {
      "cell_type": "code",
      "metadata": {
        "id": "PaIiGdSB0i8O",
        "colab_type": "code",
        "outputId": "ec6813be-3c84-4dd1-dbc1-20e58f0dd160",
        "colab": {
          "base_uri": "https://localhost:8080/",
          "height": 238
        }
      },
      "source": [
        "num_batches = 19\n",
        "top1 = quantize_evaluate(model, criterion, trainloader, num_batches=10)\n",
        "print('Evaluation accuracy on %d images, %2.2f'%(num_batches * batch_size, top1))"
      ],
      "execution_count": 0,
      "outputs": [
        {
          "output_type": "stream",
          "text": [
            "iteration i:  0\n",
            "iteration i:  1\n",
            "iteration i:  2\n",
            "iteration i:  3\n",
            "iteration i:  4\n",
            "iteration i:  5\n",
            "iteration i:  6\n",
            "iteration i:  7\n",
            "iteration i:  8\n",
            "iteration i:  9\n",
            "iteration i:  10\n",
            "Accuracy is 0.000000\n",
            "Evaluation accuracy on 76 images, 0.00\n"
          ],
          "name": "stdout"
        }
      ]
    },
    {
      "cell_type": "code",
      "metadata": {
        "id": "oAcWZOzDDVty",
        "colab_type": "code",
        "colab": {}
      },
      "source": [
        " "
      ],
      "execution_count": 0,
      "outputs": []
    }
  ]
}