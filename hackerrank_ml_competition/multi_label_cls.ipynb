{
 "cells": [
  {
   "cell_type": "code",
   "execution_count": 18,
   "metadata": {
    "collapsed": false
   },
   "outputs": [
    {
     "name": "stdout",
     "output_type": "stream",
     "text": [
      "                               tags  \\\n",
      "count                          3504   \n",
      "unique                          595   \n",
      "top     2-4-years-experience-needed   \n",
      "freq                            214   \n",
      "\n",
      "                                              description  \n",
      "count                                                4375  \n",
      "unique                                               4375  \n",
      "top     JOB SUMMARY  Maintain employee enrollment data...  \n",
      "freq                                                    1  \n"
     ]
    },
    {
     "data": {
      "text/plain": [
       "(2921, 1)"
      ]
     },
     "execution_count": 18,
     "metadata": {},
     "output_type": "execute_result"
    }
   ],
   "source": [
    "# Problem statement: https://www.hackerrank.com/contests/indeed-ml-codesprint-2017/challenges/tagging-raw-job-descriptions\n",
    "## Tagging raw job description from 12 tags\n",
    "\n",
    "## NLP Pipeline: sentence->word->stemming->stop words->count_vectorizer->tfidf->XGBBoost\n",
    "\n",
    "import pandas as pd\n",
    "import nltk, re\n",
    "from nltk import word_tokenize\n",
    "from collections import defaultdict\n",
    "\n",
    "df_train = pd.read_csv('train.tsv', sep='\\t')\n",
    "# print df_train.head()\n",
    "print df_train.describe()\n",
    "df_test = pd.read_csv('test.tsv',sep='\\t')\n",
    "# df_test.head()\n",
    "df_test.shape"
   ]
  },
  {
   "cell_type": "code",
   "execution_count": 19,
   "metadata": {
    "collapsed": true
   },
   "outputs": [],
   "source": [
    "tags = [\"part-time-job\", \"full-time-job\", \"hourly-wage\", \"salary\", \"associate-needed\", \"bs-degree-needed\", \n",
    "        \"ms-or-phd-needed\", \"licence-needed\", \"1-year-experience-needed\", \"2-4-years-experience-needed\", \n",
    "        \"5-plus-years-experience-needed\", \"supervising-job\"]"
   ]
  },
  {
   "cell_type": "code",
   "execution_count": 20,
   "metadata": {
    "collapsed": true
   },
   "outputs": [],
   "source": [
    "def preprocess(tag, train_df, test_df):\n",
    "    \n",
    "    x_train=[]\n",
    "    y_train=[]\n",
    "    for index,row in train_df.iterrows():\n",
    "        x_train.append(row.description.lower())\n",
    "        if type(row.name)==str and tag in row.name: ## some row names are empty that resolved by first condition\n",
    "            y_train.append(1)\n",
    "        else:\n",
    "            y_train.append(0)\n",
    "    \n",
    "    x_test = []\n",
    "    \n",
    "    for index, row in test_df.iterrows():\n",
    "        x_test.append(row.description.lower())\n",
    "        \n",
    "    return x_train,y_train,x_test\n",
    "            "
   ]
  },
  {
   "cell_type": "code",
   "execution_count": 21,
   "metadata": {
    "collapsed": true
   },
   "outputs": [],
   "source": [
    "# http://scikit-learn.org/stable/modules/feature_extraction.html\n",
    "from nltk import word_tokenize          \n",
    "from nltk.stem import WordNetLemmatizer \n",
    "\n",
    "class LemmaTokenizer(object):\n",
    "    def __init__(self):\n",
    "        self.wnl = WordNetLemmatizer()\n",
    "    def __call__(self,sentence):\n",
    "        return [(self.wnl.lemmatize(word)) for word in word_tokenise(sentence)]\n"
   ]
  },
  {
   "cell_type": "code",
   "execution_count": 22,
   "metadata": {
    "collapsed": true
   },
   "outputs": [],
   "source": [
    "# https://github.com/scikit-learn/scikit-learn/issues/1156\n",
    "# Snowball stemmers could be used as a dependency\n",
    "from nltk.stem import SnowballStemmer\n",
    "\n",
    "class build_stemmer(object):\n",
    "    def __init__(self):\n",
    "        self.wns = SnowballStemmer('english')\n",
    "    def __call__(self, doc):\n",
    "        return [self.wns.stem(t) for t in word_tokenize(doc)]\n",
    "    "
   ]
  },
  {
   "cell_type": "code",
   "execution_count": 23,
   "metadata": {
    "collapsed": true
   },
   "outputs": [],
   "source": [
    "from nltk.stem.porter import *\n",
    "\n",
    "class build_stemmer2(object):\n",
    "    def __init__(self):\n",
    "        self.wns = PorterStemmer()\n",
    "    def __call__(self, doc):\n",
    "        return [self.wns.stem(t) for t in word_tokenize(doc)] "
   ]
  },
  {
   "cell_type": "code",
   "execution_count": 24,
   "metadata": {
    "collapsed": true
   },
   "outputs": [],
   "source": [
    "class lemma_stemmer(object):\n",
    "    def __init__(self):\n",
    "        self.wns = SnowballStemmer('english')\n",
    "        self.wnl = WordNetLemmatizer() \n",
    "    def __call__(self, doc):\n",
    "        return [self.wnl.lemmatize(self.wns.stem(t)) for t in word_tokenize(doc)]"
   ]
  },
  {
   "cell_type": "code",
   "execution_count": null,
   "metadata": {
    "collapsed": false
   },
   "outputs": [],
   "source": [
    "from sklearn.feature_extraction.text import CountVectorizer\n",
    "from sklearn.feature_extraction.text import TfidfTransformer\n",
    "\n",
    "import xgboost as xgb\n",
    "from sklearn.metrics import mean_squared_error, make_scorer\n",
    "from sklearn import grid_search\n",
    "import random\n",
    "random.seed(1307)\n",
    "\n",
    "def pred(tag, x_train, y_train, x_test):\n",
    "    \n",
    "    count_vect = CountVectorizer(tokenizer=build_stemmer(), ngram_range=(1, 3)) ## snowball stemmer standalone working is much better\n",
    "    x_tr_count = count_vect.fit_transform(x_train)\n",
    "    print x_tr_count.shape\n",
    "    \n",
    "    x_te_count = count_vect.transform(x_test)\n",
    "    print x_te_count.shape\n",
    "    \n",
    "    tfidf_transformer = TfidfTransformer()\n",
    "    x_tr_tfidf = tfidf_transformer.fit_transform(x_tr_count)\n",
    "    print x_tr_tfidf.shape\n",
    "    \n",
    "    x_te_tfidf = tfidf_transformer.transform(x_te_count)\n",
    "    print x_te_tfidf.shape\n",
    "    \n",
    "    print len(y_train)\n",
    "    \n",
    "    clf = xgb.XGBClassifier()\n",
    "    \n",
    "    param_grid = {\n",
    "#        'scale_pos_weight' : [2, 2.5],\n",
    "#         'learning_rate': [0.05],\n",
    "#         'max_depth': [5, 7],\n",
    "#         'subsample': [0.7, 0.8],\n",
    "        'n_estimators': [100, 150, 200],\n",
    "    }\n",
    "    \n",
    "    model = grid_search.GridSearchCV(estimator=clf, param_grid=param_grid, n_jobs=5, cv=3, verbose=20, scoring = 'f1_micro')\n",
    "    \n",
    "    model.fit(x_tr_tfidf, y_train)\n",
    "    \n",
    "    predicted = model.predict(x_te_tfidf)\n",
    "    \n",
    "    print predicted.shape\n",
    "    \n",
    "    print(sum(predicted))\n",
    "    return predicted"
   ]
  },
  {
   "cell_type": "code",
   "execution_count": null,
   "metadata": {
    "collapsed": false
   },
   "outputs": [
    {
     "name": "stdout",
     "output_type": "stream",
     "text": [
      "(4375, 1106916)\n",
      "(2921, 1106916)\n",
      "(4375, 1106916)\n",
      "(2921, 1106916)\n",
      "4375\n",
      "Fitting 3 folds for each of 3 candidates, totalling 9 fits\n",
      "[CV] n_estimators=100 ................................................\n",
      "[CV] n_estimators=100 ................................................\n",
      "[CV] n_estimators=100 ................................................\n",
      "[CV] n_estimators=150 ................................................\n",
      "[CV] n_estimators=150 ................................................\n",
      "[CV] ....................... n_estimators=100, score=1.000000 -  48.7s\n",
      "[CV] n_estimators=150 ................................................\n",
      "[CV] ....................... n_estimators=100, score=1.000000 -  48.8s\n",
      "[CV] n_estimators=200 ................................................\n"
     ]
    },
    {
     "name": "stderr",
     "output_type": "stream",
     "text": [
      "[Parallel(n_jobs=5)]: Done   1 tasks      | elapsed:   49.0s\n",
      "[Parallel(n_jobs=5)]: Done   2 out of   9 | elapsed:   49.1s remaining:  2.9min\n"
     ]
    },
    {
     "name": "stdout",
     "output_type": "stream",
     "text": [
      "[CV] ....................... n_estimators=100, score=1.000000 -  49.3s\n",
      "[CV] n_estimators=200 ................................................\n"
     ]
    },
    {
     "name": "stderr",
     "output_type": "stream",
     "text": [
      "[Parallel(n_jobs=5)]: Done   3 out of   9 | elapsed:   49.7s remaining:  1.7min\n"
     ]
    },
    {
     "name": "stdout",
     "output_type": "stream",
     "text": [
      "[CV] ....................... n_estimators=150, score=1.000000 - 1.2min\n",
      "[CV] n_estimators=200 ................................................\n"
     ]
    },
    {
     "name": "stderr",
     "output_type": "stream",
     "text": [
      "[Parallel(n_jobs=5)]: Done   4 out of   9 | elapsed:  1.2min remaining:  1.5min\n"
     ]
    },
    {
     "name": "stdout",
     "output_type": "stream",
     "text": [
      "[CV] ....................... n_estimators=150, score=1.000000 - 1.2min\n"
     ]
    },
    {
     "name": "stderr",
     "output_type": "stream",
     "text": [
      "[Parallel(n_jobs=5)]: Done   5 out of   9 | elapsed:  1.2min remaining:   56.6s\n"
     ]
    },
    {
     "name": "stdout",
     "output_type": "stream",
     "text": [
      "[CV] ....................... n_estimators=150, score=1.000000 - 1.0min\n"
     ]
    },
    {
     "name": "stderr",
     "output_type": "stream",
     "text": [
      "[Parallel(n_jobs=5)]: Done   6 out of   9 | elapsed:  1.8min remaining:   54.7s\n"
     ]
    },
    {
     "name": "stdout",
     "output_type": "stream",
     "text": [
      "[CV] ....................... n_estimators=200, score=1.000000 - 1.3min\n"
     ]
    },
    {
     "name": "stderr",
     "output_type": "stream",
     "text": [
      "[Parallel(n_jobs=5)]: Done   7 out of   9 | elapsed:  2.1min remaining:   35.5s\n"
     ]
    },
    {
     "name": "stdout",
     "output_type": "stream",
     "text": [
      "[CV] ....................... n_estimators=200, score=1.000000 - 1.2min\n",
      "[CV] ....................... n_estimators=200, score=1.000000 - 1.1min\n"
     ]
    },
    {
     "name": "stderr",
     "output_type": "stream",
     "text": [
      "[Parallel(n_jobs=5)]: Done   9 out of   9 | elapsed:  2.2min remaining:    0.0s\n",
      "[Parallel(n_jobs=5)]: Done   9 out of   9 | elapsed:  2.2min finished\n"
     ]
    },
    {
     "name": "stdout",
     "output_type": "stream",
     "text": [
      "(2921,)\n",
      "0\n",
      "(4375, 1106916)\n",
      "(2921, 1106916)\n",
      "(4375, 1106916)\n",
      "(2921, 1106916)\n",
      "4375\n",
      "Fitting 3 folds for each of 3 candidates, totalling 9 fits\n",
      "[CV] n_estimators=100 ................................................\n",
      "[CV] n_estimators=100 ................................................\n",
      "[CV] n_estimators=100 ................................................\n",
      "[CV] n_estimators=150 ................................................\n",
      "[CV] n_estimators=150 ................................................\n",
      "[CV] ....................... n_estimators=100, score=1.000000 -  56.2s\n",
      "[CV] ....................... n_estimators=100, score=1.000000 -  56.2s\n",
      "[CV] n_estimators=200 ................................................\n",
      "[CV] n_estimators=150 ................................................\n"
     ]
    },
    {
     "name": "stderr",
     "output_type": "stream",
     "text": [
      "[Parallel(n_jobs=5)]: Done   1 tasks      | elapsed:   56.5s\n",
      "[Parallel(n_jobs=5)]: Done   2 out of   9 | elapsed:   56.5s remaining:  3.3min\n"
     ]
    },
    {
     "name": "stdout",
     "output_type": "stream",
     "text": [
      "[CV] ....................... n_estimators=100, score=1.000000 -  57.3s\n",
      "[CV] n_estimators=200 ................................................\n"
     ]
    },
    {
     "name": "stderr",
     "output_type": "stream",
     "text": [
      "[Parallel(n_jobs=5)]: Done   3 out of   9 | elapsed:   57.7s remaining:  1.9min\n"
     ]
    },
    {
     "name": "stdout",
     "output_type": "stream",
     "text": [
      "[CV] ....................... n_estimators=150, score=1.000000 - 1.4min\n",
      "[CV] ....................... n_estimators=150, score=1.000000 - 1.4min\n",
      "[CV] n_estimators=200 ................................................\n"
     ]
    },
    {
     "name": "stderr",
     "output_type": "stream",
     "text": [
      "[Parallel(n_jobs=5)]: Done   4 out of   9 | elapsed:  1.4min remaining:  1.8min\n",
      "[Parallel(n_jobs=5)]: Done   5 out of   9 | elapsed:  1.4min remaining:  1.1min\n"
     ]
    },
    {
     "name": "stdout",
     "output_type": "stream",
     "text": [
      "[CV] ....................... n_estimators=150, score=1.000000 - 1.3min\n"
     ]
    },
    {
     "name": "stderr",
     "output_type": "stream",
     "text": [
      "[Parallel(n_jobs=5)]: Done   6 out of   9 | elapsed:  2.2min remaining:  1.1min\n"
     ]
    },
    {
     "name": "stdout",
     "output_type": "stream",
     "text": [
      "[CV] ....................... n_estimators=200, score=1.000000 - 1.5min\n"
     ]
    },
    {
     "name": "stderr",
     "output_type": "stream",
     "text": [
      "[Parallel(n_jobs=5)]: Done   7 out of   9 | elapsed:  2.4min remaining:   41.9s\n"
     ]
    },
    {
     "name": "stdout",
     "output_type": "stream",
     "text": [
      "[CV] ....................... n_estimators=200, score=1.000000 - 1.5min\n",
      "[CV] ....................... n_estimators=200, score=1.000000 - 1.2min\n"
     ]
    },
    {
     "name": "stderr",
     "output_type": "stream",
     "text": [
      "[Parallel(n_jobs=5)]: Done   9 out of   9 | elapsed:  2.6min remaining:    0.0s\n",
      "[Parallel(n_jobs=5)]: Done   9 out of   9 | elapsed:  2.6min finished\n"
     ]
    },
    {
     "name": "stdout",
     "output_type": "stream",
     "text": [
      "(2921,)\n",
      "0\n",
      "(4375, 1106916)\n",
      "(2921, 1106916)\n",
      "(4375, 1106916)\n",
      "(2921, 1106916)\n",
      "4375\n",
      "Fitting 3 folds for each of 3 candidates, totalling 9 fits\n",
      "[CV] n_estimators=100 ................................................\n",
      "[CV] n_estimators=100 ................................................\n",
      "[CV] n_estimators=100 ................................................\n",
      "[CV] n_estimators=150 ................................................\n",
      "[CV] n_estimators=150 ................................................\n",
      "[CV] ....................... n_estimators=100, score=1.000000 -  53.2s\n",
      "[CV] n_estimators=150 ................................................\n"
     ]
    },
    {
     "name": "stderr",
     "output_type": "stream",
     "text": [
      "[Parallel(n_jobs=5)]: Done   1 tasks      | elapsed:   53.4s\n"
     ]
    },
    {
     "name": "stdout",
     "output_type": "stream",
     "text": [
      "[CV] ....................... n_estimators=100, score=1.000000 -  54.2s\n",
      "[CV] n_estimators=200 ................................................\n"
     ]
    },
    {
     "name": "stderr",
     "output_type": "stream",
     "text": [
      "[Parallel(n_jobs=5)]: Done   2 out of   9 | elapsed:   54.5s remaining:  3.2min\n"
     ]
    },
    {
     "name": "stdout",
     "output_type": "stream",
     "text": [
      "[CV] ....................... n_estimators=100, score=1.000000 -  54.7s\n",
      "[CV] n_estimators=200 ................................................\n"
     ]
    },
    {
     "name": "stderr",
     "output_type": "stream",
     "text": [
      "[Parallel(n_jobs=5)]: Done   3 out of   9 | elapsed:   55.0s remaining:  1.8min\n"
     ]
    },
    {
     "name": "stdout",
     "output_type": "stream",
     "text": [
      "[CV] ....................... n_estimators=150, score=1.000000 - 1.3min\n",
      "[CV] n_estimators=200 ................................................\n"
     ]
    },
    {
     "name": "stderr",
     "output_type": "stream",
     "text": [
      "[Parallel(n_jobs=5)]: Done   4 out of   9 | elapsed:  1.3min remaining:  1.7min\n"
     ]
    },
    {
     "name": "stdout",
     "output_type": "stream",
     "text": [
      "[CV] ....................... n_estimators=150, score=1.000000 - 1.3min\n"
     ]
    },
    {
     "name": "stderr",
     "output_type": "stream",
     "text": [
      "[Parallel(n_jobs=5)]: Done   5 out of   9 | elapsed:  1.3min remaining:  1.1min\n"
     ]
    },
    {
     "name": "stdout",
     "output_type": "stream",
     "text": [
      "[CV] ....................... n_estimators=150, score=1.000000 - 1.1min\n"
     ]
    },
    {
     "name": "stderr",
     "output_type": "stream",
     "text": [
      "[Parallel(n_jobs=5)]: Done   6 out of   9 | elapsed:  2.0min remaining:  1.0min\n"
     ]
    },
    {
     "name": "stdout",
     "output_type": "stream",
     "text": [
      "[CV] ....................... n_estimators=200, score=1.000000 - 1.3min\n"
     ]
    },
    {
     "name": "stderr",
     "output_type": "stream",
     "text": [
      "[Parallel(n_jobs=5)]: Done   7 out of   9 | elapsed:  2.2min remaining:   38.5s\n"
     ]
    },
    {
     "name": "stdout",
     "output_type": "stream",
     "text": [
      "[CV] ....................... n_estimators=200, score=1.000000 - 1.3min\n",
      "[CV] ....................... n_estimators=200, score=1.000000 - 1.1min\n"
     ]
    },
    {
     "name": "stderr",
     "output_type": "stream",
     "text": [
      "[Parallel(n_jobs=5)]: Done   9 out of   9 | elapsed:  2.4min remaining:    0.0s\n",
      "[Parallel(n_jobs=5)]: Done   9 out of   9 | elapsed:  2.4min finished\n"
     ]
    },
    {
     "name": "stdout",
     "output_type": "stream",
     "text": [
      "(2921,)\n",
      "0\n",
      "(4375, 1106916)\n",
      "(2921, 1106916)\n",
      "(4375, 1106916)\n",
      "(2921, 1106916)\n",
      "4375\n",
      "Fitting 3 folds for each of 3 candidates, totalling 9 fits\n",
      "[CV] n_estimators=100 ................................................\n",
      "[CV] n_estimators=100 ................................................\n",
      "[CV] n_estimators=100 ................................................\n",
      "[CV] n_estimators=150 ................................................\n",
      "[CV] n_estimators=150 ................................................\n",
      "[CV] ....................... n_estimators=100, score=1.000000 -  56.2s\n",
      "[CV] n_estimators=150 ................................................\n"
     ]
    },
    {
     "name": "stderr",
     "output_type": "stream",
     "text": [
      "[Parallel(n_jobs=5)]: Done   1 tasks      | elapsed:   56.5s\n"
     ]
    },
    {
     "name": "stdout",
     "output_type": "stream",
     "text": [
      "[CV] ....................... n_estimators=100, score=1.000000 -  56.4s\n",
      "[CV] n_estimators=200 ................................................\n",
      "[CV] ....................... n_estimators=100, score=1.000000 -  56.5s\n"
     ]
    },
    {
     "name": "stderr",
     "output_type": "stream",
     "text": [
      "[Parallel(n_jobs=5)]: Done   2 out of   9 | elapsed:   56.7s remaining:  3.3min\n",
      "[Parallel(n_jobs=5)]: Done   3 out of   9 | elapsed:   56.9s remaining:  1.9min\n"
     ]
    },
    {
     "name": "stdout",
     "output_type": "stream",
     "text": [
      "[CV] n_estimators=200 ................................................\n",
      "[CV] ....................... n_estimators=150, score=1.000000 - 1.3min\n",
      "[CV] n_estimators=200 ................................................\n"
     ]
    },
    {
     "name": "stderr",
     "output_type": "stream",
     "text": [
      "[Parallel(n_jobs=5)]: Done   4 out of   9 | elapsed:  1.3min remaining:  1.6min\n"
     ]
    },
    {
     "name": "stdout",
     "output_type": "stream",
     "text": [
      "[CV] ....................... n_estimators=150, score=1.000000 - 1.3min\n"
     ]
    },
    {
     "name": "stderr",
     "output_type": "stream",
     "text": [
      "[Parallel(n_jobs=5)]: Done   5 out of   9 | elapsed:  1.3min remaining:  1.1min\n"
     ]
    },
    {
     "name": "stdout",
     "output_type": "stream",
     "text": [
      "[CV] ....................... n_estimators=150, score=1.000000 -  59.7s\n"
     ]
    },
    {
     "name": "stderr",
     "output_type": "stream",
     "text": [
      "[Parallel(n_jobs=5)]: Done   6 out of   9 | elapsed:  1.9min remaining:   58.1s\n"
     ]
    },
    {
     "name": "stdout",
     "output_type": "stream",
     "text": [
      "[CV] ....................... n_estimators=200, score=1.000000 - 1.2min\n"
     ]
    },
    {
     "name": "stderr",
     "output_type": "stream",
     "text": [
      "[Parallel(n_jobs=5)]: Done   7 out of   9 | elapsed:  2.2min remaining:   37.6s\n"
     ]
    },
    {
     "name": "stdout",
     "output_type": "stream",
     "text": [
      "[CV] ....................... n_estimators=200, score=1.000000 - 1.3min\n",
      "[CV] ....................... n_estimators=200, score=1.000000 - 1.1min\n"
     ]
    },
    {
     "name": "stderr",
     "output_type": "stream",
     "text": [
      "[Parallel(n_jobs=5)]: Done   9 out of   9 | elapsed:  2.4min remaining:    0.0s\n",
      "[Parallel(n_jobs=5)]: Done   9 out of   9 | elapsed:  2.4min finished\n"
     ]
    },
    {
     "name": "stdout",
     "output_type": "stream",
     "text": [
      "(2921,)\n",
      "0\n",
      "(4375, 1106916)\n",
      "(2921, 1106916)\n",
      "(4375, 1106916)\n",
      "(2921, 1106916)\n",
      "4375\n",
      "Fitting 3 folds for each of 3 candidates, totalling 9 fits\n",
      "[CV] n_estimators=100 ................................................\n",
      "[CV] n_estimators=100 ................................................\n",
      "[CV] n_estimators=100 ................................................\n",
      "[CV] n_estimators=150 ................................................\n",
      "[CV] n_estimators=150 ................................................\n",
      "[CV] ....................... n_estimators=100, score=1.000000 -  46.9s\n",
      "[CV] n_estimators=150 ................................................\n"
     ]
    },
    {
     "name": "stderr",
     "output_type": "stream",
     "text": [
      "[Parallel(n_jobs=5)]: Done   1 tasks      | elapsed:   47.2s\n"
     ]
    },
    {
     "name": "stdout",
     "output_type": "stream",
     "text": [
      "[CV] ....................... n_estimators=100, score=1.000000 -  47.6s\n",
      "[CV] n_estimators=200 ................................................\n"
     ]
    },
    {
     "name": "stderr",
     "output_type": "stream",
     "text": [
      "[Parallel(n_jobs=5)]: Done   2 out of   9 | elapsed:   47.9s remaining:  2.8min\n"
     ]
    },
    {
     "name": "stdout",
     "output_type": "stream",
     "text": [
      "[CV] ....................... n_estimators=100, score=1.000000 -  48.0s\n",
      "[CV] n_estimators=200 ................................................\n"
     ]
    },
    {
     "name": "stderr",
     "output_type": "stream",
     "text": [
      "[Parallel(n_jobs=5)]: Done   3 out of   9 | elapsed:   48.4s remaining:  1.6min\n"
     ]
    },
    {
     "name": "stdout",
     "output_type": "stream",
     "text": [
      "[CV] ....................... n_estimators=150, score=1.000000 - 1.1min\n",
      "[CV] n_estimators=200 ................................................\n"
     ]
    },
    {
     "name": "stderr",
     "output_type": "stream",
     "text": [
      "[Parallel(n_jobs=5)]: Done   4 out of   9 | elapsed:  1.1min remaining:  1.4min\n"
     ]
    },
    {
     "name": "stdout",
     "output_type": "stream",
     "text": [
      "[CV] ....................... n_estimators=150, score=1.000000 - 1.1min\n"
     ]
    },
    {
     "name": "stderr",
     "output_type": "stream",
     "text": [
      "[Parallel(n_jobs=5)]: Done   5 out of   9 | elapsed:  1.1min remaining:   54.3s\n"
     ]
    },
    {
     "name": "stdout",
     "output_type": "stream",
     "text": [
      "[CV] ....................... n_estimators=150, score=1.000000 -  59.5s\n"
     ]
    },
    {
     "name": "stderr",
     "output_type": "stream",
     "text": [
      "[Parallel(n_jobs=5)]: Done   6 out of   9 | elapsed:  1.8min remaining:   53.4s\n"
     ]
    },
    {
     "name": "stdout",
     "output_type": "stream",
     "text": [
      "[CV] ....................... n_estimators=200, score=1.000000 - 1.2min\n",
      "[CV] ....................... n_estimators=200, score=1.000000 - 1.2min\n"
     ]
    },
    {
     "name": "stderr",
     "output_type": "stream",
     "text": [
      "[Parallel(n_jobs=5)]: Done   7 out of   9 | elapsed:  2.0min remaining:   34.3s\n"
     ]
    },
    {
     "name": "stdout",
     "output_type": "stream",
     "text": [
      "[CV] ....................... n_estimators=200, score=1.000000 - 1.0min\n"
     ]
    },
    {
     "name": "stderr",
     "output_type": "stream",
     "text": [
      "[Parallel(n_jobs=5)]: Done   9 out of   9 | elapsed:  2.1min remaining:    0.0s\n",
      "[Parallel(n_jobs=5)]: Done   9 out of   9 | elapsed:  2.1min finished\n"
     ]
    },
    {
     "name": "stdout",
     "output_type": "stream",
     "text": [
      "(2921,)\n",
      "0\n",
      "(4375, 1106916)\n",
      "(2921, 1106916)\n",
      "(4375, 1106916)\n",
      "(2921, 1106916)\n",
      "4375\n",
      "Fitting 3 folds for each of 3 candidates, totalling 9 fits\n",
      "[CV] n_estimators=100 ................................................\n",
      "[CV] n_estimators=100 ................................................\n",
      "[CV] n_estimators=100 ................................................\n",
      "[CV] n_estimators=150 ................................................\n",
      "[CV] n_estimators=150 ................................................\n",
      "[CV] ....................... n_estimators=100, score=1.000000 -  46.8s\n",
      "[CV] n_estimators=150 ................................................\n"
     ]
    },
    {
     "name": "stderr",
     "output_type": "stream",
     "text": [
      "[Parallel(n_jobs=5)]: Done   1 tasks      | elapsed:   47.0s\n"
     ]
    },
    {
     "name": "stdout",
     "output_type": "stream",
     "text": [
      "[CV] ....................... n_estimators=100, score=1.000000 -  46.9s\n",
      "[CV] n_estimators=200 ................................................\n",
      "[CV] ....................... n_estimators=100, score=1.000000 -  46.9s\n",
      "[CV] n_estimators=200 ................................................\n"
     ]
    },
    {
     "name": "stderr",
     "output_type": "stream",
     "text": [
      "[Parallel(n_jobs=5)]: Done   2 out of   9 | elapsed:   47.2s remaining:  2.8min\n",
      "[Parallel(n_jobs=5)]: Done   3 out of   9 | elapsed:   47.2s remaining:  1.6min\n"
     ]
    },
    {
     "name": "stdout",
     "output_type": "stream",
     "text": [
      "[CV] ....................... n_estimators=150, score=1.000000 - 1.1min\n",
      "[CV] n_estimators=200 ................................................\n"
     ]
    },
    {
     "name": "stderr",
     "output_type": "stream",
     "text": [
      "[Parallel(n_jobs=5)]: Done   4 out of   9 | elapsed:  1.1min remaining:  1.4min\n"
     ]
    },
    {
     "name": "stdout",
     "output_type": "stream",
     "text": [
      "[CV] ....................... n_estimators=150, score=1.000000 - 1.1min\n"
     ]
    },
    {
     "name": "stderr",
     "output_type": "stream",
     "text": [
      "[Parallel(n_jobs=5)]: Done   5 out of   9 | elapsed:  1.1min remaining:   53.5s\n"
     ]
    },
    {
     "name": "stdout",
     "output_type": "stream",
     "text": [
      "[CV] ....................... n_estimators=150, score=1.000000 -  56.9s\n"
     ]
    },
    {
     "name": "stderr",
     "output_type": "stream",
     "text": [
      "[Parallel(n_jobs=5)]: Done   6 out of   9 | elapsed:  1.7min remaining:   52.0s\n"
     ]
    },
    {
     "name": "stdout",
     "output_type": "stream",
     "text": [
      "[CV] ....................... n_estimators=200, score=1.000000 - 1.2min\n",
      "[CV] ....................... n_estimators=200, score=1.000000 - 1.2min\n"
     ]
    },
    {
     "name": "stderr",
     "output_type": "stream",
     "text": [
      "[Parallel(n_jobs=5)]: Done   7 out of   9 | elapsed:  2.0min remaining:   33.8s\n"
     ]
    },
    {
     "name": "stdout",
     "output_type": "stream",
     "text": [
      "[CV] ....................... n_estimators=200, score=1.000000 - 1.0min\n"
     ]
    },
    {
     "name": "stderr",
     "output_type": "stream",
     "text": [
      "[Parallel(n_jobs=5)]: Done   9 out of   9 | elapsed:  2.1min remaining:    0.0s\n",
      "[Parallel(n_jobs=5)]: Done   9 out of   9 | elapsed:  2.1min finished\n"
     ]
    },
    {
     "name": "stdout",
     "output_type": "stream",
     "text": [
      "(2921,)\n",
      "0\n",
      "(4375, 1106916)\n",
      "(2921, 1106916)\n",
      "(4375, 1106916)\n",
      "(2921, 1106916)\n",
      "4375\n",
      "Fitting 3 folds for each of 3 candidates, totalling 9 fits\n",
      "[CV] n_estimators=100 ................................................\n",
      "[CV] n_estimators=100 ................................................\n",
      "[CV] n_estimators=100 ................................................\n",
      "[CV] n_estimators=150 ................................................\n",
      "[CV] n_estimators=150 ................................................\n",
      "[CV] ....................... n_estimators=100, score=1.000000 -  45.8s\n",
      "[CV] n_estimators=150 ................................................\n"
     ]
    },
    {
     "name": "stderr",
     "output_type": "stream",
     "text": [
      "[Parallel(n_jobs=5)]: Done   1 tasks      | elapsed:   46.0s\n"
     ]
    },
    {
     "name": "stdout",
     "output_type": "stream",
     "text": [
      "[CV] ....................... n_estimators=100, score=1.000000 -  46.3s\n",
      "[CV] n_estimators=200 ................................................\n"
     ]
    },
    {
     "name": "stderr",
     "output_type": "stream",
     "text": [
      "[Parallel(n_jobs=5)]: Done   2 out of   9 | elapsed:   46.6s remaining:  2.7min\n"
     ]
    },
    {
     "name": "stdout",
     "output_type": "stream",
     "text": [
      "[CV] ....................... n_estimators=100, score=1.000000 -  46.5s\n",
      "[CV] n_estimators=200 ................................................\n"
     ]
    },
    {
     "name": "stderr",
     "output_type": "stream",
     "text": [
      "[Parallel(n_jobs=5)]: Done   3 out of   9 | elapsed:   46.9s remaining:  1.6min\n"
     ]
    },
    {
     "name": "stdout",
     "output_type": "stream",
     "text": [
      "[CV] ....................... n_estimators=150, score=1.000000 - 1.1min\n",
      "[CV] n_estimators=200 ................................................\n"
     ]
    },
    {
     "name": "stderr",
     "output_type": "stream",
     "text": [
      "[Parallel(n_jobs=5)]: Done   4 out of   9 | elapsed:  1.1min remaining:  1.4min\n"
     ]
    },
    {
     "name": "stdout",
     "output_type": "stream",
     "text": [
      "[CV] ....................... n_estimators=150, score=1.000000 - 1.1min\n"
     ]
    },
    {
     "name": "stderr",
     "output_type": "stream",
     "text": [
      "[Parallel(n_jobs=5)]: Done   5 out of   9 | elapsed:  1.1min remaining:   54.1s\n"
     ]
    },
    {
     "name": "stdout",
     "output_type": "stream",
     "text": [
      "[CV] ....................... n_estimators=150, score=1.000000 - 1.2min\n"
     ]
    },
    {
     "name": "stderr",
     "output_type": "stream",
     "text": [
      "[Parallel(n_jobs=5)]: Done   6 out of   9 | elapsed:  1.9min remaining:   58.3s\n"
     ]
    },
    {
     "name": "stdout",
     "output_type": "stream",
     "text": [
      "[CV] ....................... n_estimators=200, score=1.000000 - 1.4min\n"
     ]
    },
    {
     "name": "stderr",
     "output_type": "stream",
     "text": [
      "[Parallel(n_jobs=5)]: Done   7 out of   9 | elapsed:  2.2min remaining:   37.0s\n"
     ]
    },
    {
     "name": "stdout",
     "output_type": "stream",
     "text": [
      "[CV] ....................... n_estimators=200, score=1.000000 - 1.4min\n",
      "[CV] ....................... n_estimators=200, score=1.000000 - 1.2min\n"
     ]
    },
    {
     "name": "stderr",
     "output_type": "stream",
     "text": [
      "[Parallel(n_jobs=5)]: Done   9 out of   9 | elapsed:  2.3min remaining:    0.0s\n",
      "[Parallel(n_jobs=5)]: Done   9 out of   9 | elapsed:  2.3min finished\n"
     ]
    },
    {
     "name": "stdout",
     "output_type": "stream",
     "text": [
      "(2921,)\n",
      "0\n",
      "(4375, 1106916)\n",
      "(2921, 1106916)\n",
      "(4375, 1106916)\n",
      "(2921, 1106916)\n",
      "4375\n",
      "Fitting 3 folds for each of 3 candidates, totalling 9 fits\n",
      "[CV] n_estimators=100 ................................................\n",
      "[CV] n_estimators=100 ................................................\n",
      "[CV] n_estimators=100 ................................................\n",
      "[CV] n_estimators=150 ................................................\n",
      "[CV] n_estimators=150 ................................................\n",
      "[CV] ....................... n_estimators=100, score=1.000000 -  46.1s\n",
      "[CV] n_estimators=150 ................................................\n",
      "[CV] ....................... n_estimators=100, score=1.000000 -  46.1s\n",
      "[CV] n_estimators=200 ................................................\n",
      "[CV] ....................... n_estimators=100, score=1.000000 -  46.2s\n"
     ]
    },
    {
     "name": "stderr",
     "output_type": "stream",
     "text": [
      "[Parallel(n_jobs=5)]: Done   1 tasks      | elapsed:   46.4s\n",
      "[Parallel(n_jobs=5)]: Done   2 out of   9 | elapsed:   46.4s remaining:  2.7min\n",
      "[Parallel(n_jobs=5)]: Done   3 out of   9 | elapsed:   46.5s remaining:  1.6min\n"
     ]
    },
    {
     "name": "stdout",
     "output_type": "stream",
     "text": [
      "[CV] n_estimators=200 ................................................\n",
      "[CV] ....................... n_estimators=150, score=1.000000 - 1.1min\n",
      "[CV] ....................... n_estimators=150, score=1.000000 - 1.1min\n",
      "[CV] n_estimators=200 ................................................\n"
     ]
    },
    {
     "name": "stderr",
     "output_type": "stream",
     "text": [
      "[Parallel(n_jobs=5)]: Done   4 out of   9 | elapsed:  1.1min remaining:  1.4min\n",
      "[Parallel(n_jobs=5)]: Done   5 out of   9 | elapsed:  1.1min remaining:   52.9s\n"
     ]
    },
    {
     "name": "stdout",
     "output_type": "stream",
     "text": [
      "[CV] ....................... n_estimators=150, score=1.000000 -  57.8s\n"
     ]
    },
    {
     "name": "stderr",
     "output_type": "stream",
     "text": [
      "[Parallel(n_jobs=5)]: Done   6 out of   9 | elapsed:  1.7min remaining:   52.1s\n"
     ]
    },
    {
     "name": "stdout",
     "output_type": "stream",
     "text": [
      "[CV] ....................... n_estimators=200, score=1.000000 - 1.2min\n"
     ]
    },
    {
     "name": "stderr",
     "output_type": "stream",
     "text": [
      "[Parallel(n_jobs=5)]: Done   7 out of   9 | elapsed:  1.9min remaining:   33.2s\n"
     ]
    },
    {
     "name": "stdout",
     "output_type": "stream",
     "text": [
      "[CV] ....................... n_estimators=200, score=1.000000 - 1.2min\n",
      "[CV] ....................... n_estimators=200, score=1.000000 -  59.6s\n"
     ]
    }
   ],
   "source": [
    "outputs = [\"\"] * 2921\n",
    "\n",
    "for i, tag in enumerate(tags):\n",
    "\n",
    "    x_train, y_train, docs_new  = preprocess(tag, df_train, df_test)\n",
    "\n",
    "    output = pred(tag, x_train, y_train, docs_new)\n",
    "    \n",
    "    for j, item in enumerate(output):\n",
    "        if item == 1:\n",
    "            if outputs[j] == \"\":\n",
    "                outputs[j] = tag\n",
    "            else:\n",
    "                outputs[j] += \" \" + tag\n",
    "            \n",
    "for i, item in enumerate(outputs):\n",
    "    if item == \"\":\n",
    "        outputs[i] = \" \""
   ]
  },
  {
   "cell_type": "code",
   "execution_count": null,
   "metadata": {
    "collapsed": true
   },
   "outputs": [],
   "source": [
    "# Save to file\n",
    "import csv\n",
    "\n",
    "with open(\"tags_xgboost-cv.tsv\", 'w') as myfile:\n",
    "    wr = csv.writer(myfile)\n",
    "    wr.writerow([\"tags\"]) \n",
    "    for val in outputs:\n",
    "        wr.writerow([val])\n",
    "\n"
   ]
  },
  {
   "cell_type": "code",
   "execution_count": null,
   "metadata": {
    "collapsed": true
   },
   "outputs": [],
   "source": []
  }
 ],
 "metadata": {
  "kernelspec": {
   "display_name": "Python 2",
   "language": "python",
   "name": "python2"
  },
  "language_info": {
   "codemirror_mode": {
    "name": "ipython",
    "version": 2
   },
   "file_extension": ".py",
   "mimetype": "text/x-python",
   "name": "python",
   "nbconvert_exporter": "python",
   "pygments_lexer": "ipython2",
   "version": "2.7.13"
  }
 },
 "nbformat": 4,
 "nbformat_minor": 2
}
