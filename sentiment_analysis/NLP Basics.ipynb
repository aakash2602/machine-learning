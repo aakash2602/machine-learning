{
 "cells": [
  {
   "cell_type": "code",
   "execution_count": null,
   "metadata": {
    "collapsed": true
   },
   "outputs": [],
   "source": [
    "#preprocessing\n",
    "\n",
    "1. Beautiful Soup\n",
    "2. Stopwords - a, an, the, or, - nltk, scikit-learn\n",
    "3. Stemming - message, messages, messaged => message=> It reduces Context (Topic/Intent Detection) (Porter/Snowball)\n",
    "4. Lemmatization - nltk\n"
   ]
  },
  {
   "cell_type": "code",
   "execution_count": null,
   "metadata": {
    "collapsed": true
   },
   "outputs": [],
   "source": [
    "#Gensim Model to create Word2Vec, I recently RNN Tensorflow for word2vec\n",
    "\n",
    "CBOW(Continuous Bag of Words) vs Skip Model (Word2vector)\n",
    "\n",
    "CBOW:\n",
    "1. Count Vectorizer (Vocab = 100000) = TF\n",
    "sentence -> 1*1000 \n",
    "2. TFIDF (Term Frequence inverse Document Frequentce)\n",
    "sentence -> 1*1000\n",
    "\n",
    "input -> 100 sentence, training_vec = 100*1000, target = 100\n",
    "\n",
    "Feature Extraction:\n",
    "SVD(LSI)/PCA - Principle Component (Singular Vector Division)\n",
    "100*100000 = 100*300\n",
    "\n",
    "A = USVt, S = eigen vector with all the dimension, strength \n",
    "\n",
    "Classification:\n",
    "RandomForest/MLP (Scikit-learn)\n",
    "Neural Net Overfitting:\n",
    "1. K-fold cross validation, k-1 training, validation on 1 set\n",
    "2. L2 Regularization: Error + lambda/2*(weigth square) lambda = (0.001 , 0.00001)\n",
    "3. Dropout "
   ]
  },
  {
   "cell_type": "code",
   "execution_count": null,
   "metadata": {
    "collapsed": true
   },
   "outputs": [],
   "source": [
    "# Skip Gram Word2Vec or Word Embedding\n",
    "the quick fox jumps on the dog\n",
    "fox => (the, fox), (quick, fox), (jumps,fox), (on, fox)\n",
    "\n",
    "sentence => 1 vector for each of the word\n",
    "1. add/average of each word\n",
    "2. Concat each of the word vector, word = 300, sentence = 10\n",
    "sentence = 300*10\n"
   ]
  },
  {
   "cell_type": "code",
   "execution_count": null,
   "metadata": {
    "collapsed": true
   },
   "outputs": [],
   "source": [
    "#\n",
    "\n",
    "1. Stanford Corenlp - Places, location, Name\n",
    "2. Duckling (Clojure) (wit.ai) - email, url, phone-number, number\n",
    "3. MITIE - Places, Location, Name, etc\n",
    "\n"
   ]
  }
 ],
 "metadata": {
  "kernelspec": {
   "display_name": "Python 2",
   "language": "python",
   "name": "python2"
  },
  "language_info": {
   "codemirror_mode": {
    "name": "ipython",
    "version": 2
   },
   "file_extension": ".py",
   "mimetype": "text/x-python",
   "name": "python",
   "nbconvert_exporter": "python",
   "pygments_lexer": "ipython2",
   "version": "2.7.13"
  }
 },
 "nbformat": 4,
 "nbformat_minor": 2
}
