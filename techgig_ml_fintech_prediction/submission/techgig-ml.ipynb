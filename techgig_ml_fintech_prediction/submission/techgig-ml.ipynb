{
 "cells": [
  {
   "cell_type": "code",
   "execution_count": 1,
   "metadata": {},
   "outputs": [
    {
     "name": "stdout",
     "output_type": "stream",
     "text": [
      "/home/aakash/PycharmProjects/Code Gladiators-Invesco-DataSet/\n"
     ]
    }
   ],
   "source": [
    "import os\n",
    "import pandas as pd\n",
    "\n",
    "path = os.getcwd()+'/'\n",
    "print path\n",
    "\n",
    "from sklearn import preprocessing"
   ]
  },
  {
   "cell_type": "code",
   "execution_count": 2,
   "metadata": {},
   "outputs": [
    {
     "data": {
      "text/html": [
       "<div>\n",
       "<table border=\"1\" class=\"dataframe\">\n",
       "  <thead>\n",
       "    <tr style=\"text-align: right;\">\n",
       "      <th></th>\n",
       "      <th>Unique_Advisor_Id</th>\n",
       "      <th>Unique_Investment_Id</th>\n",
       "      <th>Month</th>\n",
       "      <th>Transaction_Type</th>\n",
       "    </tr>\n",
       "  </thead>\n",
       "  <tbody>\n",
       "    <tr>\n",
       "      <th>0</th>\n",
       "      <td>1000103</td>\n",
       "      <td>20058</td>\n",
       "      <td>2016 / 01</td>\n",
       "      <td>0</td>\n",
       "    </tr>\n",
       "    <tr>\n",
       "      <th>1</th>\n",
       "      <td>1000103</td>\n",
       "      <td>20058</td>\n",
       "      <td>2016 / 01</td>\n",
       "      <td>0</td>\n",
       "    </tr>\n",
       "    <tr>\n",
       "      <th>2</th>\n",
       "      <td>1000103</td>\n",
       "      <td>20058</td>\n",
       "      <td>2016 / 01</td>\n",
       "      <td>0</td>\n",
       "    </tr>\n",
       "    <tr>\n",
       "      <th>3</th>\n",
       "      <td>1000103</td>\n",
       "      <td>20058</td>\n",
       "      <td>2016 / 02</td>\n",
       "      <td>0</td>\n",
       "    </tr>\n",
       "    <tr>\n",
       "      <th>4</th>\n",
       "      <td>1000103</td>\n",
       "      <td>20058</td>\n",
       "      <td>2016 / 02</td>\n",
       "      <td>0</td>\n",
       "    </tr>\n",
       "  </tbody>\n",
       "</table>\n",
       "</div>"
      ],
      "text/plain": [
       "   Unique_Advisor_Id  Unique_Investment_Id      Month  Transaction_Type\n",
       "0            1000103                 20058  2016 / 01                 0\n",
       "1            1000103                 20058  2016 / 01                 0\n",
       "2            1000103                 20058  2016 / 01                 0\n",
       "3            1000103                 20058  2016 / 02                 0\n",
       "4            1000103                 20058  2016 / 02                 0"
      ]
     },
     "execution_count": 2,
     "metadata": {},
     "output_type": "execute_result"
    }
   ],
   "source": [
    "tran = pd.read_csv(path+'Code-Gladiators-Transaction.csv')\n",
    "trans = tran\n",
    "trans.drop('Code_1',axis='columns',inplace=True)\n",
    "trans.drop('Code_2',axis='columns',inplace=True)\n",
    "trans.drop('Code_3',axis='columns',inplace=True)\n",
    "trans.drop('Code_4',axis='columns',inplace=True)\n",
    "trans.drop('Code_5',axis='columns',inplace=True)\n",
    "trans.drop('Amount',axis='columns',inplace=True)\n",
    "\n",
    "trans_lbl = preprocessing.LabelEncoder()\n",
    "trans['Transaction_Type'] = trans_lbl.fit_transform(trans['Transaction_Type'])\n",
    "\n",
    "trans.head()"
   ]
  },
  {
   "cell_type": "code",
   "execution_count": 3,
   "metadata": {},
   "outputs": [
    {
     "name": "stderr",
     "output_type": "stream",
     "text": [
      "/usr/local/lib/python2.7/dist-packages/numpy/lib/function_base.py:3834: RuntimeWarning: Invalid value encountered in percentile\n",
      "  RuntimeWarning)\n"
     ]
    },
    {
     "data": {
      "text/plain": [
       "Unique_Investment_Id       0\n",
       "Morningstar Category       0\n",
       "Month                      0\n",
       "Rating                  2683\n",
       "Net Flows                  0\n",
       "dtype: int64"
      ]
     },
     "execution_count": 3,
     "metadata": {},
     "output_type": "execute_result"
    }
   ],
   "source": [
    "invest = pd.read_csv(path+'Code-Gladiators-InvestmentExperience.csv')\n",
    "invest.head()\n",
    "invest.describe()\n",
    "invt_rip = invest\n",
    "invt_rip.drop('Investment',axis='columns',inplace=True)\n",
    "invt_rip.drop('1 Yr % Rank',axis='columns',inplace=True)\n",
    "invt_rip.drop('3 Yr % Rank',axis='columns',inplace=True)\n",
    "invt_rip.drop('5 Yr % Rank',axis='columns',inplace=True)\n",
    "invt_rip.drop('10 Yr % Rank',axis='columns',inplace=True)\n",
    "invt_rip.drop('1 Yr Return',axis='columns',inplace=True)\n",
    "invt_rip.drop('3 Yr Return',axis='columns',inplace=True)\n",
    "invt_rip.drop('5 Yr Return',axis='columns',inplace=True)\n",
    "invt_rip.drop('10 Yr Return',axis='columns',inplace=True)\n",
    "invt_rip.drop('1 Yr Excess Return vs Primary Ix',axis='columns',inplace=True)\n",
    "invt_rip.drop('3 Yr Excess Return vs Primary Ix',axis='columns',inplace=True)\n",
    "invt_rip.drop('5 Yr Excess Return vs Primary Ix',axis='columns',inplace=True)\n",
    "invt_rip.drop('10 Yr Excess Return vs Primary Ix',axis='columns',inplace=True)\n",
    "invt_rip.drop('1 Yr Excess Return vs Category Ix',axis='columns',inplace=True)\n",
    "invt_rip.drop('3 Yr Excess Return vs Category Ix',axis='columns',inplace=True)\n",
    "invt_rip.drop('5 Yr Excess Return vs Category Ix',axis='columns',inplace=True)\n",
    "invt_rip.drop('10 Yr Excess Return vs Category Ix',axis='columns',inplace=True)\n",
    "invt_rip.isnull().sum()\n",
    "# invt_rip.head()\n"
   ]
  },
  {
   "cell_type": "code",
   "execution_count": 4,
   "metadata": {},
   "outputs": [
    {
     "name": "stdout",
     "output_type": "stream",
     "text": [
      "3.0    3952\n",
      "2.0    3375\n",
      "4.0    2198\n",
      "1.0    1267\n",
      "5.0     733\n",
      "Name: Rating, dtype: int64\n",
      "Unique_Investment_Id    0\n",
      "Morningstar Category    0\n",
      "Month                   0\n",
      "Rating                  0\n",
      "Net Flows               0\n",
      "dtype: int64\n"
     ]
    },
    {
     "name": "stderr",
     "output_type": "stream",
     "text": [
      "/usr/local/lib/python2.7/dist-packages/ipykernel_launcher.py:11: SettingWithCopyWarning: \n",
      "A value is trying to be set on a copy of a slice from a DataFrame\n",
      "\n",
      "See the caveats in the documentation: http://pandas.pydata.org/pandas-docs/stable/indexing.html#indexing-view-versus-copy\n",
      "  # This is added back by InteractiveShellApp.init_path()\n"
     ]
    },
    {
     "data": {
      "text/html": [
       "<div>\n",
       "<table border=\"1\" class=\"dataframe\">\n",
       "  <thead>\n",
       "    <tr style=\"text-align: right;\">\n",
       "      <th></th>\n",
       "      <th>Unique_Investment_Id</th>\n",
       "      <th>Morningstar Category</th>\n",
       "      <th>Month</th>\n",
       "      <th>Rating</th>\n",
       "      <th>Net Flows</th>\n",
       "    </tr>\n",
       "  </thead>\n",
       "  <tbody>\n",
       "    <tr>\n",
       "      <th>0</th>\n",
       "      <td>11517</td>\n",
       "      <td>4</td>\n",
       "      <td>2015 / 01</td>\n",
       "      <td>2.0</td>\n",
       "      <td>9</td>\n",
       "    </tr>\n",
       "    <tr>\n",
       "      <th>1</th>\n",
       "      <td>11517</td>\n",
       "      <td>4</td>\n",
       "      <td>2015 / 02</td>\n",
       "      <td>2.0</td>\n",
       "      <td>9</td>\n",
       "    </tr>\n",
       "    <tr>\n",
       "      <th>2</th>\n",
       "      <td>11517</td>\n",
       "      <td>4</td>\n",
       "      <td>2015 / 03</td>\n",
       "      <td>2.0</td>\n",
       "      <td>9</td>\n",
       "    </tr>\n",
       "    <tr>\n",
       "      <th>3</th>\n",
       "      <td>11517</td>\n",
       "      <td>4</td>\n",
       "      <td>2015 / 04</td>\n",
       "      <td>2.0</td>\n",
       "      <td>31</td>\n",
       "    </tr>\n",
       "    <tr>\n",
       "      <th>4</th>\n",
       "      <td>11517</td>\n",
       "      <td>4</td>\n",
       "      <td>2015 / 05</td>\n",
       "      <td>2.0</td>\n",
       "      <td>31</td>\n",
       "    </tr>\n",
       "  </tbody>\n",
       "</table>\n",
       "</div>"
      ],
      "text/plain": [
       "   Unique_Investment_Id  Morningstar Category      Month  Rating  Net Flows\n",
       "0                 11517                     4  2015 / 01     2.0          9\n",
       "1                 11517                     4  2015 / 02     2.0          9\n",
       "2                 11517                     4  2015 / 03     2.0          9\n",
       "3                 11517                     4  2015 / 04     2.0         31\n",
       "4                 11517                     4  2015 / 05     2.0         31"
      ]
     },
     "execution_count": 4,
     "metadata": {},
     "output_type": "execute_result"
    }
   ],
   "source": [
    "print invt_rip['Rating'].value_counts()\n",
    "# print invt_rip['Rating'].isnull().sum()\n",
    "# print invt_rip['Net Flows'].value_counts()\n",
    "# print invt_rip['Net Flows'].isnull().sum()\n",
    "# print invt_rip['Morningstar Category'].value_counts()\n",
    "# print invt_rip['Morningstar Category'].isnull().sum()\n",
    "\n",
    "morc_lbl = preprocessing.LabelEncoder()\n",
    "net_lbl = preprocessing.LabelEncoder()\n",
    "\n",
    "invt_rip['Rating'][invt_rip['Rating'].isnull()] = 3.0\n",
    "# invt_rip['Net Flows'][invt_rip['Net Flows'].isnull()] = 9\n",
    "# invt_rip['Morningstar Category'][invt_rip['Morningstar Category'].isnull()] = 28\n",
    "invt_rip['Net Flows'] = pd.cut(invt_rip['Net Flows'],100)\n",
    "invt_rip['Morningstar Category'] = morc_lbl.fit_transform(invt_rip['Morningstar Category'])\n",
    "invt_rip['Net Flows'] = net_lbl.fit_transform(invt_rip['Net Flows'])\n",
    "\n",
    "print invt_rip.isnull().sum()\n",
    "# invt_rip.describe()\n",
    "invt_rip.head()"
   ]
  },
  {
   "cell_type": "code",
   "execution_count": 5,
   "metadata": {},
   "outputs": [
    {
     "name": "stdout",
     "output_type": "stream",
     "text": [
      "   Unique_Advisor_Id  Unique_Investment_Id      Month  Transaction_Type  \\\n",
      "0            1000103                 20058  2016 / 01                 0   \n",
      "1            1000103                 20058  2016 / 01                 0   \n",
      "2            1000103                 20058  2016 / 01                 0   \n",
      "3            1000103                 20058  2016 / 02                 0   \n",
      "4            1000103                 20058  2016 / 02                 0   \n",
      "\n",
      "   Morningstar Category  Rating  Net Flows  \n",
      "0                  28.0     1.0        8.0  \n",
      "1                  28.0     1.0        8.0  \n",
      "2                  28.0     1.0        8.0  \n",
      "3                  28.0     1.0       24.0  \n",
      "4                  28.0     1.0       24.0  \n",
      "Unique_Advisor_Id           0\n",
      "Unique_Investment_Id        0\n",
      "Month                       0\n",
      "Transaction_Type            0\n",
      "Morningstar Category    11695\n",
      "Rating                  11695\n",
      "Net Flows               11695\n",
      "dtype: int64\n",
      "       Unique_Advisor_Id  Unique_Investment_Id  Transaction_Type  \\\n",
      "count       1.637220e+05         163722.000000     163722.000000   \n",
      "mean        8.926886e+05           7604.987070          0.581895   \n",
      "std         2.074129e+05           6232.773002          0.493249   \n",
      "min         1.224300e+04           2189.000000          0.000000   \n",
      "25%         7.715410e+05           4021.000000          0.000000   \n",
      "50%         9.577260e+05           4021.000000          1.000000   \n",
      "75%         1.039305e+06           9278.000000          1.000000   \n",
      "max         1.123982e+06          20058.000000          1.000000   \n",
      "\n",
      "       Morningstar Category         Rating      Net Flows  \n",
      "count         152027.000000  152027.000000  152027.000000  \n",
      "mean              26.348741       3.329849      16.560519  \n",
      "std               15.505552       0.944047       8.581884  \n",
      "min                1.000000       1.000000       4.000000  \n",
      "25%                     NaN            NaN            NaN  \n",
      "50%                     NaN            NaN            NaN  \n",
      "75%                     NaN            NaN            NaN  \n",
      "max               57.000000       5.000000      61.000000  \n"
     ]
    }
   ],
   "source": [
    "# print trans.head()\n",
    "trans_club = pd.merge(trans,invt_rip,how='left',on=['Unique_Investment_Id','Month'])\n",
    "print trans_club.head()\n",
    "print trans_club.isnull().sum()\n",
    "trans_club.drop('Month', axis='columns',inplace=True)\n",
    "print trans_club.describe()\n",
    "pd.crosstab(trans_club.Rating, trans_club.Transaction_Type, margins=True)\n",
    "trans_club_bkp = trans_club"
   ]
  },
  {
   "cell_type": "code",
   "execution_count": 6,
   "metadata": {},
   "outputs": [
    {
     "name": "stdout",
     "output_type": "stream",
     "text": [
      "4.0    89367\n",
      "3.0    29100\n",
      "2.0    23859\n",
      "1.0     8691\n",
      "5.0     1010\n",
      "Name: Rating, dtype: int64\n",
      "18.0    90214\n",
      "51.0    31573\n",
      "5.0      8301\n",
      "14.0     7207\n",
      "57.0     5504\n",
      "28.0     4136\n",
      "42.0     2338\n",
      "34.0     2243\n",
      "52.0      464\n",
      "25.0       27\n",
      "26.0       17\n",
      "1.0         3\n",
      "Name: Morningstar Category, dtype: int64\n",
      "20.0    64590\n",
      "9.0     59203\n",
      "24.0    12730\n",
      "31.0     3496\n",
      "7.0      2509\n",
      "48.0     2256\n",
      "8.0      1832\n",
      "57.0     1623\n",
      "11.0     1136\n",
      "4.0       979\n",
      "12.0      591\n",
      "13.0      310\n",
      "10.0      310\n",
      "29.0      231\n",
      "37.0      206\n",
      "36.0        6\n",
      "58.0        6\n",
      "61.0        2\n",
      "60.0        1\n",
      "17.0        1\n",
      "14.0        1\n",
      "35.0        1\n",
      "44.0        1\n",
      "46.0        1\n",
      "49.0        1\n",
      "51.0        1\n",
      "55.0        1\n",
      "59.0        1\n",
      "34.0        1\n",
      "Name: Net Flows, dtype: int64\n"
     ]
    },
    {
     "name": "stderr",
     "output_type": "stream",
     "text": [
      "/usr/local/lib/python2.7/dist-packages/ipykernel_launcher.py:6: SettingWithCopyWarning: \n",
      "A value is trying to be set on a copy of a slice from a DataFrame\n",
      "\n",
      "See the caveats in the documentation: http://pandas.pydata.org/pandas-docs/stable/indexing.html#indexing-view-versus-copy\n",
      "  \n",
      "/usr/local/lib/python2.7/dist-packages/ipykernel_launcher.py:7: SettingWithCopyWarning: \n",
      "A value is trying to be set on a copy of a slice from a DataFrame\n",
      "\n",
      "See the caveats in the documentation: http://pandas.pydata.org/pandas-docs/stable/indexing.html#indexing-view-versus-copy\n",
      "  import sys\n",
      "/usr/local/lib/python2.7/dist-packages/ipykernel_launcher.py:8: SettingWithCopyWarning: \n",
      "A value is trying to be set on a copy of a slice from a DataFrame\n",
      "\n",
      "See the caveats in the documentation: http://pandas.pydata.org/pandas-docs/stable/indexing.html#indexing-view-versus-copy\n",
      "  \n"
     ]
    },
    {
     "data": {
      "text/plain": [
       "Unique_Advisor_Id       0\n",
       "Unique_Investment_Id    0\n",
       "Transaction_Type        0\n",
       "Morningstar Category    0\n",
       "Rating                  0\n",
       "Net Flows               0\n",
       "dtype: int64"
      ]
     },
     "execution_count": 6,
     "metadata": {},
     "output_type": "execute_result"
    }
   ],
   "source": [
    "# trans_club = trans_club_bkp\n",
    "print trans_club.Rating.value_counts()\n",
    "print trans_club['Morningstar Category'].value_counts()\n",
    "print trans_club['Net Flows'].value_counts()\n",
    "\n",
    "trans_club['Morningstar Category'][trans_club['Morningstar Category'].isnull()==True] = 28 #average based on investment file\n",
    "trans_club['Rating'][trans_club['Rating'].isnull()==True] = 3.0 #average based on investment file\n",
    "trans_club['Net Flows'][trans_club['Net Flows'].isnull()==True] = 9 #average based on investment file\n",
    "# # trans_club.describe()\n",
    "trans_club.isnull().sum()\n",
    "# print trans_club['Net Flows'].value_counts()\n",
    "# pd.crosstab(trans_club.Month,trans_club.Transaction_Type, margins=True)\n",
    "# pd.crosstab(trans.Unique_Investment_Id, trans.Transaction_Type, margins=True)"
   ]
  },
  {
   "cell_type": "code",
   "execution_count": 7,
   "metadata": {},
   "outputs": [
    {
     "name": "stdout",
     "output_type": "stream",
     "text": [
      "Transaction_Type         0         1       All\n",
      "Net Flows                                     \n",
      "4.0               0.001814  0.004166  0.005980\n",
      "7.0               0.005467  0.009858  0.015325\n",
      "8.0               0.002901  0.008288  0.011190\n",
      "9.0               0.222908  0.210131  0.433039\n",
      "10.0              0.000446  0.001448  0.001893\n",
      "11.0              0.003634  0.003304  0.006939\n",
      "12.0              0.001906  0.001704  0.003610\n",
      "13.0              0.001545  0.000348  0.001893\n",
      "14.0              0.000006  0.000000  0.000006\n",
      "17.0              0.000006  0.000000  0.000006\n",
      "20.0              0.122965  0.271546  0.394510\n",
      "24.0              0.031291  0.046463  0.077754\n",
      "29.0              0.000660  0.000751  0.001411\n",
      "31.0              0.011306  0.010048  0.021353\n",
      "34.0              0.000006  0.000000  0.000006\n",
      "35.0              0.000006  0.000000  0.000006\n",
      "36.0              0.000006  0.000031  0.000037\n",
      "37.0              0.000641  0.000617  0.001258\n",
      "44.0              0.000006  0.000000  0.000006\n",
      "46.0              0.000006  0.000000  0.000006\n",
      "48.0              0.006346  0.007433  0.013779\n",
      "49.0              0.000006  0.000000  0.000006\n",
      "51.0              0.000006  0.000000  0.000006\n",
      "55.0              0.000006  0.000000  0.000006\n",
      "57.0              0.004184  0.005729  0.009913\n",
      "58.0              0.000006  0.000031  0.000037\n",
      "59.0              0.000006  0.000000  0.000006\n",
      "60.0              0.000006  0.000000  0.000006\n",
      "61.0              0.000012  0.000000  0.000012\n",
      "All               0.418105  0.581895  1.000000\n"
     ]
    },
    {
     "data": {
      "text/html": [
       "<div>\n",
       "<table border=\"1\" class=\"dataframe\">\n",
       "  <thead>\n",
       "    <tr style=\"text-align: right;\">\n",
       "      <th></th>\n",
       "      <th>Unique_Advisor_Id</th>\n",
       "      <th>Unique_Investment_Id</th>\n",
       "      <th>Transaction_Type</th>\n",
       "      <th>Morningstar Category</th>\n",
       "      <th>Rating</th>\n",
       "      <th>Net Flows</th>\n",
       "    </tr>\n",
       "  </thead>\n",
       "  <tbody>\n",
       "    <tr>\n",
       "      <th>0</th>\n",
       "      <td>1000103</td>\n",
       "      <td>20058</td>\n",
       "      <td>0</td>\n",
       "      <td>28.0</td>\n",
       "      <td>1.0</td>\n",
       "      <td>8.0</td>\n",
       "    </tr>\n",
       "    <tr>\n",
       "      <th>1</th>\n",
       "      <td>1000103</td>\n",
       "      <td>20058</td>\n",
       "      <td>0</td>\n",
       "      <td>28.0</td>\n",
       "      <td>1.0</td>\n",
       "      <td>8.0</td>\n",
       "    </tr>\n",
       "    <tr>\n",
       "      <th>2</th>\n",
       "      <td>1000103</td>\n",
       "      <td>20058</td>\n",
       "      <td>0</td>\n",
       "      <td>28.0</td>\n",
       "      <td>1.0</td>\n",
       "      <td>8.0</td>\n",
       "    </tr>\n",
       "    <tr>\n",
       "      <th>3</th>\n",
       "      <td>1000103</td>\n",
       "      <td>20058</td>\n",
       "      <td>0</td>\n",
       "      <td>28.0</td>\n",
       "      <td>1.0</td>\n",
       "      <td>24.0</td>\n",
       "    </tr>\n",
       "    <tr>\n",
       "      <th>4</th>\n",
       "      <td>1000103</td>\n",
       "      <td>20058</td>\n",
       "      <td>0</td>\n",
       "      <td>28.0</td>\n",
       "      <td>1.0</td>\n",
       "      <td>24.0</td>\n",
       "    </tr>\n",
       "  </tbody>\n",
       "</table>\n",
       "</div>"
      ],
      "text/plain": [
       "   Unique_Advisor_Id  Unique_Investment_Id  Transaction_Type  \\\n",
       "0            1000103                 20058                 0   \n",
       "1            1000103                 20058                 0   \n",
       "2            1000103                 20058                 0   \n",
       "3            1000103                 20058                 0   \n",
       "4            1000103                 20058                 0   \n",
       "\n",
       "   Morningstar Category  Rating  Net Flows  \n",
       "0                  28.0     1.0        8.0  \n",
       "1                  28.0     1.0        8.0  \n",
       "2                  28.0     1.0        8.0  \n",
       "3                  28.0     1.0       24.0  \n",
       "4                  28.0     1.0       24.0  "
      ]
     },
     "execution_count": 7,
     "metadata": {},
     "output_type": "execute_result"
    }
   ],
   "source": [
    "print pd.crosstab(trans_club['Net Flows'], trans_club.Transaction_Type, margins=True, normalize=True)\n",
    "trans_club.head()\n",
    "# trans_club[trans_club['Unique_Advisor_Id']==1000103]"
   ]
  },
  {
   "cell_type": "code",
   "execution_count": 8,
   "metadata": {},
   "outputs": [
    {
     "data": {
      "text/plain": [
       "18.0    90214\n",
       "51.0    31573\n",
       "28.0    15831\n",
       "5.0      8301\n",
       "14.0     7207\n",
       "57.0     5504\n",
       "42.0     2338\n",
       "34.0     2243\n",
       "52.0      464\n",
       "25.0       27\n",
       "26.0       17\n",
       "1.0         3\n",
       "Name: Morningstar Category, dtype: int64"
      ]
     },
     "execution_count": 8,
     "metadata": {},
     "output_type": "execute_result"
    }
   ],
   "source": [
    "\n",
    "trans_club['Morningstar Category'].value_counts()"
   ]
  },
  {
   "cell_type": "code",
   "execution_count": 9,
   "metadata": {},
   "outputs": [
    {
     "name": "stdout",
     "output_type": "stream",
     "text": [
      "(163722, 5)\n",
      "(163722,)\n",
      "1\n",
      "[[  1.00010300e+06   2.00580000e+04   2.80000000e+01   1.00000000e+00\n",
      "    8.00000000e+00]\n",
      " [  1.00010300e+06   2.00580000e+04   2.80000000e+01   1.00000000e+00\n",
      "    8.00000000e+00]\n",
      " [  1.00010300e+06   2.00580000e+04   2.80000000e+01   1.00000000e+00\n",
      "    8.00000000e+00]\n",
      " [  1.00010300e+06   2.00580000e+04   2.80000000e+01   1.00000000e+00\n",
      "    2.40000000e+01]\n",
      " [  1.00010300e+06   2.00580000e+04   2.80000000e+01   1.00000000e+00\n",
      "    2.40000000e+01]]\n"
     ]
    },
    {
     "data": {
      "text/plain": [
       "array([0, 0, 0, 0, 0, 0, 0, 0, 0, 1, 1, 0, 0, 0, 0, 0, 1, 0, 0, 0, 0, 0, 1,\n",
       "       1, 0, 0, 1, 1, 0, 1, 0, 0, 0, 0, 1, 1, 0, 0, 0, 0, 0, 0, 1, 1, 0, 0,\n",
       "       1, 0, 0, 0, 0, 0, 0, 1, 0, 0, 1, 0, 1, 1, 1, 1, 0, 1, 1, 1, 1, 1, 0,\n",
       "       1, 0, 0, 1, 0, 0, 1, 1, 0, 0, 1, 1, 1, 0, 0, 0, 0, 1, 0, 0, 0, 1, 0,\n",
       "       0, 0, 1, 0, 1, 1, 0, 0])"
      ]
     },
     "execution_count": 9,
     "metadata": {},
     "output_type": "execute_result"
    }
   ],
   "source": [
    "train = trans_club.as_matrix(columns=['Unique_Advisor_Id','Unique_Investment_Id','Morningstar Category','Rating','Net Flows'])\n",
    "# result = trans_club.as_matrix(columns=['Transaction_Type'])\n",
    "result = trans_club['Transaction_Type'].values\n",
    "print train.shape\n",
    "print result.shape\n",
    "print result.ndim\n",
    "print train[:5]\n",
    "result[:100]"
   ]
  },
  {
   "cell_type": "code",
   "execution_count": 10,
   "metadata": {},
   "outputs": [
    {
     "data": {
      "text/plain": [
       "RandomForestClassifier(bootstrap=True, class_weight=None, criterion='gini',\n",
       "            max_depth=25, max_features='auto', max_leaf_nodes=None,\n",
       "            min_impurity_split=1e-07, min_samples_leaf=1,\n",
       "            min_samples_split=2, min_weight_fraction_leaf=0.0,\n",
       "            n_estimators=200, n_jobs=1, oob_score=False, random_state=None,\n",
       "            verbose=0, warm_start=False)"
      ]
     },
     "execution_count": 10,
     "metadata": {},
     "output_type": "execute_result"
    }
   ],
   "source": [
    "# from sklearn.neural_network import MLPClassifier\n",
    "from sklearn.ensemble import RandomForestClassifier, AdaBoostClassifier\n",
    "\n",
    "# mlp = MLPClassifier(hidden_layer_sizes=(10,),solver='sgd',learning_rate_init=0.05,max_iter=5000)\n",
    "mlp = RandomForestClassifier(max_depth=25, n_estimators=200)\n",
    "mlp.fit(train,result)"
   ]
  },
  {
   "cell_type": "code",
   "execution_count": 11,
   "metadata": {},
   "outputs": [
    {
     "name": "stdout",
     "output_type": "stream",
     "text": [
      "[0 0 0 0 0 0 0 0 0 1 1 0 0 0 0 0 0 0 0 0 1 0 0 0 0 0 0 1 1 1 0 0 0 1 1 1 0\n",
      " 0 0 0 0 0 0 0 0 0 1 0 0 0 0 0 0 0 0 0 0 0 1 1 1 1 1 1 1 1 1 1 1 1 1 1 1 1\n",
      " 1 1 1 1 1 1 1 1 1 1 1 1 1 1 0 1 1 1 1 1 1 1 1 1 1 1]\n",
      "[[ 1.          0.        ]\n",
      " [ 1.          0.        ]\n",
      " [ 1.          0.        ]\n",
      " [ 1.          0.        ]\n",
      " [ 1.          0.        ]\n",
      " [ 1.          0.        ]\n",
      " [ 0.95603262  0.04396738]\n",
      " [ 0.95603262  0.04396738]\n",
      " [ 0.95603262  0.04396738]\n",
      " [ 0.3027757   0.6972243 ]\n",
      " [ 0.3027757   0.6972243 ]\n",
      " [ 1.          0.        ]\n",
      " [ 1.          0.        ]\n",
      " [ 1.          0.        ]\n",
      " [ 0.78202381  0.21797619]\n",
      " [ 0.65577605  0.34422395]\n",
      " [ 0.65577605  0.34422395]\n",
      " [ 1.          0.        ]\n",
      " [ 1.          0.        ]\n",
      " [ 1.          0.        ]\n",
      " [ 0.48826218  0.51173782]\n",
      " [ 0.64401942  0.35598058]\n",
      " [ 0.64401942  0.35598058]\n",
      " [ 0.64401942  0.35598058]\n",
      " [ 0.64401942  0.35598058]\n",
      " [ 0.64401942  0.35598058]\n",
      " [ 0.64401942  0.35598058]\n",
      " [ 0.30027118  0.69972882]\n",
      " [ 0.30027118  0.69972882]\n",
      " [ 0.30027118  0.69972882]\n",
      " [ 0.99166667  0.00833333]\n",
      " [ 0.99166667  0.00833333]\n",
      " [ 0.99166667  0.00833333]\n",
      " [ 0.3027757   0.6972243 ]\n",
      " [ 0.3027757   0.6972243 ]\n",
      " [ 0.48826218  0.51173782]\n",
      " [ 0.64401942  0.35598058]\n",
      " [ 0.64401942  0.35598058]\n",
      " [ 0.64401942  0.35598058]\n",
      " [ 0.65577605  0.34422395]\n",
      " [ 0.65577605  0.34422395]\n",
      " [ 0.59874875  0.40125125]\n",
      " [ 0.59874875  0.40125125]\n",
      " [ 0.59874875  0.40125125]\n",
      " [ 0.59874875  0.40125125]\n",
      " [ 0.59874875  0.40125125]\n",
      " [ 0.34729138  0.65270862]\n",
      " [ 0.99598438  0.00401563]\n",
      " [ 0.99598438  0.00401563]\n",
      " [ 0.99598438  0.00401563]\n",
      " [ 0.99493421  0.00506579]\n",
      " [ 0.99493421  0.00506579]\n",
      " [ 0.99493421  0.00506579]\n",
      " [ 0.59874875  0.40125125]\n",
      " [ 0.59874875  0.40125125]\n",
      " [ 0.59874875  0.40125125]\n",
      " [ 0.59874875  0.40125125]\n",
      " [ 0.59874875  0.40125125]\n",
      " [ 0.34706853  0.65293147]\n",
      " [ 0.34706853  0.65293147]\n",
      " [ 0.34706853  0.65293147]\n",
      " [ 0.34706853  0.65293147]\n",
      " [ 0.34706853  0.65293147]\n",
      " [ 0.34706853  0.65293147]\n",
      " [ 0.34706853  0.65293147]\n",
      " [ 0.34706853  0.65293147]\n",
      " [ 0.34706853  0.65293147]\n",
      " [ 0.34706853  0.65293147]\n",
      " [ 0.34706853  0.65293147]\n",
      " [ 0.34706853  0.65293147]\n",
      " [ 0.33541987  0.66458013]\n",
      " [ 0.33541987  0.66458013]\n",
      " [ 0.33541987  0.66458013]\n",
      " [ 0.33541987  0.66458013]\n",
      " [ 0.34706853  0.65293147]\n",
      " [ 0.34706853  0.65293147]\n",
      " [ 0.34706853  0.65293147]\n",
      " [ 0.34706853  0.65293147]\n",
      " [ 0.34901044  0.65098956]\n",
      " [ 0.34901044  0.65098956]\n",
      " [ 0.34901044  0.65098956]\n",
      " [ 0.34901044  0.65098956]\n",
      " [ 0.34901044  0.65098956]\n",
      " [ 0.4607      0.5393    ]\n",
      " [ 0.4607      0.5393    ]\n",
      " [ 0.33541987  0.66458013]\n",
      " [ 0.33541987  0.66458013]\n",
      " [ 0.33541987  0.66458013]\n",
      " [ 0.50321609  0.49678391]\n",
      " [ 0.34706853  0.65293147]\n",
      " [ 0.34706853  0.65293147]\n",
      " [ 0.34706853  0.65293147]\n",
      " [ 0.34706853  0.65293147]\n",
      " [ 0.34706853  0.65293147]\n",
      " [ 0.26082701  0.73917299]\n",
      " [ 0.26082701  0.73917299]\n",
      " [ 0.26082701  0.73917299]\n",
      " [ 0.26082701  0.73917299]\n",
      " [ 0.26082701  0.73917299]\n",
      " [ 0.26082701  0.73917299]]\n",
      "[[39259 29194]\n",
      " [12731 82538]]\n",
      "             precision    recall  f1-score   support\n",
      "\n",
      "          0       0.76      0.57      0.65     68453\n",
      "          1       0.74      0.87      0.80     95269\n",
      "\n",
      "avg / total       0.75      0.74      0.74    163722\n",
      "\n"
     ]
    }
   ],
   "source": [
    "predictions = mlp.predict(train)\n",
    "pred_prob = mlp.predict_proba(train)\n",
    "print predictions[:100]\n",
    "print pred_prob[:100]\n",
    "from sklearn.metrics import classification_report,confusion_matrix\n",
    "print(confusion_matrix(result,predictions))\n",
    "\n",
    "print (classification_report(result,predictions))"
   ]
  },
  {
   "cell_type": "code",
   "execution_count": 55,
   "metadata": {},
   "outputs": [
    {
     "name": "stdout",
     "output_type": "stream",
     "text": [
      "GridSearchCV took 3255.37 seconds for 96 candidate parameter settings.\n"
     ]
    },
    {
     "ename": "NameError",
     "evalue": "name 'clf' is not defined",
     "output_type": "error",
     "traceback": [
      "\u001b[0;31m---------------------------------------------------------------------------\u001b[0m",
      "\u001b[0;31mNameError\u001b[0m                                 Traceback (most recent call last)",
      "\u001b[0;32m<ipython-input-55-66dfc06d1ee3>\u001b[0m in \u001b[0;36m<module>\u001b[0;34m()\u001b[0m\n\u001b[1;32m     20\u001b[0m       % (time() - start, len(grid_search.cv_results_['params'])))\n\u001b[1;32m     21\u001b[0m \u001b[0;34m\u001b[0m\u001b[0m\n\u001b[0;32m---> 22\u001b[0;31m \u001b[0;32mprint\u001b[0m\u001b[0;34m(\u001b[0m\u001b[0mclf\u001b[0m\u001b[0;34m.\u001b[0m\u001b[0mbest_params_\u001b[0m\u001b[0;34m)\u001b[0m\u001b[0;34m\u001b[0m\u001b[0m\n\u001b[0m\u001b[1;32m     23\u001b[0m \u001b[0mmeans\u001b[0m \u001b[0;34m=\u001b[0m \u001b[0mclf\u001b[0m\u001b[0;34m.\u001b[0m\u001b[0mcv_results_\u001b[0m\u001b[0;34m[\u001b[0m\u001b[0;34m'mean_test_score'\u001b[0m\u001b[0;34m]\u001b[0m\u001b[0;34m\u001b[0m\u001b[0m\n\u001b[1;32m     24\u001b[0m \u001b[0mstds\u001b[0m \u001b[0;34m=\u001b[0m \u001b[0mclf\u001b[0m\u001b[0;34m.\u001b[0m\u001b[0mcv_results_\u001b[0m\u001b[0;34m[\u001b[0m\u001b[0;34m'std_test_score'\u001b[0m\u001b[0;34m]\u001b[0m\u001b[0;34m\u001b[0m\u001b[0m\n",
      "\u001b[0;31mNameError\u001b[0m: name 'clf' is not defined"
     ]
    }
   ],
   "source": [
    "from sklearn.model_selection import GridSearchCV\n",
    "from time import time\n",
    "rf = RandomForestClassifier()\n",
    "from reports import Report\n",
    "\n",
    "param_grid = {\"max_depth\": [5, None],\n",
    "#               \"max_features\": [1, 3, 10],\n",
    "#               \"min_samples_split\": [1, 3, 10],\n",
    "              \"min_samples_leaf\": [1, 3, 10],\n",
    "              \"bootstrap\": [True, False],\n",
    "              \"n_estimators\": [50,100,150,200],\n",
    "              \"criterion\": [\"gini\", \"entropy\"]}\n",
    "\n",
    "# run grid search\n",
    "grid_search = GridSearchCV(rf, param_grid=param_grid)\n",
    "\n",
    "start = time()\n",
    "grid_search.fit(train, result)\n",
    "print(\"GridSearchCV took %.2f seconds for %d candidate parameter settings.\"\n",
    "      % (time() - start, len(grid_search.cv_results_['params'])))\n",
    "\n",
    "print(grid_search.best_params_)\n",
    "means = grid_search.cv_results_['mean_test_score']\n",
    "stds = grid_search.cv_results_['std_test_score']\n",
    "for mean, std, params in zip(means, stds, grid_search.cv_results_['params']):\n",
    "    print(\"%0.3f (+/-%0.03f) for %r\" % (mean, std * 2, params))\n",
    "# report(grid_search.cv_results_)"
   ]
  },
  {
   "cell_type": "code",
   "execution_count": 34,
   "metadata": {},
   "outputs": [
    {
     "name": "stdout",
     "output_type": "stream",
     "text": [
      "   Unique_Advisor_Id  Unique_Investment_Id      Month  Morningstar Category  \\\n",
      "0            1000103                 14147  2016 / 12                  28.0   \n",
      "1            1000103                  3534  2016 / 12                  28.0   \n",
      "2            1000103                  3651  2016 / 12                  16.0   \n",
      "3            1000103                  7668  2016 / 12                  14.0   \n",
      "4            1000103                  9339  2016 / 12                  46.0   \n",
      "\n",
      "   Rating  Net Flows  \n",
      "0     5.0       11.0  \n",
      "1     3.0       11.0  \n",
      "2     3.0        8.0  \n",
      "3     5.0       20.0  \n",
      "4     4.0        4.0  \n"
     ]
    },
    {
     "data": {
      "text/plain": [
       "Unique_Advisor_Id         0\n",
       "Unique_Investment_Id      0\n",
       "Month                     0\n",
       "Morningstar Category    433\n",
       "Rating                  433\n",
       "Net Flows               433\n",
       "dtype: int64"
      ]
     },
     "execution_count": 34,
     "metadata": {},
     "output_type": "execute_result"
    }
   ],
   "source": [
    "test = pd.read_csv('test_data.csv')\n",
    "# test.head()\n",
    "test['Month']='2016 / 12'\n",
    "# test.head()\n",
    "test_new = pd.merge(test,invt_rip, how='left',on=['Unique_Investment_Id','Month'])\n",
    "print test_new.head()\n",
    "test_new.isnull().sum()"
   ]
  },
  {
   "cell_type": "code",
   "execution_count": 35,
   "metadata": {},
   "outputs": [
    {
     "name": "stdout",
     "output_type": "stream",
     "text": [
      "Unique_Advisor_Id       0\n",
      "Unique_Investment_Id    0\n",
      "Month                   0\n",
      "Morningstar Category    0\n",
      "Rating                  0\n",
      "Net Flows               0\n",
      "dtype: int64\n",
      "(8714, 6)\n"
     ]
    },
    {
     "name": "stderr",
     "output_type": "stream",
     "text": [
      "/usr/local/lib/python2.7/dist-packages/ipykernel_launcher.py:5: SettingWithCopyWarning: \n",
      "A value is trying to be set on a copy of a slice from a DataFrame\n",
      "\n",
      "See the caveats in the documentation: http://pandas.pydata.org/pandas-docs/stable/indexing.html#indexing-view-versus-copy\n",
      "  \"\"\"\n",
      "/usr/local/lib/python2.7/dist-packages/ipykernel_launcher.py:6: SettingWithCopyWarning: \n",
      "A value is trying to be set on a copy of a slice from a DataFrame\n",
      "\n",
      "See the caveats in the documentation: http://pandas.pydata.org/pandas-docs/stable/indexing.html#indexing-view-versus-copy\n",
      "  \n",
      "/usr/local/lib/python2.7/dist-packages/ipykernel_launcher.py:7: SettingWithCopyWarning: \n",
      "A value is trying to be set on a copy of a slice from a DataFrame\n",
      "\n",
      "See the caveats in the documentation: http://pandas.pydata.org/pandas-docs/stable/indexing.html#indexing-view-versus-copy\n",
      "  import sys\n"
     ]
    },
    {
     "data": {
      "text/html": [
       "<div>\n",
       "<table border=\"1\" class=\"dataframe\">\n",
       "  <thead>\n",
       "    <tr style=\"text-align: right;\">\n",
       "      <th></th>\n",
       "      <th>Unique_Advisor_Id</th>\n",
       "      <th>Unique_Investment_Id</th>\n",
       "      <th>Month</th>\n",
       "      <th>Morningstar Category</th>\n",
       "      <th>Rating</th>\n",
       "      <th>Net Flows</th>\n",
       "    </tr>\n",
       "  </thead>\n",
       "  <tbody>\n",
       "    <tr>\n",
       "      <th>0</th>\n",
       "      <td>1000103</td>\n",
       "      <td>14147</td>\n",
       "      <td>2016 / 12</td>\n",
       "      <td>28.0</td>\n",
       "      <td>5.0</td>\n",
       "      <td>11.0</td>\n",
       "    </tr>\n",
       "    <tr>\n",
       "      <th>1</th>\n",
       "      <td>1000103</td>\n",
       "      <td>3534</td>\n",
       "      <td>2016 / 12</td>\n",
       "      <td>28.0</td>\n",
       "      <td>3.0</td>\n",
       "      <td>11.0</td>\n",
       "    </tr>\n",
       "    <tr>\n",
       "      <th>2</th>\n",
       "      <td>1000103</td>\n",
       "      <td>3651</td>\n",
       "      <td>2016 / 12</td>\n",
       "      <td>16.0</td>\n",
       "      <td>3.0</td>\n",
       "      <td>8.0</td>\n",
       "    </tr>\n",
       "    <tr>\n",
       "      <th>3</th>\n",
       "      <td>1000103</td>\n",
       "      <td>7668</td>\n",
       "      <td>2016 / 12</td>\n",
       "      <td>14.0</td>\n",
       "      <td>5.0</td>\n",
       "      <td>20.0</td>\n",
       "    </tr>\n",
       "    <tr>\n",
       "      <th>4</th>\n",
       "      <td>1000103</td>\n",
       "      <td>9339</td>\n",
       "      <td>2016 / 12</td>\n",
       "      <td>46.0</td>\n",
       "      <td>4.0</td>\n",
       "      <td>4.0</td>\n",
       "    </tr>\n",
       "  </tbody>\n",
       "</table>\n",
       "</div>"
      ],
      "text/plain": [
       "   Unique_Advisor_Id  Unique_Investment_Id      Month  Morningstar Category  \\\n",
       "0            1000103                 14147  2016 / 12                  28.0   \n",
       "1            1000103                  3534  2016 / 12                  28.0   \n",
       "2            1000103                  3651  2016 / 12                  16.0   \n",
       "3            1000103                  7668  2016 / 12                  14.0   \n",
       "4            1000103                  9339  2016 / 12                  46.0   \n",
       "\n",
       "   Rating  Net Flows  \n",
       "0     5.0       11.0  \n",
       "1     3.0       11.0  \n",
       "2     3.0        8.0  \n",
       "3     5.0       20.0  \n",
       "4     4.0        4.0  "
      ]
     },
     "execution_count": 35,
     "metadata": {},
     "output_type": "execute_result"
    }
   ],
   "source": [
    "# print test['Morningstar Category'].value_counts()\n",
    "# print test['Rating'].value_counts()\n",
    "# print test['Net Flows'].value_counts()\n",
    "\n",
    "test_new['Morningstar Category'][test_new['Morningstar Category'].isnull()==True] = 28 #average based on investment file\n",
    "test_new['Rating'][test_new['Rating'].isnull()==True] = 3.0 #average based on investment file\n",
    "test_new['Net Flows'][test_new['Net Flows'].isnull()==True] = 9 #average based on investment file\n",
    "\n",
    "print test_new.isnull().sum()\n",
    "print test_new.shape\n",
    "test_new.head()\n",
    "\n",
    "# test['Morningstar Category'] = morc_lbl.transform(test['Morningstar Category'])\n",
    "# # test['Net Flows'] = net_lbl.transform(test['Net Flows'])\n",
    "# test['Net Flows'].describe()"
   ]
  },
  {
   "cell_type": "code",
   "execution_count": 36,
   "metadata": {},
   "outputs": [
    {
     "name": "stdout",
     "output_type": "stream",
     "text": [
      "(163722, 1)\n",
      "(163722, 1)\n",
      "(8714, 4)\n",
      "   Unique_Advisor_Id  Unique_Investment_Id  Propensity_Score Redeem_Status\n",
      "0            1000103                 14147               0.0            NO\n",
      "1            1000103                  3534               0.0            NO\n",
      "2            1000103                  3651               0.0            NO\n",
      "3            1000103                  7668               0.0            NO\n",
      "4            1000103                  9339               0.0            NO\n"
     ]
    },
    {
     "name": "stderr",
     "output_type": "stream",
     "text": [
      "/usr/local/lib/python2.7/dist-packages/ipykernel_launcher.py:29: SettingWithCopyWarning: \n",
      "A value is trying to be set on a copy of a slice from a DataFrame\n",
      "\n",
      "See the caveats in the documentation: http://pandas.pydata.org/pandas-docs/stable/indexing.html#indexing-view-versus-copy\n"
     ]
    }
   ],
   "source": [
    "import numpy as np\n",
    "\n",
    "test_npy = trans_club.as_matrix(columns=['Unique_Advisor_Id','Unique_Investment_Id','Morningstar Category','Rating','Net Flows'])\n",
    "\n",
    "# predictions = mlp.predict(test_npy)\n",
    "# prediction_prob = mlp.predict_proba(test_npy)[:,[1]]\n",
    "# test_out['Redeem_Status'] = ['']*[test_npy.shape]\n",
    "\n",
    "test_out = test\n",
    "\n",
    "ndf = pd.DataFrame(np.nan, index=range(test_npy.shape[0]), columns=['Propensity_Score'])\n",
    "print ndf.shape\n",
    "ndf['Propensity_Score'] = mlp.predict_proba(test_npy)[:,[1]]\n",
    "test_out['Propensity_Score'] = ndf['Propensity_Score']\n",
    "\n",
    "ndf = pd.DataFrame(np.nan, index=range(test_npy.shape[0]), columns=['Redeem_Status'])\n",
    "print ndf.shape\n",
    "ndf['Redeem_Status'] = mlp.predict(test_npy)\n",
    "test_out['Redeem_Status'] = ndf['Redeem_Status']\n",
    "\n",
    "test_out.drop('Month',axis='columns',inplace=True)\n",
    "\n",
    "print test_out.shape\n",
    "# print predictions.shape\n",
    "# print prediction_prob.shape\n",
    "\n",
    "# test_out['Redeem_Status'] = predictions\n",
    "# test_out['Propensity_Score'] = prediction_prob\n",
    "test_out['Redeem_Status'][test_out['Redeem_Status']==0] = 'NO'\n",
    "test_out['Redeem_Status'][test_out['Redeem_Status']==1] = 'YES'\n",
    "print test_out.head()\n",
    "\n",
    "test_out.to_csv('sample_output.csv')"
   ]
  },
  {
   "cell_type": "code",
   "execution_count": null,
   "metadata": {
    "collapsed": true
   },
   "outputs": [],
   "source": []
  }
 ],
 "metadata": {
  "kernelspec": {
   "display_name": "Python 2",
   "language": "python",
   "name": "python2"
  },
  "language_info": {
   "codemirror_mode": {
    "name": "ipython",
    "version": 2
   },
   "file_extension": ".py",
   "mimetype": "text/x-python",
   "name": "python",
   "nbconvert_exporter": "python",
   "pygments_lexer": "ipython2",
   "version": "2.7.12"
  }
 },
 "nbformat": 4,
 "nbformat_minor": 2
}
